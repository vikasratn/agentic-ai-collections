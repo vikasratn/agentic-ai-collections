{
 "cells": [
  {
   "cell_type": "code",
   "execution_count": 2,
   "id": "a9092897",
   "metadata": {},
   "outputs": [],
   "source": [
    "# load env\n",
    "from dotenv import load_dotenv\n",
    "import os\n",
    "load_dotenv()\n",
    "\n",
    "os.environ[\"OPENAI_API_KEY\"]=os.getenv(\"OPENAI_API_KEY\")\n",
    "os.environ[\"GROQ_API_KEY\"]=os.getenv(\"GROQ_API_KEY\")\n",
    "os.environ[\"PINECODE_API_KEY\"]=os.getenv(\"PINECODE_API_KEY\")\n",
    "os.environ[\"GOOGLE_API_KEY\"]=os.getenv(\"GOOGLE_API_KEY\")\n",
    "os.environ[\"HUGGINGFACE_API_KEY\"]=os.getenv(\"HUGGINGFACE_API_KEY\")\n",
    "os.environ[\"LANGCHAIN_API_KEY\"]=os.getenv(\"LANGCHAIN_API_KEY\")\n",
    "os.environ[\"LANGCHAIN_PROJECT\"]=os.getenv(\"LANGCHAIN_PROJECT\")\n",
    "os.environ[\"LANGCHAIN_TRACING_V2\"]=os.getenv(\"LANGCHAIN_TRACING_V2\")\n",
    "os.environ[\"TAVILY_API_KEY\"]=os.getenv(\"TAVILY_API_KEY\")"
   ]
  },
  {
   "cell_type": "code",
   "execution_count": 3,
   "id": "25daaeb1",
   "metadata": {},
   "outputs": [],
   "source": [
    "# pydantic model\n",
    "from pydantic import BaseModel,Field\n",
    "\n",
    "class TopicSelector(BaseModel):\n",
    "    topic:str=Field(description=\"topic name\")\n",
    "    reason_for_selection:str=Field(description=\"topic selection reason\")        \n",
    "\n"
   ]
  },
  {
   "cell_type": "code",
   "execution_count": 4,
   "id": "40fddf98",
   "metadata": {},
   "outputs": [],
   "source": [
    "# llm model using reasoning model of google\n",
    "from langchain_google_genai import ChatGoogleGenerativeAI\n",
    "\n",
    "model = ChatGoogleGenerativeAI(\n",
    "    model=\"gemini-2.0-flash\",\n",
    "    temperature=0,\n",
    "    max_tokens=None,\n",
    "    timeout=None,\n",
    "    max_retries=2\n",
    ")"
   ]
  },
  {
   "cell_type": "code",
   "execution_count": 8,
   "id": "796d3e72",
   "metadata": {},
   "outputs": [
    {
     "data": {
      "text/plain": [
       "768"
      ]
     },
     "execution_count": 8,
     "metadata": {},
     "output_type": "execute_result"
    }
   ],
   "source": [
    "# using hugging face embeddings\n",
    "from langchain_huggingface import HuggingFaceEmbeddings\n",
    "embeddings = HuggingFaceEmbeddings(model_name=\"sentence-transformers/all-mpnet-base-v2\")\n",
    "vector_dimension=len(embeddings.embed_query(\"hi\"))\n",
    "vector_dimension"
   ]
  },
  {
   "cell_type": "code",
   "execution_count": 9,
   "id": "8faa21b2",
   "metadata": {},
   "outputs": [
    {
     "name": "stderr",
     "output_type": "stream",
     "text": [
      "100%|██████████| 1/1 [00:00<00:00, 595.27it/s]\n"
     ]
    },
    {
     "data": {
      "text/plain": [
       "55"
      ]
     },
     "execution_count": 9,
     "metadata": {},
     "output_type": "execute_result"
    }
   ],
   "source": [
    "from langchain_community.document_loaders import DirectoryLoader, TextLoader\n",
    "# load document pages\n",
    "loader=DirectoryLoader(\"./data\",glob=\"./*.txt\",loader_cls=TextLoader,show_progress=True)\n",
    "pages = loader.load()\n",
    "len(pages)\n",
    "\n",
    "# split pages to chunks\n",
    "from langchain.text_splitter import RecursiveCharacterTextSplitter\n",
    "\n",
    "text_splitter=RecursiveCharacterTextSplitter(\n",
    "    chunk_size=200,\n",
    "    chunk_overlap=50\n",
    ")\n",
    "\n",
    "chunks=text_splitter.split_documents(pages);\n",
    "\n",
    "len(chunks)\n"
   ]
  },
  {
   "cell_type": "code",
   "execution_count": 10,
   "id": "db9eade4",
   "metadata": {},
   "outputs": [],
   "source": [
    "# using chromdb as vector store\n",
    "from langchain_chroma import Chroma\n",
    "from langchain_openai import OpenAIEmbeddings\n",
    "# initialized the vector db\n",
    "vector_store = Chroma(\n",
    "    collection_name=\"usa-gdp-data\",\n",
    "    embedding_function=embeddings\n",
    ")"
   ]
  },
  {
   "cell_type": "code",
   "execution_count": 11,
   "id": "772358d7",
   "metadata": {},
   "outputs": [
    {
     "data": {
      "text/plain": [
       "['d2222135-e478-42ca-91dc-4a82a84668ad',\n",
       " 'ed42e1d5-7e56-4538-b450-a6b376d77e07',\n",
       " '80cf2183-a257-4d62-868b-e03aa32ac566',\n",
       " '199aff06-7eed-484e-9a97-68ccfa18f21d',\n",
       " 'fd70defa-c98f-447d-9835-cdd8921ce98b',\n",
       " '454e9fa8-3cee-42cf-8c9b-5bc97bd6a2e5',\n",
       " '18bfb7c2-f9a9-4d5b-805c-205d1c4f5cc1',\n",
       " '1b7bc85f-295e-43ae-99ad-d4e57acd4763',\n",
       " '7aa412b6-2f88-4b3d-9328-cfbeb26794c2',\n",
       " '9480fbaa-c723-48b0-b653-0d68cb3cc33d',\n",
       " '989f090e-84f5-48bd-8c1d-aed58b5f6b3c',\n",
       " '16ceb5dd-a531-45fa-8e16-8aa9d132a1da',\n",
       " 'e3b64cf2-191b-4a7d-a294-d8f32d64b01b',\n",
       " 'fe70ea50-9cf6-4406-9469-abd65435d318',\n",
       " 'f8b341f0-7d20-41d3-ae06-28c1d13db518',\n",
       " 'e9cf55fa-3727-420a-b43c-c8cbb58fab25',\n",
       " 'bcfa3c09-6e3b-49b2-9dd6-fbcefbabfa25',\n",
       " 'd27bee60-6e91-46d0-85a9-2306f66fd360',\n",
       " '585d4010-0b5e-4b69-a95e-62d921d1b937',\n",
       " 'a7a3fc97-7632-4595-8627-4be4bd480926',\n",
       " 'bb64ffe9-492a-4aa8-be28-ee87bdf5c9c3',\n",
       " '1249b972-8991-4169-8f46-2d7d43984e30',\n",
       " '8111af3a-71aa-4d26-9d60-337a6684e2f6',\n",
       " 'f04e70fb-77fa-4229-a6cb-2e94e82d2492',\n",
       " 'e0095560-87dd-4f32-a3c2-28fbe9fc4e01',\n",
       " '7dbf7e26-4e81-4bd0-a835-253d5a22f7af',\n",
       " 'c4f72883-d98d-45d2-a0d7-855147ff89ad',\n",
       " '657a5e17-a768-4fb4-ace5-764355c4a118',\n",
       " '365b4239-51dc-45cb-8821-ede7a5580fea',\n",
       " 'bc3c728d-cf26-4323-8237-ab8612a7a5f0',\n",
       " '533ce6e5-9d47-4a00-953c-83c1b8406660',\n",
       " '7fb54149-ce56-4717-9efe-ed0be75a754c',\n",
       " 'bae0acae-b216-4709-a5bf-f1aaea09f614',\n",
       " '5bc890c2-4f62-4eb5-8fcc-4f0a48bc9cc9',\n",
       " 'aa5e1706-ba4c-4596-bb4a-29a70d275767',\n",
       " 'af8f2e88-782f-4995-a388-67641de52c72',\n",
       " 'c8918609-f32c-46c2-9214-05aeba920242',\n",
       " '93fcd17b-441f-48c0-8c52-a8f682af5d35',\n",
       " 'c39e84e8-9944-4218-a167-70bdf03596dc',\n",
       " 'c512774e-1bf6-4f70-9f54-27af1b5da320',\n",
       " '065425b8-c166-4708-9d40-fa81fb856cec',\n",
       " '2f2d728d-c59e-4986-ad95-ca57ae2c55d5',\n",
       " '1de046fc-4a14-409b-a6e8-d059151161fb',\n",
       " 'e1d15cfa-bbdc-4a7e-a2f2-76e15a78bf0e',\n",
       " '5aa54d82-a1f1-4332-82b6-abef4138ba4d',\n",
       " 'cbe5047a-b73f-4b56-93ec-6f48860b438f',\n",
       " '07c21815-9ef6-4514-b408-bae5fdd6c2e8',\n",
       " 'a7481bf3-840c-499e-9606-371e22db4dd5',\n",
       " '97cc3f07-b299-4519-9e60-cd62b50f75ce',\n",
       " '2dd5f8d8-6575-4fe9-b37b-03da61b70307',\n",
       " '9edd5231-70a7-4096-a495-518f2e354542',\n",
       " 'd2ad64fc-7ceb-4e13-af0d-a452247c1744',\n",
       " '7b029c76-e8aa-4408-b42e-e391d165757c',\n",
       " '60ea89b3-65a7-491b-82f2-fe6b6f6a64bc',\n",
       " '4053e2c2-6928-4486-9bc3-bfa3a368bcbe']"
      ]
     },
     "execution_count": 11,
     "metadata": {},
     "output_type": "execute_result"
    }
   ],
   "source": [
    "# save documents to vector db\n",
    "vector_store.add_documents(chunks)"
   ]
  },
  {
   "cell_type": "code",
   "execution_count": 12,
   "id": "ff391687",
   "metadata": {},
   "outputs": [
    {
     "name": "stderr",
     "output_type": "stream",
     "text": [
      "huggingface/tokenizers: The current process just got forked, after parallelism has already been used. Disabling parallelism to avoid deadlocks...\n",
      "To disable this warning, you can either:\n",
      "\t- Avoid using `tokenizers` before the fork if possible\n",
      "\t- Explicitly set the environment variable TOKENIZERS_PARALLELISM=(true | false)\n"
     ]
    },
    {
     "data": {
      "text/plain": [
       "[Document(id='d2222135-e478-42ca-91dc-4a82a84668ad', metadata={'source': 'data/usa.txt'}, page_content='🇺🇸 Overview of the U.S. Economy'),\n",
       " Document(id='a7a3fc97-7632-4595-8627-4be4bd480926', metadata={'source': 'data/usa.txt'}, page_content='The U.S. maintains its GDP growth through strong innovation, entrepreneurship, and investment in R&D. With companies like Apple, Google, Amazon, Microsoft, and Tesla leading global markets, the U.S.'),\n",
       " Document(id='199aff06-7eed-484e-9a97-68ccfa18f21d', metadata={'source': 'data/usa.txt'}, page_content='a population of over 335 million people and a high level of technological advancement, the U.S. economy thrives on a foundation of consumer spending, innovation, global trade, and financial services.')]"
      ]
     },
     "execution_count": 12,
     "metadata": {},
     "output_type": "execute_result"
    }
   ],
   "source": [
    "# chromadb as retriever\n",
    "data_retriever=vector_store.as_retriever(search_kwargs={\"k\":3})\n",
    "data_retriever.invoke(\"industrial growth of usa?\")"
   ]
  },
  {
   "cell_type": "code",
   "execution_count": 13,
   "id": "8d77e2dc",
   "metadata": {},
   "outputs": [],
   "source": [
    "# create custom state for langgraph\n",
    "import operator\n",
    "from typing import TypedDict, Annotated, Sequence\n",
    "from langchain_core.messages import BaseMessage\n",
    "class AgentState(TypedDict):\n",
    "    messages:Annotated[Sequence[BaseMessage],operator.add]"
   ]
  },
  {
   "cell_type": "code",
   "execution_count": 14,
   "id": "5c1738b3",
   "metadata": {},
   "outputs": [],
   "source": [
    "# supervisor \n",
    "from langchain_core.output_parsers import StrOutputParser\n",
    "from langchain.output_parsers import PydanticOutputParser\n",
    "from langchain.prompts import PromptTemplate\n",
    "supervisor_parser=PydanticOutputParser(pydantic_object=TopicSelector)\n",
    "def supervisor(state:AgentState):\n",
    "    print(\"## supervisor ##\")\n",
    "    question=state[\"messages\"][-1]\n",
    "    print(f\"## supervisor ## question : {question}\")\n",
    "    template=\"\"\"\n",
    "    Your task is to classify the given user query into one of the following categories: [USA,Not Related].\n",
    "    Only respond with the category name and nothing else.\n",
    "    \n",
    "    User query: {question}\n",
    "    {format_instructions}\n",
    "    \"\"\"\n",
    "    \n",
    "    prompt=PromptTemplate(\n",
    "        template=template,\n",
    "        input_variable=[\"question\"],\n",
    "        partial_variables={\"format_instructions\": supervisor_parser.get_format_instructions()}\n",
    "    )\n",
    "    \n",
    "    chain=prompt|model|supervisor_parser\n",
    "    \n",
    "    response=chain.invoke({\"question\":question})\n",
    "    \n",
    "    print(f\"## supervisor ## response : {response}\")\n",
    "    \n",
    "    return {\"messages\":[response.topic]}"
   ]
  },
  {
   "cell_type": "code",
   "execution_count": 15,
   "id": "9d1f2960",
   "metadata": {},
   "outputs": [],
   "source": [
    "# router \n",
    "def router(state:AgentState):\n",
    "    print(\"## router ##\")\n",
    "    last_message=state[\"messages\"][-1]\n",
    "    print(f\"## router ## last_message : {last_message}\")\n",
    "    if \"rag\" in last_message.lower():\n",
    "        return \"rag call\"\n",
    "    else :\n",
    "        return \"llm call\""
   ]
  },
  {
   "cell_type": "code",
   "execution_count": null,
   "id": "141ba9ae",
   "metadata": {},
   "outputs": [],
   "source": [
    "# rag call\n",
    "def rag_call(state:AgentState):\n",
    "    print(\"## rag_call ##\")\n",
    "    question = state[\"messages\"][0]\n",
    "    print(f\"## rag_call ## question : {question}\")\n",
    "    prompt=PromptTemplate(\n",
    "        template=\"\"\"You are an assistant for question-answering tasks. Use the following pieces of retrieved context to answer the question. If you don't know the answer, just say that you don't know. Use three sentences maximum and keep the answer concise.\\nQuestion: {question} \\nContext: {context} \\nAnswer:\"\"\",\n",
    "        \n",
    "        input_variables=['context', 'question']\n",
    "    )\n",
    "    \n",
    "    rag_chain = (\n",
    "        {\"context\": retriever | format_docs, \"question\": RunnablePassthrough()}\n",
    "        | prompt\n",
    "        | model\n",
    "        | StrOutputParser()\n",
    "    )\n",
    "    result = rag_chain.invoke(question)\n",
    "    return  {\"messages\": [result]}"
   ]
  },
  {
   "cell_type": "code",
   "execution_count": 65,
   "id": "22731092",
   "metadata": {},
   "outputs": [
    {
     "data": {
      "text/plain": [
       "[{'title': 'IPL 2025 results: Get all cricket scores, points table, standings and ...',\n",
       "  'url': 'https://www.olympics.com/en/news/ipl-2025-results-cricket-scores-standings-points-table-net-run-rate',\n",
       "  'content': 'The [**IPL 2025**](https://www.olympics.com/en/news/indian-premier-league-ipl-2025-schedule-match-list) concluded on June 3 with Royal Challengers Bengaluru defeating Punjab Kings in the final to lift their maiden title.\\n\\nThis was the 18th edition of the [**Indian Premier League**](https://www.olympics.com/en/news/indian-premier-league-ipl-winners-list-champions) - the world’s most lucrative franchise-based T20 league.\\n\\nRCB became the eighth team to win the IPL trophy. [...] The top two teams - PBKS and RCB - battled it out in Qualifier 1, with the Royal Challengers winning it to earn a direct ticket to the final.\\n\\nHowever, PBKS ended up joining RCB in the finale after defeating MI, who defeated GT in the Eliminator.\\n\\nOverall, MI and CSK are the most successful teams in the IPL with five titles each, followed by KKR with three. RCB, SRH, RR, GT and the now-defunct Deccan Chargers are the other teams who have won the title.',\n",
       "  'score': 0.92005306},\n",
       " {'title': 'IPL 2025 | Live Score, Schedule, News - ESPNcricinfo',\n",
       "  'url': 'https://www.espncricinfo.com/series/ipl-2025-1449924',\n",
       "  'content': '![Image 59: AskESPNcricinfo Logo](https://wassets.hscicdn.com/static/images/lazyimage-noaspect.svg)\\n\\nWinner\\n\\n[Royal Challengers Bengaluru](https://www.espncricinfo.com/team/royal-challengers-bengaluru-335970 \"Royal Challengers Bengaluru\") [...] Match (N), Lucknow, May 23, 2025, [Indian Premier League](https://www.espncricinfo.com/series/ipl-2025-1449924 \"IPL\") ![Image 57: RCB Flag](https://wassets.hscicdn.com/static/images/lazyimage-transparent.png) SRH **231/6** ![Image 58: RCB Flag](https://wassets.hscicdn.com/static/images/lazyimage-transparent.png) RCB (19.5/20 ov, T:232) **189** SRH won by 42 [...] [![Image 67: AskESPNcricinfo Logo](https://wassets.hscicdn.com/static/images/lazyimage-noaspect.svg) Kohli and Hazlewood finish at No. 3 on IPL 2025 Orange and Purple Cap tables respectively ----------------------------------------------------------------------------------------- B Sai Sudharsan and Prasidh Krishna won the Orange and Purple Caps respectively at the end of IPL',\n",
       "  'score': 0.8875269},\n",
       " {'title': '2025 Indian Premier League - Wikipedia',\n",
       "  'url': 'https://en.wikipedia.org/wiki/2025_Indian_Premier_League',\n",
       "  'content': '**[Eliminator](https://en.wikipedia.org/wiki/2025_Indian_Premier_League#Eliminator)**EW[Mumbai Indians](https://en.wikipedia.org/wiki/Mumbai_Indians \"Mumbai Indians\")203/6 (20 overs)\\n\\n30 May 2025 – [Mullanpur](https://en.wikipedia.org/wiki/Maharaja_Yadavindra_Singh_International_Cricket_Stadium \"Maharaja Yadavindra Singh International Cricket Stadium\")\\n\\n3[Gujarat Titans](https://en.wikipedia.org/wiki/Gujarat_Titans \"Gujarat Titans\")208/6 (20 overs) [...] Main article: [2025 Indian Premier League final](https://en.wikipedia.org/wiki/2025_Indian_Premier_League_final \"2025 Indian Premier League final\")\\n\\n**Final**\\n\\n 3 June 2025(2025-06-03)\\n\\n19:30 ([N](https://en.wikipedia.org/wiki/Day/night_cricket \"Day/night cricket\")) \\n\\n[Scorecard](https://www.espncricinfo.com/ci/engine/match/1473511.html)\\n\\n**[Royal Challengers Bengaluru](https://en.wikipedia.org/wiki/Royal_Challengers_Bengaluru \"Royal Challengers Bengaluru\")** [...] 242/6 (20 overs)\\n[Ishan Kishan](https://en.wikipedia.org/wiki/Ishan_Kishan \"Ishan Kishan\") 106[*](https://en.wikipedia.org/wiki/Not_out \"Not out\") (47) \\n\\n[Tushar Deshpande](https://en.wikipedia.org/wiki/Tushar_Deshpande \"Tushar Deshpande\") 3/44 (4 overs)[Dhruv Jurel](https://en.wikipedia.org/wiki/Dhruv_Jurel \"Dhruv Jurel\") 70 (35) \\n\\n[Harshal Patel](https://en.wikipedia.org/wiki/Harshal_Patel \"Harshal Patel\") 2/34 (4 overs)\\n\\n**Sunrisers Hyderabad won by 44 runs**',\n",
       "  'score': 0.8684817},\n",
       " {'title': 'IPL 2025 Awards List: Who won the Orange Cap, Purple Cap ...',\n",
       "  'url': 'https://www.hindustantimes.com/cricket/ipl-2025-awards-list-who-won-the-orange-cap-purple-cap-emerging-player-award-check-full-list-of-winners-101749010568299.html',\n",
       "  'content': '[RCB Victory Parade Live](https://www.hindustantimes.com/cricket/rcb-victory-parade-live-updates-royal-challengers-bengaluru-trophy-bus-parade-ipl-2025-winner-virat-kohli-101749020508285.html)[Virat Kohli](https://www.hindustantimes.com/cricket/youve-made-me-wait-18-years-virat-kohli-bares-raw-emotions-in-rare-instagram-outpouring-after-rcb-s-ipl-title-win-101749006602091.html)[Anushka [...] [RCB Victory Parade Live: 10 killed in stampede as RCB celebrations go haywire](https://www.hindustantimes.com/cricket/rcb-victory-parade-live-updates-royal-challengers-bengaluru-trophy-bus-parade-ipl-2025-winner-virat-kohli-101749020508285.html)\\n\\nUpdated 1 min ago\\n\\nTrending Topics [...] Sharma](https://www.hindustantimes.com/entertainment/bollywood/excited-anushka-sharma-holds-ipl-2025-trophy-with-virat-kohli-fans-gush-rcb-pbks-101749005167815.html)[Samantha Ruth Prabhu](https://www.hindustantimes.com/lifestyle/health/samantha-ruth-prabhu-blasted-by-the-liver-doc-for-selling-fraud-supplements-calls-her-a-science-illiterate-celebrity-101749005915289.html)[Habiba',\n",
       "  'score': 0.8479807},\n",
       " {'title': 'IPL 2025 Match Results | Full Scorecard & Summaries | IPLT20',\n",
       "  'url': 'https://www.iplt20.com/matches/results',\n",
       "  'content': '[Match Centre](https://www.iplt20.com/match/2025/1866)\\n- Match 67\\n\\n  Narendra Modi Stadium, Ahmedabad\\n\\n  MAY, SUN 25 , 3:30 pm IST\\n\\n  Chennai Super Kings Won by 83 Runs\\n\\n  ![Gujarat Titans](https://scores.iplt20.com/ipl/teamlogos/GT.png?v=1)\\n\\n  ### Gujarat Titans\\n\\n  ### GT\\n\\n      \\n\\n  147\\n\\n   (18.3 OV)\\n\\n  ![Chennai Super Kings](https://scores.iplt20.com/ipl/teamlogos/CSK.png)\\n\\n  ### Chennai Super Kings\\n\\n  ### CSK\\n\\n     \\n\\n  230/5\\n\\n    (20.0 OV ) [...] ![Mumbai Indians](https://scores.iplt20.com/ipl/teamlogos/MI.png)\\n\\n  ### Mumbai Indians\\n\\n  ### MI\\n\\n     \\n\\n  205/5\\n\\n    (20.0 OV )\\n\\n  [Match Centre](https://www.iplt20.com/match/2025/1827)\\n- Match 28\\n\\n  Sawai Mansingh Stadium, Jaipur\\n\\n  APR, SUN 13 , 3:30 pm IST\\n\\n  Royal Challengers Bengaluru Won by 9 Wickets\\n\\n  ![Rajasthan Royals](https://scores.iplt20.com/ipl/teamlogos/sSNjJEkBAx1742900310RR---New-Logo.png)\\n\\n  ### Rajasthan Royals\\n\\n  ### RR\\n\\n  173/4\\n\\n    (20.0 OV) [...] ![Rajasthan Royals](https://scores.iplt20.com/ipl/teamlogos/sSNjJEkBAx1742900310RR---New-Logo.png)\\n\\n  ### Rajasthan Royals\\n\\n  ### RR\\n\\n     \\n\\n  205/4\\n\\n    (20.0 OV )\\n\\n  [Match Centre](https://www.iplt20.com/match/2025/1816)\\n- Match 17\\n\\n  MA Chidambaram Stadium, Chennai\\n\\n  APR, SAT 5 , 3:30 pm IST\\n\\n  Delhi Capitals Won by 25 Runs\\n\\n  ![Chennai Super Kings](https://scores.iplt20.com/ipl/teamlogos/CSK.png)\\n\\n  ### Chennai Super Kings\\n\\n  ### CSK\\n\\n     \\n\\n  158/5\\n\\n    (20.0 OV)',\n",
       "  'score': 0.82795376}]"
      ]
     },
     "execution_count": 65,
     "metadata": {},
     "output_type": "execute_result"
    }
   ],
   "source": [
    "# web search tavily\n",
    "from langchain_community.tools.tavily_search import TavilySearchResults\n",
    "\n",
    "tavily_api_key=os.getenv(\"TAVILY_API_KEY\")\n",
    "\n",
    "tavily_tool=TavilySearchResults(travily_api_key=tavily_api_key)\n",
    "\n",
    "tavily_tool.run(\"who is winner of 2025 IPL?\")\n"
   ]
  },
  {
   "cell_type": "code",
   "execution_count": 66,
   "id": "c46befd2",
   "metadata": {},
   "outputs": [],
   "source": [
    "from langchain_openai import ChatOpenAI\n",
    "from langchain.tools import Tool\n",
    "from langchain.agents import initialize_agent, AgentType\n",
    "# llm call with tools integration\n",
    "def llm_call(state:AgentState):\n",
    "    print(\"## llm_call ##\")\n",
    "    question = state[\"messages\"][0]\n",
    "    print(f\"## llm_call ## question : {question}\")\n",
    "\n",
    "    agent = initialize_agent(\n",
    "        tools=[tavily_tool],\n",
    "        llm=model,\n",
    "        agent=AgentType.ZERO_SHOT_REACT_DESCRIPTION,\n",
    "        verbose=True\n",
    "    )\n",
    "    \n",
    "    prompt = PromptTemplate(\n",
    "    template=(\n",
    "        \"Answer the following question using a tool if needed.\\n\"\n",
    "        \"You must respond in this format:\\n\"\n",
    "        \"Thought: ...\\n\"\n",
    "        \"Action: <tool name>\\n\"\n",
    "        \"Action Input: <input for the tool>\\n\"\n",
    "        \"OR\\n\"\n",
    "        \"Thought: ...\\n\"\n",
    "        \"Final Answer: <answer to the user>\\n\"\n",
    "        \"\\n\"\n",
    "        \"Question: {question}\"\n",
    "    ),\n",
    "    input_variables=[\"question\"]\n",
    "    )\n",
    "    \n",
    "\n",
    "    chain = prompt | agent | StrOutputParser()\n",
    "    response = chain.invoke({\"question\": question})\n",
    "    return {\"messages\": [response['output']]}"
   ]
  },
  {
   "cell_type": "code",
   "execution_count": 40,
   "id": "d73a501a",
   "metadata": {},
   "outputs": [
    {
     "name": "stdout",
     "output_type": "stream",
     "text": [
      "\n",
      "\n",
      "\u001b[1m> Entering new AgentExecutor chain...\u001b[0m\n",
      "\u001b[32;1m\u001b[1;3mThought: I need to find out which is the poorest economy and then find its GDP.\n",
      "Action: tavily_search_results_json\n",
      "Action Input: \"poorest economy in the world\"\u001b[0m\n",
      "Observation: \u001b[36;1m\u001b[1;3m[{'title': 'Top 10 Poorest Countries In The World By GDP Per Capita [2025]', 'url': 'https://www.forbesindia.com/article/explainers/poorest-countries-in-the-world/87529/1', 'content': \"As we now know the per capita income of these companies, let's explore the reasons that have led to these bottom ten economies being categorised as the world's poorest.\\n\\n### South Sudan\\n\\n*   GDP: $4 billion\\n*   Population: [11,205,383](https://worldpopulationreview.com/countries/south-sudan-population) [...] | **Rank** | **Country** | **GDP Per Capita** | **Continent** | **Currency and Value (USD)** |\\n| --- | --- | --- | --- | --- |\\n| #1 | South Sudan | $716.25 | Africa | 1 USD -South Sudanese Pound (SSP) = 130.26 SSP |\\n| #2 | Burundi | $1,020 | Africa | 1 USD - Burundian Franc (BIF)\\xa0 = 2,971 BIF |\\n| #3 | Central African Republic | $1,330 | Africa | 1 USD - Central African CFA Franc (XAF) -\\xa0 = 577 XAF |\\n| #4 | Yemen | $1,670 | Asia | 1 USD - Yemeni Rial (YER) = 245.10 YER  \\n | [...] Smaller and less powerful countries in challenging regions are among the bottom ten economies. Liberia and Chad encounter obstacles like limited resources, weak financial sectors, and unfavourable tax regimes, hindering foreign investments and growth. Even larger nations like the Democratic Republic of the Congo and Mozambique struggle with poverty due to internal conflicts, political instability, and inadequate infrastructure, hampering their economic progress.\", 'score': 0.8138313}, {'title': 'Poorest Countries in the World 2025 - World Population Review', 'url': 'https://worldpopulationreview.com/country-rankings/poorest-countries-in-the-world', 'content': '[Burundi](/countries/burundi) is the poorest country in the world, with a per capita GNI of $230 using the Atlas method and a PPP of $951. Conversely, [Bermuda](/countries/bermuda) is the [richest country in the world](/country-rankings/richest-countries-in-the-world) according to GNI (Atlas method), with a value of $134,640. Therefore, the difference in GNI (Atlas method) between the richest and poorest countries in the world is $116,380. In terms of PPP, [Luxembourg](/countries/luxembourg) is [...] Burundi is the worldâ\\x80\\x99s poorest country, with a GDP per capita, PPP of $950.90. It has almost 14.8 million people and is growing at a rate of 2.77%, making it one of the [fastest-growing countries](/country-rankings/fastest-growing-countries) in the world; however, Burundi faces the threat of overpopulation. The countryâ\\x80\\x99s largest industry is agriculture, making up 32.9% of its GDP and employing over 70% of the population. Despite this, about 40% of its people donâ\\x80\\x99t have access to enough [...] ### 2. Central African Republic\\n\\nThe Central African Republicâ\\x80\\x99s GDP per capita, PPP is $1,130, making it the second-poorest country. CAR is another country with a fast-growing population but a weak economy. Many citizens are subsistence farmers to take care of their families, and agriculture makes up over half of the countryâ\\x80\\x99s GDP. While timber and diamonds account for the majority of the countryâ\\x80\\x99s profits, its citizens do not see the money.\\n\\n### 3. Somalia', 'score': 0.78154784}, {'title': 'Poorest Countries in the World 2024 | Global Finance Magazine', 'url': 'https://gfmag.com/data/economic-data/poorest-country-in-the-world/', 'content': 'Global Finance Magazine Global news and insight for corporate financial professionals Global news and insight for corporate financial professionals Home Data Economic Data Poorest Countries in the World 2024 Economic Data Poorest Countries in the World 2024 May 6, 2024 Author: Luca Ventura The world’s poorest countries suffer from civil wars, ethnic and sectarian strife. COVID-19, soaring inflation and the war in Ukraine made their bad situations worse. Yet, people in countries like Burundi, South Sudan and the Central African Republic continue to live in desperate poverty. While GDP per capita is often considered the standard metric, compensating for differences in living costs and rates of inflation by using purchasing power parity (PPP) can better assess an individual’s buying power in any given country.', 'score': 0.76554126}, {'title': 'Top 10 Poorest Countries in the World in 2025 | GDP per Capita', 'url': 'https://sapa-usa.org/top-poorest-countries-in-the-world/', 'content': 'Top 10 Poorest Countries in the World in 2025 [GDP per Capita] While Africa is home to several countries facing economic challenges, it is not accurate to label the entire continent as the poorest. Nigeria, despite facing economic challenges, is not the poorest country globally. Top 10 Poorest Countries in the World in 2025 By GDP per Capita: Read More: Why Sudan is one the poorest countries in the world Political Instability: Many of the poorest countries grapple with political unrest and conflict, hindering economic development and stability. – South Sudan holds the title of the poorest country in the world in 2025, with a GDP-PPP per capita of $455.', 'score': 0.75659186}, {'title': 'Top 20 Poorest Countries in the World 2025 - Focus Economics', 'url': 'https://www.focus-economics.com/blog/the-poorest-countries-in-the-world/', 'content': '**Sub-Saharan Africa continues to dominate the list of poorest countries:**When looking at our\\xa0[Consensus Forecasts](https://www.focus-economics.com)\\xa0for the economies with the lowest GDP per capita (in U.S. dollars, current market prices) in 2025, one thing jumps out: 19 of the 20 poorest are from\\xa0[Sub-Saharan Africa (SSA).](https://www.focus-economics.com/regions/sub-saharan-africa/)\\xa0The only non-African nation in the top 20 is the conflict-riven, internationally isolated country of [...] natural resources and political instability in the neighboring DRC further constrain development. But overall, Rwanda is expected to remain one of Africa’s top-performing economies in the coming years due to sustained expansions in the agriculture, industry and services sectors. [...] the north, have further disrupted economic progress. Mozambique is expected to see above-average growth among SSA economies in the coming years thanks to the extractive sector, though a large share of these economic gains are unlikely to filter through to the ordinary populace.', 'score': 0.7407191}]\u001b[0m\n",
      "Thought:\u001b[32;1m\u001b[1;3mThought: The search results indicate that South Sudan and Burundi are among the poorest countries. I will search for the GDP of both to provide a more complete answer.\n",
      "Action: tavily_search_results_json\n",
      "Action Input: \"GDP of South Sudan\"\u001b[0m\n",
      "Observation: \u001b[36;1m\u001b[1;3m[{'title': 'Economy of South Sudan - Wikipedia', 'url': 'https://en.wikipedia.org/wiki/Economy_of_South_Sudan', 'content': 'The economy of South Sudan is $3.681 billion by [gross domestic product](https://en.wikipedia.org/wiki/Gross_domestic_product \"Gross domestic product\") as of 2019, being one of the most [oil](https://en.wikipedia.org/wiki/Petroleum \"Petroleum\") dependent economies in the world, with 98% of government\\'s annual operating budget and 80% of its gross domestic product (GDP) derived from oil,[[12]](https://en.wikipedia.org/wiki/Economy_of_South_Sudan#cite_note-12) despite being endowed with adequate [...] *   ![Image 6: Increase](https://upload.wikimedia.org/wikipedia/commons/thumb/b/b0/Increase2.svg/20px-Increase2.svg.png) $15.264 billion ([PPP](https://en.wikipedia.org/wiki/Purchasing_power_parity \"Purchasing power parity\"), 2025f)[[3]](https://en.wikipedia.org/wiki/Economy_of_South_Sudan#cite_note-IMFWEOSS-3)\\nGDP rank*   [152nd (nominal, 2024)](https://en.wikipedia.org/wiki/List_of_countries_by_GDP_(nominal) \"List of countries by GDP (nominal)\") [...] [GDP](https://en.wikipedia.org/wiki/Gross_domestic_product \"Gross domestic product\")*   ![Image 5: Increase](https://upload.wikimedia.org/wikipedia/commons/thumb/b/b0/Increase2.svg/20px-Increase2.svg.png) $5.312 billion (nominal, 2025f)[[3]](https://en.wikipedia.org/wiki/Economy_of_South_Sudan#cite_note-IMFWEOSS-3)', 'score': 0.9229352}, {'title': 'South Sudan GDP | Historical Chart & Data - Macrotrends', 'url': 'https://www.macrotrends.net/global-metrics/countries/ssd/south-sudan/gdp-gross-domestic-product', 'content': 'South Sudan GDP for 2015 was 12.00 billion US dollars, a 14.07% decline from 2014. · South Sudan GDP for 2014 was 13.96 billion US dollars, a 24.23% decline', 'score': 0.9177831}, {'title': 'Gross domestic product (GDP) in current prices South Sudan 2030', 'url': 'https://www.statista.com/statistics/727342/gross-domestic-product-gdp-in-south-sudan/', 'content': 'In 2024, the gross domestic product (GDP) in current prices in South Sudan stood at about 5.42 billion U.S. dollars. Between 2011 and 2024,', 'score': 0.917251}, {'title': 'South Sudan Economy: GDP, Inflation, CPI & Interest Rates', 'url': 'https://www.focus-economics.com/countries/south-sudan/', 'content': 'Nominal GDP of USD 7.0 billion in 2023. Nominal GDP of USD 7.0 billion in 2023. GDP per capita of USD 469 compared to the global average of', 'score': 0.87218446}, {'title': 'South Sudan - The World Factbook - CIA', 'url': 'https://www.cia.gov/the-world-factbook/countries/south-sudan/', 'content': '### [Real GDP per capita](https://www.cia.gov/the-world-factbook/field/real-gdp-per-capita/)\\n\\n$1,600 (2017 est.)\\n\\n$1,700 (2016 est.)\\n\\n$2,100 (2015 est.)\\n\\n**note:** data are in 2017 dollars\\n\\ncomparison ranking: [214](https://www.cia.gov/the-world-factbook/field/real-gdp-per-capita/country-comparison/)\\n\\n### [GDP (official exchange rate)](https://www.cia.gov/the-world-factbook/field/gdp-official-exchange-rate/)\\n\\n$11.998 billion (2015 est.) [...] low-income, oil-based Sahelian economy; extreme poverty and food insecurity; COVID-19 and ongoing violence threaten socioeconomic potential; environmentally fragile; ongoing land and property rights issues; natural resource rich but lacks infrastructure\\n\\n### [Real GDP (purchasing power parity)](https://www.cia.gov/the-world-factbook/field/real-gdp-purchasing-power-parity/)\\n\\n$20.01 billion (2017 est.)\\n\\n$21.1 billion (2016 est.)\\n\\n$24.52 billion (2015 est.)\\n\\n**note:** data are in 2017 dollars [...] ### [Budget](https://www.cia.gov/the-world-factbook/field/budget/)\\n\\n**revenues:** $1.94 billion (2019 est.)\\n\\n**expenditures:** $1.938 billion (2019 est.)\\n\\n### [Public debt](https://www.cia.gov/the-world-factbook/field/public-debt/)\\n\\n62.7% of GDP (2017 est.)\\n\\ncomparison ranking: [75](https://www.cia.gov/the-world-factbook/field/public-debt/country-comparison/)\\n\\n### [Taxes and other revenues](https://www.cia.gov/the-world-factbook/field/taxes-and-other-revenues/)\\n\\n8.5% (of GDP) (FY2017/18 est.)', 'score': 0.8455478}]\u001b[0m\n",
      "Thought:\u001b[32;1m\u001b[1;3mAction: tavily_search_results_json\n",
      "Action Input: \"GDP of Burundi\"\u001b[0m\n",
      "Observation: \u001b[36;1m\u001b[1;3m[{'title': 'Burundi GDP - Trading Economics', 'url': 'https://tradingeconomics.com/burundi/gdp', 'content': '| Related | Last | Previous | Unit | Reference |\\n| --- | --- | --- | --- | --- |\\n| [GDP](/burundi/gdp) | 2.64 | 3.34 | USD Billion | Dec 2023 |\\n| [GDP Annual Growth Rate](/burundi/gdp-growth-annual) | 2.80 | 1.80 | percent | Dec 2023 |\\n| [GDP per Capita](/burundi/gdp-per-capita) | 253.53 | 253.69 | USD | Dec 2023 |\\n| [GDP per Capita PPP](/burundi/gdp-per-capita-ppp) | 828.86 | 829.39 | USD | Dec 2023 | [...] ##### **Members**\\n\\n##### \\n\\n# Burundi GDP\\n\\n## The Gross Domestic Product (GDP) in Burundi was worth 2.64 billion US dollars in 2023, according to official data from the World Bank. The GDP value of Burundi represents 0 percent of the world economy. source: [World Bank](https://www.worldbank.org/) [...] ### GDP in Burundi is expected to reach 2.72 USD Billion by the end of 2025, according to Trading Economics global macro models and analysts expectations. In the long-term, the Burundi GDP is projected to trend around 2.79 USD Billion in 2026 and 2.87 USD Billion in 2027, according to our econometric models.', 'score': 0.9416167}, {'title': 'Burundi GDP: $21 billion - World Economics', 'url': 'https://www.worldeconomics.com/Country-Size/Burundi.aspx', 'content': \"World Economics estimates Burundi's 2024 GDP at $21 billion in PPP terms (Purchasing Power Parity) and an initial estimate of $22 billion for 2025.\", 'score': 0.93525803}, {'title': 'Burundi GDP 1960-2025 | MacroTrends', 'url': 'https://macrotrends.net/global-metrics/countries/BDI/burundi/gdp-gross-domestic-product', 'content': 'Burundi GDP for 2023 was 2.64 billion US dollars, a 20.86% decline from 2022. · Burundi GDP for 2022 was 3.34 billion US dollars, a 20.28% increase from 2021.', 'score': 0.92260116}, {'title': \"Burundi | Economic Indicators | Moody's Analytics - Economy.com\", 'url': 'https://www.economy.com/burundi/indicators', 'content': 'Real GDP growth dropped precipitously following political events in 2015 and has yet to recover to pre-conflict levels. Continued isolation by donors and the international community will restrict Burundi’s economic growth as the country deals with a large current account deficit.\\n\\n**GDP (purchasing power parity):**\\n\\n$7.985 billion (2017 est.)\\n\\n$7.985 billion (2016 est.)\\n\\n$8.069 billion (2015 est.)\\n\\nnote: data are in 2017 dollars\\n\\ncountry comparison to the world: **164** [...] **GDP (official exchange rate):**\\n\\n$3.393 billion (2017 est.)\\n\\n**GDP - real growth rate:**\\n\\n0% (2017 est.)\\n\\n-1% (2016 est.)\\n\\n-4% (2015 est.)\\n\\ncountry comparison to the world: **202**\\n\\n**GDP - per capita (PPP):**\\n\\n$800 (2017 est.)\\n\\n$800 (2016 est.)\\n\\n$900 (2015 est.)\\n\\nnote: data are in 2017 dollars\\n\\ncountry comparison to the world: **227**\\n\\n**Gross national saving:**\\n\\n-5.4% of GDP (2017 est.)\\n\\n-4.1% of GDP (2016 est.)\\n\\n-6.7% of GDP (2015 est.)\\n\\ncountry comparison to the world: **181** [...] | GDP | Reference | Last | Previous | Units | Frequency |\\n| --- | --- | --- | --- | --- | --- |\\n| [Private Consumption](https://www.economy.com/burundi/private-consumption \"Burundi: Private Consumption\") | 2023 | 9,253,761,051,435 | 6,563,892,002,249 | NCU, NSA | Annual |\\n| [Investment](https://www.economy.com/burundi/investment \"Burundi: Investment\") | 2023 | 2,333,888,440,872 | 1,564,179,174,069 | NCU, NSA | Annual |', 'score': 0.92176014}, {'title': 'Gross domestic product (GDP) in current prices Burundi 2030| Statista', 'url': 'https://www.statista.com/statistics/451356/gross-domestic-product-gdp-in-burundi/', 'content': 'The gross domestic product (GDP) in current prices in Burundi stood at about 4.74 billion U.S. dollars in 2024. Between 1980 and 2024,', 'score': 0.92091084}]\u001b[0m\n",
      "Thought:\u001b[32;1m\u001b[1;3mFinal Answer: Based on recent data, South Sudan has a GDP of approximately $5.312 billion (nominal, 2025f), while Burundi's GDP was $2.64 billion in 2023. Therefore, Burundi has the lower GDP.\u001b[0m\n",
      "\n",
      "\u001b[1m> Finished chain.\u001b[0m\n"
     ]
    },
    {
     "data": {
      "text/plain": [
       "\"Based on recent data, South Sudan has a GDP of approximately $5.312 billion (nominal, 2025f), while Burundi's GDP was $2.64 billion in 2023. Therefore, Burundi has the lower GDP.\""
      ]
     },
     "execution_count": 40,
     "metadata": {},
     "output_type": "execute_result"
    }
   ],
   "source": [
    "prompt = PromptTemplate(\n",
    "    template=(\n",
    "        \"Answer the following question using a tool if needed.\\n\"\n",
    "        \"You must respond in this format:\\n\"\n",
    "        \"Thought: ...\\n\"\n",
    "        \"Action: <tool name>\\n\"\n",
    "        \"Action Input: <input for the tool>\\n\"\n",
    "        \"OR\\n\"\n",
    "        \"Thought: ...\\n\"\n",
    "        \"Final Answer: <answer to the user>\\n\"\n",
    "        \"\\n\"\n",
    "        \"Question: {question}\"\n",
    "    ),\n",
    "    input_variables=[\"question\"]\n",
    ")\n",
    "\n",
    "agent = initialize_agent(\n",
    "    tools=[tavily_tool],\n",
    "    llm=model,\n",
    "    agent=AgentType.ZERO_SHOT_REACT_DESCRIPTION,\n",
    "    verbose=True\n",
    ")\n",
    "\n",
    "question = \"Tell me about GDP of poorest economy\"\n",
    "chain = prompt | agent | StrOutputParser()\n",
    "response = chain.invoke({\"question\": question})\n",
    "response['output']\n"
   ]
  },
  {
   "cell_type": "code",
   "execution_count": 41,
   "id": "d43a2d58",
   "metadata": {},
   "outputs": [],
   "source": [
    "# validation or guard_rail\n",
    "def guard_rail(state:AgentState):\n",
    "    print(\"## guard_rail ##\")\n",
    "    last_message=state[\"messages\"][-1]\n",
    "    print(f\"## guard_rail ## last_message : {last_message}\")\n",
    "    return {\"messages\":[\"pass\"]}\n",
    "\n",
    "from langgraph.graph import StateGraph, START, END    \n",
    "# guard_router\n",
    "def guard_router(state:AgentState):\n",
    "    print(\"## guard_router ##\")\n",
    "    last_message=state[\"messages\"][-1]\n",
    "    print(f\"## guard_router ## last_message : {last_message}\")\n",
    "    if \"pass\" in last_message.lower():\n",
    "        return END\n",
    "    else :\n",
    "        return \"supervisor\""
   ]
  },
  {
   "cell_type": "code",
   "execution_count": 60,
   "id": "eaaaefbe",
   "metadata": {},
   "outputs": [
    {
     "data": {
      "text/plain": [
       "<langgraph.graph.state.StateGraph at 0x3c3115710>"
      ]
     },
     "execution_count": 60,
     "metadata": {},
     "output_type": "execute_result"
    }
   ],
   "source": [
    "# langgraph\n",
    "from langgraph.graph import StateGraph, START, END\n",
    "\n",
    "work_flow=StateGraph(AgentState)\n",
    "\n",
    "work_flow.set_entry_point(\"supervisor\")\n",
    "\n",
    "work_flow.add_node(\"supervisor\",supervisor)\n",
    "\n",
    "work_flow.add_node(\"llm\",llm_call)\n",
    "\n",
    "work_flow.add_node(\"rag\",rag_call)\n",
    "\n",
    "work_flow.add_node(\"guard_rail\",guard_rail)\n",
    "\n",
    "work_flow.add_conditional_edges(\n",
    "    \"supervisor\",\n",
    "    router,\n",
    "    {\n",
    "        \"llm call\" : \"llm\",\n",
    "        \"rag call\" : \"rag\"\n",
    "    }\n",
    ")\n",
    "\n",
    "work_flow.add_edge(\"rag\",\"guard_rail\")\n",
    "\n",
    "work_flow.add_edge(\"llm\",\"guard_rail\")\n",
    "\n",
    "work_flow.add_edge(\"guard_rail\", END)\n",
    "\n",
    "work_flow.add_conditional_edges(\n",
    "    \"guard_rail\",\n",
    "    guard_router,\n",
    "    {\n",
    "        \"pass\" : END,\n",
    "        \"fail\" : \"supervisor\"\n",
    "        \n",
    "    }\n",
    ")\n"
   ]
  },
  {
   "cell_type": "code",
   "execution_count": 61,
   "id": "8282ed2a",
   "metadata": {},
   "outputs": [],
   "source": [
    "# compile graph\n",
    "app = work_flow.compile()"
   ]
  },
  {
   "cell_type": "code",
   "execution_count": 62,
   "id": "8dea7668",
   "metadata": {},
   "outputs": [
    {
     "data": {
      "image/png": "[encoded data removed]",
      "text/plain": [
       "<IPython.core.display.Image object>"
      ]
     },
     "metadata": {},
     "output_type": "display_data"
    }
   ],
   "source": [
    "from IPython.display import display,Image\n",
    "display(Image(app.get_graph().draw_mermaid_png()))"
   ]
  },
  {
   "cell_type": "code",
   "execution_count": 63,
   "id": "a6f3a09d",
   "metadata": {},
   "outputs": [
    {
     "name": "stdout",
     "output_type": "stream",
     "text": [
      "## supervisor ##\n",
      "## supervisor ## question : can you tell me the industrial growth of world's most poor economy?\n",
      "## supervisor ## response : topic='Not Related' reason_for_selection=\"The query is about the industrial growth of the world's poorest economy, which is not related to the USA.\"\n",
      "## router ##\n",
      "## router ## last_message : Not Related\n",
      "## llm_call ##\n",
      "## llm_call ## question : can you tell me the industrial growth of world's most poor economy?\n",
      "\n",
      "\n",
      "\u001b[1m> Entering new AgentExecutor chain...\u001b[0m\n",
      "\u001b[32;1m\u001b[1;3mThought: I need to find out which is the poorest economy and then find its GDP.\n",
      "Action: tavily_search_results_json\n",
      "Action Input: \"poorest economy in the world GDP\"\u001b[0m\n",
      "Observation: \u001b[36;1m\u001b[1;3m[{'title': 'Poorest Countries in the World 2025 - World Population Review', 'url': 'https://worldpopulationreview.com/country-rankings/poorest-countries-in-the-world', 'content': \"Economics > Poorest Countries in the World 2025. Poorest Countries in the ... Burundi is the world's poorest country, with a GDP per capita, PPP of $950.90.\", 'score': 0.8361405}, {'title': 'Top 10 Poorest Countries In The World By GDP Per Capita [2025]', 'url': 'https://www.forbesindia.com/article/explainers/poorest-countries-in-the-world/87529/1', 'content': \"As we now know the per capita income of these companies, let's explore the reasons that have led to these bottom ten economies being categorised as the world's poorest.\\n\\n### South Sudan\\n\\n*   GDP: $4 billion\\n*   Population: [11,205,383](https://worldpopulationreview.com/countries/south-sudan-population) [...] | **Rank** | **Country** | **GDP Per Capita** | **Continent** | **Currency and Value (USD)** |\\n| --- | --- | --- | --- | --- |\\n| #1 | South Sudan | $716.25 | Africa | 1 USD -South Sudanese Pound (SSP) = 130.26 SSP |\\n| #2 | Burundi | $1,020 | Africa | 1 USD - Burundian Franc (BIF)\\xa0 = 2,971 BIF |\\n| #3 | Central African Republic | $1,330 | Africa | 1 USD - Central African CFA Franc (XAF) -\\xa0 = 577 XAF |\\n| #4 | Yemen | $1,670 | Asia | 1 USD - Yemeni Rial (YER) = 245.10 YER  \\n | [...] ### Yemen\\n\\n*   GDP: $17.4 billion  \\n    \\n*   Population: 35.08 million\", 'score': 0.8312667}, {'title': 'Top 10 Poorest Countries in the World in 2025 | GDP per Capita', 'url': 'https://sapa-usa.org/top-poorest-countries-in-the-world/', 'content': 'Top 10 Poorest Countries in the World in 2025 [GDP per Capita] While Africa is home to several countries facing economic challenges, it is not accurate to label the entire continent as the poorest. Nigeria, despite facing economic challenges, is not the poorest country globally. Top 10 Poorest Countries in the World in 2025 By GDP per Capita: Read More: Why Sudan is one the poorest countries in the world Political Instability: Many of the poorest countries grapple with political unrest and conflict, hindering economic development and stability. – South Sudan holds the title of the poorest country in the world in 2025, with a GDP-PPP per capita of $455.', 'score': 0.80405265}, {'title': 'Top 20 Poorest Countries in the World 2025 - Focus Economics', 'url': 'https://www.focus-economics.com/blog/the-poorest-countries-in-the-world/', 'content': 'Sub-Saharan Africa continues to dominate the list of poorest countries:\\xa0When looking at our\\xa0Consensus Forecasts\\xa0for the economies with the lowest GDP per capita (in U.S. dollars, current market prices) in 2025, one thing jumps out: 19 of the 20 poorest are from\\xa0Sub-Saharan Africa (SSA). However, the revenue from Chad’s oil sector has not trickled down to the overall population, largely due to corruption and inefficient governance; the country has faced internal violence in recent years due to rebel groups and Islamist militias, as well as political instability entrenched by the military takeover of the government in 2021. Our panelists expect the country to remain poor in the coming years as GDP growth is forecast to be muted by persistent political instability and the nationalization of private-sector oil assets. 17th poorest country: Sudan', 'score': 0.79901963}, {'title': 'Poorest Countries in the World 2024 | Global Finance Magazine', 'url': 'https://gfmag.com/data/economic-data/poorest-country-in-the-world/', 'content': 'Global Finance Magazine Global news and insight for corporate financial professionals Global news and insight for corporate financial professionals Home Data Economic Data Poorest Countries in the World 2024 Economic Data Poorest Countries in the World 2024 May 6, 2024 Author: Luca Ventura The world’s poorest countries suffer from civil wars, ethnic and sectarian strife. COVID-19, soaring inflation and the war in Ukraine made their bad situations worse. Yet, people in countries like Burundi, South Sudan and the Central African Republic continue to live in desperate poverty. While GDP per capita is often considered the standard metric, compensating for differences in living costs and rates of inflation by using purchasing power parity (PPP) can better assess an individual’s buying power in any given country.', 'score': 0.7309246}]\u001b[0m\n",
      "Thought:\u001b[32;1m\u001b[1;3mI have found that Burundi and South Sudan are among the poorest countries. I will search for the GDP of each of these countries.\n",
      "Action: tavily_search_results_json\n",
      "Action Input: \"Burundi GDP\"\u001b[0m\n",
      "Observation: \u001b[36;1m\u001b[1;3m[{'title': 'Burundi GDP - Trading Economics', 'url': 'https://tradingeconomics.com/burundi/gdp', 'content': '##### **Members**\\n\\n##### \\n\\n# Burundi GDP\\n\\n## The Gross Domestic Product (GDP) in Burundi was worth 2.64 billion US dollars in 2023, according to official data from the World Bank. The GDP value of Burundi represents 0 percent of the world economy. source: [World Bank](https://www.worldbank.org/) [...] | Related | Last | Previous | Unit | Reference |\\n| --- | --- | --- | --- | --- |\\n| [GDP](/burundi/gdp) | 2.64 | 3.34 | USD Billion | Dec 2023 |\\n| [GDP Annual Growth Rate](/burundi/gdp-growth-annual) | 2.80 | 1.80 | percent | Dec 2023 |\\n| [GDP per Capita](/burundi/gdp-per-capita) | 253.53 | 253.69 | USD | Dec 2023 |\\n| [GDP per Capita PPP](/burundi/gdp-per-capita-ppp) | 828.86 | 829.39 | USD | Dec 2023 | [...] ### GDP in Burundi is expected to reach 2.72 USD Billion by the end of 2025, according to Trading Economics global macro models and analysts expectations. In the long-term, the Burundi GDP is projected to trend around 2.79 USD Billion in 2026 and 2.87 USD Billion in 2027, according to our econometric models.', 'score': 0.9435197}, {'title': 'Burundi GDP: $21 billion - World Economics', 'url': 'https://www.worldeconomics.com/Country-Size/Burundi.aspx', 'content': \"World Economics estimates Burundi's 2024 GDP at $21 billion in PPP terms (Purchasing Power Parity) and an initial estimate of $22 billion for 2025.\", 'score': 0.94263905}, {'title': 'Burundi GDP 1960-2025 | MacroTrends', 'url': 'https://macrotrends.net/global-metrics/countries/BDI/burundi/gdp-gross-domestic-product', 'content': 'Burundi GDP for 2023 was 2.64 billion US dollars, a 20.86% decline from 2022. Burundi GDP for 2022 was 3.34 billion US dollars, a 20.28% increase from 2021.', 'score': 0.93610436}, {'title': 'Gross domestic product (GDP) in current prices Burundi 2030| Statista', 'url': 'https://www.statista.com/statistics/451356/gross-domestic-product-gdp-in-burundi/', 'content': 'The gross domestic product (GDP) in current prices in Burundi stood at about 4.74 billion U.S. dollars in 2024. Between 1980 and 2024,', 'score': 0.91936076}, {'title': \"Burundi | Economic Indicators | Moody's Analytics - Economy.com\", 'url': 'https://www.economy.com/burundi/indicators', 'content': 'Real GDP growth dropped precipitously following political events in 2015 and has yet to recover to pre-conflict levels. Continued isolation by donors and the international community will restrict Burundi’s economic growth as the country deals with a large current account deficit.\\n\\n**GDP (purchasing power parity):**\\n\\n$7.985 billion (2017 est.)\\n\\n$7.985 billion (2016 est.)\\n\\n$8.069 billion (2015 est.)\\n\\nnote: data are in 2017 dollars\\n\\ncountry comparison to the world: **164** [...] **GDP (official exchange rate):**\\n\\n$3.393 billion (2017 est.)\\n\\n**GDP - real growth rate:**\\n\\n0% (2017 est.)\\n\\n-1% (2016 est.)\\n\\n-4% (2015 est.)\\n\\ncountry comparison to the world: **202**\\n\\n**GDP - per capita (PPP):**\\n\\n$800 (2017 est.)\\n\\n$800 (2016 est.)\\n\\n$900 (2015 est.)\\n\\nnote: data are in 2017 dollars\\n\\ncountry comparison to the world: **227**\\n\\n**Gross national saving:**\\n\\n-5.4% of GDP (2017 est.)\\n\\n-4.1% of GDP (2016 est.)\\n\\n-6.7% of GDP (2015 est.)\\n\\ncountry comparison to the world: **181** [...] | GDP | Reference | Last | Previous | Units | Frequency |\\n| --- | --- | --- | --- | --- | --- |\\n| [Private Consumption](https://www.economy.com/burundi/private-consumption \"Burundi: Private Consumption\") | 2023 | 9,253,761,051,435 | 6,563,892,002,249 | NCU, NSA | Annual |\\n| [Investment](https://www.economy.com/burundi/investment \"Burundi: Investment\") | 2023 | 2,333,888,440,872 | 1,564,179,174,069 | NCU, NSA | Annual |', 'score': 0.91901255}]\u001b[0m\n",
      "Thought:\u001b[32;1m\u001b[1;3mAction: tavily_search_results_json\n",
      "Action Input: \"South Sudan GDP\"\u001b[0m\n",
      "Observation: \u001b[36;1m\u001b[1;3m[{'title': 'South Sudan GDP | Historical Chart & Data - Macrotrends', 'url': 'https://www.macrotrends.net/global-metrics/countries/ssd/south-sudan/gdp-gross-domestic-product', 'content': 'South Sudan GDP for 2015 was 12.00 billion US dollars, a 14.07% decline from 2014. View More GDP (US $) Click on chart icon to view chart.', 'score': 0.9224337}, {'title': 'Economy of South Sudan - Wikipedia', 'url': 'https://en.wikipedia.org/wiki/Economy_of_South_Sudan', 'content': 'The economy of South Sudan is $3.681 billion by [gross domestic product](https://en.wikipedia.org/wiki/Gross_domestic_product \"Gross domestic product\") as of 2019, being one of the most [oil](https://en.wikipedia.org/wiki/Petroleum \"Petroleum\") dependent economies in the world, with 98% of government\\'s annual operating budget and 80% of its gross domestic product (GDP) derived from oil,[[12]](https://en.wikipedia.org/wiki/Economy_of_South_Sudan#cite_note-12) despite being endowed with adequate [...] *   ![Image 6: Increase](https://upload.wikimedia.org/wikipedia/commons/thumb/b/b0/Increase2.svg/20px-Increase2.svg.png) $15.264 billion ([PPP](https://en.wikipedia.org/wiki/Purchasing_power_parity \"Purchasing power parity\"), 2025f)[[3]](https://en.wikipedia.org/wiki/Economy_of_South_Sudan#cite_note-IMFWEOSS-3)\\nGDP rank*   [152nd (nominal, 2024)](https://en.wikipedia.org/wiki/List_of_countries_by_GDP_(nominal) \"List of countries by GDP (nominal)\") [...] [GDP](https://en.wikipedia.org/wiki/Gross_domestic_product \"Gross domestic product\")*   ![Image 5: Increase](https://upload.wikimedia.org/wikipedia/commons/thumb/b/b0/Increase2.svg/20px-Increase2.svg.png) $5.312 billion (nominal, 2025f)[[3]](https://en.wikipedia.org/wiki/Economy_of_South_Sudan#cite_note-IMFWEOSS-3)', 'score': 0.91988057}, {'title': 'Gross domestic product (GDP) in current prices South Sudan 2030', 'url': 'https://www.statista.com/statistics/727342/gross-domestic-product-gdp-in-south-sudan/', 'content': 'In 2024, the gross domestic product (GDP) in current prices in South Sudan stood at about 5.42 billion U.S. dollars. Between 2011 and 2024,', 'score': 0.91936076}, {'title': 'South Sudan Economy: GDP, Inflation, CPI & Interest Rates', 'url': 'https://www.focus-economics.com/countries/south-sudan/', 'content': \"South Sudan's Macroeconomic Analysis: Nominal GDP of USD 5.3 billion in 2024. Nominal GDP of USD 7.0 billion in 2023. Nominal GDP of USD 7.0 billion in 2023\", 'score': 0.91399205}, {'title': 'South Sudan - The World Factbook - CIA', 'url': 'https://www.cia.gov/the-world-factbook/countries/south-sudan/', 'content': '### [Real GDP per capita](https://www.cia.gov/the-world-factbook/field/real-gdp-per-capita/)\\n\\n$1,600 (2017 est.)\\n\\n$1,700 (2016 est.)\\n\\n$2,100 (2015 est.)\\n\\n**note:** data are in 2017 dollars\\n\\ncomparison ranking: [214](https://www.cia.gov/the-world-factbook/field/real-gdp-per-capita/country-comparison/)\\n\\n### [GDP (official exchange rate)](https://www.cia.gov/the-world-factbook/field/gdp-official-exchange-rate/)\\n\\n$11.998 billion (2015 est.) [...] low-income, oil-based Sahelian economy; extreme poverty and food insecurity; COVID-19 and ongoing violence threaten socioeconomic potential; environmentally fragile; ongoing land and property rights issues; natural resource rich but lacks infrastructure\\n\\n### [Real GDP (purchasing power parity)](https://www.cia.gov/the-world-factbook/field/real-gdp-purchasing-power-parity/)\\n\\n$20.01 billion (2017 est.)\\n\\n$21.1 billion (2016 est.)\\n\\n$24.52 billion (2015 est.)\\n\\n**note:** data are in 2017 dollars [...] ### [Budget](https://www.cia.gov/the-world-factbook/field/budget/)\\n\\n**revenues:** $1.94 billion (2019 est.)\\n\\n**expenditures:** $1.938 billion (2019 est.)\\n\\n### [Public debt](https://www.cia.gov/the-world-factbook/field/public-debt/)\\n\\n62.7% of GDP (2017 est.)\\n\\ncomparison ranking: [75](https://www.cia.gov/the-world-factbook/field/public-debt/country-comparison/)\\n\\n### [Taxes and other revenues](https://www.cia.gov/the-world-factbook/field/taxes-and-other-revenues/)\\n\\n8.5% (of GDP) (FY2017/18 est.)', 'score': 0.8497846}]\u001b[0m\n",
      "Thought:\u001b[32;1m\u001b[1;3mFinal Answer: The poorest economy is often considered to be Burundi. Its GDP was approximately $2.64 billion in 2023. South Sudan is also among the poorest, with a GDP of approximately $5.42 billion in 2024.\u001b[0m\n",
      "\n",
      "\u001b[1m> Finished chain.\u001b[0m\n",
      "## guard_rail ##\n",
      "## guard_rail ## last_message : The poorest economy is often considered to be Burundi. Its GDP was approximately $2.64 billion in 2023. South Sudan is also among the poorest, with a GDP of approximately $5.42 billion in 2024.\n",
      "## guard_router ##\n",
      "## guard_router ## last_message : pass\n"
     ]
    },
    {
     "ename": "KeyError",
     "evalue": "'__end__'",
     "output_type": "error",
     "traceback": [
      "\u001b[31m---------------------------------------------------------------------------\u001b[39m",
      "\u001b[31mKeyError\u001b[39m                                  Traceback (most recent call last)",
      "\u001b[36mCell\u001b[39m\u001b[36m \u001b[39m\u001b[32mIn[63]\u001b[39m\u001b[32m, line 3\u001b[39m\n\u001b[32m      1\u001b[39m \u001b[38;5;66;03m# run sample app\u001b[39;00m\n\u001b[32m      2\u001b[39m state={\u001b[33m\"\u001b[39m\u001b[33mmessages\u001b[39m\u001b[33m\"\u001b[39m:[\u001b[33m\"\u001b[39m\u001b[33mcan you tell me the industrial growth of world\u001b[39m\u001b[33m'\u001b[39m\u001b[33ms most poor economy?\u001b[39m\u001b[33m\"\u001b[39m]}\n\u001b[32m----> \u001b[39m\u001b[32m3\u001b[39m result=\u001b[43mapp\u001b[49m\u001b[43m.\u001b[49m\u001b[43minvoke\u001b[49m\u001b[43m(\u001b[49m\u001b[43mstate\u001b[49m\u001b[43m)\u001b[49m\n\u001b[32m      4\u001b[39m result\n",
      "\u001b[36mFile \u001b[39m\u001b[32m/opt/miniconda3/envs/agentic_env/lib/python3.11/site-packages/langgraph/pregel/__init__.py:2719\u001b[39m, in \u001b[36mPregel.invoke\u001b[39m\u001b[34m(self, input, config, stream_mode, output_keys, interrupt_before, interrupt_after, checkpoint_during, debug, **kwargs)\u001b[39m\n\u001b[32m   2716\u001b[39m chunks: \u001b[38;5;28mlist\u001b[39m[Union[\u001b[38;5;28mdict\u001b[39m[\u001b[38;5;28mstr\u001b[39m, Any], Any]] = []\n\u001b[32m   2717\u001b[39m interrupts: \u001b[38;5;28mlist\u001b[39m[Interrupt] = []\n\u001b[32m-> \u001b[39m\u001b[32m2719\u001b[39m \u001b[43m\u001b[49m\u001b[38;5;28;43;01mfor\u001b[39;49;00m\u001b[43m \u001b[49m\u001b[43mchunk\u001b[49m\u001b[43m \u001b[49m\u001b[38;5;129;43;01min\u001b[39;49;00m\u001b[43m \u001b[49m\u001b[38;5;28;43mself\u001b[39;49m\u001b[43m.\u001b[49m\u001b[43mstream\u001b[49m\u001b[43m(\u001b[49m\n\u001b[32m   2720\u001b[39m \u001b[43m    \u001b[49m\u001b[38;5;28;43minput\u001b[39;49m\u001b[43m,\u001b[49m\n\u001b[32m   2721\u001b[39m \u001b[43m    \u001b[49m\u001b[43mconfig\u001b[49m\u001b[43m,\u001b[49m\n\u001b[32m   2722\u001b[39m \u001b[43m    \u001b[49m\u001b[43mstream_mode\u001b[49m\u001b[43m=\u001b[49m\u001b[43mstream_mode\u001b[49m\u001b[43m,\u001b[49m\n\u001b[32m   2723\u001b[39m \u001b[43m    \u001b[49m\u001b[43moutput_keys\u001b[49m\u001b[43m=\u001b[49m\u001b[43moutput_keys\u001b[49m\u001b[43m,\u001b[49m\n\u001b[32m   2724\u001b[39m \u001b[43m    \u001b[49m\u001b[43minterrupt_before\u001b[49m\u001b[43m=\u001b[49m\u001b[43minterrupt_before\u001b[49m\u001b[43m,\u001b[49m\n\u001b[32m   2725\u001b[39m \u001b[43m    \u001b[49m\u001b[43minterrupt_after\u001b[49m\u001b[43m=\u001b[49m\u001b[43minterrupt_after\u001b[49m\u001b[43m,\u001b[49m\n\u001b[32m   2726\u001b[39m \u001b[43m    \u001b[49m\u001b[43mcheckpoint_during\u001b[49m\u001b[43m=\u001b[49m\u001b[43mcheckpoint_during\u001b[49m\u001b[43m,\u001b[49m\n\u001b[32m   2727\u001b[39m \u001b[43m    \u001b[49m\u001b[43mdebug\u001b[49m\u001b[43m=\u001b[49m\u001b[43mdebug\u001b[49m\u001b[43m,\u001b[49m\n\u001b[32m   2728\u001b[39m \u001b[43m    \u001b[49m\u001b[43m*\u001b[49m\u001b[43m*\u001b[49m\u001b[43mkwargs\u001b[49m\u001b[43m,\u001b[49m\n\u001b[32m   2729\u001b[39m \u001b[43m\u001b[49m\u001b[43m)\u001b[49m\u001b[43m:\u001b[49m\n\u001b[32m   2730\u001b[39m \u001b[43m    \u001b[49m\u001b[38;5;28;43;01mif\u001b[39;49;00m\u001b[43m \u001b[49m\u001b[43mstream_mode\u001b[49m\u001b[43m \u001b[49m\u001b[43m==\u001b[49m\u001b[43m \u001b[49m\u001b[33;43m\"\u001b[39;49m\u001b[33;43mvalues\u001b[39;49m\u001b[33;43m\"\u001b[39;49m\u001b[43m:\u001b[49m\n\u001b[32m   2731\u001b[39m \u001b[43m        \u001b[49m\u001b[38;5;28;43;01mif\u001b[39;49;00m\u001b[43m \u001b[49m\u001b[43m(\u001b[49m\n\u001b[32m   2732\u001b[39m \u001b[43m            \u001b[49m\u001b[38;5;28;43misinstance\u001b[39;49m\u001b[43m(\u001b[49m\u001b[43mchunk\u001b[49m\u001b[43m,\u001b[49m\u001b[43m \u001b[49m\u001b[38;5;28;43mdict\u001b[39;49m\u001b[43m)\u001b[49m\n\u001b[32m   2733\u001b[39m \u001b[43m            \u001b[49m\u001b[38;5;129;43;01mand\u001b[39;49;00m\u001b[43m \u001b[49m\u001b[43m(\u001b[49m\u001b[43mints\u001b[49m\u001b[43m \u001b[49m\u001b[43m:=\u001b[49m\u001b[43m \u001b[49m\u001b[43mchunk\u001b[49m\u001b[43m.\u001b[49m\u001b[43mget\u001b[49m\u001b[43m(\u001b[49m\u001b[43mINTERRUPT\u001b[49m\u001b[43m)\u001b[49m\u001b[43m)\u001b[49m\u001b[43m \u001b[49m\u001b[38;5;129;43;01mis\u001b[39;49;00m\u001b[43m \u001b[49m\u001b[38;5;129;43;01mnot\u001b[39;49;00m\u001b[43m \u001b[49m\u001b[38;5;28;43;01mNone\u001b[39;49;00m\n\u001b[32m   2734\u001b[39m \u001b[43m        \u001b[49m\u001b[43m)\u001b[49m\u001b[43m:\u001b[49m\n",
      "\u001b[36mFile \u001b[39m\u001b[32m/opt/miniconda3/envs/agentic_env/lib/python3.11/site-packages/langgraph/pregel/__init__.py:2436\u001b[39m, in \u001b[36mPregel.stream\u001b[39m\u001b[34m(self, input, config, stream_mode, output_keys, interrupt_before, interrupt_after, checkpoint_during, debug, subgraphs)\u001b[39m\n\u001b[32m   2434\u001b[39m         \u001b[38;5;28;01mfor\u001b[39;00m task \u001b[38;5;129;01min\u001b[39;00m loop.match_cached_writes():\n\u001b[32m   2435\u001b[39m             loop.output_writes(task.id, task.writes, cached=\u001b[38;5;28;01mTrue\u001b[39;00m)\n\u001b[32m-> \u001b[39m\u001b[32m2436\u001b[39m \u001b[43m        \u001b[49m\u001b[38;5;28;43;01mfor\u001b[39;49;00m\u001b[43m \u001b[49m\u001b[43m_\u001b[49m\u001b[43m \u001b[49m\u001b[38;5;129;43;01min\u001b[39;49;00m\u001b[43m \u001b[49m\u001b[43mrunner\u001b[49m\u001b[43m.\u001b[49m\u001b[43mtick\u001b[49m\u001b[43m(\u001b[49m\n\u001b[32m   2437\u001b[39m \u001b[43m            \u001b[49m\u001b[43m[\u001b[49m\u001b[43mt\u001b[49m\u001b[43m \u001b[49m\u001b[38;5;28;43;01mfor\u001b[39;49;00m\u001b[43m \u001b[49m\u001b[43mt\u001b[49m\u001b[43m \u001b[49m\u001b[38;5;129;43;01min\u001b[39;49;00m\u001b[43m \u001b[49m\u001b[43mloop\u001b[49m\u001b[43m.\u001b[49m\u001b[43mtasks\u001b[49m\u001b[43m.\u001b[49m\u001b[43mvalues\u001b[49m\u001b[43m(\u001b[49m\u001b[43m)\u001b[49m\u001b[43m \u001b[49m\u001b[38;5;28;43;01mif\u001b[39;49;00m\u001b[43m \u001b[49m\u001b[38;5;129;43;01mnot\u001b[39;49;00m\u001b[43m \u001b[49m\u001b[43mt\u001b[49m\u001b[43m.\u001b[49m\u001b[43mwrites\u001b[49m\u001b[43m]\u001b[49m\u001b[43m,\u001b[49m\n\u001b[32m   2438\u001b[39m \u001b[43m            \u001b[49m\u001b[43mtimeout\u001b[49m\u001b[43m=\u001b[49m\u001b[38;5;28;43mself\u001b[39;49m\u001b[43m.\u001b[49m\u001b[43mstep_timeout\u001b[49m\u001b[43m,\u001b[49m\n\u001b[32m   2439\u001b[39m \u001b[43m            \u001b[49m\u001b[43mget_waiter\u001b[49m\u001b[43m=\u001b[49m\u001b[43mget_waiter\u001b[49m\u001b[43m,\u001b[49m\n\u001b[32m   2440\u001b[39m \u001b[43m            \u001b[49m\u001b[43mschedule_task\u001b[49m\u001b[43m=\u001b[49m\u001b[43mloop\u001b[49m\u001b[43m.\u001b[49m\u001b[43maccept_push\u001b[49m\u001b[43m,\u001b[49m\n\u001b[32m   2441\u001b[39m \u001b[43m        \u001b[49m\u001b[43m)\u001b[49m\u001b[43m:\u001b[49m\n\u001b[32m   2442\u001b[39m \u001b[43m            \u001b[49m\u001b[38;5;66;43;03m# emit output\u001b[39;49;00m\n\u001b[32m   2443\u001b[39m \u001b[43m            \u001b[49m\u001b[38;5;28;43;01myield from\u001b[39;49;00m\u001b[43m \u001b[49m\u001b[43moutput\u001b[49m\u001b[43m(\u001b[49m\u001b[43m)\u001b[49m\n\u001b[32m   2444\u001b[39m \u001b[38;5;66;03m# emit output\u001b[39;00m\n",
      "\u001b[36mFile \u001b[39m\u001b[32m/opt/miniconda3/envs/agentic_env/lib/python3.11/site-packages/langgraph/graph/branch.py:174\u001b[39m, in \u001b[36mBranch._route\u001b[39m\u001b[34m(self, input, config, reader, writer)\u001b[39m\n\u001b[32m    172\u001b[39m     value = \u001b[38;5;28minput\u001b[39m\n\u001b[32m    173\u001b[39m result = \u001b[38;5;28mself\u001b[39m.path.invoke(value, config)\n\u001b[32m--> \u001b[39m\u001b[32m174\u001b[39m \u001b[38;5;28;01mreturn\u001b[39;00m \u001b[38;5;28;43mself\u001b[39;49m\u001b[43m.\u001b[49m\u001b[43m_finish\u001b[49m\u001b[43m(\u001b[49m\u001b[43mwriter\u001b[49m\u001b[43m,\u001b[49m\u001b[43m \u001b[49m\u001b[38;5;28;43minput\u001b[39;49m\u001b[43m,\u001b[49m\u001b[43m \u001b[49m\u001b[43mresult\u001b[49m\u001b[43m,\u001b[49m\u001b[43m \u001b[49m\u001b[43mconfig\u001b[49m\u001b[43m)\u001b[49m\n",
      "\u001b[36mFile \u001b[39m\u001b[32m/opt/miniconda3/envs/agentic_env/lib/python3.11/site-packages/langgraph/graph/branch.py:209\u001b[39m, in \u001b[36mBranch._finish\u001b[39m\u001b[34m(self, writer, input, result, config)\u001b[39m\n\u001b[32m    207\u001b[39m     result = [result]\n\u001b[32m    208\u001b[39m \u001b[38;5;28;01mif\u001b[39;00m \u001b[38;5;28mself\u001b[39m.ends:\n\u001b[32m--> \u001b[39m\u001b[32m209\u001b[39m     destinations: Sequence[Union[Send, \u001b[38;5;28mstr\u001b[39m]] = \u001b[43m[\u001b[49m\n\u001b[32m    210\u001b[39m \u001b[43m        \u001b[49m\u001b[43mr\u001b[49m\u001b[43m \u001b[49m\u001b[38;5;28;43;01mif\u001b[39;49;00m\u001b[43m \u001b[49m\u001b[38;5;28;43misinstance\u001b[39;49m\u001b[43m(\u001b[49m\u001b[43mr\u001b[49m\u001b[43m,\u001b[49m\u001b[43m \u001b[49m\u001b[43mSend\u001b[49m\u001b[43m)\u001b[49m\u001b[43m \u001b[49m\u001b[38;5;28;43;01melse\u001b[39;49;00m\u001b[43m \u001b[49m\u001b[38;5;28;43mself\u001b[39;49m\u001b[43m.\u001b[49m\u001b[43mends\u001b[49m\u001b[43m[\u001b[49m\u001b[43mr\u001b[49m\u001b[43m]\u001b[49m\u001b[43m \u001b[49m\u001b[38;5;28;43;01mfor\u001b[39;49;00m\u001b[43m \u001b[49m\u001b[43mr\u001b[49m\u001b[43m \u001b[49m\u001b[38;5;129;43;01min\u001b[39;49;00m\u001b[43m \u001b[49m\u001b[43mresult\u001b[49m\n\u001b[32m    211\u001b[39m \u001b[43m    \u001b[49m\u001b[43m]\u001b[49m\n\u001b[32m    212\u001b[39m \u001b[38;5;28;01melse\u001b[39;00m:\n\u001b[32m    213\u001b[39m     destinations = cast(Sequence[Union[Send, \u001b[38;5;28mstr\u001b[39m]], result)\n",
      "\u001b[36mFile \u001b[39m\u001b[32m/opt/miniconda3/envs/agentic_env/lib/python3.11/site-packages/langgraph/graph/branch.py:210\u001b[39m, in \u001b[36m<listcomp>\u001b[39m\u001b[34m(.0)\u001b[39m\n\u001b[32m    207\u001b[39m     result = [result]\n\u001b[32m    208\u001b[39m \u001b[38;5;28;01mif\u001b[39;00m \u001b[38;5;28mself\u001b[39m.ends:\n\u001b[32m    209\u001b[39m     destinations: Sequence[Union[Send, \u001b[38;5;28mstr\u001b[39m]] = [\n\u001b[32m--> \u001b[39m\u001b[32m210\u001b[39m         r \u001b[38;5;28;01mif\u001b[39;00m \u001b[38;5;28misinstance\u001b[39m(r, Send) \u001b[38;5;28;01melse\u001b[39;00m \u001b[38;5;28;43mself\u001b[39;49m\u001b[43m.\u001b[49m\u001b[43mends\u001b[49m\u001b[43m[\u001b[49m\u001b[43mr\u001b[49m\u001b[43m]\u001b[49m \u001b[38;5;28;01mfor\u001b[39;00m r \u001b[38;5;129;01min\u001b[39;00m result\n\u001b[32m    211\u001b[39m     ]\n\u001b[32m    212\u001b[39m \u001b[38;5;28;01melse\u001b[39;00m:\n\u001b[32m    213\u001b[39m     destinations = cast(Sequence[Union[Send, \u001b[38;5;28mstr\u001b[39m]], result)\n",
      "\u001b[31mKeyError\u001b[39m: '__end__'",
      "During task with name 'guard_rail' and id '4bbda069-f193-dbbc-1767-a9fe57327788'"
     ]
    }
   ],
   "source": [
    "# run sample app\n",
    "state={\"messages\":[\"can you tell me the industrial growth of world's most poor economy?\"]}\n",
    "result=app.invoke(state)\n",
    "result\n"
   ]
  },
  {
   "cell_type": "code",
   "execution_count": null,
   "id": "32e7a90f",
   "metadata": {},
   "outputs": [],
   "source": []
  }
 ],
 "metadata": {
  "kernelspec": {
   "display_name": "agentic_env",
   "language": "python",
   "name": "python3"
  },
  "language_info": {
   "codemirror_mode": {
    "name": "ipython",
    "version": 3
   },
   "file_extension": ".py",
   "mimetype": "text/x-python",
   "name": "python",
   "nbconvert_exporter": "python",
   "pygments_lexer": "ipython3",
   "version": "3.11.11"
  }
 },
 "nbformat": 4,
 "nbformat_minor": 5
}
