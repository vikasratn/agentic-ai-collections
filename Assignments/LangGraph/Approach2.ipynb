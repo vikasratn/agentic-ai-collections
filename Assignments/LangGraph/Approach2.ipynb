{
 "cells": [
  {
   "cell_type": "code",
   "execution_count": 32,
   "id": "a9092897",
   "metadata": {},
   "outputs": [],
   "source": [
    "# load env\n",
    "from dotenv import load_dotenv\n",
    "import os\n",
    "load_dotenv()\n",
    "\n",
    "os.environ[\"OPENAI_API_KEY\"]=os.getenv(\"OPENAI_API_KEY\")\n",
    "os.environ[\"GROQ_API_KEY\"]=os.getenv(\"GROQ_API_KEY\")\n",
    "os.environ[\"PINECODE_API_KEY\"]=os.getenv(\"PINECODE_API_KEY\")\n",
    "os.environ[\"GOOGLE_API_KEY\"]=os.getenv(\"GOOGLE_API_KEY\")\n",
    "os.environ[\"HUGGINGFACE_API_KEY\"]=os.getenv(\"HUGGINGFACE_API_KEY\")\n",
    "os.environ[\"LANGCHAIN_API_KEY\"]=os.getenv(\"LANGCHAIN_API_KEY\")\n",
    "os.environ[\"LANGCHAIN_PROJECT\"]=os.getenv(\"LANGCHAIN_PROJECT\")\n",
    "os.environ[\"LANGCHAIN_TRACING_V2\"]=os.getenv(\"LANGCHAIN_TRACING_V2\")\n",
    "os.environ[\"TAVILY_API_KEY\"]=os.getenv(\"TAVILY_API_KEY\")"
   ]
  },
  {
   "cell_type": "code",
   "execution_count": 33,
   "id": "25daaeb1",
   "metadata": {},
   "outputs": [],
   "source": [
    "# pydantic model\n",
    "from pydantic import BaseModel,Field\n",
    "\n",
    "class TopicSelector(BaseModel):\n",
    "    topic:str=Field(description=\"topic name\")\n",
    "    reason_for_selection:str=Field(description=\"topic selection reason\")        \n",
    "\n"
   ]
  },
  {
   "cell_type": "code",
   "execution_count": 34,
   "id": "40fddf98",
   "metadata": {},
   "outputs": [],
   "source": [
    "# model\n",
    "from langchain_google_genai import ChatGoogleGenerativeAI\n",
    "\n",
    "model = ChatGoogleGenerativeAI(\n",
    "    model=\"gemini-2.0-flash\",\n",
    "    temperature=0,\n",
    "    max_tokens=None,\n",
    "    timeout=None,\n",
    "    max_retries=2\n",
    ")"
   ]
  },
  {
   "cell_type": "code",
   "execution_count": 35,
   "id": "796d3e72",
   "metadata": {},
   "outputs": [
    {
     "data": {
      "text/plain": [
       "384"
      ]
     },
     "execution_count": 35,
     "metadata": {},
     "output_type": "execute_result"
    }
   ],
   "source": [
    "# embeddings\n",
    "from langchain_huggingface import HuggingFaceEmbeddings\n",
    "embeddings = HuggingFaceEmbeddings(model_name=\"BAAI/bge-small-en\")\n",
    "len(embeddings.embed_query(\"hi\"))"
   ]
  },
  {
   "cell_type": "code",
   "execution_count": 36,
   "id": "8faa21b2",
   "metadata": {},
   "outputs": [
    {
     "name": "stderr",
     "output_type": "stream",
     "text": [
      "100%|██████████| 1/1 [00:00<00:00, 1422.28it/s]\n"
     ]
    },
    {
     "data": {
      "text/plain": [
       "55"
      ]
     },
     "execution_count": 36,
     "metadata": {},
     "output_type": "execute_result"
    }
   ],
   "source": [
    "from langchain_community.document_loaders import DirectoryLoader, TextLoader\n",
    "# load document pages\n",
    "loader=DirectoryLoader(\"./data\",glob=\"./*.txt\",loader_cls=TextLoader,show_progress=True)\n",
    "pages = loader.load()\n",
    "len(pages)\n",
    "\n",
    "# split pages to chunks\n",
    "from langchain.text_splitter import RecursiveCharacterTextSplitter\n",
    "\n",
    "text_splitter=RecursiveCharacterTextSplitter(\n",
    "    chunk_size=200,\n",
    "    chunk_overlap=50\n",
    ")\n",
    "\n",
    "chunks=text_splitter.split_documents(pages);\n",
    "\n",
    "len(chunks)\n"
   ]
  },
  {
   "cell_type": "code",
   "execution_count": 37,
   "id": "db9eade4",
   "metadata": {},
   "outputs": [],
   "source": [
    "from langchain_chroma import Chroma\n",
    "from langchain_openai import OpenAIEmbeddings\n",
    "# initialized the vector db\n",
    "vector_store = Chroma(\n",
    "    collection_name=\"usa-gdp-data\",\n",
    "    embedding_function=embeddings,\n",
    "    # other params...\n",
    ")"
   ]
  },
  {
   "cell_type": "code",
   "execution_count": 38,
   "id": "772358d7",
   "metadata": {},
   "outputs": [
    {
     "data": {
      "text/plain": [
       "['b65adb5b-6cc4-4718-b682-1efa80da2188',\n",
       " '90fc25cb-9206-4e10-a1af-00aa65aa8d4e',\n",
       " '3a354b22-9b80-4812-914c-8b8d96c181c7',\n",
       " 'f9febf5b-4e1b-437e-984b-b8b2d92d7882',\n",
       " '699335b1-8ce8-43ae-81f8-e619d84c98fc',\n",
       " 'ad2cf712-f789-4dc5-bb49-cd9b60273f05',\n",
       " '00f74ca2-ed5a-42f6-bcb6-5e873e5af8b6',\n",
       " 'fab11931-13c4-4abc-b39a-83f9a89bed6f',\n",
       " '6569cd87-7ce9-48c3-a91a-a4f3bdbb6212',\n",
       " 'c4c44aca-4fe0-4108-8088-f02a4f39efe8',\n",
       " 'd8c9009b-d280-4e42-b16b-25463026a56d',\n",
       " 'a9b53db1-9935-4732-95c3-305c8ef85f77',\n",
       " 'f543b52c-b876-424b-9670-8d012649eb90',\n",
       " 'feeb951c-4771-4bc7-b3ab-3e0a488783b1',\n",
       " '545d75b1-f67f-41c5-a393-f206390a598a',\n",
       " '9c182ebb-77c8-4352-a7bc-b1266511ed81',\n",
       " '4f3161e8-5a62-4dee-bd6e-da5fa7f279e5',\n",
       " 'fc5cd23e-f07c-4c6f-bf58-663304918111',\n",
       " 'd38708fe-0598-491d-9c81-4bc5fe5ea4f9',\n",
       " '639ddafd-59cb-498e-adc9-a3e85e4c62b3',\n",
       " 'cd267f4c-a799-4017-841d-9d54684b8228',\n",
       " '24a86cf1-e4fd-43d0-9d6a-5db631309303',\n",
       " 'fedc88bd-001b-4b54-ad8b-f56e2a21d6fd',\n",
       " '8b9db5b9-ba1e-455d-8d09-dacc7dd047d6',\n",
       " '0063edc6-e2d4-47a4-b0d2-5ae36a5c3ad7',\n",
       " '33c1a9f4-ad1e-427a-b48f-6a54ec10e9f4',\n",
       " 'ff152a36-3276-4167-a6de-faf862326400',\n",
       " '1df6c0f5-5a3c-44c0-8108-c545156b8051',\n",
       " 'e49e6d45-3c75-49f2-95bb-cb5b7fb3048f',\n",
       " 'ff73d453-163a-4c84-b43d-5f641d7ede5e',\n",
       " '39c576ee-0437-4bcc-aa17-4812421f8849',\n",
       " '4725803f-e28d-440a-bf9c-34e05f342ce2',\n",
       " 'da66e3ad-7442-4f2b-bec2-4c7a5fef2125',\n",
       " 'f27f64b1-97ce-42b4-b379-021dc73427ae',\n",
       " '3702b37e-7b08-41ee-b194-72ee2ca0350c',\n",
       " 'ef10368a-45aa-41c9-a844-bfc0d31a9e79',\n",
       " '3b4ff44b-6f89-437d-8ed5-62e1cbef3267',\n",
       " '00d040a4-6348-4c07-b542-d65b01dc3da6',\n",
       " 'bce633e2-b921-4f62-847b-f49feff89b71',\n",
       " 'b4b4a330-3aba-457e-91c3-923851b5afb5',\n",
       " '8da56be4-63ee-403c-9683-bb1e20779b97',\n",
       " 'ce302c57-2450-4346-8bc2-9a09ffaa85fa',\n",
       " 'f8d4eae6-7438-4f88-a2c3-fbbb65ab456c',\n",
       " '724b76a7-97a2-4ccf-a8d7-430b6e24fc3e',\n",
       " 'b131f3bf-ce49-4c6c-9e6b-9be2da552d9e',\n",
       " '7dff04e6-244c-4604-8c08-6df14cefb336',\n",
       " '463f7ddf-7c8c-4ae0-b9cd-311796646ca3',\n",
       " 'af8272ad-32b3-44c8-9895-e86d1945944d',\n",
       " '38171932-c9bb-4696-8b4f-ac487a481476',\n",
       " '0a687d28-66a2-4e50-bedc-8d986e710109',\n",
       " '44e16325-8e89-4128-8697-43671ac758e2',\n",
       " '8a362730-6bca-4193-8d71-c4b672f076b8',\n",
       " 'f58e36d7-1018-4db6-825f-031f878240da',\n",
       " '12fb6348-7f3b-4b94-9c14-4cbdede3bc88',\n",
       " '968b48ea-c8d0-4a7f-92e4-db83d8c91ba9']"
      ]
     },
     "execution_count": 38,
     "metadata": {},
     "output_type": "execute_result"
    }
   ],
   "source": [
    "# save documents to vector db\n",
    "vector_store.add_documents(chunks)"
   ]
  },
  {
   "cell_type": "code",
   "execution_count": 39,
   "id": "ff391687",
   "metadata": {},
   "outputs": [
    {
     "data": {
      "text/plain": [
       "[Document(id='f0349411-7bbf-43da-b42c-7e3c668c1d12', metadata={'source': 'data/usa.txt'}, page_content='Looking forward, the U.S. economy is expected to grow at a moderate pace, powered by innovation in AI, green energy, robotics, biotech, and quantum computing. The Biden administration’s Inflation'),\n",
       " Document(id='7dff04e6-244c-4604-8c08-6df14cefb336', metadata={'source': 'data/usa.txt'}, page_content='Looking forward, the U.S. economy is expected to grow at a moderate pace, powered by innovation in AI, green energy, robotics, biotech, and quantum computing. The Biden administration’s Inflation'),\n",
       " Document(id='b65adb5b-6cc4-4718-b682-1efa80da2188', metadata={'source': 'data/usa.txt'}, page_content='🇺🇸 Overview of the U.S. Economy')]"
      ]
     },
     "execution_count": 39,
     "metadata": {},
     "output_type": "execute_result"
    }
   ],
   "source": [
    "# db as retriever\n",
    "data_retriever=vector_store.as_retriever(search_kwargs={\"k\":3})\n",
    "data_retriever.invoke(\"industrial growth of usa?\")"
   ]
  },
  {
   "cell_type": "code",
   "execution_count": 40,
   "id": "8d77e2dc",
   "metadata": {},
   "outputs": [],
   "source": [
    "# state\n",
    "import operator\n",
    "from typing import TypedDict, Annotated, Sequence\n",
    "from langchain_core.messages import BaseMessage\n",
    "class AgentState(TypedDict):\n",
    "    messages:Annotated[Sequence[BaseMessage],operator.add]"
   ]
  },
  {
   "cell_type": "code",
   "execution_count": 41,
   "id": "5c1738b3",
   "metadata": {},
   "outputs": [],
   "source": [
    "# supervisor \n",
    "from langchain_core.output_parsers import StrOutputParser\n",
    "from langchain.output_parsers import PydanticOutputParser\n",
    "from langchain.prompts import PromptTemplate\n",
    "supervisor_parser=PydanticOutputParser(pydantic_object=TopicSelector)\n",
    "def supervisor(state:AgentState):\n",
    "    print(\"## supervisor ##\")\n",
    "    question=state[\"messages\"][-1]\n",
    "    print(f\"## supervisor ## question : {question}\")\n",
    "    template=\"\"\"\n",
    "    Your task is to classify the given user query into one of the following categories: [USA,Not Related].\n",
    "    Only respond with the category name and nothing else.\n",
    "    \n",
    "    User query: {question}\n",
    "    {format_instructions}\n",
    "    \"\"\"\n",
    "    \n",
    "    prompt=PromptTemplate(\n",
    "        template=template,\n",
    "        input_variable=[\"question\"],\n",
    "        partial_variables={\"format_instructions\": supervisor_parser.get_format_instructions()}\n",
    "    )\n",
    "    \n",
    "    chain=prompt|model|supervisor_parser\n",
    "    \n",
    "    response=chain.invoke({\"question\":question})\n",
    "    \n",
    "    print(f\"## supervisor ## response : {response}\")\n",
    "    \n",
    "    return {\"messages\":[response.topic]}"
   ]
  },
  {
   "cell_type": "code",
   "execution_count": 42,
   "id": "9d1f2960",
   "metadata": {},
   "outputs": [],
   "source": [
    "# router \n",
    "def router(state:AgentState):\n",
    "    print(\"## router ##\")\n",
    "    last_message=state[\"messages\"][-1]\n",
    "    print(f\"## router ## last_message : {last_message}\")\n",
    "    if \"rag\" in last_message.lower():\n",
    "        return \"rag call\"\n",
    "    else :\n",
    "        return \"llm call\""
   ]
  },
  {
   "cell_type": "code",
   "execution_count": 43,
   "id": "141ba9ae",
   "metadata": {},
   "outputs": [],
   "source": [
    "# rag call\n",
    "def rag_call(state:AgentState):\n",
    "    print(\"## rag_call ##\")\n",
    "    question = state[\"messages\"][0]\n",
    "    print(f\"## rag_call ## question : {question}\")\n",
    "    prompt=PromptTemplate(\n",
    "        template=\"\"\"You are an assistant for question-answering tasks. Use the following pieces of retrieved context to answer the question. If you don't know the answer, just say that you don't know. Use three sentences maximum and keep the answer concise.\\nQuestion: {question} \\nContext: {context} \\nAnswer:\"\"\",\n",
    "        \n",
    "        input_variables=['context', 'question']\n",
    "    )\n",
    "    \n",
    "    rag_chain = (\n",
    "        {\"context\": retriever | format_docs, \"question\": RunnablePassthrough()}\n",
    "        | prompt\n",
    "        | model\n",
    "        | StrOutputParser()\n",
    "    )\n",
    "    result = rag_chain.invoke(question)\n",
    "    return  {\"messages\": [result]}"
   ]
  },
  {
   "cell_type": "code",
   "execution_count": 44,
   "id": "22731092",
   "metadata": {},
   "outputs": [],
   "source": [
    "# web search tavily\n",
    "from langchain_community.tools.tavily_search import TavilySearchResults\n",
    "\n",
    "tavily_api_key=os.getenv(\"TAVILY_API_KEY\")\n",
    "\n",
    "tavily_tool=TavilySearchResults(travily_api_key=tavily_api_key)\n"
   ]
  },
  {
   "cell_type": "code",
   "execution_count": 45,
   "id": "c46befd2",
   "metadata": {},
   "outputs": [],
   "source": [
    "from langchain_openai import ChatOpenAI\n",
    "from langchain.tools import Tool\n",
    "from langchain.agents import initialize_agent, AgentType\n",
    "# llm call\n",
    "def llm_call(state:AgentState):\n",
    "    print(\"## llm_call ##\")\n",
    "    question = state[\"messages\"][0]\n",
    "    print(f\"## llm_call ## question : {question}\")\n",
    "\n",
    "    agent = initialize_agent(\n",
    "        tools=[tavily_tool],\n",
    "        llm=model,\n",
    "        agent=AgentType.ZERO_SHOT_REACT_DESCRIPTION,\n",
    "        verbose=True\n",
    "    )\n",
    "    # llm agent with tavily tool\n",
    "    complete_query = f\"Answer the follow question with you knowledge of the real world. Following is the user question: {question}\"\n",
    "    response = agent.invoke(complete_query)\n",
    "    print(f\"## llm_call ##  response : {response}\")\n",
    "    #print(f\"## llm_call ##  output text : {response[\"output\"]}\")\n",
    "    return {\"messages\": [response[\"output\"]]}"
   ]
  },
  {
   "cell_type": "code",
   "execution_count": null,
   "id": "d43a2d58",
   "metadata": {},
   "outputs": [],
   "source": [
    "# validation or guard_rail\n",
    "def guard_rail(state:AgentState):\n",
    "    print(\"## guard_rail ##\")\n",
    "     return {\"messages\":[\"pass\"]}\n",
    "     #return \"{\"messages\":[\"pass\"]}\n",
    "\n",
    "    \n",
    "    # guard_router\n",
    "def guard_router(state:AgentState):\n",
    "    print(\"## guard_router ##\")\n",
    "    last_message=state[\"messages\"][-1]\n",
    "    print(f\"## guard_router ## last_message : {last_message}\")\n",
    "    if \"pass\" in last_message.lower():\n",
    "        return END\n",
    "    else :\n",
    "        return \"supervisor\""
   ]
  },
  {
   "cell_type": "code",
   "execution_count": 54,
   "id": "eaaaefbe",
   "metadata": {},
   "outputs": [
    {
     "data": {
      "text/plain": [
       "<langgraph.graph.state.StateGraph at 0x11375fe90>"
      ]
     },
     "execution_count": 54,
     "metadata": {},
     "output_type": "execute_result"
    }
   ],
   "source": [
    "# langgraph\n",
    "from langgraph.graph import StateGraph, START, END\n",
    "\n",
    "work_flow=StateGraph(AgentState)\n",
    "\n",
    "work_flow.set_entry_point(\"supervisor\")\n",
    "\n",
    "work_flow.add_node(\"supervisor\",supervisor)\n",
    "\n",
    "work_flow.add_node(\"llm\",llm_call)\n",
    "\n",
    "work_flow.add_node(\"rag\",rag_call)\n",
    "\n",
    "work_flow.add_node(\"guard_rail\",guard_rail)\n",
    "\n",
    "work_flow.add_conditional_edges(\n",
    "    \"supervisor\",\n",
    "    router,\n",
    "    {\n",
    "        \"llm call\" : \"llm\",\n",
    "        \"rag call\" : \"rag\"\n",
    "        \n",
    "    }\n",
    ")\n",
    "\n",
    "work_flow.add_edge(\"rag\",\"guard_rail\")\n",
    "\n",
    "work_flow.add_edge(\"llm\",\"guard_rail\")\n",
    "\n",
    "work_flow.add_conditional_edges(\n",
    "    \"guard_rail\",\n",
    "    guard_router,\n",
    "    {\n",
    "        \"pass\" : END,\n",
    "        \"fail\" : \"supervisor\"\n",
    "        \n",
    "    }\n",
    ")\n"
   ]
  },
  {
   "cell_type": "code",
   "execution_count": 55,
   "id": "8282ed2a",
   "metadata": {},
   "outputs": [],
   "source": [
    "# compile graph\n",
    "app = work_flow.compile()"
   ]
  },
  {
   "cell_type": "code",
   "execution_count": 56,
   "id": "8dea7668",
   "metadata": {},
   "outputs": [
    {
     "data": {
      "image/png": "[encoded data removed]",
      "text/plain": [
       "<IPython.core.display.Image object>"
      ]
     },
     "metadata": {},
     "output_type": "display_data"
    }
   ],
   "source": [
    "from IPython.display import display,Image\n",
    "display(Image(app.get_graph().draw_mermaid_png()))"
   ]
  },
  {
   "cell_type": "code",
   "execution_count": 57,
   "id": "a6f3a09d",
   "metadata": {},
   "outputs": [
    {
     "name": "stdout",
     "output_type": "stream",
     "text": [
      "## supervisor ##\n",
      "## supervisor ## question : can you tell me the industrial growth of world's most poor economy?\n",
      "## supervisor ## response : topic='Not Related' reason_for_selection=\"The query is about the industrial growth of the world's poorest economy, which is not related to the USA.\"\n",
      "## router ##\n",
      "## router ## last_message : Not Related\n",
      "## llm_call ##\n",
      "## llm_call ## question : can you tell me the industrial growth of world's most poor economy?\n",
      "\n",
      "\n",
      "\u001b[1m> Entering new AgentExecutor chain...\u001b[0m\n",
      "\u001b[32;1m\u001b[1;3mI need to find information about the industrial growth of the world's poorest economy. This requires identifying the world's poorest economy and then finding data on its industrial growth. I will use a search engine to find this information.\n",
      "Action: tavily_search_results_json\n",
      "Action Input: \"world's poorest economy industrial growth\"\u001b[0m\n",
      "Observation: \u001b[36;1m\u001b[1;3m[{'title': 'Top 20 Poorest Countries in the World 2025 - Focus Economics', 'url': 'https://www.focus-economics.com/blog/the-poorest-countries-in-the-world/', 'content': 'continue to lacerate the economy going forward, with Sudan likely to record one of Africa’s softest growth rates in coming years. [...] the north, have further disrupted economic progress. Mozambique is expected to see above-average growth among SSA economies in the coming years thanks to the extractive sector, though a large share of these economic gains are unlikely to filter through to the ordinary populace. [...] natural resources and political instability in the neighboring DRC further constrain development. But overall, Rwanda is expected to remain one of Africa’s top-performing economies in the coming years due to sustained expansions in the agriculture, industry and services sectors.', 'score': 0.6222074}, {'title': \"The world's poorest countries have experienced a brutal decade\", 'url': 'https://www.economist.com/finance-and-economics/2024/09/19/the-worlds-poorest-countries-have-experienced-a-brutal-decade', 'content': '![Illustration of a conveyor belt with parcels on with a cut in the middle in the shape of a worker with a hard hat on](https://www.economist.com/cdn-cgi/image/width=1424,quality=80,format=auto/content-assets/images/20250614_FND001.jpg)\\n\\n### [Factory work is overrated. Here are the jobs of the future](/finance-and-economics/2025/06/10/factory-work-is-overrated-here-are-the-jobs-of-the-future)\\n\\nAmerica is trapped by its industrial fantasies', 'score': 0.53385985}, {'title': 'Poverty - Our World in Data', 'url': 'https://ourworldindata.org/poverty', 'content': \"Solomon Islands\\n\\nSouth Africa\\n\\nSouth Asia (PIP)\\n\\nSouth Korea\\n\\nSouth Sudan\\n\\nSpain\\n\\nSri Lanka\\n\\nSub-Saharan Africa (PIP)\\n\\nSudan\\n\\nSuriname\\n\\nSuriname (urban)\\n\\nSweden\\n\\nSwitzerland\\n\\nSyria\\n\\nTaiwan\\n\\nTajikistan\\n\\nTanzania\\n\\nThailand\\n\\nTogo\\n\\nTonga\\n\\nTrinidad and Tobago\\n\\nTunisia\\n\\nTurkey\\n\\nTurkmenistan\\n\\nTuvalu\\n\\nUganda\\n\\nUkraine\\n\\nUnited Arab Emirates\\n\\nUnited Kingdom\\n\\nUruguay\\n\\nUruguay (urban)\\n\\nUzbekistan\\n\\nVanuatu\\n\\nVenezuela\\n\\nVietnam\\n\\nWestern and Central Africa (PIP)\\n\\nWorld (excluding China) [...] Georgia\\n\\nGermany\\n\\nGhana\\n\\nGreece\\n\\nGrenada\\n\\nGuatemala\\n\\nGuinea\\n\\nGuinea-Bissau\\n\\nGuyana\\n\\nHaiti\\n\\nHonduras\\n\\nHonduras (urban)\\n\\nHungary\\n\\nIceland\\n\\nIndia\\n\\nIndia (rural)\\n\\nIndia (urban)\\n\\nIndonesia\\n\\nIran\\n\\nIraq\\n\\nIreland\\n\\nIsrael\\n\\nItaly\\n\\nJamaica\\n\\nJapan\\n\\nJordan\\n\\nKazakhstan\\n\\nKiribati\\n\\nKosovo\\n\\nKyrgyzstan\\n\\nLaos\\n\\nLatin America and the Caribbean (PIP)\\n\\nLatvia\\n\\nLebanon\\n\\nLesotho\\n\\nLiberia\\n\\nLithuania\\n\\nLuxembourg\\n\\nMadagascar\\n\\nMalawi\\n\\nMalaysia\\n\\nMaldives\\n\\nMali\\n\\nMalta\\n\\nMarshall Islands\\n\\nMauritania\\n\\nMauritius\\n\\nMexico [...] Canada\\n\\nCape Verde\\n\\nCentral African Republic\\n\\nChad\\n\\nChile\\n\\nChina\\n\\nChina (rural)\\n\\nChina (urban)\\n\\nColombia\\n\\nColombia (urban)\\n\\nComoros\\n\\nCongo\\n\\nCosta Rica\\n\\nCote d'Ivoire\\n\\nCroatia\\n\\nCyprus\\n\\nCzechia\\n\\nDemocratic Republic of Congo\\n\\nDenmark\\n\\nDjibouti\\n\\nDominican Republic\\n\\nEast Asia and Pacific (PIP)\\n\\nEast Timor\\n\\nEastern and Southern Africa (PIP)\\n\\nEcuador\\n\\nEcuador (urban)\\n\\nEgypt\\n\\nEl Salvador\\n\\nEstonia\\n\\nEswatini\\n\\nEthiopia\\n\\nEthiopia (rural)\\n\\nEurope and Central Asia (PIP)\\n\\nFiji\\n\\nFinland\\n\\nFrance\\n\\nGabon\\n\\nGambia\", 'score': 0.532839}, {'title': 'Lowest Industrial Production Growth Rates - World Atlas', 'url': 'https://www.worldatlas.com/articles/the-worst-industrial-recessions-in-the-world.html', 'content': 'The causes of negative industrial growth are many, from economic instability to poor resources availability. ... More in Economics · a map showing the poorest', 'score': 0.4630806}, {'title': 'Poorest Countries in the World 2024 | Global Finance Magazine', 'url': 'https://gfmag.com/data/economic-data/poorest-country-in-the-world/', 'content': 'Global Finance Magazine Global news and insight for corporate financial professionals Global news and insight for corporate financial professionals Home Data Economic Data Poorest Countries in the World 2024 Economic Data Poorest Countries in the World 2024 May 6, 2024 Author: Luca Ventura The world’s poorest countries suffer from civil wars, ethnic and sectarian strife. COVID-19, soaring inflation and the war in Ukraine made their bad situations worse. Yet, people in countries like Burundi, South Sudan and the Central African Republic continue to live in desperate poverty. While GDP per capita is often considered the standard metric, compensating for differences in living costs and rates of inflation by using purchasing power parity (PPP) can better assess an individual’s buying power in any given country.', 'score': 0.45769477}]\u001b[0m\n",
      "Thought:\u001b[32;1m\u001b[1;3mI need to refine my search to identify the specific poorest country and then find its industrial growth data.\n",
      "Action: tavily_search_results_json\n",
      "Action Input: \"poorest country in the world 2024 industrial growth\"\u001b[0m\n",
      "Observation: \u001b[36;1m\u001b[1;3m[{'title': 'Poorest Countries in the World 2024 | Global Finance Magazine', 'url': 'https://gfmag.com/data/economic-data/poorest-country-in-the-world/', 'content': 'Global Finance Magazine Global news and insight for corporate financial professionals Global news and insight for corporate financial professionals Home Data Economic Data Poorest Countries in the World 2024 Economic Data Poorest Countries in the World 2024 May 6, 2024 Author: Luca Ventura The world’s poorest countries suffer from civil wars, ethnic and sectarian strife. COVID-19, soaring inflation and the war in Ukraine made their bad situations worse. Yet, people in countries like Burundi, South Sudan and the Central African Republic continue to live in desperate poverty. While GDP per capita is often considered the standard metric, compensating for differences in living costs and rates of inflation by using purchasing power parity (PPP) can better assess an individual’s buying power in any given country.', 'score': 0.83742094}, {'title': 'The Poorest Countries in the World: Updated Ranking', 'url': 'https://youngplatform.com/en/blog/news/poorest-countries-world-ranking/', 'content': 'Liberia, Africa’s oldest republic, has been among the world’s poorest nations for years. However, Joseph Boakai’s election in 2023 offers some hope for economic recovery, with growth projected to reach 5.3% in 2024.\\n\\n#### 9. Madagascar\\n\\n**GDP per Capita:** ~$450 [...] While rich in resources and strategically located, Mozambique continues to face poverty due to **political** **instability** and **adverse climatic conditions.** Despite these challenges, the IMF projects strong economic growth driven by the energy sector. To make matters worse, the gas-rich northern part of the country has been hit by attacks by Islamic insurgent groups since 2017. Despite this, according to the IMF, the economy remains booming: it is projected to grow by 5% in 2024 and 2025,', 'score': 0.8286204}, {'title': '10 poorest countries in the world of 2024 | Times of India Travel', 'url': 'https://timesofindia.indiatimes.com/travel/destinations/10-poorest-countries-in-the-world-of-2024/photostory/110966432.cms', 'content': 'Congo is blessed with natural resources but still is struggling with economic growth. The country ranks among the poorest nations due to decades of conflict, corruption, and mismanagement.\\n\\n![](https://static.toiimg.com/photo/18291666.cms)\\n![](https://static.toiimg.com/photo/20259450.cms)\\n\\n|  |\\n| --- |\\n| Mozambique ($1,650.00)Credit: iStock |\\n\\n![Mozambique ($1,650.00)](https://static.toiimg.com/thumb/msid-36381469,width-748,height-499.cms \"Mozambique ($1,650.00)\")\\n\\n### Mozambique ($1,650.00) [...] On number one in the list is South Sudan. The country has been grappling with decades of conflict and is facing a number of economic hurdles, including limited infrastructure and dependence on oil revenues, which are vulnerable to fluctuations in global prices.\\n\\n![](https://static.toiimg.com/photo/18291666.cms)\\n![](https://static.toiimg.com/photo/20259450.cms)\\n\\n|  |\\n| --- |\\n| Burundi ($936.42)Credit: iStock | [...] ![](https://static.toiimg.com/photo/18291666.cms)\\n![](https://static.toiimg.com/photo/20259450.cms)\\n\\n|  |\\n| --- |\\n| Democratic Republic of the Congo ($1,570.00)Credit: iStock |\\n\\n![Democratic Republic of the Congo ($1,570.00)](https://static.toiimg.com/thumb/msid-36381469,width-748,height-499.cms \"Democratic Republic of the Congo ($1,570.00)\")\\n\\n### Democratic Republic of the Congo ($1,570.00)', 'score': 0.82220376}, {'title': \"The world's 10 poorest countries in 2024 - Concern Worldwide\", 'url': 'https://concernusa.org/news/worlds-poorest-countries/', 'content': '**» Learn about [Concern’s work in Sierra Leone](https://concernusa.org/where-we-work/sierra-leone/)**\\n\\n## 9. Burkina Faso\\n\\n![Concern staff visit and meet with internally-displaced Burkinabè in Pouytenga Centre East, Burkina Faso. (Photo: Anne Mimault/Concern Worldwide)](/uploads/concern-rs58193-burkina-faso-idp.jpg) [...] While poverty is a measurable fact of life, it does not ultimately define a country, a community, or an individual. The fight against poverty, if it is to be won, rests in the hands of the people we work with. Our job is to help them find the tools and resources they need.\\n\\n## 10. Sierra Leone [...] **» Learn about [Concern’s work in Burundi](https://concernusa.org/where-we-work/burundi/)**\\n\\n## 6. Mali', 'score': 0.7785319}]\u001b[0m\n",
      "Thought:\u001b[32;1m\u001b[1;3mBased on the search results, several sources identify Burundi and South Sudan as among the poorest countries in the world in 2024. I will search for industrial growth data for both of these countries.\n",
      "Action: tavily_search_results_json\n",
      "Action Input: \"Burundi industrial growth 2024\"\u001b[0m\n",
      "Observation: \u001b[36;1m\u001b[1;3m[{'title': 'Burundi Overview: Development news, research, data | World Bank', 'url': 'https://www.worldbank.org/en/country/burundi/overview', 'content': 'Real GDP growth is estimated at 3.5% in 2024, up from 2.7% in 2023, supported by agriculture, domestic demand—especially public—and improved electricity supply. On the supply side, agriculture (+3.7%) rebounded despite flooding, driven by good rainfall. The tertiary sector (+4.2%) benefited from the dynamism of public services. In contrast, industry (+1.0%, down from 2.9% in 2023) was affected by persistent fuel and currency shortages, before starting to recover in the second half of the year, [...] energy production and distribution, totaling $8 million. IFC has also launched the local champions programs, which led to the mapping of more than 150 local corporates and the screening of 40 promising leads out of which several are being evaluated for investment. In November 2024, IFC also finalized and disseminated the deep dives of Burundi’s tea, coffee, sugar, and fertilizer sectors, which has helped to (i) identify concrete investment opportunities across strategic segments of these value [...] Real GDP growth is expected to reach 3.6% in 2025, supported by the recovery of the secondary sector (bolstered by the commissioning of the Jiji & Mulembwe power plant), the revival of mining exports, and services. Inflation is expected to remain high, around 40%, due to the increased monetary financing of the deficit and a persistent exchange rate gap. In the medium term (2026–2027), growth is expected to average 4%, while inflation would gradually moderate to 27.9%.', 'score': 0.9104262}, {'title': 'Burundi Economic Outlook | African Development Bank Group', 'url': 'https://www.afdb.org/en/countries/east-africa/burundi/burundi-economic-outlook', 'content': 'The outlook for 2024 and 2025 remains favorable, with real GDP growth projected at 4.6% in 2024 and 5.9% in 2025, boosted by investment in the mining sector', 'score': 0.8886914}, {'title': 'Burundi Industrial Production - Trading Economics', 'url': 'https://tradingeconomics.com/burundi/industrial-production', 'content': '| Related | Last | Previous | Unit | Reference |\\n| --- | --- | --- | --- | --- |\\n| [Corruption Index](/burundi/corruption-index) | 17.00 | 20.00 | Points | Dec 2024 |\\n| [Corruption Rank](/burundi/corruption-rank) | 165.00 | 162.00 |  | Dec 2024 |\\n| [Electricity Production](/burundi/electricity-production) | 33.68 | 37.47 | Gigawatt-hour | Feb 2025 |\\n| [Industrial Production](/burundi/industrial-production) | -7.10 | -10.80 | percent | Jan 2025 | [...] ##### **Members**\\n\\n##### \\n\\n# Burundi Industrial Production\\n\\n## Industrial Production in Burundi decreased 7.10 percent in January of 2025 over the same month in the previous year. Industrial Production in Burundi averaged 3.55 percent from 2011 until 2025, reaching an all time high of 34.70 percent in June of 2011 and a record low of -29.00 percent in May of 2015. source: [Bank of Burundi](https://www.brb.bi)\\n\\n##', 'score': 0.87348515}, {'title': '[PDF] BURUNDI MPO - Public Documents | The World Bank', 'url': 'https://thedocs.worldbank.org/en/doc/bae48ff2fefc5a869546775b3f010735-0500062021/related/mpo-bdi.pdf', 'content': 'Real GDP growth reached 3.5 percent in 2024, up from 2.7 percent in 2023, supported by agriculture and government spending but weighed down by', 'score': 0.84767824}, {'title': '2024 Investment Climate Statements: Burundi - State Department', 'url': 'https://www.state.gov/reports/2024-investment-climate-statements/burundi/', 'content': 'in the western region of Bujumbura, where the risks of flooding and landslides are the highest. Recent flooding has caused Lake Tanganyika’s water levels to rise to a 60-year high, displacing over 200,000 people, affecting crops, and heightening food insecurity. IMF projects a stronger economic recovery for 2024, with real GDP expanding by 4.3 percent, driven by agricultural production, investment, and reforms; rebounding from the estimated 2.7 percent growth in 2023. [...] the port of Bujumbura and the international airport; the construction of a railway linking Burundi, Tanzania, and the DRC; the identification of industrial attraction zones; and the establishment of the National Competition Agency to promote competition and consumer welfare. [...] industrial sector and to promote exports. The economic model behind this partnership is that the zone will be a window for foreign investors, but all the products produced within the zone will bear the label “Made in Burundi.”', 'score': 0.8351749}]\u001b[0m\n",
      "Thought:\u001b[32;1m\u001b[1;3mBased on the search results, Burundi's industrial production decreased by 7.10 percent in January 2025 compared to the same month in the previous year. However, the World Bank estimates real GDP growth in Burundi at 3.5% in 2024, with industry growing at 1.0%, although this was affected by fuel and currency shortages. The African Development Bank Group projects real GDP growth at 4.6% in 2024, boosted by investment in the mining sector.\n",
      "Final Answer: Burundi, one of the world's poorest economies, experienced a decrease in industrial production by 7.10% in January 2025. However, overall GDP growth is projected to be positive in 2024, with varying estimates from different organizations. The World Bank estimates 1.0% industrial growth, while the African Development Bank Group projects a boost from the mining sector.\u001b[0m\n",
      "\n",
      "\u001b[1m> Finished chain.\u001b[0m\n",
      "## llm_call ##  response : {'input': \"Answer the follow question with you knowledge of the real world. Following is the user question: can you tell me the industrial growth of world's most poor economy?\", 'output': \"Burundi, one of the world's poorest economies, experienced a decrease in industrial production by 7.10% in January 2025. However, overall GDP growth is projected to be positive in 2024, with varying estimates from different organizations. The World Bank estimates 1.0% industrial growth, while the African Development Bank Group projects a boost from the mining sector.\"}\n",
      "## guard_rail ##\n"
     ]
    },
    {
     "ename": "InvalidUpdateError",
     "evalue": "Expected dict, got pass\nFor troubleshooting, visit: https://python.langchain.com/docs/troubleshooting/errors/INVALID_GRAPH_NODE_RETURN_VALUE",
     "output_type": "error",
     "traceback": [
      "\u001b[31m---------------------------------------------------------------------------\u001b[39m",
      "\u001b[31mInvalidUpdateError\u001b[39m                        Traceback (most recent call last)",
      "\u001b[36mCell\u001b[39m\u001b[36m \u001b[39m\u001b[32mIn[57]\u001b[39m\u001b[32m, line 3\u001b[39m\n\u001b[32m      1\u001b[39m \u001b[38;5;66;03m# run sample app\u001b[39;00m\n\u001b[32m      2\u001b[39m state={\u001b[33m\"\u001b[39m\u001b[33mmessages\u001b[39m\u001b[33m\"\u001b[39m:[\u001b[33m\"\u001b[39m\u001b[33mcan you tell me the industrial growth of world\u001b[39m\u001b[33m'\u001b[39m\u001b[33ms most poor economy?\u001b[39m\u001b[33m\"\u001b[39m]}\n\u001b[32m----> \u001b[39m\u001b[32m3\u001b[39m result=\u001b[43mapp\u001b[49m\u001b[43m.\u001b[49m\u001b[43minvoke\u001b[49m\u001b[43m(\u001b[49m\u001b[43mstate\u001b[49m\u001b[43m)\u001b[49m\n",
      "\u001b[36mFile \u001b[39m\u001b[32m/opt/miniconda3/envs/agentic_env/lib/python3.11/site-packages/langgraph/pregel/__init__.py:2719\u001b[39m, in \u001b[36mPregel.invoke\u001b[39m\u001b[34m(self, input, config, stream_mode, output_keys, interrupt_before, interrupt_after, checkpoint_during, debug, **kwargs)\u001b[39m\n\u001b[32m   2716\u001b[39m chunks: \u001b[38;5;28mlist\u001b[39m[Union[\u001b[38;5;28mdict\u001b[39m[\u001b[38;5;28mstr\u001b[39m, Any], Any]] = []\n\u001b[32m   2717\u001b[39m interrupts: \u001b[38;5;28mlist\u001b[39m[Interrupt] = []\n\u001b[32m-> \u001b[39m\u001b[32m2719\u001b[39m \u001b[43m\u001b[49m\u001b[38;5;28;43;01mfor\u001b[39;49;00m\u001b[43m \u001b[49m\u001b[43mchunk\u001b[49m\u001b[43m \u001b[49m\u001b[38;5;129;43;01min\u001b[39;49;00m\u001b[43m \u001b[49m\u001b[38;5;28;43mself\u001b[39;49m\u001b[43m.\u001b[49m\u001b[43mstream\u001b[49m\u001b[43m(\u001b[49m\n\u001b[32m   2720\u001b[39m \u001b[43m    \u001b[49m\u001b[38;5;28;43minput\u001b[39;49m\u001b[43m,\u001b[49m\n\u001b[32m   2721\u001b[39m \u001b[43m    \u001b[49m\u001b[43mconfig\u001b[49m\u001b[43m,\u001b[49m\n\u001b[32m   2722\u001b[39m \u001b[43m    \u001b[49m\u001b[43mstream_mode\u001b[49m\u001b[43m=\u001b[49m\u001b[43mstream_mode\u001b[49m\u001b[43m,\u001b[49m\n\u001b[32m   2723\u001b[39m \u001b[43m    \u001b[49m\u001b[43moutput_keys\u001b[49m\u001b[43m=\u001b[49m\u001b[43moutput_keys\u001b[49m\u001b[43m,\u001b[49m\n\u001b[32m   2724\u001b[39m \u001b[43m    \u001b[49m\u001b[43minterrupt_before\u001b[49m\u001b[43m=\u001b[49m\u001b[43minterrupt_before\u001b[49m\u001b[43m,\u001b[49m\n\u001b[32m   2725\u001b[39m \u001b[43m    \u001b[49m\u001b[43minterrupt_after\u001b[49m\u001b[43m=\u001b[49m\u001b[43minterrupt_after\u001b[49m\u001b[43m,\u001b[49m\n\u001b[32m   2726\u001b[39m \u001b[43m    \u001b[49m\u001b[43mcheckpoint_during\u001b[49m\u001b[43m=\u001b[49m\u001b[43mcheckpoint_during\u001b[49m\u001b[43m,\u001b[49m\n\u001b[32m   2727\u001b[39m \u001b[43m    \u001b[49m\u001b[43mdebug\u001b[49m\u001b[43m=\u001b[49m\u001b[43mdebug\u001b[49m\u001b[43m,\u001b[49m\n\u001b[32m   2728\u001b[39m \u001b[43m    \u001b[49m\u001b[43m*\u001b[49m\u001b[43m*\u001b[49m\u001b[43mkwargs\u001b[49m\u001b[43m,\u001b[49m\n\u001b[32m   2729\u001b[39m \u001b[43m\u001b[49m\u001b[43m)\u001b[49m\u001b[43m:\u001b[49m\n\u001b[32m   2730\u001b[39m \u001b[43m    \u001b[49m\u001b[38;5;28;43;01mif\u001b[39;49;00m\u001b[43m \u001b[49m\u001b[43mstream_mode\u001b[49m\u001b[43m \u001b[49m\u001b[43m==\u001b[49m\u001b[43m \u001b[49m\u001b[33;43m\"\u001b[39;49m\u001b[33;43mvalues\u001b[39;49m\u001b[33;43m\"\u001b[39;49m\u001b[43m:\u001b[49m\n\u001b[32m   2731\u001b[39m \u001b[43m        \u001b[49m\u001b[38;5;28;43;01mif\u001b[39;49;00m\u001b[43m \u001b[49m\u001b[43m(\u001b[49m\n\u001b[32m   2732\u001b[39m \u001b[43m            \u001b[49m\u001b[38;5;28;43misinstance\u001b[39;49m\u001b[43m(\u001b[49m\u001b[43mchunk\u001b[49m\u001b[43m,\u001b[49m\u001b[43m \u001b[49m\u001b[38;5;28;43mdict\u001b[39;49m\u001b[43m)\u001b[49m\n\u001b[32m   2733\u001b[39m \u001b[43m            \u001b[49m\u001b[38;5;129;43;01mand\u001b[39;49;00m\u001b[43m \u001b[49m\u001b[43m(\u001b[49m\u001b[43mints\u001b[49m\u001b[43m \u001b[49m\u001b[43m:=\u001b[49m\u001b[43m \u001b[49m\u001b[43mchunk\u001b[49m\u001b[43m.\u001b[49m\u001b[43mget\u001b[49m\u001b[43m(\u001b[49m\u001b[43mINTERRUPT\u001b[49m\u001b[43m)\u001b[49m\u001b[43m)\u001b[49m\u001b[43m \u001b[49m\u001b[38;5;129;43;01mis\u001b[39;49;00m\u001b[43m \u001b[49m\u001b[38;5;129;43;01mnot\u001b[39;49;00m\u001b[43m \u001b[49m\u001b[38;5;28;43;01mNone\u001b[39;49;00m\n\u001b[32m   2734\u001b[39m \u001b[43m        \u001b[49m\u001b[43m)\u001b[49m\u001b[43m:\u001b[49m\n",
      "\u001b[36mFile \u001b[39m\u001b[32m/opt/miniconda3/envs/agentic_env/lib/python3.11/site-packages/langgraph/pregel/__init__.py:2436\u001b[39m, in \u001b[36mPregel.stream\u001b[39m\u001b[34m(self, input, config, stream_mode, output_keys, interrupt_before, interrupt_after, checkpoint_during, debug, subgraphs)\u001b[39m\n\u001b[32m   2434\u001b[39m         \u001b[38;5;28;01mfor\u001b[39;00m task \u001b[38;5;129;01min\u001b[39;00m loop.match_cached_writes():\n\u001b[32m   2435\u001b[39m             loop.output_writes(task.id, task.writes, cached=\u001b[38;5;28;01mTrue\u001b[39;00m)\n\u001b[32m-> \u001b[39m\u001b[32m2436\u001b[39m \u001b[43m        \u001b[49m\u001b[38;5;28;43;01mfor\u001b[39;49;00m\u001b[43m \u001b[49m\u001b[43m_\u001b[49m\u001b[43m \u001b[49m\u001b[38;5;129;43;01min\u001b[39;49;00m\u001b[43m \u001b[49m\u001b[43mrunner\u001b[49m\u001b[43m.\u001b[49m\u001b[43mtick\u001b[49m\u001b[43m(\u001b[49m\n\u001b[32m   2437\u001b[39m \u001b[43m            \u001b[49m\u001b[43m[\u001b[49m\u001b[43mt\u001b[49m\u001b[43m \u001b[49m\u001b[38;5;28;43;01mfor\u001b[39;49;00m\u001b[43m \u001b[49m\u001b[43mt\u001b[49m\u001b[43m \u001b[49m\u001b[38;5;129;43;01min\u001b[39;49;00m\u001b[43m \u001b[49m\u001b[43mloop\u001b[49m\u001b[43m.\u001b[49m\u001b[43mtasks\u001b[49m\u001b[43m.\u001b[49m\u001b[43mvalues\u001b[49m\u001b[43m(\u001b[49m\u001b[43m)\u001b[49m\u001b[43m \u001b[49m\u001b[38;5;28;43;01mif\u001b[39;49;00m\u001b[43m \u001b[49m\u001b[38;5;129;43;01mnot\u001b[39;49;00m\u001b[43m \u001b[49m\u001b[43mt\u001b[49m\u001b[43m.\u001b[49m\u001b[43mwrites\u001b[49m\u001b[43m]\u001b[49m\u001b[43m,\u001b[49m\n\u001b[32m   2438\u001b[39m \u001b[43m            \u001b[49m\u001b[43mtimeout\u001b[49m\u001b[43m=\u001b[49m\u001b[38;5;28;43mself\u001b[39;49m\u001b[43m.\u001b[49m\u001b[43mstep_timeout\u001b[49m\u001b[43m,\u001b[49m\n\u001b[32m   2439\u001b[39m \u001b[43m            \u001b[49m\u001b[43mget_waiter\u001b[49m\u001b[43m=\u001b[49m\u001b[43mget_waiter\u001b[49m\u001b[43m,\u001b[49m\n\u001b[32m   2440\u001b[39m \u001b[43m            \u001b[49m\u001b[43mschedule_task\u001b[49m\u001b[43m=\u001b[49m\u001b[43mloop\u001b[49m\u001b[43m.\u001b[49m\u001b[43maccept_push\u001b[49m\u001b[43m,\u001b[49m\n\u001b[32m   2441\u001b[39m \u001b[43m        \u001b[49m\u001b[43m)\u001b[49m\u001b[43m:\u001b[49m\n\u001b[32m   2442\u001b[39m \u001b[43m            \u001b[49m\u001b[38;5;66;43;03m# emit output\u001b[39;49;00m\n\u001b[32m   2443\u001b[39m \u001b[43m            \u001b[49m\u001b[38;5;28;43;01myield from\u001b[39;49;00m\u001b[43m \u001b[49m\u001b[43moutput\u001b[49m\u001b[43m(\u001b[49m\u001b[43m)\u001b[49m\n\u001b[32m   2444\u001b[39m \u001b[38;5;66;03m# emit output\u001b[39;00m\n",
      "\u001b[36mFile \u001b[39m\u001b[32m/opt/miniconda3/envs/agentic_env/lib/python3.11/site-packages/langgraph/pregel/write.py:99\u001b[39m, in \u001b[36mChannelWrite._write\u001b[39m\u001b[34m(self, input, config)\u001b[39m\n\u001b[32m     90\u001b[39m \u001b[38;5;28;01mdef\u001b[39;00m\u001b[38;5;250m \u001b[39m\u001b[34m_write\u001b[39m(\u001b[38;5;28mself\u001b[39m, \u001b[38;5;28minput\u001b[39m: Any, config: RunnableConfig) -> \u001b[38;5;28;01mNone\u001b[39;00m:\n\u001b[32m     91\u001b[39m     writes = [\n\u001b[32m     92\u001b[39m         ChannelWriteEntry(write.channel, \u001b[38;5;28minput\u001b[39m, write.skip_none, write.mapper)\n\u001b[32m     93\u001b[39m         \u001b[38;5;28;01mif\u001b[39;00m \u001b[38;5;28misinstance\u001b[39m(write, ChannelWriteEntry) \u001b[38;5;129;01mand\u001b[39;00m write.value \u001b[38;5;129;01mis\u001b[39;00m PASSTHROUGH\n\u001b[32m   (...)\u001b[39m\u001b[32m     97\u001b[39m         \u001b[38;5;28;01mfor\u001b[39;00m write \u001b[38;5;129;01min\u001b[39;00m \u001b[38;5;28mself\u001b[39m.writes\n\u001b[32m     98\u001b[39m     ]\n\u001b[32m---> \u001b[39m\u001b[32m99\u001b[39m     \u001b[38;5;28;43mself\u001b[39;49m\u001b[43m.\u001b[49m\u001b[43mdo_write\u001b[49m\u001b[43m(\u001b[49m\n\u001b[32m    100\u001b[39m \u001b[43m        \u001b[49m\u001b[43mconfig\u001b[49m\u001b[43m,\u001b[49m\n\u001b[32m    101\u001b[39m \u001b[43m        \u001b[49m\u001b[43mwrites\u001b[49m\u001b[43m,\u001b[49m\n\u001b[32m    102\u001b[39m \u001b[43m    \u001b[49m\u001b[43m)\u001b[49m\n\u001b[32m    103\u001b[39m     \u001b[38;5;28;01mreturn\u001b[39;00m \u001b[38;5;28minput\u001b[39m\n",
      "\u001b[36mFile \u001b[39m\u001b[32m/opt/miniconda3/envs/agentic_env/lib/python3.11/site-packages/langgraph/pregel/write.py:142\u001b[39m, in \u001b[36mChannelWrite.do_write\u001b[39m\u001b[34m(config, writes, allow_passthrough, require_at_least_one_of)\u001b[39m\n\u001b[32m    139\u001b[39m \u001b[38;5;66;03m# if we want to persist writes found before hitting a ParentCommand\u001b[39;00m\n\u001b[32m    140\u001b[39m \u001b[38;5;66;03m# can move this to a finally block\u001b[39;00m\n\u001b[32m    141\u001b[39m write: TYPE_SEND = config[CONF][CONFIG_KEY_SEND]\n\u001b[32m--> \u001b[39m\u001b[32m142\u001b[39m write(\u001b[43m_assemble_writes\u001b[49m\u001b[43m(\u001b[49m\u001b[43mwrites\u001b[49m\u001b[43m)\u001b[49m)\n",
      "\u001b[36mFile \u001b[39m\u001b[32m/opt/miniconda3/envs/agentic_env/lib/python3.11/site-packages/langgraph/pregel/write.py:199\u001b[39m, in \u001b[36m_assemble_writes\u001b[39m\u001b[34m(writes)\u001b[39m\n\u001b[32m    197\u001b[39m     tuples.append((TASKS, w))\n\u001b[32m    198\u001b[39m \u001b[38;5;28;01melif\u001b[39;00m \u001b[38;5;28misinstance\u001b[39m(w, ChannelWriteTupleEntry):\n\u001b[32m--> \u001b[39m\u001b[32m199\u001b[39m     \u001b[38;5;28;01mif\u001b[39;00m ww := \u001b[43mw\u001b[49m\u001b[43m.\u001b[49m\u001b[43mmapper\u001b[49m\u001b[43m(\u001b[49m\u001b[43mw\u001b[49m\u001b[43m.\u001b[49m\u001b[43mvalue\u001b[49m\u001b[43m)\u001b[49m:\n\u001b[32m    200\u001b[39m         tuples.extend(ww)\n\u001b[32m    201\u001b[39m \u001b[38;5;28;01melif\u001b[39;00m \u001b[38;5;28misinstance\u001b[39m(w, ChannelWriteEntry):\n",
      "\u001b[36mFile \u001b[39m\u001b[32m/opt/miniconda3/envs/agentic_env/lib/python3.11/site-packages/langgraph/graph/state.py:770\u001b[39m, in \u001b[36mCompiledStateGraph.attach_node.<locals>._get_updates\u001b[39m\u001b[34m(input)\u001b[39m\n\u001b[32m    765\u001b[39m \u001b[38;5;28;01melse\u001b[39;00m:\n\u001b[32m    766\u001b[39m     msg = create_error_message(\n\u001b[32m    767\u001b[39m         message=\u001b[33mf\u001b[39m\u001b[33m\"\u001b[39m\u001b[33mExpected dict, got \u001b[39m\u001b[38;5;132;01m{\u001b[39;00m\u001b[38;5;28minput\u001b[39m\u001b[38;5;132;01m}\u001b[39;00m\u001b[33m\"\u001b[39m,\n\u001b[32m    768\u001b[39m         error_code=ErrorCode.INVALID_GRAPH_NODE_RETURN_VALUE,\n\u001b[32m    769\u001b[39m     )\n\u001b[32m--> \u001b[39m\u001b[32m770\u001b[39m     \u001b[38;5;28;01mraise\u001b[39;00m InvalidUpdateError(msg)\n",
      "\u001b[31mInvalidUpdateError\u001b[39m: Expected dict, got pass\nFor troubleshooting, visit: https://python.langchain.com/docs/troubleshooting/errors/INVALID_GRAPH_NODE_RETURN_VALUE",
      "During task with name 'guard_rail' and id '26950b1b-4300-14ac-7841-3ee71e20660c'"
     ]
    }
   ],
   "source": [
    "# run sample app\n",
    "state={\"messages\":[\"can you tell me the industrial growth of world's most poor economy?\"]}\n",
    "result=app.invoke(state)\n"
   ]
  },
  {
   "cell_type": "code",
   "execution_count": null,
   "id": "32e7a90f",
   "metadata": {},
   "outputs": [],
   "source": []
  }
 ],
 "metadata": {
  "kernelspec": {
   "display_name": "agentic_env",
   "language": "python",
   "name": "python3"
  },
  "language_info": {
   "codemirror_mode": {
    "name": "ipython",
    "version": 3
   },
   "file_extension": ".py",
   "mimetype": "text/x-python",
   "name": "python",
   "nbconvert_exporter": "python",
   "pygments_lexer": "ipython3",
   "version": "3.11.11"
  }
 },
 "nbformat": 4,
 "nbformat_minor": 5
}
