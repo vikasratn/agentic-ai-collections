{
 "cells": [
  {
   "cell_type": "code",
   "execution_count": 88,
   "id": "a9092897",
   "metadata": {},
   "outputs": [],
   "source": [
    "# load env\n",
    "from dotenv import load_dotenv\n",
    "import os\n",
    "load_dotenv()\n",
    "\n",
    "os.environ[\"OPENAI_API_KEY\"]=os.getenv(\"OPENAI_API_KEY\")\n",
    "os.environ[\"GROQ_API_KEY\"]=os.getenv(\"GROQ_API_KEY\")\n",
    "os.environ[\"PINECODE_API_KEY\"]=os.getenv(\"PINECODE_API_KEY\")\n",
    "os.environ[\"GOOGLE_API_KEY\"]=os.getenv(\"GOOGLE_API_KEY\")\n",
    "os.environ[\"HUGGINGFACE_API_KEY\"]=os.getenv(\"HUGGINGFACE_API_KEY\")\n",
    "os.environ[\"LANGCHAIN_API_KEY\"]=os.getenv(\"LANGCHAIN_API_KEY\")\n",
    "os.environ[\"LANGCHAIN_PROJECT\"]=os.getenv(\"LANGCHAIN_PROJECT\")\n",
    "os.environ[\"LANGCHAIN_TRACING_V2\"]=os.getenv(\"LANGCHAIN_TRACING_V2\")\n",
    "os.environ[\"TAVILY_API_KEY\"]=os.getenv(\"TAVILY_API_KEY\")"
   ]
  },
  {
   "cell_type": "code",
   "execution_count": 89,
   "id": "25daaeb1",
   "metadata": {},
   "outputs": [],
   "source": [
    "# pydantic model\n",
    "from pydantic import BaseModel,Field\n",
    "\n",
    "class TopicSelector(BaseModel):\n",
    "    topic:str=Field(description=\"topic name\")\n",
    "    reason_for_selection:str=Field(description=\"topic selection reason\")        \n",
    "\n"
   ]
  },
  {
   "cell_type": "code",
   "execution_count": 90,
   "id": "40fddf98",
   "metadata": {},
   "outputs": [],
   "source": [
    "# llm model using reasoning model of google\n",
    "from langchain_google_genai import ChatGoogleGenerativeAI\n",
    "\n",
    "model = ChatGoogleGenerativeAI(\n",
    "    model=\"gemini-2.0-flash\",\n",
    "    temperature=0,\n",
    "    max_tokens=None,\n",
    "    timeout=None,\n",
    "    max_retries=2\n",
    ")"
   ]
  },
  {
   "cell_type": "code",
   "execution_count": 91,
   "id": "796d3e72",
   "metadata": {},
   "outputs": [
    {
     "data": {
      "text/plain": [
       "768"
      ]
     },
     "execution_count": 91,
     "metadata": {},
     "output_type": "execute_result"
    }
   ],
   "source": [
    "# using hugging face embeddings\n",
    "from langchain_huggingface import HuggingFaceEmbeddings\n",
    "embeddings = HuggingFaceEmbeddings(model_name=\"sentence-transformers/all-mpnet-base-v2\")\n",
    "vector_dimension=len(embeddings.embed_query(\"hi\"))\n",
    "vector_dimension"
   ]
  },
  {
   "cell_type": "code",
   "execution_count": 92,
   "id": "8faa21b2",
   "metadata": {},
   "outputs": [
    {
     "name": "stderr",
     "output_type": "stream",
     "text": [
      "100%|██████████| 1/1 [00:00<00:00, 1677.05it/s]\n"
     ]
    },
    {
     "data": {
      "text/plain": [
       "55"
      ]
     },
     "execution_count": 92,
     "metadata": {},
     "output_type": "execute_result"
    }
   ],
   "source": [
    "from langchain_community.document_loaders import DirectoryLoader, TextLoader\n",
    "# load document pages\n",
    "loader=DirectoryLoader(\"./data\",glob=\"./*.txt\",loader_cls=TextLoader,show_progress=True)\n",
    "pages = loader.load()\n",
    "len(pages)\n",
    "\n",
    "# split pages to chunks\n",
    "from langchain.text_splitter import RecursiveCharacterTextSplitter\n",
    "\n",
    "text_splitter=RecursiveCharacterTextSplitter(\n",
    "    chunk_size=200,\n",
    "    chunk_overlap=50\n",
    ")\n",
    "\n",
    "chunks=text_splitter.split_documents(pages);\n",
    "\n",
    "len(chunks)\n"
   ]
  },
  {
   "cell_type": "code",
   "execution_count": 93,
   "id": "db9eade4",
   "metadata": {},
   "outputs": [],
   "source": [
    "# using chromdb as vector store\n",
    "from langchain_chroma import Chroma\n",
    "from langchain_openai import OpenAIEmbeddings\n",
    "# initialized the vector db\n",
    "vector_store = Chroma(\n",
    "    collection_name=\"usa-gdp-data\",\n",
    "    embedding_function=embeddings\n",
    ")"
   ]
  },
  {
   "cell_type": "code",
   "execution_count": 94,
   "id": "772358d7",
   "metadata": {},
   "outputs": [
    {
     "data": {
      "text/plain": [
       "['ff1a4e9d-8a65-4b04-9d1f-6320ec40e8b5',\n",
       " '56d44110-bff7-42a5-814a-a5183af54d8d',\n",
       " '0fdebb87-229a-4646-9b49-e7f94c1dd312',\n",
       " 'db3f03fb-4efa-47ed-a0c3-cd2333773150',\n",
       " '07704e77-8e3e-49c8-9bb3-e717081bf77a',\n",
       " '0bb82a7c-9154-4b0b-bd0d-0d326224fc1e',\n",
       " 'd6779d4d-56e1-48b0-8a15-609bdef0606a',\n",
       " 'c46edc48-4fce-4e5d-9ead-7c3a1b0f19d4',\n",
       " 'd83799bc-6287-45ad-bbc2-0a5959338dbe',\n",
       " '343ad718-a230-4baa-854f-54fae4efbe0b',\n",
       " '16595bf2-7528-459b-909d-6ce059a14d00',\n",
       " '0655b3de-c74f-4cf9-b291-502c731772a2',\n",
       " '8526a336-3dea-40f7-9999-2e731c6cf379',\n",
       " 'e01e9a45-6ab2-416e-b9b8-6d5c1cda9503',\n",
       " 'ab227c1f-95ac-4e20-8e49-b42fc9e26507',\n",
       " '1498b22b-cbc8-48b6-bbff-06f94936383b',\n",
       " '3d9a6e8b-f0ae-4062-81e7-caef4001461e',\n",
       " 'cd140be9-9625-42d6-bf79-7e81fbf1fdc6',\n",
       " '11d7338d-6518-44ce-aa29-b1686763a323',\n",
       " '08c8b452-fdc4-496b-a15a-ed4847bd90c0',\n",
       " 'e9251818-fe30-40e0-919f-b14d543075cb',\n",
       " '31e56de8-d280-4e64-bdb8-3fb0bef58b3d',\n",
       " '3d594e7e-69a2-4302-a15a-acdd1b30303b',\n",
       " '9db997e9-580a-4ca5-800d-35876806ce50',\n",
       " '88e29e1c-b2c0-4b3f-8469-a1216f078059',\n",
       " 'd2fcd1b8-0aa4-4270-a007-1583bfd277c0',\n",
       " 'ae20ad5e-ec2e-47bc-b1f4-8f24869e3374',\n",
       " 'b5eea1af-639c-413c-821d-e0d4e2619c0b',\n",
       " 'd64d404b-c358-429f-a9c8-249761aec6f6',\n",
       " 'bc15348f-eefc-4b72-8f03-f14f5dc7ab5a',\n",
       " '64c8c686-3fcd-49ba-856a-b33cccc663a9',\n",
       " '8fdcf44c-3df9-4c8b-ba9e-88dfc208a81d',\n",
       " '34b21ed8-39f4-4f00-8d2f-81beba925d78',\n",
       " '48379dbe-b2cf-4452-8117-fc5495df17db',\n",
       " '0cecea15-b787-4d7f-8f86-3effdd3e1aa4',\n",
       " '91f21961-8713-495d-b39f-e9565e1151ec',\n",
       " '0fd414bc-d6e1-44c4-96b7-927c1595284a',\n",
       " 'ec57b98b-2b54-45b0-b0a1-51b466678d93',\n",
       " '9462154d-f9b2-49fb-b48b-9c026afc7e11',\n",
       " '9f766433-2c71-4f1e-8695-e451abc94784',\n",
       " '2afbb1ba-2d14-4c57-baa9-38398f2b1572',\n",
       " '9af369c3-e147-4e07-89ba-a1cb233fffde',\n",
       " '9f23a455-a970-489b-8bce-7257a70d5c92',\n",
       " 'df2c4e2a-0334-4b7b-9fe5-2cc557979449',\n",
       " 'ed1f8db7-b1a6-43b6-bc82-be5c34d26b1f',\n",
       " '805f92eb-78e6-4b91-9eea-ae8b8efaca8a',\n",
       " 'a2fea411-5377-489f-b5b8-ddb2b3d80228',\n",
       " 'df211ae4-556a-465e-aa1a-305b4baa716f',\n",
       " '1f08690b-5c00-49d0-b648-d4a182b650f6',\n",
       " '3388f353-35d8-4e72-b240-0fb9f0360672',\n",
       " '43fe3592-af4c-493b-8cc3-a8fd48399dfd',\n",
       " '027095cf-2363-4024-8cf8-4901c91b37f0',\n",
       " '4c1bebc8-af25-42f2-b1e5-da61f2684e91',\n",
       " 'c2c26c6f-79b1-4b0b-b7ce-c488d48c80cc',\n",
       " '90bd18a5-d2cd-4dae-b0b2-5dbc6cdc9c5d']"
      ]
     },
     "execution_count": 94,
     "metadata": {},
     "output_type": "execute_result"
    }
   ],
   "source": [
    "# save documents to vector db\n",
    "vector_store.add_documents(chunks)"
   ]
  },
  {
   "cell_type": "code",
   "execution_count": 95,
   "id": "ff391687",
   "metadata": {},
   "outputs": [
    {
     "data": {
      "text/plain": [
       "[Document(id='d2222135-e478-42ca-91dc-4a82a84668ad', metadata={'source': 'data/usa.txt'}, page_content='🇺🇸 Overview of the U.S. Economy'),\n",
       " Document(id='bad2b88b-8390-4c97-b5ac-60a31183ef0f', metadata={'source': 'data/usa.txt'}, page_content='🇺🇸 Overview of the U.S. Economy'),\n",
       " Document(id='ff1a4e9d-8a65-4b04-9d1f-6320ec40e8b5', metadata={'source': 'data/usa.txt'}, page_content='🇺🇸 Overview of the U.S. Economy')]"
      ]
     },
     "execution_count": 95,
     "metadata": {},
     "output_type": "execute_result"
    }
   ],
   "source": [
    "# chromadb as retriever\n",
    "data_retriever=vector_store.as_retriever(search_kwargs={\"k\":3})\n",
    "data_retriever.invoke(\"industrial growth of usa?\")"
   ]
  },
  {
   "cell_type": "code",
   "execution_count": 96,
   "id": "8d77e2dc",
   "metadata": {},
   "outputs": [],
   "source": [
    "# create custom state for langgraph\n",
    "import operator\n",
    "from typing import TypedDict, Annotated, Sequence\n",
    "from langchain_core.messages import BaseMessage\n",
    "class AgentState(TypedDict):\n",
    "    messages:Annotated[Sequence[BaseMessage],operator.add]"
   ]
  },
  {
   "cell_type": "code",
   "execution_count": 97,
   "id": "5c1738b3",
   "metadata": {},
   "outputs": [],
   "source": [
    "# supervisor \n",
    "from langchain_core.output_parsers import StrOutputParser\n",
    "from langchain.output_parsers import PydanticOutputParser\n",
    "from langchain.prompts import PromptTemplate\n",
    "supervisor_parser=PydanticOutputParser(pydantic_object=TopicSelector)\n",
    "def supervisor(state:AgentState):\n",
    "    print(\"## supervisor ##\")\n",
    "    question=state[\"messages\"][-1]\n",
    "    print(f\"## supervisor ## question : {question}\")\n",
    "    template=\"\"\"\n",
    "    Your task is to classify the given user query into one of the following categories: [USA,Not Related].\n",
    "    Only respond with the category name and nothing else.\n",
    "    \n",
    "    User query: {question}\n",
    "    {format_instructions}\n",
    "    \"\"\"\n",
    "    \n",
    "    prompt=PromptTemplate(\n",
    "        template=template,\n",
    "        input_variable=[\"question\"],\n",
    "        partial_variables={\"format_instructions\": supervisor_parser.get_format_instructions()}\n",
    "    )\n",
    "    \n",
    "    chain=prompt|model|supervisor_parser\n",
    "    \n",
    "    response=chain.invoke({\"question\":question})\n",
    "    \n",
    "    print(f\"## supervisor ## response : {response}\")\n",
    "    \n",
    "    return {\"messages\":[response.topic]}"
   ]
  },
  {
   "cell_type": "code",
   "execution_count": 115,
   "id": "9d1f2960",
   "metadata": {},
   "outputs": [],
   "source": [
    "# router \n",
    "def router(state:AgentState):\n",
    "    print(\"## router ##\")\n",
    "    last_message=state[\"messages\"][-1]\n",
    "    print(f\"## router ## last_message : {last_message}\")\n",
    "    if \"usa\" in last_message.lower():\n",
    "        return \"rag call\"\n",
    "    else :\n",
    "        return \"llm with tool\""
   ]
  },
  {
   "cell_type": "code",
   "execution_count": 111,
   "id": "141ba9ae",
   "metadata": {},
   "outputs": [],
   "source": [
    "# rag call\n",
    "def rag_call(state:AgentState):\n",
    "    print(\"## rag_call ##\")\n",
    "    question = state[\"messages\"][0]\n",
    "    print(f\"## rag_call ## question : {question}\")\n",
    "    prompt=PromptTemplate(\n",
    "        template=\"\"\"You are an assistant for question-answering tasks. Use the following pieces of retrieved context to answer the question. If you don't know the answer, just say that you don't know. Use three sentences maximum and keep the answer concise.\\nQuestion: {question} \\nContext: {context} \\nAnswer:\"\"\",\n",
    "        \n",
    "        input_variables=['context', 'question']\n",
    "    )\n",
    "    \n",
    "    rag_chain = (\n",
    "        {\"context\": retriever | format_docs, \"question\": RunnablePassthrough()}\n",
    "        | prompt\n",
    "        | model\n",
    "        | StrOutputParser()\n",
    "    )\n",
    "    result = rag_chain.invoke(question)\n",
    "    return  {\"messages\": [result]}"
   ]
  },
  {
   "cell_type": "code",
   "execution_count": 112,
   "id": "22731092",
   "metadata": {},
   "outputs": [
    {
     "data": {
      "text/plain": [
       "[{'title': 'IPL 2025 results: Get all cricket scores, points table, standings and ...',\n",
       "  'url': 'https://www.olympics.com/en/news/ipl-2025-results-cricket-scores-standings-points-table-net-run-rate',\n",
       "  'content': 'The [**IPL 2025**](https://www.olympics.com/en/news/indian-premier-league-ipl-2025-schedule-match-list) concluded on June 3 with Royal Challengers Bengaluru defeating Punjab Kings in the final to lift their maiden title.\\n\\nThis was the 18th edition of the [**Indian Premier League**](https://www.olympics.com/en/news/indian-premier-league-ipl-winners-list-champions) - the world’s most lucrative franchise-based T20 league.\\n\\nRCB became the eighth team to win the IPL trophy. [...] The top two teams - PBKS and RCB - battled it out in Qualifier 1, with the Royal Challengers winning it to earn a direct ticket to the final.\\n\\nHowever, PBKS ended up joining RCB in the finale after defeating MI, who defeated GT in the Eliminator.\\n\\nOverall, MI and CSK are the most successful teams in the IPL with five titles each, followed by KKR with three. RCB, SRH, RR, GT and the now-defunct Deccan Chargers are the other teams who have won the title.',\n",
       "  'score': 0.92005306},\n",
       " {'title': 'IPL 2025 | Live Score, Schedule, News - ESPNcricinfo',\n",
       "  'url': 'https://www.espncricinfo.com/series/ipl-2025-1449924',\n",
       "  'content': '![Image 59: AskESPNcricinfo Logo](https://wassets.hscicdn.com/static/images/lazyimage-noaspect.svg)\\n\\nWinner\\n\\n[Royal Challengers Bengaluru](https://www.espncricinfo.com/team/royal-challengers-bengaluru-335970 \"Royal Challengers Bengaluru\") [...] Match (N), Lucknow, May 23, 2025, [Indian Premier League](https://www.espncricinfo.com/series/ipl-2025-1449924 \"IPL\") ![Image 57: RCB Flag](https://wassets.hscicdn.com/static/images/lazyimage-transparent.png) SRH **231/6** ![Image 58: RCB Flag](https://wassets.hscicdn.com/static/images/lazyimage-transparent.png) RCB (19.5/20 ov, T:232) **189** SRH won by 42 [...] [![Image 67: AskESPNcricinfo Logo](https://wassets.hscicdn.com/static/images/lazyimage-noaspect.svg) Kohli and Hazlewood finish at No. 3 on IPL 2025 Orange and Purple Cap tables respectively ----------------------------------------------------------------------------------------- B Sai Sudharsan and Prasidh Krishna won the Orange and Purple Caps respectively at the end of IPL',\n",
       "  'score': 0.8875269},\n",
       " {'title': '2025 Indian Premier League - Wikipedia',\n",
       "  'url': 'https://en.wikipedia.org/wiki/2025_Indian_Premier_League',\n",
       "  'content': '**[Eliminator](https://en.wikipedia.org/wiki/2025_Indian_Premier_League#Eliminator)**EW[Mumbai Indians](https://en.wikipedia.org/wiki/Mumbai_Indians \"Mumbai Indians\")203/6 (20 overs)\\n\\n30 May 2025 – [Mullanpur](https://en.wikipedia.org/wiki/Maharaja_Yadavindra_Singh_International_Cricket_Stadium \"Maharaja Yadavindra Singh International Cricket Stadium\")\\n\\n3[Gujarat Titans](https://en.wikipedia.org/wiki/Gujarat_Titans \"Gujarat Titans\")208/6 (20 overs) [...] Main article: [2025 Indian Premier League final](https://en.wikipedia.org/wiki/2025_Indian_Premier_League_final \"2025 Indian Premier League final\")\\n\\n**Final**\\n\\n 3 June 2025(2025-06-03)\\n\\n19:30 ([N](https://en.wikipedia.org/wiki/Day/night_cricket \"Day/night cricket\")) \\n\\n[Scorecard](https://www.espncricinfo.com/ci/engine/match/1473511.html)\\n\\n**[Royal Challengers Bengaluru](https://en.wikipedia.org/wiki/Royal_Challengers_Bengaluru \"Royal Challengers Bengaluru\")** [...] 242/6 (20 overs)\\n[Ishan Kishan](https://en.wikipedia.org/wiki/Ishan_Kishan \"Ishan Kishan\") 106[*](https://en.wikipedia.org/wiki/Not_out \"Not out\") (47) \\n\\n[Tushar Deshpande](https://en.wikipedia.org/wiki/Tushar_Deshpande \"Tushar Deshpande\") 3/44 (4 overs)[Dhruv Jurel](https://en.wikipedia.org/wiki/Dhruv_Jurel \"Dhruv Jurel\") 70 (35) \\n\\n[Harshal Patel](https://en.wikipedia.org/wiki/Harshal_Patel \"Harshal Patel\") 2/34 (4 overs)\\n\\n**Sunrisers Hyderabad won by 44 runs**',\n",
       "  'score': 0.8684817},\n",
       " {'title': 'IPL 2025 Awards List: Who won the Orange Cap, Purple Cap ...',\n",
       "  'url': 'https://www.hindustantimes.com/cricket/ipl-2025-awards-list-who-won-the-orange-cap-purple-cap-emerging-player-award-check-full-list-of-winners-101749010568299.html',\n",
       "  'content': '[RCB Victory Parade Live](https://www.hindustantimes.com/cricket/rcb-victory-parade-live-updates-royal-challengers-bengaluru-trophy-bus-parade-ipl-2025-winner-virat-kohli-101749020508285.html)[Virat Kohli](https://www.hindustantimes.com/cricket/youve-made-me-wait-18-years-virat-kohli-bares-raw-emotions-in-rare-instagram-outpouring-after-rcb-s-ipl-title-win-101749006602091.html)[Anushka [...] [RCB Victory Parade Live: 10 killed in stampede as RCB celebrations go haywire](https://www.hindustantimes.com/cricket/rcb-victory-parade-live-updates-royal-challengers-bengaluru-trophy-bus-parade-ipl-2025-winner-virat-kohli-101749020508285.html)\\n\\nUpdated 1 min ago\\n\\nTrending Topics [...] Sharma](https://www.hindustantimes.com/entertainment/bollywood/excited-anushka-sharma-holds-ipl-2025-trophy-with-virat-kohli-fans-gush-rcb-pbks-101749005167815.html)[Samantha Ruth Prabhu](https://www.hindustantimes.com/lifestyle/health/samantha-ruth-prabhu-blasted-by-the-liver-doc-for-selling-fraud-supplements-calls-her-a-science-illiterate-celebrity-101749005915289.html)[Habiba',\n",
       "  'score': 0.8479807},\n",
       " {'title': 'IPL 2025 Match Results | Full Scorecard & Summaries | IPLT20',\n",
       "  'url': 'https://www.iplt20.com/matches/results',\n",
       "  'content': '[Match Centre](https://www.iplt20.com/match/2025/1866)\\n- Match 67\\n\\n  Narendra Modi Stadium, Ahmedabad\\n\\n  MAY, SUN 25 , 3:30 pm IST\\n\\n  Chennai Super Kings Won by 83 Runs\\n\\n  ![Gujarat Titans](https://scores.iplt20.com/ipl/teamlogos/GT.png?v=1)\\n\\n  ### Gujarat Titans\\n\\n  ### GT\\n\\n      \\n\\n  147\\n\\n   (18.3 OV)\\n\\n  ![Chennai Super Kings](https://scores.iplt20.com/ipl/teamlogos/CSK.png)\\n\\n  ### Chennai Super Kings\\n\\n  ### CSK\\n\\n     \\n\\n  230/5\\n\\n    (20.0 OV ) [...] ![Mumbai Indians](https://scores.iplt20.com/ipl/teamlogos/MI.png)\\n\\n  ### Mumbai Indians\\n\\n  ### MI\\n\\n     \\n\\n  205/5\\n\\n    (20.0 OV )\\n\\n  [Match Centre](https://www.iplt20.com/match/2025/1827)\\n- Match 28\\n\\n  Sawai Mansingh Stadium, Jaipur\\n\\n  APR, SUN 13 , 3:30 pm IST\\n\\n  Royal Challengers Bengaluru Won by 9 Wickets\\n\\n  ![Rajasthan Royals](https://scores.iplt20.com/ipl/teamlogos/sSNjJEkBAx1742900310RR---New-Logo.png)\\n\\n  ### Rajasthan Royals\\n\\n  ### RR\\n\\n  173/4\\n\\n    (20.0 OV) [...] ![Rajasthan Royals](https://scores.iplt20.com/ipl/teamlogos/sSNjJEkBAx1742900310RR---New-Logo.png)\\n\\n  ### Rajasthan Royals\\n\\n  ### RR\\n\\n     \\n\\n  205/4\\n\\n    (20.0 OV )\\n\\n  [Match Centre](https://www.iplt20.com/match/2025/1816)\\n- Match 17\\n\\n  MA Chidambaram Stadium, Chennai\\n\\n  APR, SAT 5 , 3:30 pm IST\\n\\n  Delhi Capitals Won by 25 Runs\\n\\n  ![Chennai Super Kings](https://scores.iplt20.com/ipl/teamlogos/CSK.png)\\n\\n  ### Chennai Super Kings\\n\\n  ### CSK\\n\\n     \\n\\n  158/5\\n\\n    (20.0 OV)',\n",
       "  'score': 0.82795376}]"
      ]
     },
     "execution_count": 112,
     "metadata": {},
     "output_type": "execute_result"
    }
   ],
   "source": [
    "# web search tavily\n",
    "from langchain_community.tools.tavily_search import TavilySearchResults\n",
    "\n",
    "tavily_api_key=os.getenv(\"TAVILY_API_KEY\")\n",
    "\n",
    "tavily_tool=TavilySearchResults(travily_api_key=tavily_api_key)\n",
    "\n",
    "tavily_tool.run(\"who is winner of 2025 IPL?\")\n"
   ]
  },
  {
   "cell_type": "code",
   "execution_count": 114,
   "id": "c46befd2",
   "metadata": {},
   "outputs": [],
   "source": [
    "from langchain_openai import ChatOpenAI\n",
    "from langchain.tools import Tool\n",
    "from langchain.agents import initialize_agent, AgentType\n",
    "# llm call with tools integration\n",
    "def llm_call(state:AgentState):\n",
    "    print(\"## llm_call ##\")\n",
    "    question = state[\"messages\"][0]\n",
    "    print(f\"## llm_call ## question : {question}\")\n",
    "\n",
    "    agent = initialize_agent(\n",
    "        tools=[tavily_tool],\n",
    "        llm=model,\n",
    "        agent=AgentType.ZERO_SHOT_REACT_DESCRIPTION,\n",
    "        verbose=True\n",
    "    )\n",
    "    \n",
    "    prompt = PromptTemplate(\n",
    "    template=(\n",
    "        \"Answer the following question using a tool if needed.\\n\"\n",
    "        \"You must respond in this format:\\n\"\n",
    "        \"Thought: ...\\n\"\n",
    "        \"Action: <tool name>\\n\"\n",
    "        \"Action Input: <input for the tool>\\n\"\n",
    "        \"OR\\n\"\n",
    "        \"Thought: ...\\n\"\n",
    "        \"Final Answer: <answer to the user>\\n\"\n",
    "        \"\\n\"\n",
    "        \"Question: {question}\"\n",
    "    ),\n",
    "    input_variables=[\"question\"]\n",
    "    )\n",
    "    \n",
    "\n",
    "    chain = prompt | agent | StrOutputParser()\n",
    "    response = chain.invoke({\"question\": question})\n",
    "    return {\"messages\": [response['output']]}"
   ]
  },
  {
   "cell_type": "code",
   "execution_count": 102,
   "id": "d73a501a",
   "metadata": {},
   "outputs": [
    {
     "name": "stdout",
     "output_type": "stream",
     "text": [
      "\n",
      "\n",
      "\u001b[1m> Entering new AgentExecutor chain...\u001b[0m\n",
      "\u001b[32;1m\u001b[1;3mThought: I need to find out which is the poorest economy and then find its GDP.\n",
      "Action: tavily_search_results_json\n",
      "Action Input: \"poorest economy in the world GDP\"\u001b[0m\n",
      "Observation: \u001b[36;1m\u001b[1;3m[{'title': 'Poorest Countries in the World 2025 - World Population Review', 'url': 'https://worldpopulationreview.com/country-rankings/poorest-countries-in-the-world', 'content': \"Economics > Poorest Countries in the World 2025. Poorest Countries in the ... Burundi is the world's poorest country, with a GDP per capita, PPP of $950.90.\", 'score': 0.8361405}, {'title': 'Top 10 Poorest Countries In The World By GDP Per Capita [2025]', 'url': 'https://www.forbesindia.com/article/explainers/poorest-countries-in-the-world/87529/1', 'content': \"As we now know the per capita income of these companies, let's explore the reasons that have led to these bottom ten economies being categorised as the world's poorest.\\n\\n### South Sudan\\n\\n*   GDP: $4 billion\\n*   Population: [11,205,383](https://worldpopulationreview.com/countries/south-sudan-population) [...] | **Rank** | **Country** | **GDP Per Capita** | **Continent** | **Currency and Value (USD)** |\\n| --- | --- | --- | --- | --- |\\n| #1 | South Sudan | $716.25 | Africa | 1 USD -South Sudanese Pound (SSP) = 130.26 SSP |\\n| #2 | Burundi | $1,020 | Africa | 1 USD - Burundian Franc (BIF)\\xa0 = 2,971 BIF |\\n| #3 | Central African Republic | $1,330 | Africa | 1 USD - Central African CFA Franc (XAF) -\\xa0 = 577 XAF |\\n| #4 | Yemen | $1,670 | Asia | 1 USD - Yemeni Rial (YER) = 245.10 YER  \\n | [...] ### Yemen\\n\\n*   GDP: $17.4 billion  \\n    \\n*   Population: 35.08 million\", 'score': 0.8312667}, {'title': 'Top 10 Poorest Countries in the World in 2025 | GDP per Capita', 'url': 'https://sapa-usa.org/top-poorest-countries-in-the-world/', 'content': 'Top 10 Poorest Countries in the World in 2025 [GDP per Capita] While Africa is home to several countries facing economic challenges, it is not accurate to label the entire continent as the poorest. Nigeria, despite facing economic challenges, is not the poorest country globally. Top 10 Poorest Countries in the World in 2025 By GDP per Capita: Read More: Why Sudan is one the poorest countries in the world Political Instability: Many of the poorest countries grapple with political unrest and conflict, hindering economic development and stability. – South Sudan holds the title of the poorest country in the world in 2025, with a GDP-PPP per capita of $455.', 'score': 0.80405265}, {'title': 'Top 20 Poorest Countries in the World 2025 - Focus Economics', 'url': 'https://www.focus-economics.com/blog/the-poorest-countries-in-the-world/', 'content': 'Sub-Saharan Africa continues to dominate the list of poorest countries:\\xa0When looking at our\\xa0Consensus Forecasts\\xa0for the economies with the lowest GDP per capita (in U.S. dollars, current market prices) in 2025, one thing jumps out: 19 of the 20 poorest are from\\xa0Sub-Saharan Africa (SSA). However, the revenue from Chad’s oil sector has not trickled down to the overall population, largely due to corruption and inefficient governance; the country has faced internal violence in recent years due to rebel groups and Islamist militias, as well as political instability entrenched by the military takeover of the government in 2021. Our panelists expect the country to remain poor in the coming years as GDP growth is forecast to be muted by persistent political instability and the nationalization of private-sector oil assets. 17th poorest country: Sudan', 'score': 0.79901963}, {'title': 'Poorest Countries in the World 2024 | Global Finance Magazine', 'url': 'https://gfmag.com/data/economic-data/poorest-country-in-the-world/', 'content': 'Global Finance Magazine Global news and insight for corporate financial professionals Global news and insight for corporate financial professionals Home Data Economic Data Poorest Countries in the World 2024 Economic Data Poorest Countries in the World 2024 May 6, 2024 Author: Luca Ventura The world’s poorest countries suffer from civil wars, ethnic and sectarian strife. COVID-19, soaring inflation and the war in Ukraine made their bad situations worse. Yet, people in countries like Burundi, South Sudan and the Central African Republic continue to live in desperate poverty. While GDP per capita is often considered the standard metric, compensating for differences in living costs and rates of inflation by using purchasing power parity (PPP) can better assess an individual’s buying power in any given country.', 'score': 0.7309246}]\u001b[0m\n",
      "Thought:\u001b[32;1m\u001b[1;3mThought: The search results indicate that Burundi and South Sudan are among the poorest countries. I will search for the GDP of both countries to provide a more complete answer.\n",
      "Action: tavily_search_results_json\n",
      "Action Input: \"GDP of Burundi\"\u001b[0m\n",
      "Observation: \u001b[36;1m\u001b[1;3m[{'title': 'Burundi GDP - Trading Economics', 'url': 'https://tradingeconomics.com/burundi/gdp', 'content': 'The Gross Domestic Product (GDP) in Burundi was worth 2.64 billion US dollars in 2023, according to official data from the World Bank. The GDP value of', 'score': 0.9466806}, {'title': 'Burundi GDP: $21 billion - World Economics', 'url': 'https://www.worldeconomics.com/Country-Size/Burundi.aspx', 'content': \"*   [Data by Country](https://www.worldeconomics.com/Country-Data/)\\n*   [Data by Indicator](https://www.worldeconomics.com/Indicator-Data/)\\n*   [Data Tables](https://www.worldeconomics.com/DownloadCenter/) [...] World Economics estimates **Burundi's 2024 GDP at $21 billion in PPP terms** ([Purchasing Power Parity](https://www.worldeconomics.com/Concepts/World-Economics-GDP-Database/)) and an initial estimate of **$22 billion for 2025**. This figure is 81% higher than the official estimate published by the [World Bank](https://data.worldbank.org/).\\nWorld Economics' methodology incorporates crucial factors often overlooked in official estimates, such as: [...] *   [Data by Country](https://www.worldeconomics.com/Country-Data/)\\n*   [Data by Region](https://www.worldeconomics.com/Regions/)\\n*   [Data by Indicator](https://www.worldeconomics.com/Indicator-Data/)\\n*   \\n* * *\\n\\n*   [Data Quality Ratings](https://www.worldeconomics.com/DataQualityRatings/)\\n*   \\n* * *\", 'score': 0.93161833}, {'title': 'Burundi GDP 1960-2025 | MacroTrends', 'url': 'https://macrotrends.net/global-metrics/countries/BDI/burundi/gdp-gross-domestic-product', 'content': 'Burundi GDP for 2023 was 2.64 billion US dollars, a 20.86% decline from 2022. Burundi GDP for 2022 was 3.34 billion US dollars, a 20.28% increase from 2021.', 'score': 0.9296516}, {'title': \"Burundi | Economic Indicators | Moody's Analytics - Economy.com\", 'url': 'https://www.economy.com/burundi/indicators', 'content': 'Real GDP growth dropped precipitously following political events in 2015 and has yet to recover to pre-conflict levels. Continued isolation by donors and the international community will restrict Burundi’s economic growth as the country deals with a large current account deficit.\\n\\n**GDP (purchasing power parity):**\\n\\n$7.985 billion (2017 est.)\\n\\n$7.985 billion (2016 est.)\\n\\n$8.069 billion (2015 est.)\\n\\nnote: data are in 2017 dollars\\n\\ncountry comparison to the world: **164**', 'score': 0.92176014}, {'title': 'Gross domestic product (GDP) in current prices Burundi 2030| Statista', 'url': 'https://www.statista.com/statistics/451356/gross-domestic-product-gdp-in-burundi/', 'content': 'The gross domestic product (GDP) in current prices in Burundi stood at about 4.74 billion U.S. dollars in 2024. Between 1980 and 2024,', 'score': 0.92091084}]\u001b[0m\n",
      "Thought:\u001b[32;1m\u001b[1;3mThought: I have found the GDP of Burundi. Now I need to find the GDP of South Sudan.\n",
      "Action: tavily_search_results_json\n",
      "Action Input: \"GDP of South Sudan\"\u001b[0m\n",
      "Observation: \u001b[36;1m\u001b[1;3m[{'title': 'South Sudan GDP | Historical Chart & Data - Macrotrends', 'url': 'https://www.macrotrends.net/global-metrics/countries/ssd/south-sudan/gdp-gross-domestic-product', 'content': '##### South Sudan GDP for 2015 was **12.00 billion US dollars**, a **14.07% decline** from 2014.\\n\\n*   South Sudan GDP for 2014 was **13.96 billion US dollars**, a **24.23% decline** from 2013.\\n*   South Sudan GDP for 2013 was **18.43 billion US dollars**, a **54.44% increase** from 2012.\\n*   South Sudan GDP for 2012 was **11.93 billion US dollars**, a **19.96% decline** from 2011. [...] | Region Rankings |\\n| --- |\\n| Name | GDP (US $) |\\n| [World](https://www.macrotrends.net/global-metrics/countries/wld/world/gdp-gross-domestic-product) | $75.472T |\\n| [OECD members](https://www.macrotrends.net/global-metrics/countries/oed/oecd-members/gdp-gross-domestic-product) | $47.636T |\\n| [East Asia & Pacific](https://www.macrotrends.net/global-metrics/countries/eas/east-asia-pacific/gdp-gross-domestic-product) | $22.001T | [...] | [Mauritius](https://www.macrotrends.net/global-metrics/countries/mus/mauritius/gdp-gross-domestic-product) | $12.01B |\\n| [South Sudan](https://www.macrotrends.net/global-metrics/countries/ssd/south-sudan/gdp-gross-domestic-product) | $12.00B |\\n| [Burkina Faso](https://www.macrotrends.net/global-metrics/countries/bfa/burkina-faso/gdp-gross-domestic-product) | $11.83B |\\n| [Bahamas](https://www.macrotrends.net/global-metrics/countries/bhs/bahamas/gdp-gross-domestic-product) | $11.67B |', 'score': 0.9284155}, {'title': 'South Sudan Economy: GDP, Inflation, CPI & Interest Rates', 'url': 'https://www.focus-economics.com/countries/south-sudan/', 'content': \"*   [Overview](https://www.focus-economics.com/countries/south-sudan/#tab-0-overview)\\n*   [Indicators](https://www.focus-economics.com/countries/south-sudan/#tab-0-indicators)\\n*   [Forecasts](https://www.focus-economics.com/countries/south-sudan/#tab-0-forecasts)\\n\\nSouth Sudan's Macroeconomic Analysis:\\n-------------------------------------\\n\\n**Nominal GDP of USD 5.3 billion in 2024.**\\n\\n**Nominal GDP of USD 7.0 billion in 2023.**\\n\\n**Nominal GDP of USD 7.0 billion in 2023.** [...] | [GDP (SSP bn)](https://www.focus-economics.com/country-indicator/south-sudan/gdp/) | 900 | 1,838 | 4,305 | 6,695 | 12,168 |\\n| [Economic Growth (Nominal GDP, ann. var. %)](https://www.focus-economics.com/country-indicator/south-sudan/gdp/) | 41 | 104 | 134 | 56 | 82 |\\n| [Economic Growth (GDP, ann. var. %)](https://www.focus-economics.com/country-indicator/south-sudan/gdp/) | -6.5 | 5.3 | -5.2 | 2.5 | -27.6 | [...] |  | 2020 | 2021 | 2022 | 2023 | 2024 |\\n| --- | --- | --- | --- | --- | --- |\\n| [Population (million)](https://www.focus-economics.com/country-indicator/south-sudan/population/) | 13.8 | 14.2 | 14.6 | 15.0 | 15.4 |\\n| [GDP (USD bn)](https://www.focus-economics.com/country-indicator/south-sudan/gdp/) | 5.4 | 5.8 | 7.9 | 7.1 | 5.3 |\\n| [GDP per Capita (USD)](https://www.focus-economics.com/country-indicator/south-sudan/gdp-per-capita-usd/) | 389 | 409 | 543 | 471 | 345 |\", 'score': 0.91399205}, {'title': 'South Sudan - Wikipedia', 'url': 'https://en.wikipedia.org/wiki/South_Sudan', 'content': '| •Total | ![Image 7: Decrease](https://upload.wikimedia.org/wikipedia/commons/thumb/e/ed/Decrease2.svg/20px-Decrease2.svg.png)$13.6 billion[[10]](https://en.wikipedia.org/wiki/South_Sudan#cite_note-imf2-11) ([157th](https://en.wikipedia.org/wiki/List_of_countries_by_GDP_(PPP) \"List of countries by GDP (PPP)\")) | [...] | •Total | ![Image 9: Decrease](https://upload.wikimedia.org/wikipedia/commons/thumb/e/ed/Decrease2.svg/20px-Decrease2.svg.png)$4.7 billion[[10]](https://en.wikipedia.org/wiki/South_Sudan#cite_note-imf2-11) ([164th](https://en.wikipedia.org/wiki/List_of_countries_by_GDP_(nominal) \"List of countries by GDP (nominal)\")) | [...] funding to bring relief to the local populations. Along with recovery and development aid, humanitarian projects were included in the 2007 Work Plan of the United Nations and partners. More than 90% of the population of South Sudan live on less than $1 a day, despite the GDP per capita of the entirety of Sudan being $1200 ($3.29/day).[[247]](https://en.wikipedia.org/wiki/South_Sudan#cite_note-249)', 'score': 0.8668671}, {'title': 'South Sudan - The World Factbook - CIA', 'url': 'https://www.cia.gov/the-world-factbook/countries/south-sudan/', 'content': '### [Real GDP per capita](https://www.cia.gov/the-world-factbook/field/real-gdp-per-capita/)\\n\\n$1,600 (2017 est.)\\n\\n$1,700 (2016 est.)\\n\\n$2,100 (2015 est.)\\n\\n**note:** data are in 2017 dollars\\n\\ncomparison ranking: [214](https://www.cia.gov/the-world-factbook/field/real-gdp-per-capita/country-comparison/)\\n\\n### [GDP (official exchange rate)](https://www.cia.gov/the-world-factbook/field/gdp-official-exchange-rate/)\\n\\n$11.998 billion (2015 est.) [...] low-income, oil-based Sahelian economy; extreme poverty and food insecurity; COVID-19 and ongoing violence threaten socioeconomic potential; environmentally fragile; ongoing land and property rights issues; natural resource rich but lacks infrastructure\\n\\n### [Real GDP (purchasing power parity)](https://www.cia.gov/the-world-factbook/field/real-gdp-purchasing-power-parity/)\\n\\n$20.01 billion (2017 est.)\\n\\n$21.1 billion (2016 est.)\\n\\n$24.52 billion (2015 est.)\\n\\n**note:** data are in 2017 dollars [...] ### [Budget](https://www.cia.gov/the-world-factbook/field/budget/)\\n\\n**revenues:** $1.94 billion (2019 est.)\\n\\n**expenditures:** $1.938 billion (2019 est.)\\n\\n### [Public debt](https://www.cia.gov/the-world-factbook/field/public-debt/)\\n\\n62.7% of GDP (2017 est.)\\n\\ncomparison ranking: [75](https://www.cia.gov/the-world-factbook/field/public-debt/country-comparison/)\\n\\n### [Taxes and other revenues](https://www.cia.gov/the-world-factbook/field/taxes-and-other-revenues/)\\n\\n8.5% (of GDP) (FY2017/18 est.)', 'score': 0.8455478}, {'title': 'GDP (current US$) - South Sudan - World Bank Open Data', 'url': 'https://data.worldbank.org/indicator/NY.GDP.MKTP.CD?locations=SS', 'content': '[Sub-Saharan Africa (excluding high income)](https://data.worldbank.org/indicator/NY.GDP.MKTP.CD?locations=SS-ZF)\\n\\n2023\\n\\n2,042,436.97\\n\\n[High income](https://data.worldbank.org/indicator/NY.GDP.MKTP.CD?locations=SS-XD)\\n\\n2023\\n\\n68,276,492.85\\n\\n[Low & middle income](https://data.worldbank.org/indicator/NY.GDP.MKTP.CD?locations=SS-XO)\\n\\n2023\\n\\n37,533,765.91\\n\\n[Low income](https://data.worldbank.org/indicator/NY.GDP.MKTP.CD?locations=SS-XM)\\n\\n2023\\n\\n663,529.16 [...] [Lower middle income](https://data.worldbank.org/indicator/NY.GDP.MKTP.CD?locations=SS-XN)\\n\\n2023\\n\\n7,439,509.14\\n\\n[Middle income](https://data.worldbank.org/indicator/NY.GDP.MKTP.CD?locations=SS-XP)\\n\\n2023\\n\\n36,878,123.65\\n\\n[Upper middle income](https://data.worldbank.org/indicator/NY.GDP.MKTP.CD?locations=SS-XT)\\n\\n2023\\n\\n29,440,021.02\\n\\n[Help us improve this site](http://goo.gl/forms/Hw4zfOQufm)Help / Feedback [...] Selected Countries and Economies\\n--------------------------------\\n\\nCountry\\n\\nMost Recent Year\\n\\nMost Recent Value\\n\\n(Thousands)\\n\\n[South Sudan](https://data.worldbank.org/indicator/NY.GDP.MKTP.CD?locations=SS)\\n\\n2015\\n\\n11,997,800.76\\n\\nAll Countries and Economies\\n---------------------------\\n\\nCountry\\n\\nMost Recent Year\\n\\nMost Recent Value\\n\\n(Millions)\\n\\n[Afghanistan](https://data.worldbank.org/indicator/NY.GDP.MKTP.CD?locations=SS-AF)\\n\\n2023\\n\\n17,233.05', 'score': 0.82895297}]\u001b[0m\n",
      "Thought:\u001b[32;1m\u001b[1;3mFinal Answer: Several sources indicate that Burundi and South Sudan are among the poorest economies in the world.\n",
      "\n",
      "*   **Burundi:** The GDP in 2023 was approximately $2.64 billion USD (World Bank data). Other sources estimate higher values when considering Purchasing Power Parity (PPP).\n",
      "*   **South Sudan:** The GDP in 2023 was approximately $7.0 billion USD. However, this figure can vary depending on the source and year.\u001b[0m\n",
      "\n",
      "\u001b[1m> Finished chain.\u001b[0m\n"
     ]
    },
    {
     "data": {
      "text/plain": [
       "'Several sources indicate that Burundi and South Sudan are among the poorest economies in the world.\\n\\n*   **Burundi:** The GDP in 2023 was approximately $2.64 billion USD (World Bank data). Other sources estimate higher values when considering Purchasing Power Parity (PPP).\\n*   **South Sudan:** The GDP in 2023 was approximately $7.0 billion USD. However, this figure can vary depending on the source and year.'"
      ]
     },
     "execution_count": 102,
     "metadata": {},
     "output_type": "execute_result"
    }
   ],
   "source": [
    "prompt = PromptTemplate(\n",
    "    template=(\n",
    "        \"Answer the following question using a tool if needed.\\n\"\n",
    "        \"You must respond in this format:\\n\"\n",
    "        \"Thought: ...\\n\"\n",
    "        \"Action: <tool name>\\n\"\n",
    "        \"Action Input: <input for the tool>\\n\"\n",
    "        \"OR\\n\"\n",
    "        \"Thought: ...\\n\"\n",
    "        \"Final Answer: <answer to the user>\\n\"\n",
    "        \"\\n\"\n",
    "        \"Question: {question}\"\n",
    "    ),\n",
    "    input_variables=[\"question\"]\n",
    ")\n",
    "\n",
    "agent = initialize_agent(\n",
    "    tools=[tavily_tool],\n",
    "    llm=model,\n",
    "    agent=AgentType.ZERO_SHOT_REACT_DESCRIPTION,\n",
    "    verbose=True\n",
    ")\n",
    "\n",
    "question = \"Tell me about GDP of poorest economy\"\n",
    "chain = prompt | agent | StrOutputParser()\n",
    "response = chain.invoke({\"question\": question})\n",
    "response['output']\n"
   ]
  },
  {
   "cell_type": "code",
   "execution_count": 103,
   "id": "d43a2d58",
   "metadata": {},
   "outputs": [],
   "source": [
    "# validation or guard_rail\n",
    "def guard_rail(state:AgentState):\n",
    "    print(\"## guard_rail ##\")\n",
    "    last_message=state[\"messages\"][-1]\n",
    "    print(f\"## guard_rail ## last_message : {last_message}\")\n",
    "    return {\"messages\":[\"pass\"]}\n",
    "\n",
    "from langgraph.graph import StateGraph, START, END    \n",
    "# guard_router\n",
    "def guard_router(state:AgentState):\n",
    "    print(\"## guard_router ##\")\n",
    "    last_message=state[\"messages\"][-1]\n",
    "    print(f\"## guard_router ## last_message : {last_message}\")\n",
    "    if \"pass\" in last_message.lower():\n",
    "        return END\n",
    "    else :\n",
    "        return \"supervisor\""
   ]
  },
  {
   "cell_type": "code",
   "execution_count": 116,
   "id": "eaaaefbe",
   "metadata": {},
   "outputs": [
    {
     "data": {
      "text/plain": [
       "<langgraph.graph.state.StateGraph at 0x3c94df6d0>"
      ]
     },
     "execution_count": 116,
     "metadata": {},
     "output_type": "execute_result"
    }
   ],
   "source": [
    "# langgraph\n",
    "from langgraph.graph import StateGraph, START, END\n",
    "\n",
    "work_flow=StateGraph(AgentState)\n",
    "\n",
    "work_flow.set_entry_point(\"supervisor\")\n",
    "\n",
    "work_flow.add_node(\"supervisor\",supervisor)\n",
    "\n",
    "work_flow.add_node(\"llm with tool\",llm_call)\n",
    "\n",
    "work_flow.add_node(\"rag\",rag_call)\n",
    "\n",
    "work_flow.add_node(\"guard_rail\",guard_rail)\n",
    "\n",
    "work_flow.add_conditional_edges(\n",
    "    \"supervisor\",\n",
    "    router,\n",
    "    {\n",
    "        \"llm with tool\" : \"llm with tool\",\n",
    "        \"rag call\" : \"rag\"\n",
    "    }\n",
    ")\n",
    "\n",
    "work_flow.add_edge(\"rag\",\"guard_rail\")\n",
    "\n",
    "work_flow.add_edge(\"llm with tool\",\"guard_rail\")\n",
    "\n",
    "work_flow.add_edge(\"guard_rail\", END)\n",
    "\n",
    "work_flow.add_conditional_edges(\n",
    "    \"guard_rail\",\n",
    "    guard_router,\n",
    "    {\n",
    "        \"pass\" : END,\n",
    "        \"fail\" : \"supervisor\",\n",
    "          END  : END \n",
    "    }\n",
    ")\n"
   ]
  },
  {
   "cell_type": "code",
   "execution_count": 117,
   "id": "8282ed2a",
   "metadata": {},
   "outputs": [],
   "source": [
    "# compile graph\n",
    "app = work_flow.compile()"
   ]
  },
  {
   "cell_type": "code",
   "execution_count": 118,
   "id": "8dea7668",
   "metadata": {},
   "outputs": [
    {
     "data": {
      "image/png": "[encoded data removed]",
      "text/plain": [
       "<IPython.core.display.Image object>"
      ]
     },
     "metadata": {},
     "output_type": "display_data"
    }
   ],
   "source": [
    "from IPython.display import display,Image\n",
    "display(Image(app.get_graph().draw_mermaid_png()))"
   ]
  },
  {
   "cell_type": "code",
   "execution_count": 119,
   "id": "a6f3a09d",
   "metadata": {},
   "outputs": [
    {
     "name": "stdout",
     "output_type": "stream",
     "text": [
      "## supervisor ##\n",
      "## supervisor ## question : can you tell me the industrial growth of world's most poor economy?\n",
      "## supervisor ## response : topic='Not Related' reason_for_selection=\"The query is about the industrial growth of the world's poorest economy, which is not related to the USA.\"\n",
      "## router ##\n",
      "## router ## last_message : Not Related\n",
      "## llm_call ##\n",
      "## llm_call ## question : can you tell me the industrial growth of world's most poor economy?\n",
      "\n",
      "\n",
      "\u001b[1m> Entering new AgentExecutor chain...\u001b[0m\n",
      "\u001b[32;1m\u001b[1;3mThought: I need to find information about the industrial growth of the world's poorest economy. I will use a search engine to find this information.\n",
      "Action: tavily_search_results_json\n",
      "Action Input: \"industrial growth poorest economy world\"\u001b[0m\n",
      "Observation: \u001b[36;1m\u001b[1;3m[{'title': '[PDF] Industrial development and economic growth - the United Nations', 'url': 'https://www.un.org/esa/sustdev/publications/industrial_development/3_1.pdf', 'content': '295 Industrial development and economic growth: Implications for poverty reduction and income inequality Matleena Kniivilä* 1. Introduction The share of poor people in the global population has declined during recent decades. According to Chen and Ravallion (2004), one-third of the popula-tion of the world lived in poverty in 1981, whereas the share was 18 per cent in 2001. The decline is largely due to rapid economic growth in population-rich countries like China and India. There are, however, [...] Furthermore, even if Mexico has an abundance of unskilled labour compared to the United States (Mexico’s main trading partner), it does not necessarily have it vis-à-vis the rest of the world (see e.g. Ros and Bouillon, 2002). Slow economic growth and high inequality have inhibited progress in 315 Industrial development and economic growth poverty reduction (World Bank, 2004c). Manufacturing, which could be an engine of growth, has been growing slowly in recent years. Exports have been [...] (Taiwan), and Indonesia. Along with accelerated growth, poverty rates have declined in many countries. Some countries have managed to achieve growth with equity, whereas in others inequality has remained high. In this chapter, the growth stories of seven countries – China, India, Korea, Taiwan, Indonesia, Mexico and Brazil – are described and discussed.', 'score': 0.57723385}, {'title': 'Top 20 Poorest Countries in the World 2025 - Focus Economics', 'url': 'https://www.focus-economics.com/blog/the-poorest-countries-in-the-world/', 'content': 'continue to lacerate the economy going forward, with Sudan likely to record one of Africa’s softest growth rates in coming years. [...] the north, have further disrupted economic progress. Mozambique is expected to see above-average growth among SSA economies in the coming years thanks to the extractive sector, though a large share of these economic gains are unlikely to filter through to the ordinary populace. [...] natural resources and political instability in the neighboring DRC further constrain development. But overall, Rwanda is expected to remain one of Africa’s top-performing economies in the coming years due to sustained expansions in the agriculture, industry and services sectors.', 'score': 0.55478466}, {'title': 'Poorest Countries in the World 2024 | Global Finance Magazine', 'url': 'https://gfmag.com/data/economic-data/poorest-country-in-the-world/', 'content': 'Global Finance Magazine Global news and insight for corporate financial professionals Global news and insight for corporate financial professionals Home Data Economic Data Poorest Countries in the World 2024 Economic Data Poorest Countries in the World 2024 May 6, 2024 Author: Luca Ventura The world’s poorest countries suffer from civil wars, ethnic and sectarian strife. COVID-19, soaring inflation and the war in Ukraine made their bad situations worse. Yet, people in countries like Burundi, South Sudan and the Central African Republic continue to live in desperate poverty. While GDP per capita is often considered the standard metric, compensating for differences in living costs and rates of inflation by using purchasing power parity (PPP) can better assess an individual’s buying power in any given country.', 'score': 0.47008035}, {'title': 'Economic Growth - Our World in Data', 'url': 'https://ourworldindata.org/economic-growth', 'content': 'The Industrial Revolution ended the Malthusian trap in which incomes were determined by the size of the population — making it possible for a country to leave abject poverty behind.\\n\\nMax Roser\\n\\n## Poverty and Economic Growth\\n\\n![](https://ourworldindata.org/cdn-cgi/imagedelivery/qLq-8BTgXU8yG0N6HnOy8g/f0282250-6a82-4489-9c30-28b36f133800/w=2004)\\n\\n### The economies that are home to the poorest billions of people need to grow if we want global poverty to decline substantially\\n\\nMax Roser', 'score': 0.45871297}, {'title': 'Poorest Economies Face Toughest Conditions in Two Decades', 'url': 'https://www.worldbank.org/en/news/press-release/2024/10/11/poorest-economies-face-toughest-conditions-in-two-decades', 'content': '**WASHINGTON, October 13, 2024**—[The world’s 26 poorest economies—home to about 40 percent of all people who live on less than $2.15 a day—are deeper in debt than at any time since 2006 and increasingly vulnerable to natural disasters and other shocks](#), new analysis from the World Bank shows. Yet international aid as a share of their GDP has dwindled to a two-decade low, forcing many to obtain financing on punishing terms.', 'score': 0.43669468}]\u001b[0m\n",
      "Thought:\u001b[32;1m\u001b[1;3mI need to synthesize the information from the search results to provide an answer. The search results mention the poorest countries, economic growth in those countries, and factors affecting their growth. However, none of the results provide a specific industrial growth figure for the world's poorest economy.\n",
      "\n",
      "Final Answer: I am unable to provide a specific industrial growth figure for the world's poorest economy based on the provided search results. The results discuss factors affecting economic growth in poor countries, but do not offer the specific data requested.\u001b[0m\n",
      "\n",
      "\u001b[1m> Finished chain.\u001b[0m\n",
      "## guard_rail ##\n",
      "## guard_rail ## last_message : I am unable to provide a specific industrial growth figure for the world's poorest economy based on the provided search results. The results discuss factors affecting economic growth in poor countries, but do not offer the specific data requested.\n",
      "## guard_router ##\n",
      "## guard_router ## last_message : pass\n"
     ]
    },
    {
     "data": {
      "text/plain": [
       "{'messages': [\"can you tell me the industrial growth of world's most poor economy?\",\n",
       "  'Not Related',\n",
       "  \"I am unable to provide a specific industrial growth figure for the world's poorest economy based on the provided search results. The results discuss factors affecting economic growth in poor countries, but do not offer the specific data requested.\",\n",
       "  'pass']}"
      ]
     },
     "execution_count": 119,
     "metadata": {},
     "output_type": "execute_result"
    }
   ],
   "source": [
    "# run sample app\n",
    "state={\"messages\":[\"can you tell me the industrial growth of world's most poor economy?\"]}\n",
    "result=app.invoke(state)\n",
    "result\n"
   ]
  },
  {
   "cell_type": "code",
   "execution_count": null,
   "id": "32e7a90f",
   "metadata": {},
   "outputs": [],
   "source": []
  }
 ],
 "metadata": {
  "kernelspec": {
   "display_name": "agentic_env",
   "language": "python",
   "name": "python3"
  },
  "language_info": {
   "codemirror_mode": {
    "name": "ipython",
    "version": 3
   },
   "file_extension": ".py",
   "mimetype": "text/x-python",
   "name": "python",
   "nbconvert_exporter": "python",
   "pygments_lexer": "ipython3",
   "version": "3.11.11"
  }
 },
 "nbformat": 4,
 "nbformat_minor": 5
}
