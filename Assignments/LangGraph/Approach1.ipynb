{
 "cells": [
  {
   "cell_type": "code",
   "execution_count": 142,
   "id": "a9092897",
   "metadata": {},
   "outputs": [],
   "source": [
    "# load env\n",
    "from dotenv import load_dotenv\n",
    "import os\n",
    "load_dotenv()\n",
    "\n",
    "os.environ[\"OPENAI_API_KEY\"]=os.getenv(\"OPENAI_API_KEY\")\n",
    "os.environ[\"GROQ_API_KEY\"]=os.getenv(\"GROQ_API_KEY\")\n",
    "os.environ[\"PINECODE_API_KEY\"]=os.getenv(\"PINECODE_API_KEY\")\n",
    "os.environ[\"GOOGLE_API_KEY\"]=os.getenv(\"GOOGLE_API_KEY\")\n",
    "os.environ[\"HUGGINGFACE_API_KEY\"]=os.getenv(\"HUGGINGFACE_API_KEY\")\n",
    "os.environ[\"LANGCHAIN_API_KEY\"]=os.getenv(\"LANGCHAIN_API_KEY\")\n",
    "os.environ[\"LANGCHAIN_PROJECT\"]=os.getenv(\"LANGCHAIN_PROJECT\")\n",
    "os.environ[\"LANGCHAIN_TRACING_V2\"]=os.getenv(\"LANGCHAIN_TRACING_V2\")\n",
    "os.environ[\"TAVILY_API_KEY\"]=os.getenv(\"TAVILY_API_KEY\")"
   ]
  },
  {
   "cell_type": "code",
   "execution_count": 143,
   "id": "25daaeb1",
   "metadata": {},
   "outputs": [],
   "source": [
    "# pydantic model\n",
    "from pydantic import BaseModel,Field\n",
    "\n",
    "class TopicSelector(BaseModel):\n",
    "    topic:str=Field(description=\"topic name\")\n",
    "    reason_for_selection:str=Field(description=\"topic selection reason\")        \n",
    "\n"
   ]
  },
  {
   "cell_type": "code",
   "execution_count": 144,
   "id": "40fddf98",
   "metadata": {},
   "outputs": [],
   "source": [
    "# llm model using reasoning model of google\n",
    "from langchain_google_genai import ChatGoogleGenerativeAI\n",
    "\n",
    "model = ChatGoogleGenerativeAI(\n",
    "    model=\"gemini-2.0-flash\",\n",
    "    temperature=0,\n",
    "    max_tokens=None,\n",
    "    timeout=None,\n",
    "    max_retries=2\n",
    ")"
   ]
  },
  {
   "cell_type": "code",
   "execution_count": 145,
   "id": "796d3e72",
   "metadata": {},
   "outputs": [
    {
     "data": {
      "text/plain": [
       "768"
      ]
     },
     "execution_count": 145,
     "metadata": {},
     "output_type": "execute_result"
    }
   ],
   "source": [
    "# using hugging face embeddings\n",
    "from langchain_huggingface import HuggingFaceEmbeddings\n",
    "embeddings = HuggingFaceEmbeddings(model_name=\"sentence-transformers/all-mpnet-base-v2\")\n",
    "vector_dimension=len(embeddings.embed_query(\"hi\"))\n",
    "vector_dimension"
   ]
  },
  {
   "cell_type": "code",
   "execution_count": 146,
   "id": "8faa21b2",
   "metadata": {},
   "outputs": [
    {
     "name": "stderr",
     "output_type": "stream",
     "text": [
      "100%|██████████| 1/1 [00:00<00:00, 1752.01it/s]\n"
     ]
    },
    {
     "data": {
      "text/plain": [
       "55"
      ]
     },
     "execution_count": 146,
     "metadata": {},
     "output_type": "execute_result"
    }
   ],
   "source": [
    "from langchain_community.document_loaders import DirectoryLoader, TextLoader\n",
    "# load document pages\n",
    "loader=DirectoryLoader(\"./data\",glob=\"./*.txt\",loader_cls=TextLoader,show_progress=True)\n",
    "pages = loader.load()\n",
    "len(pages)\n",
    "\n",
    "# split pages to chunks\n",
    "from langchain.text_splitter import RecursiveCharacterTextSplitter\n",
    "\n",
    "text_splitter=RecursiveCharacterTextSplitter(\n",
    "    chunk_size=200,\n",
    "    chunk_overlap=50\n",
    ")\n",
    "\n",
    "chunks=text_splitter.split_documents(pages);\n",
    "\n",
    "len(chunks)\n"
   ]
  },
  {
   "cell_type": "code",
   "execution_count": 147,
   "id": "db9eade4",
   "metadata": {},
   "outputs": [],
   "source": [
    "# using chromdb as vector store\n",
    "from langchain_chroma import Chroma\n",
    "from langchain_openai import OpenAIEmbeddings\n",
    "# initialized the vector db\n",
    "vector_store = Chroma(\n",
    "    collection_name=\"usa-gdp-data\",\n",
    "    embedding_function=embeddings\n",
    ")"
   ]
  },
  {
   "cell_type": "code",
   "execution_count": 148,
   "id": "772358d7",
   "metadata": {},
   "outputs": [
    {
     "data": {
      "text/plain": [
       "['fba6e445-64c2-47b9-a301-ad3b6e9cbad3',\n",
       " '46d4c1dd-de4b-477d-ac0b-286c9b71caa0',\n",
       " 'f77f454d-7d6b-42b8-8d69-7b1cc7dbafa3',\n",
       " '742b7cd4-5cb7-4212-93bd-f8741d9a814a',\n",
       " '9089d41a-151b-40d4-8617-06bd722c0b25',\n",
       " 'b4d8f528-e897-464a-9b47-b5ec55f1f1a3',\n",
       " 'e14a73a1-f2b6-41f0-96ab-5528cb9c9f40',\n",
       " '36ef0f7d-16d3-4a32-8be1-2128b9d2cc09',\n",
       " 'c28a53af-c3c3-431d-a769-6cd6261fb3e8',\n",
       " '5533c3a5-214a-4d5c-ae5f-85f7a4089cc3',\n",
       " '33ce4b63-13b6-4c28-b32b-f56216be1a92',\n",
       " '862f66ef-0274-4aef-99af-cb0664d37fa8',\n",
       " '3ca89d7f-1284-4310-9af9-054f804c4981',\n",
       " '86124a91-f0ed-4221-9a49-27083a13d105',\n",
       " '131b0798-c6fc-472d-aec8-c732cadabec7',\n",
       " 'c1ff71d8-9bad-4f32-bd8c-21393edc02d4',\n",
       " '2745892f-010c-40cf-9373-54a1cb16d188',\n",
       " 'b0b1a1d6-06df-46b0-af36-abb0b3b467fc',\n",
       " '59874050-6a47-4760-8260-71cb2d3c4038',\n",
       " '3cd3f2b4-d9ce-4cc3-ade2-7f7d6a96fbe4',\n",
       " '53a7abe2-a816-49b6-ad75-ce75a7a01d3a',\n",
       " '421f956d-eded-4c08-b5d8-ff574f9ad96c',\n",
       " '2440cef1-e479-461b-82da-a3f1286c44d4',\n",
       " 'e3493439-447a-44a3-a018-e84218f1ac64',\n",
       " 'c90199ab-8f16-4a78-9c84-75f3d24f075d',\n",
       " 'e8ea32d1-60c7-4d2f-9645-f6068bb12803',\n",
       " 'b8a1d339-6a87-4580-8ba6-1f6c3a4f3b36',\n",
       " '013817cd-1001-40a1-8c07-4d3a7081c89b',\n",
       " 'e9203939-6207-461c-99da-2feb99645da1',\n",
       " '2ca139b4-2422-4995-bd53-4c9796a5de3d',\n",
       " 'aaf8941c-2fe6-4cdf-9079-ade35fbf670e',\n",
       " '326438a2-9d68-4a4d-b1da-b07c5bdf9223',\n",
       " '3c3cea06-d830-4f7a-aaf7-70d98436bd9a',\n",
       " '33f2f7c0-f92c-405d-9f6e-65c50e3b4105',\n",
       " 'd34b82f8-71bc-4f6c-9ab0-3c9726538eee',\n",
       " 'cdd958a8-5739-4417-8741-c51b7ed49abc',\n",
       " 'ae2867ca-47fe-44df-93a3-52fd0b9adebe',\n",
       " '74d6d045-90ce-4ed8-8d22-36001f120cf1',\n",
       " '784a1b2f-7ec5-4f44-bd80-f694f4be8c12',\n",
       " '74080eeb-1983-4bd3-9265-079d2eb7cfdf',\n",
       " 'ff8702c9-c825-4d9c-935d-d5c7de377169',\n",
       " '7b635fdb-f630-483a-84ff-e5d2fcbff364',\n",
       " '17198fb9-3b33-4154-989e-97ea884d550e',\n",
       " '1e40cc85-0334-46d1-a727-26f466f90d38',\n",
       " 'e6d5db27-fda4-4b6b-b49e-f07e788f2748',\n",
       " 'fed1fc9d-d3a2-45aa-85cd-d5503e9036c5',\n",
       " '3d8690c6-1e8b-48f4-9fa1-528bedcc747c',\n",
       " 'b09bae1f-d034-42ed-9799-2d0416d4f46e',\n",
       " '42532118-351d-4019-af0e-53f29fb8389a',\n",
       " 'aa5cd5e7-cdad-4bf4-a121-aa8788bc320f',\n",
       " '1f5acce7-6b6d-43a2-a857-587b49f5ab02',\n",
       " '59b71bb5-519d-4e7c-83dc-08e9aa71c835',\n",
       " 'db006ae2-ca84-410f-bc97-6ffd542bec14',\n",
       " '218c1cd4-901f-46ee-b760-6357dc266127',\n",
       " 'a00a5e6b-675e-46f8-b957-989ff2a1e95b']"
      ]
     },
     "execution_count": 148,
     "metadata": {},
     "output_type": "execute_result"
    }
   ],
   "source": [
    "# save documents to vector db\n",
    "vector_store.add_documents(chunks)"
   ]
  },
  {
   "cell_type": "code",
   "execution_count": 149,
   "id": "ff391687",
   "metadata": {},
   "outputs": [
    {
     "data": {
      "text/plain": [
       "[Document(id='7c9fb2d6-4581-4c11-bc00-d22b282b2279', metadata={'source': 'data/usa.txt'}, page_content='🇺🇸 Overview of the U.S. Economy'),\n",
       " Document(id='dfd3ee1d-4c87-453b-830c-5f9c5c8544f2', metadata={'source': 'data/usa.txt'}, page_content='🇺🇸 Overview of the U.S. Economy'),\n",
       " Document(id='fba6e445-64c2-47b9-a301-ad3b6e9cbad3', metadata={'source': 'data/usa.txt'}, page_content='🇺🇸 Overview of the U.S. Economy')]"
      ]
     },
     "execution_count": 149,
     "metadata": {},
     "output_type": "execute_result"
    }
   ],
   "source": [
    "# chromadb as retriever\n",
    "data_retriever=vector_store.as_retriever(search_kwargs={\"k\":3})\n",
    "data_retriever.invoke(\"industrial growth of usa?\")"
   ]
  },
  {
   "cell_type": "code",
   "execution_count": 150,
   "id": "8d77e2dc",
   "metadata": {},
   "outputs": [],
   "source": [
    "# create custom state for langgraph\n",
    "import operator\n",
    "from typing import TypedDict, Annotated, Sequence\n",
    "from langchain_core.messages import BaseMessage\n",
    "class AgentState(TypedDict):\n",
    "    messages:Annotated[Sequence[BaseMessage],operator.add]"
   ]
  },
  {
   "cell_type": "code",
   "execution_count": 151,
   "id": "5c1738b3",
   "metadata": {},
   "outputs": [],
   "source": [
    "# supervisor \n",
    "from langchain_core.output_parsers import StrOutputParser\n",
    "from langchain.output_parsers import PydanticOutputParser\n",
    "from langchain.prompts import PromptTemplate\n",
    "supervisor_parser=PydanticOutputParser(pydantic_object=TopicSelector)\n",
    "def supervisor(state:AgentState):\n",
    "    print(\"## supervisor ##\")\n",
    "    question=state[\"messages\"][-1]\n",
    "    print(f\"## supervisor ## question : {question}\")\n",
    "    template=\"\"\"\n",
    "    \n",
    "    You are a smart classifier that categorizes questions based on their relevance to the USA and whether a language model (LLM) can answer them.\n",
    "\n",
    "    Classify the given question into one of the following three categories:\n",
    "\n",
    "    1. USA  - if question related to USA\n",
    "    2. WEB  - if question related to latest news or current affairs\n",
    "    3. LLM  - if none of the above\n",
    "\n",
    "    Respond with ONLY the category number (USA, LLM, or WEB). Also provide reason for selecting the specific category\n",
    "\n",
    "    User query: {question}\n",
    "    {format_instructions}\n",
    "    \"\"\"\n",
    "    \n",
    "    prompt=PromptTemplate(\n",
    "        template=template,\n",
    "        input_variable=[\"question\"],\n",
    "        partial_variables={\"format_instructions\": supervisor_parser.get_format_instructions()}\n",
    "    )\n",
    "    \n",
    "    chain=prompt|model|supervisor_parser\n",
    "    \n",
    "    response=chain.invoke({\"question\":question})\n",
    "    \n",
    "    print(f\"## supervisor ## response : {response}\")\n",
    "    \n",
    "    return {\"messages\":[response.topic]}"
   ]
  },
  {
   "cell_type": "code",
   "execution_count": 152,
   "id": "d7afa958",
   "metadata": {},
   "outputs": [
    {
     "name": "stdout",
     "output_type": "stream",
     "text": [
      "## supervisor ##\n",
      "## supervisor ## question : Tell me about the yesterday plane crash\n",
      "## supervisor ## response : topic='WEB' reason_for_selection='Plane crashes are current events, requiring up-to-date information from the web.'\n"
     ]
    },
    {
     "data": {
      "text/plain": [
       "{'messages': ['WEB']}"
      ]
     },
     "execution_count": 152,
     "metadata": {},
     "output_type": "execute_result"
    }
   ],
   "source": [
    "supervisor({'messages':[\"Tell me about the yesterday plane crash\"]})"
   ]
  },
  {
   "cell_type": "code",
   "execution_count": 165,
   "id": "9d1f2960",
   "metadata": {},
   "outputs": [],
   "source": [
    "# router \n",
    "def router(state:AgentState):\n",
    "    print(\"## router ##\")\n",
    "    last_message=state[\"messages\"][-1]\n",
    "    print(f\"## router ## last_message : {last_message}\")\n",
    "    if \"usa\" in last_message.lower():\n",
    "        return \"rag call\"\n",
    "    elif \"llm\" in last_message.lower():\n",
    "        return \"llm call\"\n",
    "    else :\n",
    "        return \"web call\""
   ]
  },
  {
   "cell_type": "code",
   "execution_count": 166,
   "id": "141ba9ae",
   "metadata": {},
   "outputs": [],
   "source": [
    "from langchain_core.runnables import RunnablePassthrough\n",
    "def format_docs(docs):\n",
    "    return \"\\n\\n\".join(doc.page_content for doc in docs)\n",
    "# rag call\n",
    "def rag_call(state:AgentState):\n",
    "    print(\"## rag_call ##\")\n",
    "    question = state[\"messages\"][0]\n",
    "    print(f\"## rag_call ## question : {question}\")\n",
    "    prompt=PromptTemplate(\n",
    "        template=\"\"\"You are an assistant for question-answering tasks. Use the following pieces of retrieved context to answer the question. If you don't know the answer, just say that you don't know. Use three sentences maximum and keep the answer concise.\\nQuestion: {question} \\nContext: {context} \\nAnswer:\"\"\",\n",
    "        \n",
    "        input_variables=['context', 'question']\n",
    "    )\n",
    "    \n",
    "    rag_chain = (\n",
    "        {\"context\": data_retriever | format_docs, \"question\": RunnablePassthrough()}\n",
    "        | prompt\n",
    "        | model\n",
    "        | StrOutputParser()\n",
    "    )\n",
    "    result = rag_chain.invoke(question)\n",
    "    return  {\"messages\": [result]}"
   ]
  },
  {
   "cell_type": "code",
   "execution_count": 167,
   "id": "3b140171",
   "metadata": {},
   "outputs": [
    {
     "name": "stdout",
     "output_type": "stream",
     "text": [
      "## rag_call ##\n",
      "## rag_call ## question : how are you?\n"
     ]
    },
    {
     "data": {
      "text/plain": [
       "{'messages': [\"I am an AI assistant and do not have feelings. The provided context discusses a future outlook, but it doesn't offer any information about my current state.\"]}"
      ]
     },
     "execution_count": 167,
     "metadata": {},
     "output_type": "execute_result"
    }
   ],
   "source": [
    "rag_call({\"messages\":[\"how are you?\"]})"
   ]
  },
  {
   "cell_type": "code",
   "execution_count": 168,
   "id": "2f2a1519",
   "metadata": {},
   "outputs": [],
   "source": [
    "# web call\n",
    "from langchain_community.tools.tavily_search import TavilySearchResults\n",
    "def web_call(state:AgentState):\n",
    "    print(\"## rag_call ##\")\n",
    "    question = state[\"messages\"][0]\n",
    "    print(f\"## rag_call ## question : {question}\")\n",
    "    # web search tavily\n",
    "    tavily_api_key=os.getenv(\"TAVILY_API_KEY\")\n",
    "    tavily_tool=TavilySearchResults(travily_api_key=tavily_api_key)\n",
    "    result = tavily_tool.run(question)\n",
    "    return {\"messages\": [result]}"
   ]
  },
  {
   "cell_type": "code",
   "execution_count": 169,
   "id": "42118f00",
   "metadata": {},
   "outputs": [
    {
     "name": "stdout",
     "output_type": "stream",
     "text": [
      "## rag_call ##\n",
      "## rag_call ## question : who is winner of 2025 IPL?\n"
     ]
    },
    {
     "data": {
      "text/plain": [
       "{'messages': [[{'title': 'IPL 2025 results: Get all cricket scores, points table, standings and ...',\n",
       "    'url': 'https://www.olympics.com/en/news/ipl-2025-results-cricket-scores-standings-points-table-net-run-rate',\n",
       "    'content': 'The [**IPL 2025**](https://www.olympics.com/en/news/indian-premier-league-ipl-2025-schedule-match-list) concluded on June 3 with Royal Challengers Bengaluru defeating Punjab Kings in the final to lift their maiden title.\\n\\nThis was the 18th edition of the [**Indian Premier League**](https://www.olympics.com/en/news/indian-premier-league-ipl-winners-list-champions) - the world’s most lucrative franchise-based T20 league.\\n\\nRCB became the eighth team to win the IPL trophy. [...] The top two teams - PBKS and RCB - battled it out in Qualifier 1, with the Royal Challengers winning it to earn a direct ticket to the final.\\n\\nHowever, PBKS ended up joining RCB in the finale after defeating MI, who defeated GT in the Eliminator.\\n\\nOverall, MI and CSK are the most successful teams in the IPL with five titles each, followed by KKR with three. RCB, SRH, RR, GT and the now-defunct Deccan Chargers are the other teams who have won the title.',\n",
       "    'score': 0.92005306},\n",
       "   {'title': 'IPL 2025 | Live Score, Schedule, News - ESPNcricinfo',\n",
       "    'url': 'https://www.espncricinfo.com/series/ipl-2025-1449924',\n",
       "    'content': '![Image 59: AskESPNcricinfo Logo](https://wassets.hscicdn.com/static/images/lazyimage-noaspect.svg)\\n\\nWinner\\n\\n[Royal Challengers Bengaluru](https://www.espncricinfo.com/team/royal-challengers-bengaluru-335970 \"Royal Challengers Bengaluru\") [...] Match (N), Lucknow, May 23, 2025, [Indian Premier League](https://www.espncricinfo.com/series/ipl-2025-1449924 \"IPL\") ![Image 57: RCB Flag](https://wassets.hscicdn.com/static/images/lazyimage-transparent.png) SRH **231/6** ![Image 58: RCB Flag](https://wassets.hscicdn.com/static/images/lazyimage-transparent.png) RCB (19.5/20 ov, T:232) **189** SRH won by 42 [...] [![Image 67: AskESPNcricinfo Logo](https://wassets.hscicdn.com/static/images/lazyimage-noaspect.svg) Kohli and Hazlewood finish at No. 3 on IPL 2025 Orange and Purple Cap tables respectively ----------------------------------------------------------------------------------------- B Sai Sudharsan and Prasidh Krishna won the Orange and Purple Caps respectively at the end of IPL',\n",
       "    'score': 0.8875269},\n",
       "   {'title': '2025 Indian Premier League - Wikipedia',\n",
       "    'url': 'https://en.wikipedia.org/wiki/2025_Indian_Premier_League',\n",
       "    'content': '**[Eliminator](https://en.wikipedia.org/wiki/2025_Indian_Premier_League#Eliminator)**EW[Mumbai Indians](https://en.wikipedia.org/wiki/Mumbai_Indians \"Mumbai Indians\")203/6 (20 overs)\\n\\n30 May 2025 – [Mullanpur](https://en.wikipedia.org/wiki/Maharaja_Yadavindra_Singh_International_Cricket_Stadium \"Maharaja Yadavindra Singh International Cricket Stadium\")\\n\\n3[Gujarat Titans](https://en.wikipedia.org/wiki/Gujarat_Titans \"Gujarat Titans\")208/6 (20 overs) [...] Main article: [2025 Indian Premier League final](https://en.wikipedia.org/wiki/2025_Indian_Premier_League_final \"2025 Indian Premier League final\")\\n\\n**Final**\\n\\n 3 June 2025(2025-06-03)\\n\\n19:30 ([N](https://en.wikipedia.org/wiki/Day/night_cricket \"Day/night cricket\")) \\n\\n[Scorecard](https://www.espncricinfo.com/ci/engine/match/1473511.html)\\n\\n**[Royal Challengers Bengaluru](https://en.wikipedia.org/wiki/Royal_Challengers_Bengaluru \"Royal Challengers Bengaluru\")** [...] 242/6 (20 overs)\\n[Ishan Kishan](https://en.wikipedia.org/wiki/Ishan_Kishan \"Ishan Kishan\") 106[*](https://en.wikipedia.org/wiki/Not_out \"Not out\") (47) \\n\\n[Tushar Deshpande](https://en.wikipedia.org/wiki/Tushar_Deshpande \"Tushar Deshpande\") 3/44 (4 overs)[Dhruv Jurel](https://en.wikipedia.org/wiki/Dhruv_Jurel \"Dhruv Jurel\") 70 (35) \\n\\n[Harshal Patel](https://en.wikipedia.org/wiki/Harshal_Patel \"Harshal Patel\") 2/34 (4 overs)\\n\\n**Sunrisers Hyderabad won by 44 runs**',\n",
       "    'score': 0.8684817},\n",
       "   {'title': 'IPL 2025 Awards List: Who won the Orange Cap, Purple Cap ...',\n",
       "    'url': 'https://www.hindustantimes.com/cricket/ipl-2025-awards-list-who-won-the-orange-cap-purple-cap-emerging-player-award-check-full-list-of-winners-101749010568299.html',\n",
       "    'content': '[RCB Victory Parade Live](https://www.hindustantimes.com/cricket/rcb-victory-parade-live-updates-royal-challengers-bengaluru-trophy-bus-parade-ipl-2025-winner-virat-kohli-101749020508285.html)[Virat Kohli](https://www.hindustantimes.com/cricket/youve-made-me-wait-18-years-virat-kohli-bares-raw-emotions-in-rare-instagram-outpouring-after-rcb-s-ipl-title-win-101749006602091.html)[Anushka [...] [RCB Victory Parade Live: 10 killed in stampede as RCB celebrations go haywire](https://www.hindustantimes.com/cricket/rcb-victory-parade-live-updates-royal-challengers-bengaluru-trophy-bus-parade-ipl-2025-winner-virat-kohli-101749020508285.html)\\n\\nUpdated 1 min ago\\n\\nTrending Topics [...] Sharma](https://www.hindustantimes.com/entertainment/bollywood/excited-anushka-sharma-holds-ipl-2025-trophy-with-virat-kohli-fans-gush-rcb-pbks-101749005167815.html)[Samantha Ruth Prabhu](https://www.hindustantimes.com/lifestyle/health/samantha-ruth-prabhu-blasted-by-the-liver-doc-for-selling-fraud-supplements-calls-her-a-science-illiterate-celebrity-101749005915289.html)[Habiba',\n",
       "    'score': 0.8479807},\n",
       "   {'title': 'IPL 2025 Match Results | Full Scorecard & Summaries | IPLT20',\n",
       "    'url': 'https://www.iplt20.com/matches/results',\n",
       "    'content': '[Match Centre](https://www.iplt20.com/match/2025/1866)\\n- Match 67\\n\\n  Narendra Modi Stadium, Ahmedabad\\n\\n  MAY, SUN 25 , 3:30 pm IST\\n\\n  Chennai Super Kings Won by 83 Runs\\n\\n  ![Gujarat Titans](https://scores.iplt20.com/ipl/teamlogos/GT.png?v=1)\\n\\n  ### Gujarat Titans\\n\\n  ### GT\\n\\n      \\n\\n  147\\n\\n   (18.3 OV)\\n\\n  ![Chennai Super Kings](https://scores.iplt20.com/ipl/teamlogos/CSK.png)\\n\\n  ### Chennai Super Kings\\n\\n  ### CSK\\n\\n     \\n\\n  230/5\\n\\n    (20.0 OV ) [...] ![Mumbai Indians](https://scores.iplt20.com/ipl/teamlogos/MI.png)\\n\\n  ### Mumbai Indians\\n\\n  ### MI\\n\\n     \\n\\n  205/5\\n\\n    (20.0 OV )\\n\\n  [Match Centre](https://www.iplt20.com/match/2025/1827)\\n- Match 28\\n\\n  Sawai Mansingh Stadium, Jaipur\\n\\n  APR, SUN 13 , 3:30 pm IST\\n\\n  Royal Challengers Bengaluru Won by 9 Wickets\\n\\n  ![Rajasthan Royals](https://scores.iplt20.com/ipl/teamlogos/sSNjJEkBAx1742900310RR---New-Logo.png)\\n\\n  ### Rajasthan Royals\\n\\n  ### RR\\n\\n  173/4\\n\\n    (20.0 OV) [...] ![Rajasthan Royals](https://scores.iplt20.com/ipl/teamlogos/sSNjJEkBAx1742900310RR---New-Logo.png)\\n\\n  ### Rajasthan Royals\\n\\n  ### RR\\n\\n     \\n\\n  205/4\\n\\n    (20.0 OV )\\n\\n  [Match Centre](https://www.iplt20.com/match/2025/1816)\\n- Match 17\\n\\n  MA Chidambaram Stadium, Chennai\\n\\n  APR, SAT 5 , 3:30 pm IST\\n\\n  Delhi Capitals Won by 25 Runs\\n\\n  ![Chennai Super Kings](https://scores.iplt20.com/ipl/teamlogos/CSK.png)\\n\\n  ### Chennai Super Kings\\n\\n  ### CSK\\n\\n     \\n\\n  158/5\\n\\n    (20.0 OV)',\n",
       "    'score': 0.82795376}]]}"
      ]
     },
     "execution_count": 169,
     "metadata": {},
     "output_type": "execute_result"
    }
   ],
   "source": [
    "web_call({\"messages\":[\"who is winner of 2025 IPL?\"]})"
   ]
  },
  {
   "cell_type": "code",
   "execution_count": 171,
   "id": "c46befd2",
   "metadata": {},
   "outputs": [],
   "source": [
    "from langchain_openai import ChatOpenAI\n",
    "from langchain.tools import Tool\n",
    "from langchain.agents import initialize_agent, AgentType\n",
    "# llm call with tools integration\n",
    "def llm_call(state:AgentState):\n",
    "    print(\"## llm_call ##\")\n",
    "    question = state[\"messages\"][0]\n",
    "    print(f\"## llm_call ## question : {question}\")\n",
    "\n",
    "    llm_template=\"Answer the follow question with you knowledge of the real world. Following is the user question: {question}\" \n",
    "    prompt = PromptTemplate(\n",
    "    template=llm_template,\n",
    "    input_variables=[\"question\"]\n",
    "    )\n",
    "    \n",
    "    chain = prompt | model | StrOutputParser()\n",
    "    response = chain.invoke({\"question\": question})\n",
    "    return {\"messages\": [response]}"
   ]
  },
  {
   "cell_type": "code",
   "execution_count": 172,
   "id": "0f333e53",
   "metadata": {},
   "outputs": [
    {
     "name": "stdout",
     "output_type": "stream",
     "text": [
      "## llm_call ##\n",
      "## llm_call ## question : how are you ?\n"
     ]
    },
    {
     "data": {
      "text/plain": [
       "{'messages': ['As a large language model, I don\\'t experience feelings or emotions like humans do. So, I can\\'t be \"good\" or \"bad\" in the way a person can.\\n\\nHowever, I am functioning as intended and ready to assist you with your requests. Thanks for asking!']}"
      ]
     },
     "execution_count": 172,
     "metadata": {},
     "output_type": "execute_result"
    }
   ],
   "source": [
    "llm_call({\"messages\":[\"how are you ?\"]})"
   ]
  },
  {
   "cell_type": "code",
   "execution_count": 173,
   "id": "d43a2d58",
   "metadata": {},
   "outputs": [],
   "source": [
    "# validation or guard_rail\n",
    "def guard_rail(state:AgentState):\n",
    "    print(\"## guard_rail ##\")\n",
    "    last_message=state[\"messages\"][-1]\n",
    "    print(f\"## guard_rail ## last_message : {last_message}\")\n",
    "    return {\"messages\":[\"pass\"]}\n",
    "\n",
    "from langgraph.graph import StateGraph, START, END    \n",
    "# guard_router\n",
    "def guard_router(state:AgentState):\n",
    "    print(\"## guard_router ##\")\n",
    "    last_message=state[\"messages\"][-1]\n",
    "    print(f\"## guard_router ## last_message : {last_message}\")\n",
    "    if \"pass\" in last_message.lower():\n",
    "        return END\n",
    "    else :\n",
    "        return \"supervisor\""
   ]
  },
  {
   "cell_type": "code",
   "execution_count": 179,
   "id": "eaaaefbe",
   "metadata": {},
   "outputs": [
    {
     "data": {
      "text/plain": [
       "<langgraph.graph.state.StateGraph at 0x161e3acd0>"
      ]
     },
     "execution_count": 179,
     "metadata": {},
     "output_type": "execute_result"
    }
   ],
   "source": [
    "# langgraph\n",
    "from langgraph.graph import StateGraph, START, END\n",
    "\n",
    "work_flow=StateGraph(AgentState)\n",
    "\n",
    "work_flow.set_entry_point(\"supervisor\")\n",
    "\n",
    "work_flow.add_node(\"supervisor\",supervisor)\n",
    "\n",
    "work_flow.add_node(\"llm\",llm_call)\n",
    "\n",
    "work_flow.add_node(\"rag\",rag_call)\n",
    "\n",
    "work_flow.add_node(\"web\",web_call)\n",
    "\n",
    "work_flow.add_node(\"guard_rail\",guard_rail)\n",
    "\n",
    "work_flow.add_conditional_edges(\n",
    "    \"supervisor\",\n",
    "    router,\n",
    "    {\n",
    "        \"llm call\" : \"llm\",\n",
    "        \"web call\" : \"web\",\n",
    "        \"rag call\" : \"rag\",\n",
    "    }\n",
    ")\n",
    "\n",
    "work_flow.add_edge(\"rag\",\"guard_rail\")\n",
    "\n",
    "work_flow.add_edge(\"llm\",\"guard_rail\")\n",
    "\n",
    "work_flow.add_edge(\"web\",\"guard_rail\")\n",
    "\n",
    "work_flow.add_edge(\"guard_rail\", END)\n",
    "\n",
    "work_flow.add_conditional_edges(\n",
    "    \"guard_rail\",\n",
    "    guard_router,\n",
    "    {\n",
    "        \"pass\" : END,\n",
    "        \"fail\" : \"supervisor\",\n",
    "        END:END\n",
    "        \n",
    "    }\n",
    ")\n"
   ]
  },
  {
   "cell_type": "code",
   "execution_count": 180,
   "id": "8282ed2a",
   "metadata": {},
   "outputs": [],
   "source": [
    "# compile graph\n",
    "app = work_flow.compile()"
   ]
  },
  {
   "cell_type": "code",
   "execution_count": 181,
   "id": "8dea7668",
   "metadata": {},
   "outputs": [
    {
     "data": {
      "image/png": "[encoded data removed]",
      "text/plain": [
       "<IPython.core.display.Image object>"
      ]
     },
     "metadata": {},
     "output_type": "display_data"
    }
   ],
   "source": [
    "from IPython.display import display,Image\n",
    "display(Image(app.get_graph().draw_mermaid_png()))"
   ]
  },
  {
   "cell_type": "code",
   "execution_count": 182,
   "id": "a6f3a09d",
   "metadata": {},
   "outputs": [
    {
     "name": "stdout",
     "output_type": "stream",
     "text": [
      "## supervisor ##\n",
      "## supervisor ## question : can you tell me the industrial growth of world's most poor economy?\n",
      "## supervisor ## response : topic='LLM' reason_for_selection='The question is about economic data, which is not specific to the USA and can be answered by a language model with access to relevant information.'\n",
      "## router ##\n",
      "## router ## last_message : LLM\n",
      "## llm_call ##\n",
      "## llm_call ## question : can you tell me the industrial growth of world's most poor economy?\n",
      "## guard_rail ##\n",
      "## guard_rail ## last_message : It's difficult to give a precise, up-to-the-minute \"industrial growth\" figure for the world's poorest economy for a few key reasons:\n",
      "\n",
      "*   **Defining \"Poorest\":** There are different ways to measure poverty. We could look at GDP per capita (a common metric), the Human Development Index (which includes health and education), or the percentage of the population living below the poverty line. The country at the very bottom of one list might not be at the bottom of another.\n",
      "*   **Data Availability:** The poorest economies often have the weakest statistical infrastructure. Data collection can be infrequent, unreliable, or simply non-existent. International organizations like the World Bank and the IMF often rely on estimates and projections, which can have significant lags.\n",
      "*   **Informal Sector Dominance:** In many of the poorest economies, a large portion of economic activity takes place in the informal sector (unregulated, untaxed). This activity is very difficult to measure accurately, so official industrial growth figures may significantly understate the reality.\n",
      "*   **Conflict and Instability:** Many of the world's poorest countries are also experiencing conflict or political instability. This makes data collection even harder and can cause dramatic fluctuations in economic activity.\n",
      "\n",
      "**General Trends and Considerations:**\n",
      "\n",
      "Despite these challenges, we can make some general observations about industrial growth in the world's poorest economies:\n",
      "\n",
      "*   **Low Base Effect:** Even small increases in industrial output can translate into relatively high percentage growth rates because the starting point is so low.\n",
      "*   **Dependence on Commodities:** Many of these economies are heavily reliant on the extraction and export of raw materials (minerals, agricultural products). Industrial growth is often tied to global commodity prices, making it volatile.\n",
      "*   **Limited Diversification:** The industrial sector is often very narrow, focused on a few key industries. This makes the economy vulnerable to shocks affecting those specific sectors.\n",
      "*   **Infrastructure Deficits:** Poor infrastructure (roads, electricity, ports) is a major constraint on industrial development.\n",
      "*   **Lack of Investment:** Low levels of domestic and foreign investment limit the ability to expand and modernize industries.\n",
      "*   **Human Capital Constraints:** Low levels of education and skills limit the ability to develop more sophisticated industries.\n",
      "*   **Focus on Basic Manufacturing:** Industrial growth often starts with basic manufacturing (textiles, food processing) for the domestic market or for export to regional markets.\n",
      "*   **Aid and Development Programs:** Industrial development is often supported by international aid and development programs, which can have a significant impact.\n",
      "\n",
      "**How to Find Some Information (with caveats):**\n",
      "\n",
      "1.  **Identify a Country:** Choose a country you consider to be among the poorest (based on GDP per capita, HDI, or other criteria).\n",
      "2.  **Check International Organizations:** Look for reports from the World Bank, the IMF, the United Nations, and regional development banks (e.g., the African Development Bank). Search for reports on that specific country's economy.\n",
      "3.  **Look for Government Data:** The country's own statistical agencies may publish data, but be aware of potential limitations.\n",
      "4.  **Search News and Analysis:** Look for news articles and reports from reputable sources that discuss the country's economic performance.\n",
      "\n",
      "**Example (Hypothetical):**\n",
      "\n",
      "Let's say you're interested in the industrial growth of Burundi (often ranked among the poorest countries). You might search for \"World Bank Burundi economic outlook\" or \"IMF Burundi Article IV consultation.\" These reports might contain information on industrial production, manufacturing output, and related indicators. However, keep in mind the limitations mentioned above.\n",
      "\n",
      "**In conclusion, while I can't give you a single, definitive number for the industrial growth of the \"world's poorest economy,\" I hope this explanation provides a useful framework for understanding the challenges and complexities involved.**\n",
      "## guard_router ##\n",
      "## guard_router ## last_message : pass\n"
     ]
    },
    {
     "data": {
      "text/plain": [
       "{'messages': [\"can you tell me the industrial growth of world's most poor economy?\",\n",
       "  'LLM',\n",
       "  'It\\'s difficult to give a precise, up-to-the-minute \"industrial growth\" figure for the world\\'s poorest economy for a few key reasons:\\n\\n*   **Defining \"Poorest\":** There are different ways to measure poverty. We could look at GDP per capita (a common metric), the Human Development Index (which includes health and education), or the percentage of the population living below the poverty line. The country at the very bottom of one list might not be at the bottom of another.\\n*   **Data Availability:** The poorest economies often have the weakest statistical infrastructure. Data collection can be infrequent, unreliable, or simply non-existent. International organizations like the World Bank and the IMF often rely on estimates and projections, which can have significant lags.\\n*   **Informal Sector Dominance:** In many of the poorest economies, a large portion of economic activity takes place in the informal sector (unregulated, untaxed). This activity is very difficult to measure accurately, so official industrial growth figures may significantly understate the reality.\\n*   **Conflict and Instability:** Many of the world\\'s poorest countries are also experiencing conflict or political instability. This makes data collection even harder and can cause dramatic fluctuations in economic activity.\\n\\n**General Trends and Considerations:**\\n\\nDespite these challenges, we can make some general observations about industrial growth in the world\\'s poorest economies:\\n\\n*   **Low Base Effect:** Even small increases in industrial output can translate into relatively high percentage growth rates because the starting point is so low.\\n*   **Dependence on Commodities:** Many of these economies are heavily reliant on the extraction and export of raw materials (minerals, agricultural products). Industrial growth is often tied to global commodity prices, making it volatile.\\n*   **Limited Diversification:** The industrial sector is often very narrow, focused on a few key industries. This makes the economy vulnerable to shocks affecting those specific sectors.\\n*   **Infrastructure Deficits:** Poor infrastructure (roads, electricity, ports) is a major constraint on industrial development.\\n*   **Lack of Investment:** Low levels of domestic and foreign investment limit the ability to expand and modernize industries.\\n*   **Human Capital Constraints:** Low levels of education and skills limit the ability to develop more sophisticated industries.\\n*   **Focus on Basic Manufacturing:** Industrial growth often starts with basic manufacturing (textiles, food processing) for the domestic market or for export to regional markets.\\n*   **Aid and Development Programs:** Industrial development is often supported by international aid and development programs, which can have a significant impact.\\n\\n**How to Find Some Information (with caveats):**\\n\\n1.  **Identify a Country:** Choose a country you consider to be among the poorest (based on GDP per capita, HDI, or other criteria).\\n2.  **Check International Organizations:** Look for reports from the World Bank, the IMF, the United Nations, and regional development banks (e.g., the African Development Bank). Search for reports on that specific country\\'s economy.\\n3.  **Look for Government Data:** The country\\'s own statistical agencies may publish data, but be aware of potential limitations.\\n4.  **Search News and Analysis:** Look for news articles and reports from reputable sources that discuss the country\\'s economic performance.\\n\\n**Example (Hypothetical):**\\n\\nLet\\'s say you\\'re interested in the industrial growth of Burundi (often ranked among the poorest countries). You might search for \"World Bank Burundi economic outlook\" or \"IMF Burundi Article IV consultation.\" These reports might contain information on industrial production, manufacturing output, and related indicators. However, keep in mind the limitations mentioned above.\\n\\n**In conclusion, while I can\\'t give you a single, definitive number for the industrial growth of the \"world\\'s poorest economy,\" I hope this explanation provides a useful framework for understanding the challenges and complexities involved.**',\n",
       "  'pass']}"
      ]
     },
     "execution_count": 182,
     "metadata": {},
     "output_type": "execute_result"
    }
   ],
   "source": [
    "# run sample app\n",
    "state={\"messages\":[\"can you tell me the industrial growth of world's most poor economy?\"]}\n",
    "result=app.invoke(state)\n",
    "result\n"
   ]
  },
  {
   "cell_type": "code",
   "execution_count": null,
   "id": "32e7a90f",
   "metadata": {},
   "outputs": [],
   "source": []
  }
 ],
 "metadata": {
  "kernelspec": {
   "display_name": "agentic_env",
   "language": "python",
   "name": "python3"
  },
  "language_info": {
   "codemirror_mode": {
    "name": "ipython",
    "version": 3
   },
   "file_extension": ".py",
   "mimetype": "text/x-python",
   "name": "python",
   "nbconvert_exporter": "python",
   "pygments_lexer": "ipython3",
   "version": "3.11.11"
  }
 },
 "nbformat": 4,
 "nbformat_minor": 5
}
