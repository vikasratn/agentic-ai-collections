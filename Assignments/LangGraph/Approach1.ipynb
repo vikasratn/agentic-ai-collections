{
 "cells": [
  {
   "cell_type": "code",
   "execution_count": 61,
   "id": "a9092897",
   "metadata": {},
   "outputs": [],
   "source": [
    "# load env\n",
    "from dotenv import load_dotenv\n",
    "import os\n",
    "load_dotenv()\n",
    "\n",
    "os.environ[\"OPENAI_API_KEY\"]=os.getenv(\"OPENAI_API_KEY\")\n",
    "os.environ[\"GROQ_API_KEY\"]=os.getenv(\"GROQ_API_KEY\")\n",
    "os.environ[\"PINECODE_API_KEY\"]=os.getenv(\"PINECODE_API_KEY\")\n",
    "os.environ[\"GOOGLE_API_KEY\"]=os.getenv(\"GOOGLE_API_KEY\")\n",
    "os.environ[\"HUGGINGFACE_API_KEY\"]=os.getenv(\"HUGGINGFACE_API_KEY\")\n",
    "os.environ[\"LANGCHAIN_API_KEY\"]=os.getenv(\"LANGCHAIN_API_KEY\")\n",
    "os.environ[\"LANGCHAIN_PROJECT\"]=os.getenv(\"LANGCHAIN_PROJECT\")\n",
    "os.environ[\"LANGCHAIN_TRACING_V2\"]=os.getenv(\"LANGCHAIN_TRACING_V2\")\n",
    "os.environ[\"TAVILY_API_KEY\"]=os.getenv(\"TAVILY_API_KEY\")"
   ]
  },
  {
   "cell_type": "code",
   "execution_count": 62,
   "id": "25daaeb1",
   "metadata": {},
   "outputs": [],
   "source": [
    "# pydantic model\n",
    "from pydantic import BaseModel,Field\n",
    "\n",
    "class TopicSelector(BaseModel):\n",
    "    topic:str=Field(description=\"topic name\")\n",
    "    reason_for_selection:str=Field(description=\"topic selection reason\")        \n",
    "\n"
   ]
  },
  {
   "cell_type": "code",
   "execution_count": 63,
   "id": "40fddf98",
   "metadata": {},
   "outputs": [],
   "source": [
    "# llm model using reasoning model of google\n",
    "from langchain_google_genai import ChatGoogleGenerativeAI\n",
    "\n",
    "model = ChatGoogleGenerativeAI(\n",
    "    model=\"gemini-2.0-flash\",\n",
    "    temperature=0,\n",
    "    max_tokens=None,\n",
    "    timeout=None,\n",
    "    max_retries=2\n",
    ")"
   ]
  },
  {
   "cell_type": "code",
   "execution_count": 64,
   "id": "796d3e72",
   "metadata": {},
   "outputs": [
    {
     "data": {
      "text/plain": [
       "768"
      ]
     },
     "execution_count": 64,
     "metadata": {},
     "output_type": "execute_result"
    }
   ],
   "source": [
    "# using hugging face embeddings\n",
    "from langchain_huggingface import HuggingFaceEmbeddings\n",
    "embeddings = HuggingFaceEmbeddings(model_name=\"sentence-transformers/all-mpnet-base-v2\")\n",
    "vector_dimension=len(embeddings.embed_query(\"hi\"))\n",
    "vector_dimension"
   ]
  },
  {
   "cell_type": "code",
   "execution_count": 65,
   "id": "8faa21b2",
   "metadata": {},
   "outputs": [
    {
     "name": "stderr",
     "output_type": "stream",
     "text": [
      "100%|██████████| 1/1 [00:00<00:00, 2202.89it/s]\n"
     ]
    },
    {
     "data": {
      "text/plain": [
       "55"
      ]
     },
     "execution_count": 65,
     "metadata": {},
     "output_type": "execute_result"
    }
   ],
   "source": [
    "from langchain_community.document_loaders import DirectoryLoader, TextLoader\n",
    "# load document pages\n",
    "loader=DirectoryLoader(\"./data\",glob=\"./*.txt\",loader_cls=TextLoader,show_progress=True)\n",
    "pages = loader.load()\n",
    "len(pages)\n",
    "\n",
    "# split pages to chunks\n",
    "from langchain.text_splitter import RecursiveCharacterTextSplitter\n",
    "\n",
    "text_splitter=RecursiveCharacterTextSplitter(\n",
    "    chunk_size=200,\n",
    "    chunk_overlap=50\n",
    ")\n",
    "\n",
    "chunks=text_splitter.split_documents(pages);\n",
    "\n",
    "len(chunks)\n"
   ]
  },
  {
   "cell_type": "code",
   "execution_count": 66,
   "id": "db9eade4",
   "metadata": {},
   "outputs": [],
   "source": [
    "# using chromdb as vector store\n",
    "from langchain_chroma import Chroma\n",
    "from langchain_openai import OpenAIEmbeddings\n",
    "# initialized the vector db\n",
    "vector_store = Chroma(\n",
    "    collection_name=\"usa-gdp-data\",\n",
    "    embedding_function=embeddings\n",
    ")"
   ]
  },
  {
   "cell_type": "code",
   "execution_count": 67,
   "id": "772358d7",
   "metadata": {},
   "outputs": [
    {
     "data": {
      "text/plain": [
       "['7c9fb2d6-4581-4c11-bc00-d22b282b2279',\n",
       " '3a39f006-e0b6-410b-844f-9642b732d4dc',\n",
       " '0bf312cb-38b7-4445-998f-da606966f510',\n",
       " 'b990ae85-84f5-4fd3-895b-b5b5f05692c3',\n",
       " 'e7c2fb2b-8d43-442d-b435-bf94a7bc14bb',\n",
       " 'b027afee-6761-4b4e-a44b-f1cc11655222',\n",
       " '2b29afdb-13d9-4aa0-9190-cb3bd94aa885',\n",
       " '4cf8cc18-0705-4855-bf8f-73bdecd45c24',\n",
       " '7745d148-4306-4d6c-919d-b98973136c40',\n",
       " 'cbb0ebbc-4b43-4e71-b3cc-e79cb3a39e71',\n",
       " 'd5eebf9d-0445-4957-810a-34d0ecb1f324',\n",
       " 'df79f477-7504-401d-a7bf-3e5db5d6c507',\n",
       " 'd0a712de-a1c4-4081-b7d2-1f98208bad60',\n",
       " 'd1321500-3741-41ee-92e0-353cba57eea0',\n",
       " '4f6688f3-ea05-4fe8-a3b1-2d057c49f786',\n",
       " '6b11ce2c-5d7f-4d27-a6a3-e51e3642d85c',\n",
       " '27daf49a-87b5-48c5-acea-3fde23e4d69a',\n",
       " 'cfe5a340-1433-4628-802d-4d26fb8f9409',\n",
       " 'fb76ddc9-a7c7-4ec4-8b27-efb6b1999146',\n",
       " '453feab1-5420-4246-96f0-f79b589b0c82',\n",
       " 'e177818a-ac85-482f-902e-be7c47a113ce',\n",
       " '6cb86d55-fc99-4a85-bc7f-22f86dadb36d',\n",
       " '733e83b5-933b-4388-a190-26c08e4ebf41',\n",
       " '882e61db-f4d8-41f4-bc13-c375ea2041b6',\n",
       " '2d674695-0ede-4aff-bdfb-333702cc2401',\n",
       " '127ee122-7be1-4219-95f7-0e667d332e40',\n",
       " '654b0660-8cfd-4486-8ce9-fd8aa1994a05',\n",
       " 'a64e35e5-95ea-4bc3-9d00-2d34d18df73e',\n",
       " 'c5e505fe-0734-4a49-a59e-5ffbd246ad82',\n",
       " '0d0e2751-02a6-4f01-82e7-1a89d04dff10',\n",
       " '4a3773af-c6f2-49e4-a284-f14ba6b795ba',\n",
       " 'eb11ec5c-6812-4af7-a6aa-80ebdd6c3a86',\n",
       " 'b45d1d9c-892c-42e3-a5c9-04b4f78ec954',\n",
       " 'd0a70ecf-7fe4-4466-bd80-3c77ab733092',\n",
       " 'd53f2eb8-51c3-4589-8c96-1c22899c1ac7',\n",
       " '81cf6446-5f08-417f-a908-3241d6bd907a',\n",
       " 'bbabf44b-8039-4edd-b482-fdbed7ff9754',\n",
       " '71c45786-9c5f-427c-9c53-391c8e7560f8',\n",
       " '284e8184-71a5-4b80-94dc-9fe54934ddd3',\n",
       " '86327d24-67fe-4099-9ff1-4e464e5af275',\n",
       " 'f897a64f-bd3d-408f-9fde-62fb83ba03ce',\n",
       " 'fe805d3b-1917-46d1-bdef-47dc9de68f3c',\n",
       " 'b5586aef-2af1-4c34-8d5e-cb2e076419cc',\n",
       " '7b811961-c64a-4ea6-88ee-d6837a548a0e',\n",
       " '752188a5-845e-45e0-a0b2-fd925a1547ab',\n",
       " '6f7bd4df-e7e9-48ef-89ce-13d927a4458c',\n",
       " '891bc13b-609c-4ff0-b255-d5deea275a7e',\n",
       " '1f0faef8-a5d2-4633-9167-874cd88216a8',\n",
       " '8422311b-b135-4478-af19-aa91d12a267e',\n",
       " 'cf011f62-c173-4fec-859a-e60e5562c050',\n",
       " 'b6cee87c-bbe6-4f65-b6f5-b4399e34cd09',\n",
       " '6cb84f49-2d1f-4800-bcdb-44dfbfa69513',\n",
       " 'abd32a5e-f587-4b0b-8041-c18cc03553d2',\n",
       " '7d43c5bf-8842-42ae-8cbb-d0cd02070593',\n",
       " 'adf6b688-cede-4519-b420-298e4458b3be']"
      ]
     },
     "execution_count": 67,
     "metadata": {},
     "output_type": "execute_result"
    }
   ],
   "source": [
    "# save documents to vector db\n",
    "vector_store.add_documents(chunks)"
   ]
  },
  {
   "cell_type": "code",
   "execution_count": 68,
   "id": "ff391687",
   "metadata": {},
   "outputs": [
    {
     "data": {
      "text/plain": [
       "[Document(id='002355cc-8607-4f31-bb38-cbb981737acd', metadata={'source': 'data/usa.txt'}, page_content='🇺🇸 Overview of the U.S. Economy'),\n",
       " Document(id='7c9fb2d6-4581-4c11-bc00-d22b282b2279', metadata={'source': 'data/usa.txt'}, page_content='🇺🇸 Overview of the U.S. Economy'),\n",
       " Document(id='d1cb0c78-fcb0-45bd-8657-198bf8ee60ad', metadata={'source': 'data/usa.txt'}, page_content='The U.S. maintains its GDP growth through strong innovation, entrepreneurship, and investment in R&D. With companies like Apple, Google, Amazon, Microsoft, and Tesla leading global markets, the U.S.')]"
      ]
     },
     "execution_count": 68,
     "metadata": {},
     "output_type": "execute_result"
    }
   ],
   "source": [
    "# chromadb as retriever\n",
    "data_retriever=vector_store.as_retriever(search_kwargs={\"k\":3})\n",
    "data_retriever.invoke(\"industrial growth of usa?\")"
   ]
  },
  {
   "cell_type": "code",
   "execution_count": 69,
   "id": "8d77e2dc",
   "metadata": {},
   "outputs": [],
   "source": [
    "# create custom state for langgraph\n",
    "import operator\n",
    "from typing import TypedDict, Annotated, Sequence\n",
    "from langchain_core.messages import BaseMessage\n",
    "class AgentState(TypedDict):\n",
    "    messages:Annotated[Sequence[BaseMessage],operator.add]"
   ]
  },
  {
   "cell_type": "code",
   "execution_count": 70,
   "id": "5c1738b3",
   "metadata": {},
   "outputs": [],
   "source": [
    "# supervisor \n",
    "from langchain_core.output_parsers import StrOutputParser\n",
    "from langchain.output_parsers import PydanticOutputParser\n",
    "from langchain.prompts import PromptTemplate\n",
    "supervisor_parser=PydanticOutputParser(pydantic_object=TopicSelector)\n",
    "def supervisor(state:AgentState):\n",
    "    print(\"## supervisor ##\")\n",
    "    question=state[\"messages\"][-1]\n",
    "    print(f\"## supervisor ## question : {question}\")\n",
    "    template=\"\"\"\n",
    "    \n",
    "    You are a smart classifier that categorizes questions based on their relevance to the USA and whether a language model (LLM) can answer them.\n",
    "\n",
    "    Classify the given question into one of the following three categories:\n",
    "\n",
    "    1. USA  - if question related to USA\n",
    "    2. WEB  - if question related to latest news or current affairs\n",
    "    3. LLM  - if none of the above\n",
    "\n",
    "    Respond with ONLY the category number (USA, LLM, or WEB). Also provide reason for selecting the specific category\n",
    "\n",
    "    User query: {question}\n",
    "    {format_instructions}\n",
    "    \"\"\"\n",
    "    \n",
    "    prompt=PromptTemplate(\n",
    "        template=template,\n",
    "        input_variable=[\"question\"],\n",
    "        partial_variables={\"format_instructions\": supervisor_parser.get_format_instructions()}\n",
    "    )\n",
    "    \n",
    "    chain=prompt|model|supervisor_parser\n",
    "    \n",
    "    response=chain.invoke({\"question\":question})\n",
    "    \n",
    "    print(f\"## supervisor ## response : {response}\")\n",
    "    \n",
    "    return {\"messages\":[response.topic]}"
   ]
  },
  {
   "cell_type": "code",
   "execution_count": 71,
   "id": "d7afa958",
   "metadata": {},
   "outputs": [
    {
     "name": "stdout",
     "output_type": "stream",
     "text": [
      "## supervisor ##\n",
      "## supervisor ## question : Tell me about the yesterday plane crash\n",
      "## supervisor ## response : topic='WEB' reason_for_selection='Plane crashes are current events, requiring up-to-date information from the web.'\n"
     ]
    },
    {
     "data": {
      "text/plain": [
       "{'messages': ['WEB']}"
      ]
     },
     "execution_count": 71,
     "metadata": {},
     "output_type": "execute_result"
    }
   ],
   "source": [
    "supervisor({'messages':[\"Tell me about the yesterday plane crash\"]})"
   ]
  },
  {
   "cell_type": "code",
   "execution_count": 72,
   "id": "9d1f2960",
   "metadata": {},
   "outputs": [],
   "source": [
    "# router \n",
    "def router(state:AgentState):\n",
    "    print(\"## router ##\")\n",
    "    last_message=state[\"messages\"][-1]\n",
    "    print(f\"## router ## last_message : {last_message}\")\n",
    "    if \"rag\" in last_message.lower():\n",
    "        return \"rag call\"\n",
    "    elif \"llm\" in last_message.lower():\n",
    "        return \"llm call\"\n",
    "    else :\n",
    "        return \"web call\""
   ]
  },
  {
   "cell_type": "code",
   "execution_count": 73,
   "id": "141ba9ae",
   "metadata": {},
   "outputs": [],
   "source": [
    "from langchain_core.runnables import RunnablePassthrough\n",
    "def format_docs(docs):\n",
    "    return \"\\n\\n\".join(doc.page_content for doc in docs)\n",
    "# rag call\n",
    "def rag_call(state:AgentState):\n",
    "    print(\"## rag_call ##\")\n",
    "    question = state[\"messages\"][0]\n",
    "    print(f\"## rag_call ## question : {question}\")\n",
    "    prompt=PromptTemplate(\n",
    "        template=\"\"\"You are an assistant for question-answering tasks. Use the following pieces of retrieved context to answer the question. If you don't know the answer, just say that you don't know. Use three sentences maximum and keep the answer concise.\\nQuestion: {question} \\nContext: {context} \\nAnswer:\"\"\",\n",
    "        \n",
    "        input_variables=['context', 'question']\n",
    "    )\n",
    "    \n",
    "    rag_chain = (\n",
    "        {\"context\": data_retriever | format_docs, \"question\": RunnablePassthrough()}\n",
    "        | prompt\n",
    "        | model\n",
    "        | StrOutputParser()\n",
    "    )\n",
    "    result = rag_chain.invoke(question)\n",
    "    return  {\"messages\": [result]}"
   ]
  },
  {
   "cell_type": "code",
   "execution_count": 74,
   "id": "3b140171",
   "metadata": {},
   "outputs": [
    {
     "name": "stdout",
     "output_type": "stream",
     "text": [
      "## rag_call ##\n",
      "## rag_call ## question : how are you?\n"
     ]
    },
    {
     "data": {
      "text/plain": [
       "{'messages': ['I am an AI assistant and do not have feelings, so I am not capable of experiencing emotions like \"being.\" I am functioning as expected and ready to assist you.']}"
      ]
     },
     "execution_count": 74,
     "metadata": {},
     "output_type": "execute_result"
    }
   ],
   "source": [
    "rag_call({\"messages\":[\"how are you?\"]})"
   ]
  },
  {
   "cell_type": "code",
   "execution_count": 75,
   "id": "2f2a1519",
   "metadata": {},
   "outputs": [],
   "source": [
    "# web call\n",
    "from langchain_community.tools.tavily_search import TavilySearchResults\n",
    "def web_call(state:AgentState):\n",
    "    print(\"## rag_call ##\")\n",
    "    question = state[\"messages\"][0]\n",
    "    print(f\"## rag_call ## question : {question}\")\n",
    "    # web search tavily\n",
    "    tavily_api_key=os.getenv(\"TAVILY_API_KEY\")\n",
    "    tavily_tool=TavilySearchResults(travily_api_key=tavily_api_key)\n",
    "    result = tavily_tool.run(question)\n",
    "    return {\"messages\": [result]}"
   ]
  },
  {
   "cell_type": "code",
   "execution_count": 76,
   "id": "42118f00",
   "metadata": {},
   "outputs": [
    {
     "name": "stdout",
     "output_type": "stream",
     "text": [
      "## rag_call ##\n",
      "## rag_call ## question : who is winner of 2025 IPL?\n"
     ]
    },
    {
     "data": {
      "text/plain": [
       "{'messages': [[{'title': 'IPL 2025 results: Get all cricket scores, points table, standings and ...',\n",
       "    'url': 'https://www.olympics.com/en/news/ipl-2025-results-cricket-scores-standings-points-table-net-run-rate',\n",
       "    'content': 'The [**IPL 2025**](https://www.olympics.com/en/news/indian-premier-league-ipl-2025-schedule-match-list) concluded on June 3 with Royal Challengers Bengaluru defeating Punjab Kings in the final to lift their maiden title.\\n\\nThis was the 18th edition of the [**Indian Premier League**](https://www.olympics.com/en/news/indian-premier-league-ipl-winners-list-champions) - the world’s most lucrative franchise-based T20 league.\\n\\nRCB became the eighth team to win the IPL trophy. [...] The top two teams - PBKS and RCB - battled it out in Qualifier 1, with the Royal Challengers winning it to earn a direct ticket to the final.\\n\\nHowever, PBKS ended up joining RCB in the finale after defeating MI, who defeated GT in the Eliminator.\\n\\nOverall, MI and CSK are the most successful teams in the IPL with five titles each, followed by KKR with three. RCB, SRH, RR, GT and the now-defunct Deccan Chargers are the other teams who have won the title.',\n",
       "    'score': 0.92005306},\n",
       "   {'title': 'IPL 2025 | Live Score, Schedule, News - ESPNcricinfo',\n",
       "    'url': 'https://www.espncricinfo.com/series/ipl-2025-1449924',\n",
       "    'content': '![Image 59: AskESPNcricinfo Logo](https://wassets.hscicdn.com/static/images/lazyimage-noaspect.svg)\\n\\nWinner\\n\\n[Royal Challengers Bengaluru](https://www.espncricinfo.com/team/royal-challengers-bengaluru-335970 \"Royal Challengers Bengaluru\") [...] Match (N), Lucknow, May 23, 2025, [Indian Premier League](https://www.espncricinfo.com/series/ipl-2025-1449924 \"IPL\") ![Image 57: RCB Flag](https://wassets.hscicdn.com/static/images/lazyimage-transparent.png) SRH **231/6** ![Image 58: RCB Flag](https://wassets.hscicdn.com/static/images/lazyimage-transparent.png) RCB (19.5/20 ov, T:232) **189** SRH won by 42 [...] [![Image 67: AskESPNcricinfo Logo](https://wassets.hscicdn.com/static/images/lazyimage-noaspect.svg) Kohli and Hazlewood finish at No. 3 on IPL 2025 Orange and Purple Cap tables respectively ----------------------------------------------------------------------------------------- B Sai Sudharsan and Prasidh Krishna won the Orange and Purple Caps respectively at the end of IPL',\n",
       "    'score': 0.8875269},\n",
       "   {'title': '2025 Indian Premier League - Wikipedia',\n",
       "    'url': 'https://en.wikipedia.org/wiki/2025_Indian_Premier_League',\n",
       "    'content': '**[Eliminator](https://en.wikipedia.org/wiki/2025_Indian_Premier_League#Eliminator)**EW[Mumbai Indians](https://en.wikipedia.org/wiki/Mumbai_Indians \"Mumbai Indians\")203/6 (20 overs)\\n\\n30 May 2025 – [Mullanpur](https://en.wikipedia.org/wiki/Maharaja_Yadavindra_Singh_International_Cricket_Stadium \"Maharaja Yadavindra Singh International Cricket Stadium\")\\n\\n3[Gujarat Titans](https://en.wikipedia.org/wiki/Gujarat_Titans \"Gujarat Titans\")208/6 (20 overs) [...] Main article: [2025 Indian Premier League final](https://en.wikipedia.org/wiki/2025_Indian_Premier_League_final \"2025 Indian Premier League final\")\\n\\n**Final**\\n\\n 3 June 2025(2025-06-03)\\n\\n19:30 ([N](https://en.wikipedia.org/wiki/Day/night_cricket \"Day/night cricket\")) \\n\\n[Scorecard](https://www.espncricinfo.com/ci/engine/match/1473511.html)\\n\\n**[Royal Challengers Bengaluru](https://en.wikipedia.org/wiki/Royal_Challengers_Bengaluru \"Royal Challengers Bengaluru\")** [...] 242/6 (20 overs)\\n[Ishan Kishan](https://en.wikipedia.org/wiki/Ishan_Kishan \"Ishan Kishan\") 106[*](https://en.wikipedia.org/wiki/Not_out \"Not out\") (47) \\n\\n[Tushar Deshpande](https://en.wikipedia.org/wiki/Tushar_Deshpande \"Tushar Deshpande\") 3/44 (4 overs)[Dhruv Jurel](https://en.wikipedia.org/wiki/Dhruv_Jurel \"Dhruv Jurel\") 70 (35) \\n\\n[Harshal Patel](https://en.wikipedia.org/wiki/Harshal_Patel \"Harshal Patel\") 2/34 (4 overs)\\n\\n**Sunrisers Hyderabad won by 44 runs**',\n",
       "    'score': 0.8684817},\n",
       "   {'title': 'IPL 2025 Awards List: Who won the Orange Cap, Purple Cap ...',\n",
       "    'url': 'https://www.hindustantimes.com/cricket/ipl-2025-awards-list-who-won-the-orange-cap-purple-cap-emerging-player-award-check-full-list-of-winners-101749010568299.html',\n",
       "    'content': '[RCB Victory Parade Live](https://www.hindustantimes.com/cricket/rcb-victory-parade-live-updates-royal-challengers-bengaluru-trophy-bus-parade-ipl-2025-winner-virat-kohli-101749020508285.html)[Virat Kohli](https://www.hindustantimes.com/cricket/youve-made-me-wait-18-years-virat-kohli-bares-raw-emotions-in-rare-instagram-outpouring-after-rcb-s-ipl-title-win-101749006602091.html)[Anushka [...] [RCB Victory Parade Live: 10 killed in stampede as RCB celebrations go haywire](https://www.hindustantimes.com/cricket/rcb-victory-parade-live-updates-royal-challengers-bengaluru-trophy-bus-parade-ipl-2025-winner-virat-kohli-101749020508285.html)\\n\\nUpdated 1 min ago\\n\\nTrending Topics [...] Sharma](https://www.hindustantimes.com/entertainment/bollywood/excited-anushka-sharma-holds-ipl-2025-trophy-with-virat-kohli-fans-gush-rcb-pbks-101749005167815.html)[Samantha Ruth Prabhu](https://www.hindustantimes.com/lifestyle/health/samantha-ruth-prabhu-blasted-by-the-liver-doc-for-selling-fraud-supplements-calls-her-a-science-illiterate-celebrity-101749005915289.html)[Habiba',\n",
       "    'score': 0.8479807},\n",
       "   {'title': 'IPL 2025 Match Results | Full Scorecard & Summaries | IPLT20',\n",
       "    'url': 'https://www.iplt20.com/matches/results',\n",
       "    'content': '[Match Centre](https://www.iplt20.com/match/2025/1866)\\n- Match 67\\n\\n  Narendra Modi Stadium, Ahmedabad\\n\\n  MAY, SUN 25 , 3:30 pm IST\\n\\n  Chennai Super Kings Won by 83 Runs\\n\\n  ![Gujarat Titans](https://scores.iplt20.com/ipl/teamlogos/GT.png?v=1)\\n\\n  ### Gujarat Titans\\n\\n  ### GT\\n\\n      \\n\\n  147\\n\\n   (18.3 OV)\\n\\n  ![Chennai Super Kings](https://scores.iplt20.com/ipl/teamlogos/CSK.png)\\n\\n  ### Chennai Super Kings\\n\\n  ### CSK\\n\\n     \\n\\n  230/5\\n\\n    (20.0 OV ) [...] ![Mumbai Indians](https://scores.iplt20.com/ipl/teamlogos/MI.png)\\n\\n  ### Mumbai Indians\\n\\n  ### MI\\n\\n     \\n\\n  205/5\\n\\n    (20.0 OV )\\n\\n  [Match Centre](https://www.iplt20.com/match/2025/1827)\\n- Match 28\\n\\n  Sawai Mansingh Stadium, Jaipur\\n\\n  APR, SUN 13 , 3:30 pm IST\\n\\n  Royal Challengers Bengaluru Won by 9 Wickets\\n\\n  ![Rajasthan Royals](https://scores.iplt20.com/ipl/teamlogos/sSNjJEkBAx1742900310RR---New-Logo.png)\\n\\n  ### Rajasthan Royals\\n\\n  ### RR\\n\\n  173/4\\n\\n    (20.0 OV) [...] ![Rajasthan Royals](https://scores.iplt20.com/ipl/teamlogos/sSNjJEkBAx1742900310RR---New-Logo.png)\\n\\n  ### Rajasthan Royals\\n\\n  ### RR\\n\\n     \\n\\n  205/4\\n\\n    (20.0 OV )\\n\\n  [Match Centre](https://www.iplt20.com/match/2025/1816)\\n- Match 17\\n\\n  MA Chidambaram Stadium, Chennai\\n\\n  APR, SAT 5 , 3:30 pm IST\\n\\n  Delhi Capitals Won by 25 Runs\\n\\n  ![Chennai Super Kings](https://scores.iplt20.com/ipl/teamlogos/CSK.png)\\n\\n  ### Chennai Super Kings\\n\\n  ### CSK\\n\\n     \\n\\n  158/5\\n\\n    (20.0 OV)',\n",
       "    'score': 0.82795376}]]}"
      ]
     },
     "execution_count": 76,
     "metadata": {},
     "output_type": "execute_result"
    }
   ],
   "source": [
    "web_call({\"messages\":[\"who is winner of 2025 IPL?\"]})"
   ]
  },
  {
   "cell_type": "code",
   "execution_count": 77,
   "id": "c46befd2",
   "metadata": {},
   "outputs": [],
   "source": [
    "from langchain_openai import ChatOpenAI\n",
    "from langchain.tools import Tool\n",
    "from langchain.agents import initialize_agent, AgentType\n",
    "# llm call with tools integration\n",
    "def llm_call(state:AgentState):\n",
    "    print(\"## llm_call ##\")\n",
    "    question = state[\"messages\"][0]\n",
    "    print(f\"## llm_call ## question : {question}\")\n",
    "\n",
    "    llm_template=\"Answer the follow question with you knowledge of the real world. Following is the user question: {question}\" \n",
    "    prompt = PromptTemplate(\n",
    "    template=llm_template,\n",
    "    input_variables=[\"question\"]\n",
    "    )\n",
    "    \n",
    "    chain = prompt | model | StrOutputParser()\n",
    "    response = chain.invoke({\"question\": question})\n",
    "    return {\"messages\": [response]}"
   ]
  },
  {
   "cell_type": "code",
   "execution_count": 78,
   "id": "0f333e53",
   "metadata": {},
   "outputs": [
    {
     "name": "stdout",
     "output_type": "stream",
     "text": [
      "## llm_call ##\n",
      "## llm_call ## question : how are you ?\n"
     ]
    },
    {
     "data": {
      "text/plain": [
       "{'messages': ['As a large language model, I don\\'t experience feelings or emotions like humans do. So, I can\\'t be \"good\" or \"bad\" in the way a person can.\\n\\nHowever, I am functioning as intended and ready to assist you with your requests. Thanks for asking!']}"
      ]
     },
     "execution_count": 78,
     "metadata": {},
     "output_type": "execute_result"
    }
   ],
   "source": [
    "llm_call({\"messages\":[\"how are you ?\"]})"
   ]
  },
  {
   "cell_type": "code",
   "execution_count": 79,
   "id": "d43a2d58",
   "metadata": {},
   "outputs": [],
   "source": [
    "# validation or guard_rail\n",
    "def guard_rail(state:AgentState):\n",
    "    print(\"## guard_rail ##\")\n",
    "    last_message=state[\"messages\"][-1]\n",
    "    print(f\"## guard_rail ## last_message : {last_message}\")\n",
    "    return {\"messages\":[\"pass\"]}\n",
    "\n",
    "from langgraph.graph import StateGraph, START, END    \n",
    "# guard_router\n",
    "def guard_router(state:AgentState):\n",
    "    print(\"## guard_router ##\")\n",
    "    last_message=state[\"messages\"][-1]\n",
    "    print(f\"## guard_router ## last_message : {last_message}\")\n",
    "    if \"pass\" in last_message.lower():\n",
    "        return END\n",
    "    else :\n",
    "        return \"supervisor\""
   ]
  },
  {
   "cell_type": "code",
   "execution_count": 83,
   "id": "eaaaefbe",
   "metadata": {},
   "outputs": [
    {
     "data": {
      "text/plain": [
       "<langgraph.graph.state.StateGraph at 0x323562f10>"
      ]
     },
     "execution_count": 83,
     "metadata": {},
     "output_type": "execute_result"
    }
   ],
   "source": [
    "# langgraph\n",
    "from langgraph.graph import StateGraph, START, END\n",
    "\n",
    "work_flow=StateGraph(AgentState)\n",
    "\n",
    "work_flow.set_entry_point(\"supervisor\")\n",
    "\n",
    "work_flow.add_node(\"supervisor\",supervisor)\n",
    "\n",
    "work_flow.add_node(\"llm\",llm_call)\n",
    "\n",
    "work_flow.add_node(\"rag\",rag_call)\n",
    "\n",
    "work_flow.add_node(\"web\",web_call)\n",
    "\n",
    "work_flow.add_node(\"guard_rail\",guard_rail)\n",
    "\n",
    "work_flow.add_conditional_edges(\n",
    "    \"supervisor\",\n",
    "    router,\n",
    "    {\n",
    "        \"llm call\" : \"llm\",\n",
    "        \"web call\" : \"web\",\n",
    "        \"rag call\" : \"rag\",\n",
    "    }\n",
    ")\n",
    "\n",
    "work_flow.add_edge(\"rag\",\"guard_rail\")\n",
    "\n",
    "work_flow.add_edge(\"llm\",\"guard_rail\")\n",
    "\n",
    "work_flow.add_edge(\"web\",\"guard_rail\")\n",
    "\n",
    "work_flow.add_edge(\"guard_rail\", END)\n",
    "\n",
    "work_flow.add_conditional_edges(\n",
    "    \"guard_rail\",\n",
    "    guard_router,\n",
    "    {\n",
    "        \"pass\" : END,\n",
    "        \"fail\" : \"supervisor\"\n",
    "        \n",
    "    }\n",
    ")\n"
   ]
  },
  {
   "cell_type": "code",
   "execution_count": 84,
   "id": "8282ed2a",
   "metadata": {},
   "outputs": [],
   "source": [
    "# compile graph\n",
    "app = work_flow.compile()"
   ]
  },
  {
   "cell_type": "code",
   "execution_count": 85,
   "id": "8dea7668",
   "metadata": {},
   "outputs": [
    {
     "data": {
      "image/png": "[encoded data removed]",
      "text/plain": [
       "<IPython.core.display.Image object>"
      ]
     },
     "metadata": {},
     "output_type": "display_data"
    }
   ],
   "source": [
    "from IPython.display import display,Image\n",
    "display(Image(app.get_graph().draw_mermaid_png()))"
   ]
  },
  {
   "cell_type": "code",
   "execution_count": 86,
   "id": "a6f3a09d",
   "metadata": {},
   "outputs": [
    {
     "name": "stdout",
     "output_type": "stream",
     "text": [
      "## supervisor ##\n",
      "## supervisor ## question : can you tell me the industrial growth of world's most poor economy?\n",
      "## supervisor ## response : topic='LLM' reason_for_selection='The question is about economic data, which is not specific to the USA and can be answered by a language model with access to relevant information.'\n",
      "## router ##\n",
      "## router ## last_message : LLM\n",
      "## llm_call ##\n",
      "## llm_call ## question : can you tell me the industrial growth of world's most poor economy?\n",
      "## guard_rail ##\n",
      "## guard_rail ## last_message : It's difficult to give a single, definitive answer to the \"industrial growth of the world's most poor economy\" for several reasons:\n",
      "\n",
      "*   **Defining \"Most Poor\":** Poverty is complex and measured in different ways (GDP per capita, poverty rate, Human Development Index, etc.). The country at the very bottom of one list might not be at the bottom of another.\n",
      "*   **Data Availability and Reliability:** The poorest economies often have the weakest statistical infrastructure. Data collection can be infrequent, unreliable, or incomplete. This makes it hard to get accurate and up-to-date figures on industrial growth.\n",
      "*   **Fluctuations:** Economic performance can change rapidly due to factors like conflict, natural disasters, commodity price shocks, or political instability.\n",
      "\n",
      "However, I can provide some general insights based on common understandings of which countries are among the poorest and what their industrial sectors look like:\n",
      "\n",
      "**General Characteristics of Industrial Growth in Very Poor Economies:**\n",
      "\n",
      "*   **Low Base Effect:** Even small increases in industrial output can translate into high percentage growth rates because the starting point is so low.\n",
      "*   **Dependence on Primary Industries:** Many of the poorest economies rely heavily on agriculture, mining, or forestry. Industrial growth is often linked to processing these raw materials (e.g., food processing, basic textiles, sawmills).\n",
      "*   **Informal Sector Dominance:** A large portion of industrial activity may occur in the informal sector (unregistered businesses, small workshops). This makes it difficult to track and regulate.\n",
      "*   **Limited Diversification:** The industrial sector is often concentrated in a few key areas, making the economy vulnerable to shocks in those sectors.\n",
      "*   **Infrastructure Constraints:** Poor infrastructure (roads, electricity, water) is a major obstacle to industrial development.\n",
      "*   **Lack of Skilled Labor:** A shortage of skilled workers and managers can hinder industrial growth.\n",
      "*   **Weak Governance and Corruption:** Corruption, political instability, and weak legal systems can discourage investment and stifle industrial development.\n",
      "*   **External Dependence:** Many poor economies rely on foreign aid, remittances, and foreign investment to support their industrial sectors.\n",
      "\n",
      "**Examples (Illustrative, Not Definitive):**\n",
      "\n",
      "To give you a sense of what this looks like in practice, consider some countries that are frequently cited as being among the poorest:\n",
      "\n",
      "*   **Burundi:** Agriculture dominates, but there are some efforts to develop the mining sector (gold, tantalum). Industrial growth is likely to be volatile and dependent on commodity prices.\n",
      "*   **South Sudan:** Heavily reliant on oil revenues. Industrial development is extremely limited due to conflict and instability.\n",
      "*   **Somalia:** A fragile state with a large informal economy. Some light manufacturing and food processing exist, but industrial growth is hampered by insecurity and lack of infrastructure.\n",
      "*   **Central African Republic:** Rich in natural resources (diamonds, timber), but industrial development is limited by conflict and instability.\n",
      "\n",
      "**How to Find More Specific Information:**\n",
      "\n",
      "1.  **Identify the Country:** Decide which country you want to focus on based on your definition of \"most poor.\"\n",
      "2.  **Consult International Organizations:** Look for reports from the World Bank, the International Monetary Fund (IMF), the United Nations (UN), and regional development banks (e.g., the African Development Bank). These organizations often publish data and analysis on economic growth in developing countries.\n",
      "3.  **Search Academic Databases:** Use academic databases like JSTOR, ScienceDirect, and Google Scholar to find research papers on industrial development in specific countries.\n",
      "4.  **Check Government Websites:** If possible, consult the websites of the country's central bank, ministry of finance, or national statistics office. However, be aware that data may be limited or outdated.\n",
      "\n",
      "**Important Considerations:**\n",
      "\n",
      "*   **Context Matters:** Industrial growth should be considered in the context of the country's overall economic and social development.\n",
      "*   **Sustainability:** It's important to consider whether industrial growth is sustainable and inclusive, benefiting all segments of the population.\n",
      "*   **Beyond GDP:** Focus on indicators beyond GDP, such as employment, poverty reduction, and environmental impact.\n",
      "\n",
      "In conclusion, while I can't give you a precise figure for the industrial growth of \"the world's most poor economy,\" I hope this information provides a useful framework for understanding the challenges and opportunities facing industrial development in the poorest countries. Remember to focus on specific countries and consult reliable sources of data and analysis.\n",
      "## guard_router ##\n",
      "## guard_router ## last_message : pass\n"
     ]
    },
    {
     "ename": "KeyError",
     "evalue": "'__end__'",
     "output_type": "error",
     "traceback": [
      "\u001b[31m---------------------------------------------------------------------------\u001b[39m",
      "\u001b[31mKeyError\u001b[39m                                  Traceback (most recent call last)",
      "\u001b[36mCell\u001b[39m\u001b[36m \u001b[39m\u001b[32mIn[86]\u001b[39m\u001b[32m, line 3\u001b[39m\n\u001b[32m      1\u001b[39m \u001b[38;5;66;03m# run sample app\u001b[39;00m\n\u001b[32m      2\u001b[39m state={\u001b[33m\"\u001b[39m\u001b[33mmessages\u001b[39m\u001b[33m\"\u001b[39m:[\u001b[33m\"\u001b[39m\u001b[33mcan you tell me the industrial growth of world\u001b[39m\u001b[33m'\u001b[39m\u001b[33ms most poor economy?\u001b[39m\u001b[33m\"\u001b[39m]}\n\u001b[32m----> \u001b[39m\u001b[32m3\u001b[39m result=\u001b[43mapp\u001b[49m\u001b[43m.\u001b[49m\u001b[43minvoke\u001b[49m\u001b[43m(\u001b[49m\u001b[43mstate\u001b[49m\u001b[43m)\u001b[49m\n\u001b[32m      4\u001b[39m result\n",
      "\u001b[36mFile \u001b[39m\u001b[32m/opt/miniconda3/envs/agentic_env/lib/python3.11/site-packages/langgraph/pregel/__init__.py:2719\u001b[39m, in \u001b[36mPregel.invoke\u001b[39m\u001b[34m(self, input, config, stream_mode, output_keys, interrupt_before, interrupt_after, checkpoint_during, debug, **kwargs)\u001b[39m\n\u001b[32m   2716\u001b[39m chunks: \u001b[38;5;28mlist\u001b[39m[Union[\u001b[38;5;28mdict\u001b[39m[\u001b[38;5;28mstr\u001b[39m, Any], Any]] = []\n\u001b[32m   2717\u001b[39m interrupts: \u001b[38;5;28mlist\u001b[39m[Interrupt] = []\n\u001b[32m-> \u001b[39m\u001b[32m2719\u001b[39m \u001b[43m\u001b[49m\u001b[38;5;28;43;01mfor\u001b[39;49;00m\u001b[43m \u001b[49m\u001b[43mchunk\u001b[49m\u001b[43m \u001b[49m\u001b[38;5;129;43;01min\u001b[39;49;00m\u001b[43m \u001b[49m\u001b[38;5;28;43mself\u001b[39;49m\u001b[43m.\u001b[49m\u001b[43mstream\u001b[49m\u001b[43m(\u001b[49m\n\u001b[32m   2720\u001b[39m \u001b[43m    \u001b[49m\u001b[38;5;28;43minput\u001b[39;49m\u001b[43m,\u001b[49m\n\u001b[32m   2721\u001b[39m \u001b[43m    \u001b[49m\u001b[43mconfig\u001b[49m\u001b[43m,\u001b[49m\n\u001b[32m   2722\u001b[39m \u001b[43m    \u001b[49m\u001b[43mstream_mode\u001b[49m\u001b[43m=\u001b[49m\u001b[43mstream_mode\u001b[49m\u001b[43m,\u001b[49m\n\u001b[32m   2723\u001b[39m \u001b[43m    \u001b[49m\u001b[43moutput_keys\u001b[49m\u001b[43m=\u001b[49m\u001b[43moutput_keys\u001b[49m\u001b[43m,\u001b[49m\n\u001b[32m   2724\u001b[39m \u001b[43m    \u001b[49m\u001b[43minterrupt_before\u001b[49m\u001b[43m=\u001b[49m\u001b[43minterrupt_before\u001b[49m\u001b[43m,\u001b[49m\n\u001b[32m   2725\u001b[39m \u001b[43m    \u001b[49m\u001b[43minterrupt_after\u001b[49m\u001b[43m=\u001b[49m\u001b[43minterrupt_after\u001b[49m\u001b[43m,\u001b[49m\n\u001b[32m   2726\u001b[39m \u001b[43m    \u001b[49m\u001b[43mcheckpoint_during\u001b[49m\u001b[43m=\u001b[49m\u001b[43mcheckpoint_during\u001b[49m\u001b[43m,\u001b[49m\n\u001b[32m   2727\u001b[39m \u001b[43m    \u001b[49m\u001b[43mdebug\u001b[49m\u001b[43m=\u001b[49m\u001b[43mdebug\u001b[49m\u001b[43m,\u001b[49m\n\u001b[32m   2728\u001b[39m \u001b[43m    \u001b[49m\u001b[43m*\u001b[49m\u001b[43m*\u001b[49m\u001b[43mkwargs\u001b[49m\u001b[43m,\u001b[49m\n\u001b[32m   2729\u001b[39m \u001b[43m\u001b[49m\u001b[43m)\u001b[49m\u001b[43m:\u001b[49m\n\u001b[32m   2730\u001b[39m \u001b[43m    \u001b[49m\u001b[38;5;28;43;01mif\u001b[39;49;00m\u001b[43m \u001b[49m\u001b[43mstream_mode\u001b[49m\u001b[43m \u001b[49m\u001b[43m==\u001b[49m\u001b[43m \u001b[49m\u001b[33;43m\"\u001b[39;49m\u001b[33;43mvalues\u001b[39;49m\u001b[33;43m\"\u001b[39;49m\u001b[43m:\u001b[49m\n\u001b[32m   2731\u001b[39m \u001b[43m        \u001b[49m\u001b[38;5;28;43;01mif\u001b[39;49;00m\u001b[43m \u001b[49m\u001b[43m(\u001b[49m\n\u001b[32m   2732\u001b[39m \u001b[43m            \u001b[49m\u001b[38;5;28;43misinstance\u001b[39;49m\u001b[43m(\u001b[49m\u001b[43mchunk\u001b[49m\u001b[43m,\u001b[49m\u001b[43m \u001b[49m\u001b[38;5;28;43mdict\u001b[39;49m\u001b[43m)\u001b[49m\n\u001b[32m   2733\u001b[39m \u001b[43m            \u001b[49m\u001b[38;5;129;43;01mand\u001b[39;49;00m\u001b[43m \u001b[49m\u001b[43m(\u001b[49m\u001b[43mints\u001b[49m\u001b[43m \u001b[49m\u001b[43m:=\u001b[49m\u001b[43m \u001b[49m\u001b[43mchunk\u001b[49m\u001b[43m.\u001b[49m\u001b[43mget\u001b[49m\u001b[43m(\u001b[49m\u001b[43mINTERRUPT\u001b[49m\u001b[43m)\u001b[49m\u001b[43m)\u001b[49m\u001b[43m \u001b[49m\u001b[38;5;129;43;01mis\u001b[39;49;00m\u001b[43m \u001b[49m\u001b[38;5;129;43;01mnot\u001b[39;49;00m\u001b[43m \u001b[49m\u001b[38;5;28;43;01mNone\u001b[39;49;00m\n\u001b[32m   2734\u001b[39m \u001b[43m        \u001b[49m\u001b[43m)\u001b[49m\u001b[43m:\u001b[49m\n",
      "\u001b[36mFile \u001b[39m\u001b[32m/opt/miniconda3/envs/agentic_env/lib/python3.11/site-packages/langgraph/pregel/__init__.py:2436\u001b[39m, in \u001b[36mPregel.stream\u001b[39m\u001b[34m(self, input, config, stream_mode, output_keys, interrupt_before, interrupt_after, checkpoint_during, debug, subgraphs)\u001b[39m\n\u001b[32m   2434\u001b[39m         \u001b[38;5;28;01mfor\u001b[39;00m task \u001b[38;5;129;01min\u001b[39;00m loop.match_cached_writes():\n\u001b[32m   2435\u001b[39m             loop.output_writes(task.id, task.writes, cached=\u001b[38;5;28;01mTrue\u001b[39;00m)\n\u001b[32m-> \u001b[39m\u001b[32m2436\u001b[39m \u001b[43m        \u001b[49m\u001b[38;5;28;43;01mfor\u001b[39;49;00m\u001b[43m \u001b[49m\u001b[43m_\u001b[49m\u001b[43m \u001b[49m\u001b[38;5;129;43;01min\u001b[39;49;00m\u001b[43m \u001b[49m\u001b[43mrunner\u001b[49m\u001b[43m.\u001b[49m\u001b[43mtick\u001b[49m\u001b[43m(\u001b[49m\n\u001b[32m   2437\u001b[39m \u001b[43m            \u001b[49m\u001b[43m[\u001b[49m\u001b[43mt\u001b[49m\u001b[43m \u001b[49m\u001b[38;5;28;43;01mfor\u001b[39;49;00m\u001b[43m \u001b[49m\u001b[43mt\u001b[49m\u001b[43m \u001b[49m\u001b[38;5;129;43;01min\u001b[39;49;00m\u001b[43m \u001b[49m\u001b[43mloop\u001b[49m\u001b[43m.\u001b[49m\u001b[43mtasks\u001b[49m\u001b[43m.\u001b[49m\u001b[43mvalues\u001b[49m\u001b[43m(\u001b[49m\u001b[43m)\u001b[49m\u001b[43m \u001b[49m\u001b[38;5;28;43;01mif\u001b[39;49;00m\u001b[43m \u001b[49m\u001b[38;5;129;43;01mnot\u001b[39;49;00m\u001b[43m \u001b[49m\u001b[43mt\u001b[49m\u001b[43m.\u001b[49m\u001b[43mwrites\u001b[49m\u001b[43m]\u001b[49m\u001b[43m,\u001b[49m\n\u001b[32m   2438\u001b[39m \u001b[43m            \u001b[49m\u001b[43mtimeout\u001b[49m\u001b[43m=\u001b[49m\u001b[38;5;28;43mself\u001b[39;49m\u001b[43m.\u001b[49m\u001b[43mstep_timeout\u001b[49m\u001b[43m,\u001b[49m\n\u001b[32m   2439\u001b[39m \u001b[43m            \u001b[49m\u001b[43mget_waiter\u001b[49m\u001b[43m=\u001b[49m\u001b[43mget_waiter\u001b[49m\u001b[43m,\u001b[49m\n\u001b[32m   2440\u001b[39m \u001b[43m            \u001b[49m\u001b[43mschedule_task\u001b[49m\u001b[43m=\u001b[49m\u001b[43mloop\u001b[49m\u001b[43m.\u001b[49m\u001b[43maccept_push\u001b[49m\u001b[43m,\u001b[49m\n\u001b[32m   2441\u001b[39m \u001b[43m        \u001b[49m\u001b[43m)\u001b[49m\u001b[43m:\u001b[49m\n\u001b[32m   2442\u001b[39m \u001b[43m            \u001b[49m\u001b[38;5;66;43;03m# emit output\u001b[39;49;00m\n\u001b[32m   2443\u001b[39m \u001b[43m            \u001b[49m\u001b[38;5;28;43;01myield from\u001b[39;49;00m\u001b[43m \u001b[49m\u001b[43moutput\u001b[49m\u001b[43m(\u001b[49m\u001b[43m)\u001b[49m\n\u001b[32m   2444\u001b[39m \u001b[38;5;66;03m# emit output\u001b[39;00m\n",
      "\u001b[36mFile \u001b[39m\u001b[32m/opt/miniconda3/envs/agentic_env/lib/python3.11/site-packages/langgraph/graph/branch.py:174\u001b[39m, in \u001b[36mBranch._route\u001b[39m\u001b[34m(self, input, config, reader, writer)\u001b[39m\n\u001b[32m    172\u001b[39m     value = \u001b[38;5;28minput\u001b[39m\n\u001b[32m    173\u001b[39m result = \u001b[38;5;28mself\u001b[39m.path.invoke(value, config)\n\u001b[32m--> \u001b[39m\u001b[32m174\u001b[39m \u001b[38;5;28;01mreturn\u001b[39;00m \u001b[38;5;28;43mself\u001b[39;49m\u001b[43m.\u001b[49m\u001b[43m_finish\u001b[49m\u001b[43m(\u001b[49m\u001b[43mwriter\u001b[49m\u001b[43m,\u001b[49m\u001b[43m \u001b[49m\u001b[38;5;28;43minput\u001b[39;49m\u001b[43m,\u001b[49m\u001b[43m \u001b[49m\u001b[43mresult\u001b[49m\u001b[43m,\u001b[49m\u001b[43m \u001b[49m\u001b[43mconfig\u001b[49m\u001b[43m)\u001b[49m\n",
      "\u001b[36mFile \u001b[39m\u001b[32m/opt/miniconda3/envs/agentic_env/lib/python3.11/site-packages/langgraph/graph/branch.py:209\u001b[39m, in \u001b[36mBranch._finish\u001b[39m\u001b[34m(self, writer, input, result, config)\u001b[39m\n\u001b[32m    207\u001b[39m     result = [result]\n\u001b[32m    208\u001b[39m \u001b[38;5;28;01mif\u001b[39;00m \u001b[38;5;28mself\u001b[39m.ends:\n\u001b[32m--> \u001b[39m\u001b[32m209\u001b[39m     destinations: Sequence[Union[Send, \u001b[38;5;28mstr\u001b[39m]] = \u001b[43m[\u001b[49m\n\u001b[32m    210\u001b[39m \u001b[43m        \u001b[49m\u001b[43mr\u001b[49m\u001b[43m \u001b[49m\u001b[38;5;28;43;01mif\u001b[39;49;00m\u001b[43m \u001b[49m\u001b[38;5;28;43misinstance\u001b[39;49m\u001b[43m(\u001b[49m\u001b[43mr\u001b[49m\u001b[43m,\u001b[49m\u001b[43m \u001b[49m\u001b[43mSend\u001b[49m\u001b[43m)\u001b[49m\u001b[43m \u001b[49m\u001b[38;5;28;43;01melse\u001b[39;49;00m\u001b[43m \u001b[49m\u001b[38;5;28;43mself\u001b[39;49m\u001b[43m.\u001b[49m\u001b[43mends\u001b[49m\u001b[43m[\u001b[49m\u001b[43mr\u001b[49m\u001b[43m]\u001b[49m\u001b[43m \u001b[49m\u001b[38;5;28;43;01mfor\u001b[39;49;00m\u001b[43m \u001b[49m\u001b[43mr\u001b[49m\u001b[43m \u001b[49m\u001b[38;5;129;43;01min\u001b[39;49;00m\u001b[43m \u001b[49m\u001b[43mresult\u001b[49m\n\u001b[32m    211\u001b[39m \u001b[43m    \u001b[49m\u001b[43m]\u001b[49m\n\u001b[32m    212\u001b[39m \u001b[38;5;28;01melse\u001b[39;00m:\n\u001b[32m    213\u001b[39m     destinations = cast(Sequence[Union[Send, \u001b[38;5;28mstr\u001b[39m]], result)\n",
      "\u001b[36mFile \u001b[39m\u001b[32m/opt/miniconda3/envs/agentic_env/lib/python3.11/site-packages/langgraph/graph/branch.py:210\u001b[39m, in \u001b[36m<listcomp>\u001b[39m\u001b[34m(.0)\u001b[39m\n\u001b[32m    207\u001b[39m     result = [result]\n\u001b[32m    208\u001b[39m \u001b[38;5;28;01mif\u001b[39;00m \u001b[38;5;28mself\u001b[39m.ends:\n\u001b[32m    209\u001b[39m     destinations: Sequence[Union[Send, \u001b[38;5;28mstr\u001b[39m]] = [\n\u001b[32m--> \u001b[39m\u001b[32m210\u001b[39m         r \u001b[38;5;28;01mif\u001b[39;00m \u001b[38;5;28misinstance\u001b[39m(r, Send) \u001b[38;5;28;01melse\u001b[39;00m \u001b[38;5;28;43mself\u001b[39;49m\u001b[43m.\u001b[49m\u001b[43mends\u001b[49m\u001b[43m[\u001b[49m\u001b[43mr\u001b[49m\u001b[43m]\u001b[49m \u001b[38;5;28;01mfor\u001b[39;00m r \u001b[38;5;129;01min\u001b[39;00m result\n\u001b[32m    211\u001b[39m     ]\n\u001b[32m    212\u001b[39m \u001b[38;5;28;01melse\u001b[39;00m:\n\u001b[32m    213\u001b[39m     destinations = cast(Sequence[Union[Send, \u001b[38;5;28mstr\u001b[39m]], result)\n",
      "\u001b[31mKeyError\u001b[39m: '__end__'",
      "During task with name 'guard_rail' and id '19e1cdb3-3c8b-7e20-3dc4-9a0e3173a705'"
     ]
    }
   ],
   "source": [
    "# run sample app\n",
    "state={\"messages\":[\"can you tell me the industrial growth of world's most poor economy?\"]}\n",
    "result=app.invoke(state)\n",
    "result\n"
   ]
  },
  {
   "cell_type": "code",
   "execution_count": null,
   "id": "32e7a90f",
   "metadata": {},
   "outputs": [],
   "source": []
  }
 ],
 "metadata": {
  "kernelspec": {
   "display_name": "agentic_env",
   "language": "python",
   "name": "python3"
  },
  "language_info": {
   "codemirror_mode": {
    "name": "ipython",
    "version": 3
   },
   "file_extension": ".py",
   "mimetype": "text/x-python",
   "name": "python",
   "nbconvert_exporter": "python",
   "pygments_lexer": "ipython3",
   "version": "3.11.11"
  }
 },
 "nbformat": 4,
 "nbformat_minor": 5
}
