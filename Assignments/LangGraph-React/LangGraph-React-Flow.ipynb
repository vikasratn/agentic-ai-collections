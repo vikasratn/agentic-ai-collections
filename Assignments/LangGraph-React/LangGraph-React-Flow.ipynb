{
 "cells": [
  {
   "cell_type": "markdown",
   "id": "18789973",
   "metadata": {},
   "source": [
    "Assignment:\n",
    "    \n",
    "AI Travel Agent & Expense Planner(Purpose: Trip planning for any city worldwide with Realtime data.\")\n",
    "\n",
    "• Real-time weather information\n",
    "• Top attractions and activities\n",
    "• Hotel cost calculation (per day × total days)\n",
    "• Currency conversion to user's native currency\n",
    "• Complete itinerary generation\n",
    "• Total expense calculation\n",
    "• generate a summary of the entire output\n",
    "\n",
    "user_input\n",
    "  |\n",
    "search attraction and activity\n",
    "1. search attracation\n",
    "2. search restaurant\n",
    "3. search activity\n",
    "4. search transportation\n",
    "  |\n",
    "search weather forcasting\n",
    "1. get current weather\n",
    "2. get weather forcast\n",
    "  |\n",
    "search hotel costs\n",
    "1. search hotel\n",
    "2. estimate the hotel cost\n",
    "3. budget_range\n",
    "  |\n",
    "calculate total cost\n",
    "1. add\n",
    "2. multiply\n",
    "3. calculated total cost\n",
    "4. calcualte the daily budget\n",
    "    | \n",
    "currency_converion\n",
    "1. get exchnage rate\n",
    "2. convert currancy\n",
    "    | \n",
    "Itinery generation\n",
    "1. get day plan\n",
    "2. crete full itinery\n",
    "    |\n",
    "create Trip Summary\n",
    "    |\n",
    "Retun complete traval plan\n",
    "\n",
    "Note: if you know the OOPS then design this entire system using object and class in modular fashion"
   ]
  },
  {
   "cell_type": "code",
   "execution_count": 23,
   "id": "8fb07986",
   "metadata": {},
   "outputs": [],
   "source": [
    "# load env\n",
    "from dotenv import load_dotenv\n",
    "import os\n",
    "load_dotenv()\n",
    "\n",
    "os.environ[\"OPENAI_API_KEY\"]=os.getenv(\"OPENAI_API_KEY\")\n",
    "os.environ[\"GROQ_API_KEY\"]=os.getenv(\"GROQ_API_KEY\")\n",
    "os.environ[\"PINECODE_API_KEY\"]=os.getenv(\"PINECODE_API_KEY\")\n",
    "os.environ[\"GOOGLE_API_KEY\"]=os.getenv(\"GOOGLE_API_KEY\")\n",
    "os.environ[\"HUGGINGFACE_API_KEY\"]=os.getenv(\"HUGGINGFACE_API_KEY\")\n",
    "os.environ[\"LANGCHAIN_API_KEY\"]=os.getenv(\"LANGCHAIN_API_KEY\")\n",
    "os.environ[\"LANGCHAIN_PROJECT\"]=os.getenv(\"LANGCHAIN_PROJECT\")\n",
    "os.environ[\"LANGCHAIN_TRACING_V2\"]=os.getenv(\"LANGCHAIN_TRACING_V2\")\n",
    "os.environ[\"TAVILY_API_KEY\"]=os.getenv(\"TAVILY_API_KEY\")"
   ]
  },
  {
   "cell_type": "code",
   "execution_count": 24,
   "id": "fd40e00a",
   "metadata": {},
   "outputs": [],
   "source": [
    "# load llm model\n",
    "from langchain_openai import ChatOpenAI\n",
    "llm=ChatOpenAI(model=\"gpt-4o\", temperature=0)"
   ]
  },
  {
   "cell_type": "code",
   "execution_count": 25,
   "id": "13ed6334",
   "metadata": {},
   "outputs": [],
   "source": [
    "#search attraction and activity\n",
    "#1. search attraction\n",
    "#2. search restaurant\n",
    "#3. search activity\n",
    "#4. search transportation\n",
    "from langchain_core.tools import tool\n",
    "\n",
    "@tool\n",
    "def search_attraction_activity(location:str) ->str:\n",
    "    \"\"\"\n",
    "    search_attraction_activity\n",
    "    \"\"\"\n",
    "    pass"
   ]
  },
  {
   "cell_type": "code",
   "execution_count": 26,
   "id": "343632d4",
   "metadata": {},
   "outputs": [],
   "source": [
    "#search weather forecast\n",
    "#1. get current weather\n",
    "#2. get weather forecast\n",
    "from langchain_core.tools import tool\n",
    "\n",
    "@tool\n",
    "def search_weather_forecast(location:str) ->str:\n",
    "    \"\"\"\n",
    "    search_weather_forecast\n",
    "    \"\"\"\n",
    "    pass"
   ]
  },
  {
   "cell_type": "code",
   "execution_count": 27,
   "id": "515f4bc7",
   "metadata": {},
   "outputs": [],
   "source": [
    "#search hotel costs\n",
    "#1. search hotel\n",
    "#2. estimate the hotel cost\n",
    "#3. budget_range\n",
    "from langchain_core.tools import tool\n",
    "\n",
    "@tool\n",
    "def search_hotel_cost(location:str) ->str:\n",
    "    \"\"\"\n",
    "    search_hotel_cost\n",
    "    \"\"\"\n",
    "    pass"
   ]
  },
  {
   "cell_type": "code",
   "execution_count": 28,
   "id": "64f622d7",
   "metadata": {},
   "outputs": [],
   "source": [
    "#currency_conversion\n",
    "#1. get exchange rate\n",
    "#2. convert currency\n",
    "from langchain_core.tools import tool\n",
    "\n",
    "@tool\n",
    "def currency_conversion(location:str) ->str:\n",
    "    \"\"\"\n",
    "    currency_conversion\n",
    "    \"\"\"\n",
    "    pass"
   ]
  },
  {
   "cell_type": "code",
   "execution_count": 29,
   "id": "53a19a24",
   "metadata": {},
   "outputs": [],
   "source": [
    "# define calculator tools\n",
    "from langchain_core.tools import tool\n",
    "\n",
    "@tool\n",
    "def add(a : int, b : int) -> int:\n",
    "    \"\"\"\n",
    "    Add two integers.\n",
    "\n",
    "    Args:\n",
    "        a (int): The first integer.\n",
    "        b (int): The second integer.\n",
    "\n",
    "    Returns:\n",
    "        int: The addition of a and b.\n",
    "    \"\"\"\n",
    "    return a+b\n",
    "\n",
    "@tool\n",
    "def subtract(a : int, b : int) -> int:\n",
    "    \"\"\"\n",
    "    Subtract two integers.\n",
    "\n",
    "    Args:\n",
    "        a (int): The first integer.\n",
    "        b (int): The second integer.\n",
    "\n",
    "    Returns:\n",
    "        int: The subtraction of a and b.\n",
    "    \"\"\"\n",
    "    return a-b\n",
    "\n",
    "@tool\n",
    "def multiply(a : int, b : int) -> int:\n",
    "    \"\"\"\n",
    "    Multiply two integers.\n",
    "\n",
    "    Args:\n",
    "        a (int): The first integer.\n",
    "        b (int): The second integer.\n",
    "\n",
    "    Returns:\n",
    "        int: The product of a and b.\n",
    "    \"\"\"\n",
    "    return a*b\n",
    "\n",
    "@tool\n",
    "def divide(a : int, b : int) -> float:\n",
    "    \"\"\"\n",
    "    Divide two integers.\n",
    "\n",
    "    Args:\n",
    "        a (int): The first integer.\n",
    "        b (int): The second integer.\n",
    "\n",
    "    Returns:\n",
    "        int: The division of a and b.\n",
    "    \"\"\"\n",
    "    if b == 0:\n",
    "        raise ValueError(\"Denominator cannot be zero.\")\n",
    "    return a/b"
   ]
  },
  {
   "cell_type": "code",
   "execution_count": 32,
   "id": "19f8cedc",
   "metadata": {},
   "outputs": [],
   "source": [
    "tools=[add,subtract,multiply,divide,search_attraction_activity,currency_conversion,search_hotel_cost,search_weather_forecast]"
   ]
  },
  {
   "cell_type": "code",
   "execution_count": 33,
   "id": "83b512fb",
   "metadata": {},
   "outputs": [],
   "source": [
    "from langchain_core.messages import HumanMessage, SystemMessage\n",
    "from langgraph.graph import MessagesState,StateGraph, START, END\n",
    "from langgraph.prebuilt import ToolNode, tools_condition\n",
    "\n",
    "tool_node=ToolNode(tools)\n",
    "def supervisor(state:MessagesState):\n",
    "    last_message=state[\"messages\"]\n",
    "    print(f\"##supervisor## {last_message}\")\n",
    "    system_prompt=\"You are a helpful assistant tasked with using search and performing arithmetic on a set of inputs.\"\n",
    "    user_query=[system_prompt]+last_message\n",
    "    response=llm_with_tools.invoke(user_query)\n",
    "    return {\"messages\":[response]}"
   ]
  },
  {
   "cell_type": "code",
   "execution_count": 34,
   "id": "61073641",
   "metadata": {},
   "outputs": [],
   "source": [
    "graph=StateGraph(MessagesState)\n",
    "\n",
    "graph.add_node(\"supervisor\",supervisor)\n",
    "\n",
    "graph.add_node(\"tools\",tool_node)\n",
    "\n",
    "graph.set_entry_point(\"supervisor\")\n",
    "\n",
    "graph.add_conditional_edges(\"supervisor\",tools_condition)\n",
    "\n",
    "graph.add_edge(\"tools\",\"supervisor\")\n",
    "\n",
    "work_flow=graph.compile()"
   ]
  },
  {
   "cell_type": "code",
   "execution_count": 35,
   "id": "3c52e737",
   "metadata": {},
   "outputs": [
    {
     "data": {
      "image/png": "[encoded data removed]",
      "text/plain": [
       "<IPython.core.display.Image object>"
      ]
     },
     "metadata": {},
     "output_type": "display_data"
    }
   ],
   "source": [
    "from IPython.display import Image, display\n",
    "display(Image(work_flow.get_graph().draw_mermaid_png()))"
   ]
  }
 ],
 "metadata": {
  "kernelspec": {
   "display_name": "agentic_env",
   "language": "python",
   "name": "python3"
  },
  "language_info": {
   "codemirror_mode": {
    "name": "ipython",
    "version": 3
   },
   "file_extension": ".py",
   "mimetype": "text/x-python",
   "name": "python",
   "nbconvert_exporter": "python",
   "pygments_lexer": "ipython3",
   "version": "3.11.11"
  }
 },
 "nbformat": 4,
 "nbformat_minor": 5
}
