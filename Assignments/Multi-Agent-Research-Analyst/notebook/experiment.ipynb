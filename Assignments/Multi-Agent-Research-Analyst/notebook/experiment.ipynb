{
 "cells": [
  {
   "cell_type": "code",
   "execution_count": 2,
   "metadata": {},
   "outputs": [],
   "source": [
    "from dotenv import load_dotenv\n",
    "import os\n",
    "load_dotenv()\n",
    "os.environ[\"OPENAI_API_KEY\"]=os.getenv(\"OPENAI_API_KEY\")\n",
    "os.environ[\"GROQ_API_KEY\"]=os.getenv(\"GROQ_API_KEY\")\n",
    "os.environ[\"PINECODE_API_KEY\"]=os.getenv(\"PINECODE_API_KEY\")\n",
    "os.environ[\"GOOGLE_API_KEY\"]=os.getenv(\"GOOGLE_API_KEY\")\n",
    "os.environ[\"HUGGINGFACE_API_KEY\"]=os.getenv(\"HUGGINGFACE_API_KEY\")\n",
    "os.environ[\"LANGCHAIN_API_KEY\"]=os.getenv(\"LANGCHAIN_API_KEY\")\n",
    "os.environ[\"LANGCHAIN_PROJECT\"]=os.getenv(\"LANGCHAIN_PROJECT\")\n",
    "os.environ[\"LANGCHAIN_TRACING_V2\"]=os.getenv(\"LANGCHAIN_TRACING_V2\")"
   ]
  },
  {
   "cell_type": "code",
   "execution_count": 5,
   "metadata": {},
   "outputs": [
    {
     "name": "stdout",
     "output_type": "stream",
     "text": [
      "/Users/midas-ai/Documents/Personal/agentic-ai-2.0-course/agentic-ai-collections/Assignments/Multi-Agent-Research-Analyst/notebook\n"
     ]
    }
   ],
   "source": [
    "import os\n",
    "print(os.getcwd())"
   ]
  },
  {
   "cell_type": "code",
   "execution_count": 8,
   "metadata": {},
   "outputs": [
    {
     "data": {
      "text/plain": [
       "ChatOpenAI(client=<openai.resources.chat.completions.completions.Completions object at 0x11ba02790>, async_client=<openai.resources.chat.completions.completions.AsyncCompletions object at 0x11ba00090>, root_client=<openai.OpenAI object at 0x10a29db90>, root_async_client=<openai.AsyncOpenAI object at 0x11a373410>, model_name='gpt-4o', model_kwargs={}, openai_api_key=SecretStr('**********'))"
      ]
     },
     "execution_count": 8,
     "metadata": {},
     "output_type": "execute_result"
    }
   ],
   "source": [
    "#from util.model_loader import ModelLoader\n",
    "\n",
    "#model_loader = ModelLoader(model_provider=\"openai\")\n",
    "#llm = model_loader.load_llm()\n",
    "from langchain_openai import ChatOpenAI\n",
    "llm=ChatOpenAI(model=\"gpt-4o\")\n",
    "llm\n"
   ]
  },
  {
   "cell_type": "code",
   "execution_count": 11,
   "metadata": {},
   "outputs": [],
   "source": [
    "\n",
    "SYSTEM_ROUTER_PROMPT = \"\"\"You are a supervisor agent responsible for categorizing user messages into one of the following three categories:\n",
    "\t•\t\"research_supervisor\"\n",
    "\t•\t\"reporting_supervisor\"\n",
    "\t•\t\"FINISH\"\n",
    "\n",
    "Follow these classification rules strictly:\n",
    "\t1.\tCarefully review the entire content of the message.\n",
    "\t2.\tIf the message refers to tasks such as exploration, investigation, analysis, literature review, or information gathering, categorize it as \"research_supervisor\".\n",
    "\t3.\tIf the message refers to tasks like writing, summarizing findings, compiling results, generating reports, or presenting outcomes, categorize it as \"reporting_supervisor\".\n",
    "\t4.\tIf the message does not fall under either of the above categories, categorize it as \"FINISH\".\n",
    "\n",
    "Respond with only one of the following exact strings, without any additional text or explanation:\n",
    "\t•\tresearch_supervisor\n",
    "\t•\treporting_supervisor\n",
    "\t•\tFINISH\n",
    "\"\"\""
   ]
  },
  {
   "cell_type": "code",
   "execution_count": 17,
   "metadata": {},
   "outputs": [
    {
     "name": "stdout",
     "output_type": "stream",
     "text": [
      "**********BELOW IS MY GOTO***************\n",
      "research_supervisor\n"
     ]
    }
   ],
   "source": [
    "\n",
    "from typing import Literal\n",
    "from typing import Literal, TypedDict\n",
    "\n",
    "class Router(TypedDict):\n",
    "    next: Literal['research_supervisor', 'reporting_supervisor', 'FINSIH']  = \"FINSIH\"\n",
    "\n",
    "\n",
    "user_message = \"Can you analyze recent trends in LLM accuracy across benchmarks?\"\n",
    "messages = [{\"role\": \"system\", \"content\": SYSTEM_ROUTER_PROMPT},] + [{\"role\": \"user\", \"content\": user_message},] \n",
    "llm_with_structure_output=llm.with_structured_output(Router)\n",
    "response=llm_with_structure_output.invoke(messages)\n",
    "goto=response[\"next\"]\n",
    "print(\"**********BELOW IS MY GOTO***************\")\n",
    "print(goto)"
   ]
  },
  {
   "cell_type": "code",
   "execution_count": 44,
   "metadata": {},
   "outputs": [],
   "source": [
    "from langgraph.graph import MessagesState\n",
    "from langgraph.graph import MessagesState,StateGraph,END,START\n",
    "from langchain_core.messages import BaseMessage, HumanMessage\n",
    "from langgraph.types import Command\n",
    "from IPython.display import Image, display\n",
    "\n",
    "class AgentState(MessagesState):\n",
    "    next:str\n",
    "    \n",
    "def supervisor_agent(self,state:AgentState)->Command[Literal['research_supervisor', 'reporting_supervisor', '__end__']]:\n",
    "        messages = [{\"role\": \"system\", \"content\": SYSTEM_ROUTER_PROMPT},] + state[\"messages\"]\n",
    "        llm_with_structure_output=self.llm.with_structured_output(Router)\n",
    "        response=llm_with_structure_output.invoke(messages)\n",
    "        goto=response[\"next\"]\n",
    "        print(\"**********BELOW IS MY GOTO***************\")\n",
    "        print(goto)\n",
    "        if goto == \"FINISH\":\n",
    "            goto=\"__end__\"\n",
    "        return Command(goto=goto, update={\"next\":goto})\n",
    "    \n",
    "def research_supervisor(self,state:AgentState)->Command[Literal['pharma_research', 'financial_research', 'supervisor']]:\n",
    "    goto=\"\"\n",
    "    return Command(goto=goto, update={\"next\":goto})\n",
    "\n",
    "def pharma_research_agent(state:AgentState)->Command[Literal['research_supervisor']]:\n",
    "\n",
    "    return Command(\n",
    "        update={\n",
    "            \"messages\": [\n",
    "                HumanMessage(content=result[\"messages\"][-1].content, name=\"coder\")\n",
    "            ]\n",
    "        },\n",
    "        goto=\"research_supervisor\",\n",
    "    )\n",
    "\n",
    "def financial_research_agent(state:AgentState)->Command[Literal['research_supervisor']]:\n",
    "\n",
    "    return Command(\n",
    "        update={\n",
    "            \"messages\": [\n",
    "                HumanMessage(content=result[\"messages\"][-1].content, name=\"coder\")\n",
    "            ]\n",
    "        },\n",
    "        goto=\"research_supervisor\",\n",
    "    )\n",
    "\n",
    "\n",
    "def reporting_supervisor(self,state:AgentState)->Command[Literal['report_creator', 'document_generator', 'supervisor']]:\n",
    "    goto=\"\"\n",
    "    return Command(goto=goto, update={\"next\":goto})\n",
    "\n",
    "\n",
    "def report_creator_agent(state:AgentState)->Command[Literal['reporting_supervisor']]:\n",
    "\n",
    "    return Command(\n",
    "        update={\n",
    "            \"messages\": [\n",
    "                HumanMessage(content=result[\"messages\"][-1].content, name=\"coder\")\n",
    "            ]\n",
    "        },\n",
    "        goto=\"reporting_supervisor\",\n",
    "    )\n",
    "\n",
    "def document_generator_agent(state:AgentState)->Command[Literal['reporting_supervisor']]:\n",
    "\n",
    "    return Command(\n",
    "        update={\n",
    "            \"messages\": [\n",
    "                HumanMessage(content=result[\"messages\"][-1].content, name=\"coder\")\n",
    "            ]\n",
    "        },\n",
    "        goto=\"reporting_supervisor\",\n",
    "    )\n",
    "\n",
    "\n",
    "\n",
    "    \n",
    "    "
   ]
  },
  {
   "cell_type": "code",
   "execution_count": 45,
   "metadata": {},
   "outputs": [
    {
     "name": "stdout",
     "output_type": "stream",
     "text": [
      "{('__start__', 'supervisor')}\n"
     ]
    }
   ],
   "source": [
    "from langgraph.graph import START\n",
    "a2a_graph = StateGraph(AgentState)\n",
    "\n",
    "a2a_graph.add_node(\"supervisor\",supervisor_agent)\n",
    "a2a_graph.add_node(\"research_supervisor\",research_supervisor)\n",
    "a2a_graph.add_node(\"pharma_research\",pharma_research_agent)\n",
    "a2a_graph.add_node(\"financial_research\",financial_research_agent)\n",
    "\n",
    "a2a_graph.add_node(\"reporting_supervisor\",reporting_supervisor)\n",
    "a2a_graph.add_node(\"report_creator\",report_creator_agent)\n",
    "a2a_graph.add_node(\"document_generator\",document_generator_agent)\n",
    "\n",
    "a2a_graph.set_entry_point(\"supervisor\")\n",
    "\n",
    "print(a2a_graph.edges) \n",
    "\n",
    "a2a_app=a2a_graph.compile()\n",
    "\n"
   ]
  },
  {
   "cell_type": "code",
   "execution_count": 46,
   "metadata": {},
   "outputs": [
    {
     "data": {
      "image/png": "[encoded data removed]",
      "text/plain": [
       "<IPython.core.display.Image object>"
      ]
     },
     "metadata": {},
     "output_type": "display_data"
    }
   ],
   "source": [
    "display(Image(a2a_app.get_graph(xray=True).draw_mermaid_png()))"
   ]
  }
 ],
 "metadata": {
  "kernelspec": {
   "display_name": "agentic_env",
   "language": "python",
   "name": "python3"
  },
  "language_info": {
   "codemirror_mode": {
    "name": "ipython",
    "version": 3
   },
   "file_extension": ".py",
   "mimetype": "text/x-python",
   "name": "python",
   "nbconvert_exporter": "python",
   "pygments_lexer": "ipython3",
   "version": "3.11.11"
  },
  "orig_nbformat": 4
 },
 "nbformat": 4,
 "nbformat_minor": 2
}
