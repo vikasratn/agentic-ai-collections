{
 "cells": [
  {
   "cell_type": "markdown",
   "id": "1b7ff021",
   "metadata": {},
   "source": [
    "### Assisgment:\n",
    "Create a simple assistant that uses any LLM and should be pydantic, when we ask about any product it should give you two information product Name, product details tentative price in USD (integer). use chat Prompt Template."
   ]
  },
  {
   "cell_type": "code",
   "execution_count": 9,
   "id": "e88632c7",
   "metadata": {},
   "outputs": [],
   "source": [
    "from dotenv import load_dotenv\n",
    "import os\n",
    "load_dotenv()\n",
    "\n",
    "os.environ[\"OPENAI_API_KEY\"]=os.getenv(\"OPENAI_API_KEY\")\n",
    "os.environ[\"GROQ_API_KEY\"]=os.getenv(\"GROQ_API_KEY\")\n",
    "os.environ[\"PINECODE_API_KEY\"]=os.getenv(\"PINECODE_API_KEY\")\n",
    "os.environ[\"GOOGLE_API_KEY\"]=os.getenv(\"GOOGLE_API_KEY\")\n",
    "os.environ[\"HUGGINGFACE_API_KEY\"]=os.getenv(\"HUGGINGFACE_API_KEY\")\n",
    "os.environ[\"LANGCHAIN_API_KEY\"]=os.getenv(\"LANGCHAIN_API_KEY\")\n",
    "os.environ[\"LANGCHAIN_PROJECT\"]=os.getenv(\"LANGCHAIN_PROJECT\")\n",
    "os.environ[\"LANGCHAIN_TRACING_V2\"]=os.getenv(\"LANGCHAIN_TRACING_V2\")"
   ]
  },
  {
   "cell_type": "code",
   "execution_count": 14,
   "id": "f9a38de3",
   "metadata": {},
   "outputs": [],
   "source": [
    "from langchain_core.prompts import PromptTemplate\n",
    "from pydantic import BaseModel,Field\n",
    "from typing import Optional, List\n",
    "from langchain_groq import ChatGroq\n"
   ]
  },
  {
   "cell_type": "code",
   "execution_count": 25,
   "id": "5da0e69d",
   "metadata": {},
   "outputs": [],
   "source": [
    "class Product(BaseModel):\n",
    "    name:str = Field(description=\"Name of the product\" , max_length=10 , min_length=4)\n",
    "    price_usd:float = Field(default=10.25 ,description=\"Price of the product in USD\")\n",
    "    features:List[str]=Field(description=\"Top 10 Key features of the product\")"
   ]
  },
  {
   "cell_type": "code",
   "execution_count": 12,
   "id": "158a235d",
   "metadata": {},
   "outputs": [],
   "source": [
    "model = ChatGroq(model=\"qwen-qwq-32b\")"
   ]
  },
  {
   "cell_type": "code",
   "execution_count": 20,
   "id": "2df4652b",
   "metadata": {},
   "outputs": [],
   "source": [
    "from langchain_core.prompts import PromptTemplate\n",
    "from langchain_core.output_parsers import JsonOutputParser\n",
    "\n",
    "# Set up a parser + inject instructions into the prompt template.\n",
    "output_parser=JsonOutputParser(pydantic_object=Product)\n",
    "prompt = PromptTemplate(\n",
    "    template=\"\"\"You are a Product Specialist for consumer electronics product. \n",
    "    {format_instructions}\n",
    "    Tell me about {product}\"\"\",\n",
    "    input_variables=[\"product\"],\n",
    "    partial_variables={\"format_instructions\":output_parser.get_format_instructions}\n",
    ")"
   ]
  },
  {
   "cell_type": "code",
   "execution_count": 26,
   "id": "d85b4122",
   "metadata": {},
   "outputs": [
    {
     "name": "stdout",
     "output_type": "stream",
     "text": [
      "{'name': 'iPhone 16', 'price_usd': 999.0, 'features': ['6.2-inch OLED Dynamic Island display', '48MP main camera with Cinematic Mode', 'A17 Bionic chip for advanced AI capabilities', 'IP68 water resistance with deeper depth rating', 'Longer battery life and USB-C charging']}\n"
     ]
    }
   ],
   "source": [
    "chain = prompt | model | output_parser\n",
    "\n",
    "response = chain.invoke({\"product\":\"iPhone 16\"})\n",
    "\n",
    "print(response)"
   ]
  },
  {
   "cell_type": "code",
   "execution_count": 27,
   "id": "b5491526",
   "metadata": {},
   "outputs": [
    {
     "data": {
      "text/plain": [
       "<bound method JsonOutputParser.get_format_instructions of JsonOutputParser(pydantic_object=<class '__main__.Product'>)>"
      ]
     },
     "execution_count": 27,
     "metadata": {},
     "output_type": "execute_result"
    }
   ],
   "source": [
    "output_parser.get_format_instructions"
   ]
  },
  {
   "cell_type": "code",
   "execution_count": null,
   "id": "b82c7283",
   "metadata": {},
   "outputs": [],
   "source": []
  }
 ],
 "metadata": {
  "kernelspec": {
   "display_name": "agentic_env",
   "language": "python",
   "name": "python3"
  },
  "language_info": {
   "codemirror_mode": {
    "name": "ipython",
    "version": 3
   },
   "file_extension": ".py",
   "mimetype": "text/x-python",
   "name": "python",
   "nbconvert_exporter": "python",
   "pygments_lexer": "ipython3",
   "version": "3.11.11"
  }
 },
 "nbformat": 4,
 "nbformat_minor": 5
}
