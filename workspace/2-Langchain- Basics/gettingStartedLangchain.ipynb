{
 "cells": [
  {
   "cell_type": "markdown",
   "id": "513efd13",
   "metadata": {},
   "source": [
    "Langchain Basics"
   ]
  },
  {
   "cell_type": "code",
   "execution_count": 3,
   "id": "624568f0",
   "metadata": {},
   "outputs": [
    {
     "data": {
      "text/plain": [
       "True"
      ]
     },
     "execution_count": 3,
     "metadata": {},
     "output_type": "execute_result"
    }
   ],
   "source": [
    "from dotenv import load_dotenv\n",
    "import os\n",
    "load_dotenv()"
   ]
  },
  {
   "cell_type": "code",
   "execution_count": 12,
   "id": "ca784b92",
   "metadata": {},
   "outputs": [],
   "source": [
    "os.environ[\"OPENAI_API_KEY\"]=os.getenv(\"OPENAI_API_KEY\")\n",
    "os.environ[\"GROQ_API_KEY\"]=os.getenv(\"GROQ_API_KEY\")\n",
    "os.environ[\"PINECODE_API_KEY\"]=os.getenv(\"PINECODE_API_KEY\")\n",
    "os.environ[\"GOOGLE_API_KEY\"]=os.getenv(\"GOOGLE_API_KEY\")\n",
    "os.environ[\"HUGGINGFACE_API_KEY\"]=os.getenv(\"HUGGINGFACE_API_KEY\")\n",
    "os.environ[\"LANGCHAIN_API_KEY\"]=os.getenv(\"LANGCHAIN_API_KEY\")\n",
    "os.environ[\"LANGCHAIN_PROJECT\"]=os.getenv(\"LANGCHAIN_PROJECT\")\n",
    "os.environ[\"LANGCHAIN_TRACING_V2\"]=os.getenv(\"LANGCHAIN_TRACING_V2\")\n"
   ]
  },
  {
   "cell_type": "code",
   "execution_count": 14,
   "id": "bbd05a02",
   "metadata": {},
   "outputs": [],
   "source": [
    "from langchain_openai import ChatOpenAI"
   ]
  },
  {
   "cell_type": "code",
   "execution_count": null,
   "id": "b1cc7740",
   "metadata": {},
   "outputs": [],
   "source": [
    "open_ai_llm = ChatOpenAI(model=\"o1-mini\")"
   ]
  },
  {
   "cell_type": "code",
   "execution_count": 17,
   "id": "60090457",
   "metadata": {},
   "outputs": [
    {
     "data": {
      "text/plain": [
       "AIMessage(content='**Agentic AI** refers to artificial intelligence systems designed with a degree of autonomy and the capability to act independently to achieve specific goals. The term \"agentic\" derives from \"agency,\" which in this context means the capacity of an AI to make decisions, take actions, and adapt to changing environments without continuous human intervention. Agentic AI systems are often characterized by their ability to perceive their environment, reason about it, make decisions, and execute actions to fulfill their objectives.\\n\\n### Key Characteristics of Agentic AI\\n\\n1. **Autonomy:** Agentic AI operates independently, making decisions without needing constant human guidance. This autonomy allows AI agents to perform tasks in dynamic environments where human oversight might be impractical.\\n\\n2. **Goal-Oriented Behavior:** These AI systems are designed with specific objectives or goals. They continuously work towards achieving these goals by adapting their actions based on real-time data and feedback.\\n\\n3. **Perception and Adaptation:** Agentic AI can sense and interpret information from its environment through various sensors or data inputs. It uses this information to adapt its behavior dynamically, improving performance over time.\\n\\n4. **Decision-Making Capabilities:** Incorporating advanced algorithms, including machine learning and reinforcement learning, agentic AI can evaluate multiple options and choose the most effective course of action to achieve its objectives.\\n\\n5. **Learning and Improvement:** These AI systems are often capable of learning from experiences, allowing them to enhance their performance, optimize strategies, and handle novel situations more effectively.\\n\\n### Applications of Agentic AI\\n\\n1. **Autonomous Vehicles:** Self-driving cars are a prime example of agentic AI. They navigate roads, make real-time decisions based on traffic conditions, and interact with other vehicles and pedestrians without human intervention.\\n\\n2. **Robotics:** In manufacturing, logistics, and healthcare, robots equipped with agentic AI can perform complex tasks, adapt to changes in their environment, and collaborate with humans and other robots seamlessly.\\n\\n3. **Personal Assistants:** Advanced virtual assistants like Siri, Alexa, or Google Assistant are evolving towards greater agency, enabling them to perform tasks proactively, manage schedules, and anticipate user needs.\\n\\n4. **Financial Trading:** Agentic AI systems can analyze market data, identify trends, execute trades, and manage investment portfolios with minimal human oversight, often reacting to market changes faster than human traders.\\n\\n5. **Healthcare Management:** AI agents can monitor patient health data, make recommendations for treatment plans, manage administrative tasks, and even assist in diagnostics by analyzing medical images and records.\\n\\n### Ethical Considerations and Challenges\\n\\nWhile agentic AI offers numerous benefits, it also raises several ethical and practical challenges:\\n\\n1. **Accountability:** Determining responsibility for actions taken by autonomous AI systems can be complex, especially in scenarios where decisions lead to unintended consequences.\\n\\n2. **Bias and Fairness:** AI agents can inherit biases present in their training data or algorithms, potentially leading to unfair or discriminatory outcomes.\\n\\n3. **Security:** Autonomous systems may be vulnerable to hacking, manipulation, or misuse, posing risks to safety and privacy.\\n\\n4. **Job Displacement:** Increased automation through agentic AI could lead to significant shifts in the job market, affecting employment in various sectors.\\n\\n5. **Transparency:** Ensuring that AI decision-making processes are transparent and understandable to humans is crucial for trust and reliability.\\n\\n### Future Directions\\n\\nThe development of agentic AI is an ongoing area of research and innovation. Future advancements may focus on enhancing the adaptability, efficiency, and ethical alignment of these systems. Integrating more sophisticated forms of machine learning, improving human-AI collaboration, and establishing robust regulatory frameworks are likely to be key areas of focus to harness the potential of agentic AI responsibly.\\n\\n### Conclusion\\n\\nAgentic AI represents a significant evolution in artificial intelligence, emphasizing autonomy and proactive decision-making capabilities. By enabling AI systems to act independently towards defined goals, agentic AI holds the promise of transforming industries, improving efficiencies, and enabling new applications. However, it also necessitates careful consideration of ethical, legal, and societal implications to ensure that these powerful technologies are developed and deployed in ways that benefit humanity.', additional_kwargs={'refusal': None}, response_metadata={'token_usage': {'completion_tokens': 963, 'prompt_tokens': 13, 'total_tokens': 976, 'completion_tokens_details': {'accepted_prediction_tokens': 0, 'audio_tokens': 0, 'reasoning_tokens': 128, 'rejected_prediction_tokens': 0}, 'prompt_tokens_details': {'audio_tokens': 0, 'cached_tokens': 0}}, 'model_name': 'o1-mini-2024-09-12', 'system_fingerprint': 'fp_3da8b0b088', 'id': 'chatcmpl-BdavAJ3DeqHxzaflcylmWD2fjwqG8', 'service_tier': 'default', 'finish_reason': 'stop', 'logprobs': None}, id='run--3d107e64-1759-4597-9473-8f41b6d4d327-0', usage_metadata={'input_tokens': 13, 'output_tokens': 963, 'total_tokens': 976, 'input_token_details': {'audio': 0, 'cache_read': 0}, 'output_token_details': {'audio': 0, 'reasoning': 128}})"
      ]
     },
     "execution_count": 17,
     "metadata": {},
     "output_type": "execute_result"
    }
   ],
   "source": [
    "open_ai_result=open_ai_llm.invoke(\"What is Agentic AI?\")\n",
    "print(open_ai_result)"
   ]
  },
  {
   "cell_type": "code",
   "execution_count": 19,
   "id": "3f9cdc31",
   "metadata": {},
   "outputs": [
    {
     "name": "stdout",
     "output_type": "stream",
     "text": [
      "content='\\n<think>\\nOkay, so I need to explain what Agentic AI is. Hmm, I remember hearing the term in some tech articles, but I\\'m not entirely sure. Let me start by breaking down the term. \"Agentic\" probably comes from \"agent,\" right? Like an agent that does tasks. So maybe Agentic AI refers to AI systems that act as agents, performing tasks on their own. \\n\\nI think I read something about autonomous AI agents. Maybe Agentic AI is a type of AI that can operate independently, making decisions and taking actions without constant human intervention. But how is this different from other types of AI?\\n\\nWait, there\\'s also something about multi-agent systems. Are those related? Multi-agent systems involve multiple AI agents interacting, maybe collaborating or competing. But Agentic AI might be more about the individual agent\\'s capabilities. \\n\\nI should also consider if there\\'s a specific definition from experts or companies. I recall that Elon Musk mentioned something called XAI (Explainable AI) but that\\'s different. Maybe OpenAI or DeepMind have talked about agentic AI. Oh, right, OpenAI\\'s Codex and DALL-E are models that can generate code or images, but are they considered agentic?\\n\\nWait, the term might be related to the concept of an \"artificial general intelligence\" (AGI), which is a system with human-like intelligence. But Agentic AI could be a step towards that, focusing on creating autonomous agents. \\n\\nAlso, there\\'s the idea of reinforcement learning, where agents learn through rewards. Maybe Agentic AI uses those principles to learn and adapt autonomously. \\n\\nLet me check some sources. According to some articles, Agentic AI refers to AI systems designed to act as agents in an environment, capable of decision-making, planning, and acting to achieve specific goals. They can sense their environment and take actions to maximize their chances of success. \\n\\nApplications might include things like self-driving cars, which use AI to navigate, or personal assistants like Siri or Alexa that can perform tasks based on user commands. But maybe Agentic AI is more advanced, like AI that can set its own goals or work in unpredictable environments. \\n\\nI should also think about the components. An agent typically has perception, decision-making, and action components. So Agentic AI would integrate these, using sensors to perceive the environment, algorithms to decide on actions, and actuators to perform them. \\n\\nPotential challenges include ensuring safety, since autonomous agents can act in unexpected ways. There\\'s also the ethical consideration of AI making decisions without human oversight. \\n\\nWait, there\\'s also the concept of \"autonomous systems\" which are similar. Maybe Agentic AI is a subset of that, emphasizing the agent\\'s ability to act purposefully. \\n\\nI need to structure this clearly. Start with a definition: AI systems designed to act as autonomous agents, capable of perceiving environments, making decisions, and taking actions to achieve goals. Then discuss components, applications, and implications. \\n\\nExamples: Self-driving cars, autonomous drones, chatbots, maybe even AI-driven financial trading systems. \\n\\nDifferences from other AI: Traditional AI might be rule-based or require human input for each step, whereas Agentic AI is self-directed. \\n\\nPotential future developments could involve more advanced decision-making, collaboration between agents, and maybe even learning through interaction without explicit programming. \\n\\nHmm, but I should make sure not to confuse it with AGI. Agentic AI might not necessarily be general intelligence but focused on specific tasks with autonomous decision-making. \\n\\nAlso, maybe mention some frameworks or architectures, like the classic agent architecture from AI textbooks. \\n\\nI think I have a rough idea. Let me put it all together in a coherent way, making sure to cover the key points: definition, components, examples, applications, and considerations like ethics and safety.\\n</think>\\n\\n**Agentic AI** refers to a type of artificial intelligence designed to function as autonomous agents capable of perceiving their environment, making decisions, and taking actions to achieve specific goals with minimal human intervention. Unlike traditional AI systems that may rely on predefined rules or direct human input for each task, Agentic AI operates more independently, mimicking the behavior of human agents in their decision-making processes.\\n\\n### Core Components of Agentic AI:\\n1. **Perception**: The ability to sense and interpret data from the environment, using sensors, cameras, or other input methods.\\n2. **Decision-Making**: Utilizes algorithms (e.g., machine learning, reinforcement learning) to evaluate options and choose the best course of action to achieve its goals.\\n3. **Action**: Executes decisions through actuators or by interacting with the environment (e.g., moving a robot, generating text, or making a financial trade).\\n4. **Adaptation**: Learns from experiences and adjusts strategies over time to improve outcomes.\\n\\n### Key Characteristics:\\n- **Autonomy**: Operates independently without continuous human oversight.\\n- **Goal-Oriented**: Designed to achieve specific objectives, such as maximizing efficiency or completing a task.\\n- **Reactive vs. Proactive**: Can respond to immediate stimuli (reactive) or plan ahead (proactive).\\n- **Contextual Awareness**: Adapts to changes in its environment dynamically.\\n\\n### Applications:\\n- **Autonomous Vehicles**: Self-driving cars (e.g., Tesla Autopilot) that perceive road conditions and navigate safely.\\n- **Healthcare**: AI agents for diagnosing diseases, managing patient care, or optimizing treatment plans.\\n- **Finance**: Algorithmic trading systems that execute stock trades based on market data.\\n- **Customer Service**: Chatbots (e.g., Siri, Alexa) that assist users by understanding queries and performing tasks.\\n- **Robotics**: Industrial robots performing assembly tasks or home robots managing household chores.\\n- **Gaming**: Non-player characters (NPCs) in video games that exhibit realistic, adaptive behaviors.\\n\\n### Distinctions from Other AI:\\n- **Traditional AI**: Often rule-based (e.g., if-then logic) and task-specific, requiring explicit programming for each decision.\\n- **Narrow AI**: Specialized systems (e.g., image recognition) that lack broader autonomy.\\n- **General AI (AGI)**: Theoretical AI with human-like intelligence across multiple domains. Agentic AI may not yet achieve AGI but moves toward autonomous task execution.\\n\\n### Challenges and Considerations:\\n- **Ethical Concerns**: Ensuring AI agents align with human values and avoid unintended consequences.\\n- **Safety**: Mitigating risks of autonomous systems making harmful decisions (e.g., in healthcare or military contexts).\\n- **Transparency**: Understanding how AI agents make decisions (explanation of actions) is critical for trust and accountability.\\n- **Societal Impact**: Potential job displacement, privacy issues, or misuse in surveillance.\\n\\n### Future Directions:\\n- **Collaborative Agents**: Systems where multiple AI agents cooperate or compete, such as in decentralized networks or complex simulations.\\n- **Ethics Integration**: Developing frameworks to ensure AI aligns with ethical guidelines and human oversight.\\n- **Generalization**: Advancing beyond narrow tasks to handle diverse, unstructured environments.\\n\\n### Example Frameworks:\\n- **Reinforcement Learning (RL)**: Agents learn optimal actions through trial and error, guided by rewards/punishments.\\n- **Multi-Agent Systems (MAS)**: Environments where multiple agents interact, like in traffic management or market simulations.\\n- **Autonomous Systems**: Drones, robots, and vehicles using real-time data to adjust behavior.\\n\\nIn summary, Agentic AI represents a shift toward AI systems that act as purpose-driven entities, capable of self-directed behavior in complex environments. While promising for innovation, it raises important questions about safety, ethics, and governance as these systems become more integrated into daily life.' additional_kwargs={} response_metadata={'token_usage': {'completion_tokens': 1573, 'prompt_tokens': 16, 'total_tokens': 1589, 'completion_time': 3.694432167, 'prompt_time': 0.00304262, 'queue_time': 0.25536838900000003, 'total_time': 3.697474787}, 'model_name': 'qwen-qwq-32b', 'system_fingerprint': 'fp_28178d7ff6', 'finish_reason': 'stop', 'logprobs': None} id='run--ddb2ee20-ba3f-4ca9-a373-1062ffd03def-0' usage_metadata={'input_tokens': 16, 'output_tokens': 1573, 'total_tokens': 1589}\n"
     ]
    }
   ],
   "source": [
    "from langchain_groq import ChatGroq\n",
    "groq_llm=ChatGroq(model=\"qwen-qwq-32b\")\n",
    "groq_ai_result=groq_llm.invoke(\"What is Agentic AI?\")\n",
    "print(groq_ai_result)"
   ]
  },
  {
   "cell_type": "code",
   "execution_count": 24,
   "id": "5d40a3cf",
   "metadata": {},
   "outputs": [],
   "source": [
    "from langchain_core.prompts import ChatPromptTemplate\n",
    "from langchain_core.output_parsers import StrOutputParser\n",
    "\n",
    "prompt=ChatPromptTemplate(\n",
    "    [\n",
    "        (\"system\",\"You are an AI Expert. Answer the question asked on AI in 200 words at max.\"),\n",
    "        (\"user\",\"{question}\")\n",
    "    ]\n",
    ")"
   ]
  },
  {
   "cell_type": "code",
   "execution_count": 29,
   "id": "700fbcb6",
   "metadata": {},
   "outputs": [
    {
     "name": "stdout",
     "output_type": "stream",
     "text": [
      "\n",
      "<think>\n",
      "Okay, the user is asking about Langsmith. Let me recall what I know. I think Langsmith is a tool related to AI, maybe in the context of language models. I remember that Langsmith is part of the LangChain ecosystem. Wait, LangChain is a framework for developers to build applications using LLMs. So, Langsmith is probably a tool within that ecosystem for monitoring and managing these applications.\n",
      "\n",
      "I should start by mentioning that Langsmith is an observability and analytics platform specifically designed for LLM applications. It helps track and improve the performance of these applications. Let me think about its key features. There's a Chains view to track workflows, which is important because LLM apps often involve multiple steps. Then, there's the LLMS view for monitoring the LLMs themselves—like response times, costs, and error rates. The Agents view would be for tracking autonomous agents, their actions, and outcomes. \n",
      "\n",
      "Also, Langsmith probably provides performance metrics and dashboards. Oh right, it integrates with LangChain, so developers can instrument their code to send data to Langsmith. That makes it easier to track how different components are performing. I should mention use cases, like debugging, optimizing costs, or improving model selection. Maybe also note that it's useful for teams working on large-scale LLM applications, helping them maintain and scale their projects effectively.\n",
      "\n",
      "Wait, did I miss anything important? Maybe mention that it's open-source or part of a commercial offering? I think LangChain is open-source, and Langsmith might be a part of that, but there could be a hosted version or additional services. Also, it's used for MLOps practices in the context of LLMs. Users can analyze logs, track errors, and make data-driven decisions. That's crucial for maintaining reliable applications. I should structure this information clearly, starting with what Langsmith is, its main features, and then its benefits. Keep it concise, under 200 words. Let me put that together now.\n",
      "</think>\n",
      "\n",
      "LangSmith is an **observability and analytics platform** developed by LangChain, designed to help developers build, monitor, and optimize Large Language Model (LLM)-based applications. It addresses the unique challenges of managing LLM workflows, such as tracking complex chains of interactions, monitoring costs, and improving performance.\n",
      "\n",
      "### Key Features:\n",
      "1. **Workflow Tracking**: Visualizes and traces multi-step workflows (Chains) involving LLMs, agents, and external tools, enabling developers to debug and optimize interactions.\n",
      "2. **LLM Performance**: Monitors LLMs (e.g., response times, costs, error rates) and compares different models to select the most efficient one for specific tasks.\n",
      "3. **Agent Analysis**: Tracks autonomous agents' actions, decisions, and outcomes, helping refine their behavior and decision-making logic.\n",
      "4. **Cost Management**: Provides granular cost tracking for LLM API usage, helping teams stay within budget and optimize resource allocation.\n",
      "5. **Dashboards & Metrics**: Offers customizable dashboards for real-time insights into application health, user interactions, and system performance.\n",
      "\n",
      "### Use Cases:\n",
      "- **Debugging**: Identify bottlenecks in complex workflows (e.g., misaligned prompts, slow tool responses).\n",
      "- **Cost Optimization**: Analyze which parts of the application are most expensive and reduce inefficiencies.\n",
      "- **Model Selection**: Compare different LLMs' performance for specific tasks to choose the best fit.\n",
      "\n",
      "### Why It Matters:\n",
      "LangSmith bridges the gap between LLM experimentation and production deployment by providing actionable insights. It aligns with **MLOps** practices, ensuring LLM applications are scalable, maintainable, and cost-effective. By integrating with LangChain’s SDK, it simplifies instrumenting code for performance tracking, making it essential for teams building real-world AI applications.\n",
      "\n",
      "In essence, LangSmith empowers developers to turn LLM potential into reliable, efficient solutions by providing visibility into every layer of their AI workflows.\n"
     ]
    }
   ],
   "source": [
    "chain=prompt|groq_llm|StrOutputParser()\n",
    "response=chain.invoke({\"question\":\"Can you tell me something about Langsmith?\"})\n",
    "print(response)"
   ]
  },
  {
   "cell_type": "markdown",
   "id": "8222c02b",
   "metadata": {},
   "source": [
    "Json Output Parser"
   ]
  },
  {
   "cell_type": "code",
   "execution_count": 39,
   "id": "040a2e83",
   "metadata": {},
   "outputs": [],
   "source": [
    "from langchain_core.output_parsers import JsonOutputParser\n",
    "from langchain_core.prompts import PromptTemplate\n",
    "\n",
    "json_parser=JsonOutputParser()\n",
    "\n",
    "json_prompt=PromptTemplate(\n",
    "    template=\"\"\"You are an AI Expert. \n",
    "    {format_instructions}\n",
    "    {question}\n",
    "    \"\"\",\n",
    "    input_variables=[\"question\"],\n",
    "    partial_variables={\"format_instructions\":json_parser.get_format_instructions()}\n",
    ")\n"
   ]
  },
  {
   "cell_type": "code",
   "execution_count": 40,
   "id": "a27f0143",
   "metadata": {},
   "outputs": [
    {
     "data": {
      "text/plain": [
       "PromptTemplate(input_variables=['question'], input_types={}, partial_variables={'format_instructions': 'Return a JSON object.'}, template='You are an AI Expert. \\n    {format_instructions}\\n    {question}\\n    ')"
      ]
     },
     "execution_count": 40,
     "metadata": {},
     "output_type": "execute_result"
    }
   ],
   "source": [
    "json_prompt"
   ]
  },
  {
   "cell_type": "code",
   "execution_count": 41,
   "id": "1990d4cf",
   "metadata": {},
   "outputs": [
    {
     "name": "stdout",
     "output_type": "stream",
     "text": [
      "{'name': 'Langsmith', 'description': 'Langsmith is a tool designed to monitor, analyze, and optimize the performance of language models and applications built with LangChain. It provides insights into how models behave, track their performance over time, and facilitate iterative improvements.', 'key_features': ['Performance Monitoring: Tracks metrics such as response time, success/failure rates, and resource usage of language models.', 'Lineage & Traceability: Records detailed lineage of model inputs, outputs, and intermediate steps, enabling reproducibility.', 'Comparative Analysis: Allows comparison of different model versions, parameter configurations, or runs to identify optimal setups.', 'UI Dashboard: Offers a user interface for visualizing performance trends, error analysis, and debugging.', 'Integration with LangChain: Seamlessly integrates with LangChain applications to capture trace data automatically.', 'Custom Metrics: Supports the definition of custom metrics to align with specific project requirements.'], 'use_cases': ['Debugging model failures or inconsistencies in applications.', 'Tracking model performance over time to detect drift or degradation.', 'Benchmarking different language models (e.g., comparing Llama vs. GPT-4).', 'Optimizing prompts or parameters for better results.', 'Ensuring compliance by auditing model behavior.'], 'technical_details': {'architecture': 'Based on a backend database (e.g., PostgreSQL) to store trace data and a frontend for visualization.', 'data_capture': 'Automatically collects traces during LangChain application execution, capturing inputs, outputs, and metadata.', 'scalability': 'Supports both small-scale experimentation and large-scale production deployments.', 'apis': 'Provides APIs for programmatic access to trace data and metrics.'}, 'related_ecosystem': \"Langsmith is part of the LangChain ecosystem, designed to complement LangChain's framework for building applications with language models. It works with tools like LlamaIndex, Chains, and Agents in LangChain.\"}\n"
     ]
    }
   ],
   "source": [
    "json_chain=json_prompt|groq_llm|json_parser\n",
    "json_response=json_chain.invoke({\"question\":\"Can you tell me something about Langsmith?\"})\n",
    "print(json_response)"
   ]
  },
  {
   "cell_type": "markdown",
   "id": "bfcd2df8",
   "metadata": {},
   "source": [
    "ChatPromptTemplate"
   ]
  },
  {
   "cell_type": "code",
   "execution_count": 55,
   "id": "d8ffbae1",
   "metadata": {},
   "outputs": [],
   "source": [
    "from langchain_core.prompts import ChatPromptTemplate\n",
    "from langchain_core.output_parsers import JsonOutputParser\n",
    "\n",
    "json_chat_prompt=ChatPromptTemplate([\n",
    "    (\"system\",\"You are an AI Expert. Provide the JSON output for the question asked.\"),\n",
    "    (\"user\",\"{question}\")\n",
    "])\n",
    "\n",
    "json_chat_prompt\n",
    "\n",
    "prompt=ChatPromptTemplate.from_messages(\n",
    "    [\n",
    "        (\"system\",\"You are an expert AI Engineer.Provide the response in json.Provide me answer based on the question\"),\n",
    "        (\"user\",\"{question}\")\n",
    "    ]\n",
    ")\n"
   ]
  },
  {
   "cell_type": "code",
   "execution_count": 61,
   "id": "e9a65366",
   "metadata": {},
   "outputs": [
    {
     "name": "stdout",
     "output_type": "stream",
     "text": [
      "input_variables=['input'] input_types={} partial_variables={} messages=[SystemMessagePromptTemplate(prompt=PromptTemplate(input_variables=[], input_types={}, partial_variables={}, template='You are an expert AI Engineer.Provide the response in json format.Provide me answer based on the question'), additional_kwargs={}), HumanMessagePromptTemplate(prompt=PromptTemplate(input_variables=['input'], input_types={}, partial_variables={}, template='{input}'), additional_kwargs={})]\n",
      "{'answer': {'question': 'Can you tell me about Langsmith?', 'response': 'Langsmith is a purpose-built tool designed for developing and optimizing language model (LLM) applications, particularly within the LangChain ecosystem. It serves as a user interface (UI) for **tracking, analyzing, and improving** workflows involving LLMs, chains, agents, and data. Key features include:', 'features': [{'name': 'Experiment Tracking', 'description': 'Users can log and compare different versions of LLMs, chains, and parameters to identify the best-performing configurations.'}, {'name': 'Visualization & Debugging', 'description': 'Offers detailed visualizations of LLM outputs, including thought processes, reasoning steps, and performance metrics like latency or accuracy.'}, {'name': 'Data Management', 'description': 'Manages input data for LLM workflows, enabling users to test and refine prompts, inputs, and expected outputs systematically.'}, {'name': 'Team Collaboration', 'description': 'Facilitates collaboration by allowing teams to share experiments, insights, and best practices in a centralized interface.'}], 'use_cases': ['Developing and refining chatbots or agents', 'Comparing different LLMs (e.g., comparing outputs of GPT-4 vs. Claude-3)', 'Debugging issues in complex LLM workflows', 'Tracking model performance over time', 'Iterative prompt engineering and optimization'], 'note': 'Langsmith is part of the LangChain suite and integrates seamlessly with its tools. It is open-source and available on GitHub.'}}\n"
     ]
    }
   ],
   "source": [
    "from langchain_core.prompts import ChatPromptTemplate\n",
    "\n",
    "prompt=ChatPromptTemplate.from_messages(\n",
    "    [\n",
    "        (\"system\",\"You are an expert AI Engineer.Provide the response in json format.Provide me answer based on the question\"),\n",
    "        (\"user\",\"{input}\")\n",
    "    ]\n",
    ")\n",
    "print(prompt)\n",
    "output_parser=JsonOutputParser()\n",
    "chain=prompt|groq_llm|output_parser\n",
    "response=chain.invoke({\"input\":\"Can you tell me about Langsmith?\"})\n",
    "print(response)"
   ]
  },
  {
   "cell_type": "code",
   "execution_count": 68,
   "id": "b1ba67e2",
   "metadata": {},
   "outputs": [
    {
     "name": "stdout",
     "output_type": "stream",
     "text": [
      "input_variables=['input'] input_types={} partial_variables={} messages=[SystemMessagePromptTemplate(prompt=PromptTemplate(input_variables=[], input_types={}, partial_variables={}, template='You are an expert AI Engineer.Provide the response in XML format.Provide me answer based on the question'), additional_kwargs={}), HumanMessagePromptTemplate(prompt=PromptTemplate(input_variables=['input'], input_types={}, partial_variables={}, template='{input}'), additional_kwargs={})]\n",
      "\n",
      "<think>\n",
      "Okay, the user is asking about Langsmith. Let me recall what I know. Langsmith is a tool related to LangChain. I think it's used for monitoring and evaluating language models. Wait, LangChain is a framework for building applications with LLMs, right? So Langsmith would be part of that ecosystem.\n",
      "\n",
      "I remember that Langsmith helps with tracking the performance of models, maybe logging inputs and outputs. It probably has a UI where you can see how models are performing over time. Oh, and it's useful for developers to debug and improve their applications. \n",
      "\n",
      "Let me structure this. First, mention that Langsmith is part of LangChain, developed by Lango. Its main features include observability, performance tracking, and A/B testing. Also, it's for developers to optimize their apps. Need to check if there are specific functionalities like DAG visualization or experiment tracking. Yeah, they have a dashboard and can log steps in the workflow. \n",
      "\n",
      "Wait, the user might want to know how it integrates with LangChain. So, it's a companion tool that works with the framework. Maybe mention use cases like monitoring inference, tracking costs, and comparing different models. \n",
      "\n",
      "I should also note that it's free or has a free tier, and is open-source? Or is it a paid service? I think it's part of the LangChain suite, so maybe some features are open-source but the full Langsmith might require a subscription. Need to clarify that. \n",
      "\n",
      "Also, key features: logging of LLM interactions, tracking metrics, a user interface for analysis, and support for MLOps practices. The answer should be concise but cover these points. Make sure to present it in XML as requested, with the answer inside the specified tags. Alright, time to put it all together.\n",
      "</think>\n",
      "\n",
      "<answer>\n",
      "<topic>Langsmith Overview</topic>\n",
      "<description>\n",
      "Langsmith is an observability and evaluation platform designed to work with LangChain, a framework for building applications powered by Large Language Models (LLMs). It provides developers and teams with tools to monitor, analyze, and optimize the performance of their LLM-based workflows.\n",
      "</description>\n",
      "<key_features>\n",
      "<feature>Observability</feature>\n",
      "<feature>Performance Tracking</feature>\n",
      "<feature>A/B Testing</feature>\n",
      "<feature>Workflow Visualization</feature>\n",
      "<feature>Experiment Comparison</feature>\n",
      "</key_features>\n",
      "<use_cases>\n",
      "<tracking>Tracks inputs, outputs, and costs of LLM interactions at scale.</tracking>\n",
      "<debugging>Enables debugging by visualizing the decision-making process (e.g., tool chains, retrieval steps).</debugging>\n",
      "<optimization>Helps optimize workflows by comparing model versions or configurations.</optimization>\n",
      "</use_cases>\n",
      "<integration>Integrates seamlessly with LangChain code via simple logging calls.</integration>\n",
      "<benefits>\n",
      "<benefit>Improves reliability and efficiency of LLM applications.</benefit>\n",
      "<benefit>Supports MLOps practices for production-grade deployments.</benefit>\n",
      "</benefits>\n",
      "<note>Developed by Lango (formerly known as Llama Labs), Langsmith is part of the LangChain ecosystem and offers both open-source and commercial tiers.</note>\n",
      "</answer>\n"
     ]
    }
   ],
   "source": [
    "from langchain_core.prompts import ChatPromptTemplate\n",
    "from langchain_core.output_parsers import XMLOutputParser\n",
    "\n",
    "prompt=ChatPromptTemplate.from_messages(\n",
    "    [\n",
    "        (\"system\",\"You are an expert AI Engineer.Provide the response in XML format.Provide me answer based on the question\"),\n",
    "        (\"user\",\"{input}\")\n",
    "    ]\n",
    ")\n",
    "print(prompt)\n",
    "output_parser=XMLOutputParser()\n",
    "chain=prompt|groq_llm|StrOutputParser()\n",
    "response=chain.invoke({\"input\":\"Can you tell me about Langsmith?\"})\n",
    "print(response)"
   ]
  },
  {
   "cell_type": "markdown",
   "id": "a7c9f4c6",
   "metadata": {},
   "source": [
    "With Pydantic"
   ]
  },
  {
   "cell_type": "code",
   "execution_count": 69,
   "id": "53d2cfe0",
   "metadata": {},
   "outputs": [
    {
     "data": {
      "text/plain": [
       "Joke(setup=\"Why don't scientists trust atoms?\", punchline='Because they make up everything!')"
      ]
     },
     "execution_count": 69,
     "metadata": {},
     "output_type": "execute_result"
    }
   ],
   "source": [
    "from langchain.output_parsers import YamlOutputParser\n",
    "from langchain_core.prompts import PromptTemplate\n",
    "from langchain_openai import ChatOpenAI\n",
    "from pydantic import BaseModel, Field\n",
    "\n",
    "\n",
    "# Define your desired data structure.\n",
    "class Joke(BaseModel):\n",
    "    setup: str = Field(description=\"question to set up a joke\")\n",
    "    punchline: str = Field(description=\"answer to resolve the joke\")\n",
    "\n",
    "\n",
    "model = ChatOpenAI(temperature=0.5)\n",
    "\n",
    "# And a query intented to prompt a language model to populate the data structure.\n",
    "joke_query = \"Tell me a joke.\"\n",
    "\n",
    "# Set up a parser + inject instructions into the prompt template.\n",
    "parser = YamlOutputParser(pydantic_object=Joke)\n",
    "\n",
    "prompt = PromptTemplate(\n",
    "    template=\"Answer the user query.\\n{format_instructions}\\n{query}\\n\",\n",
    "    input_variables=[\"query\"],\n",
    "    partial_variables={\"format_instructions\": parser.get_format_instructions()},\n",
    ")\n",
    "\n",
    "chain = prompt | model | parser\n",
    "\n",
    "chain.invoke({\"query\": joke_query})"
   ]
  },
  {
   "cell_type": "code",
   "execution_count": null,
   "id": "134fb1a5",
   "metadata": {},
   "outputs": [],
   "source": []
  }
 ],
 "metadata": {
  "kernelspec": {
   "display_name": "agentic_env",
   "language": "python",
   "name": "python3"
  },
  "language_info": {
   "codemirror_mode": {
    "name": "ipython",
    "version": 3
   },
   "file_extension": ".py",
   "mimetype": "text/x-python",
   "name": "python",
   "nbconvert_exporter": "python",
   "pygments_lexer": "ipython3",
   "version": "3.11.11"
  }
 },
 "nbformat": 4,
 "nbformat_minor": 5
}
