{
 "cells": [
  {
   "cell_type": "code",
   "execution_count": 2,
   "id": "395ec4ad",
   "metadata": {},
   "outputs": [],
   "source": [
    "def function1(input1):\n",
    "    return input1+ \" from first function\"\n",
    "\n",
    "def function2(input2):\n",
    "    return input2+ \" from second function\"\n",
    "\n",
    "def function3(input3):\n",
    "    return input3+ \" from third function\""
   ]
  },
  {
   "cell_type": "code",
   "execution_count": 3,
   "id": "70794980",
   "metadata": {},
   "outputs": [
    {
     "data": {
      "text/plain": [
       "'Agent from first function'"
      ]
     },
     "execution_count": 3,
     "metadata": {},
     "output_type": "execute_result"
    }
   ],
   "source": [
    "function1(\"Agent\")"
   ]
  },
  {
   "cell_type": "code",
   "execution_count": 5,
   "id": "634214dc",
   "metadata": {},
   "outputs": [],
   "source": [
    "from langgraph.graph import Graph"
   ]
  },
  {
   "cell_type": "code",
   "execution_count": 11,
   "id": "e580a7c7",
   "metadata": {},
   "outputs": [
    {
     "data": {
      "text/plain": [
       "<langgraph.graph.graph.Graph at 0x114c22d50>"
      ]
     },
     "execution_count": 11,
     "metadata": {},
     "output_type": "execute_result"
    }
   ],
   "source": [
    "workflow=Graph()\n",
    "# add node\n",
    "workflow.add_node(\"func1\",function1)\n",
    "workflow.add_node(\"func2\",function2)\n",
    "workflow.add_node(\"func3\",function3)\n",
    "\n",
    "#add edges\n",
    "workflow.add_edge(\"func1\",\"func2\")\n",
    "workflow.add_edge(\"func2\",\"func3\")\n",
    "\n",
    "# add entry point \n",
    "\n",
    "workflow.set_entry_point(\"func1\")\n",
    "\n",
    "# add finish point\n",
    "workflow.set_finish_point(\"func3\")\n"
   ]
  },
  {
   "cell_type": "code",
   "execution_count": 12,
   "id": "1824bb07",
   "metadata": {},
   "outputs": [],
   "source": [
    "app=workflow.compile()"
   ]
  },
  {
   "cell_type": "code",
   "execution_count": 18,
   "id": "1331f8b6",
   "metadata": {},
   "outputs": [
    {
     "data": {
      "image/png": "[encoded data removed]",
      "text/plain": [
       "<IPython.core.display.Image object>"
      ]
     },
     "metadata": {},
     "output_type": "display_data"
    }
   ],
   "source": [
    "from IPython.display import Image, display\n",
    "display(Image(app.get_graph().draw_mermaid_png()))"
   ]
  },
  {
   "cell_type": "code",
   "execution_count": 19,
   "id": "def42844",
   "metadata": {},
   "outputs": [
    {
     "data": {
      "text/plain": [
       "'dd from first function from second function from third function'"
      ]
     },
     "execution_count": 19,
     "metadata": {},
     "output_type": "execute_result"
    }
   ],
   "source": [
    "app.invoke(\"dd\")"
   ]
  },
  {
   "cell_type": "code",
   "execution_count": 24,
   "id": "ebfa305d",
   "metadata": {},
   "outputs": [],
   "source": [
    "from langchain.agents import tool\n",
    "\n",
    "@tool\n",
    "def function_tool1(input1)->str:\n",
    "    '''fff'''\n",
    "    return input1+ \" from first function\"\n",
    "@tool\n",
    "def function_tool2(input2)->str:\n",
    "    '''ddd'''\n",
    "    return input2+ \" from second function\"\n",
    "\n"
   ]
  },
  {
   "cell_type": "code",
   "execution_count": 25,
   "id": "d233bfc3",
   "metadata": {},
   "outputs": [
    {
     "data": {
      "text/plain": [
       "'Vishu from first function from second function'"
      ]
     },
     "execution_count": 25,
     "metadata": {},
     "output_type": "execute_result"
    }
   ],
   "source": [
    "chain = function_tool1 | function_tool2\n",
    "\n",
    "chain.invoke(\"Vishu\")"
   ]
  },
  {
   "cell_type": "code",
   "execution_count": 26,
   "id": "3d030022",
   "metadata": {},
   "outputs": [
    {
     "name": "stdout",
     "output_type": "stream",
     "text": [
      "here is output from func1\n",
      "_______\n",
      "Rohit from first function\n",
      "\n",
      "\n",
      "here is output from func2\n",
      "_______\n",
      "Rohit from first function from second function\n",
      "\n",
      "\n",
      "here is output from func3\n",
      "_______\n",
      "Rohit from first function from second function from third function\n",
      "\n",
      "\n"
     ]
    }
   ],
   "source": [
    "for output in app.stream(\"Rohit\"):\n",
    "    for key,value in output.items():\n",
    "        print(f\"here is output from {key}\")\n",
    "        print(\"_______\")\n",
    "        print(value)\n",
    "        print(\"\\n\")"
   ]
  },
  {
   "cell_type": "code",
   "execution_count": 27,
   "id": "b6c8837a",
   "metadata": {},
   "outputs": [],
   "source": [
    "from dotenv import load_dotenv\n",
    "import os\n",
    "load_dotenv()\n",
    "\n",
    "os.environ[\"OPENAI_API_KEY\"]=os.getenv(\"OPENAI_API_KEY\")\n",
    "os.environ[\"GROQ_API_KEY\"]=os.getenv(\"GROQ_API_KEY\")\n",
    "os.environ[\"PINECODE_API_KEY\"]=os.getenv(\"PINECODE_API_KEY\")\n",
    "os.environ[\"GOOGLE_API_KEY\"]=os.getenv(\"GOOGLE_API_KEY\")\n",
    "os.environ[\"HUGGINGFACE_API_KEY\"]=os.getenv(\"HUGGINGFACE_API_KEY\")\n",
    "os.environ[\"LANGCHAIN_API_KEY\"]=os.getenv(\"LANGCHAIN_API_KEY\")\n",
    "os.environ[\"LANGCHAIN_PROJECT\"]=os.getenv(\"LANGCHAIN_PROJECT\")\n",
    "os.environ[\"LANGCHAIN_TRACING_V2\"]=os.getenv(\"LANGCHAIN_TRACING_V2\")"
   ]
  },
  {
   "cell_type": "code",
   "execution_count": 40,
   "id": "f73fd6b4",
   "metadata": {},
   "outputs": [],
   "source": [
    "from langchain_google_genai import ChatGoogleGenerativeAI\n",
    "\n",
    "\n",
    "def llm(input):\n",
    "    model=ChatGoogleGenerativeAI(model='gemini-1.5-flash')\n",
    "    return model.invoke(input).content\n",
    "\n",
    "def count_token(input):\n",
    "    token=input.split()\n",
    "    return f\" approximate token count is {len(token)}\""
   ]
  },
  {
   "cell_type": "code",
   "execution_count": 41,
   "id": "846dcd24",
   "metadata": {},
   "outputs": [],
   "source": [
    "from langgraph.graph import Graph\n",
    "llm_workflow=Graph()\n",
    "\n",
    "llm_workflow.add_node(\"llm\",llm)\n",
    "llm_workflow.add_node(\"count_token\",count_token)\n",
    "\n",
    "llm_workflow.add_edge(\"llm\",\"count_token\")\n",
    "\n",
    "llm_workflow.set_entry_point(\"llm\")\n",
    "\n",
    "llm_workflow.set_finish_point(\"count_token\")\n",
    "\n",
    "\n",
    "llm_app=llm_workflow.compile()\n",
    "\n",
    "\n",
    "\n",
    "\n",
    "\n"
   ]
  },
  {
   "cell_type": "code",
   "execution_count": 38,
   "id": "66deec2c",
   "metadata": {},
   "outputs": [
    {
     "data": {
      "image/png": "[encoded data removed]",
      "text/plain": [
       "<IPython.core.display.Image object>"
      ]
     },
     "metadata": {},
     "output_type": "display_data"
    }
   ],
   "source": [
    "from IPython.display import Image, display\n",
    "display(Image(llm_app.get_graph().draw_mermaid_png()))"
   ]
  },
  {
   "cell_type": "code",
   "execution_count": 42,
   "id": "8a0e2357",
   "metadata": {},
   "outputs": [
    {
     "data": {
      "text/plain": [
       "' approximate token count is 470'"
      ]
     },
     "execution_count": 42,
     "metadata": {},
     "output_type": "execute_result"
    }
   ],
   "source": [
    "llm_app.invoke(\"Tell me about India\")"
   ]
  },
  {
   "cell_type": "code",
   "execution_count": 46,
   "id": "c4f943b7",
   "metadata": {},
   "outputs": [
    {
     "name": "stdout",
     "output_type": "stream",
     "text": [
      "\n",
      "------------------\n",
      "\n",
      " Function call by Step : llm \n",
      "\n",
      " Output to the Step : Recent news about Elon Musk is dominated by several key areas:\n",
      "\n",
      "* **X (formerly Twitter):**  Much of the news revolves around the ongoing changes and controversies at X.  This includes reports on:\n",
      "    * **Financial struggles:**  News outlets have published articles about X's financial performance, including concerns about debt and advertising revenue.\n",
      "    * **Content moderation:** Debates continue regarding X's content moderation policies and their impact on free speech and misinformation.  Specific instances of controversial content and policy changes frequently make headlines.\n",
      "    * **Platform changes:**  Constant updates to the platform's features and functionality, often announced directly by Musk himself on X, are frequently reported.  These changes often spark debate among users.\n",
      "\n",
      "* **Tesla:**  News related to Tesla often includes:\n",
      "    * **Financial performance:**  Reports on Tesla's quarterly earnings and overall financial health are regularly released and covered.\n",
      "    * **Production and sales:** Updates on Tesla's vehicle production numbers and sales figures are frequently reported.\n",
      "    * **New products and innovations:**  Any announcements regarding new Tesla vehicles, technologies, or advancements are significant news items.\n",
      "    * **Competition:** Tesla's position within the increasingly competitive electric vehicle market is a recurring theme in news reports.\n",
      "\n",
      "* **SpaceX:**  SpaceX news often focuses on:\n",
      "    * **Space missions:** Launches of SpaceX rockets, including those carrying satellites or astronauts, are major news events.\n",
      "    * **Starlink:** Updates on the Starlink satellite internet constellation's expansion and performance frequently appear in the news.\n",
      "    * **Future projects:**  Announcements about SpaceX's long-term plans, such as ambitious space exploration goals, are regularly reported.\n",
      "\n",
      "* **Other ventures:**  Musk's involvement in other companies and projects, such as Neuralink and The Boring Company, also generates news, though generally less frequently than the above.\n",
      "\n",
      "**It's important to note:**  The news cycle surrounding Elon Musk is extremely fast-paced and constantly evolving.  To get the very latest information, you should refer to reputable news sources such as the Associated Press, Reuters, Bloomberg, and the Financial Times.  Searching for \"Elon Musk\" on these sites will provide the most up-to-date coverage. \n",
      "\n",
      "------------------\n",
      "\n",
      "------------------\n",
      "\n",
      " Function call by Step : count_token \n",
      "\n",
      " Output to the Step :  approximate token count is 324 \n",
      "\n",
      "------------------\n"
     ]
    }
   ],
   "source": [
    "for output in llm_app.stream(\"latest news on Elon Musk?\"):\n",
    "    for key,value in output.items():\n",
    "        print(\"\\n------------------\")\n",
    "        print(f\"\\n Function call by Step : {key} \")\n",
    "        print(f\"\\n Output to the Step : {value} \")\n",
    "        print(\"\\n------------------\")"
   ]
  },
  {
   "cell_type": "code",
   "execution_count": null,
   "id": "5911f686",
   "metadata": {},
   "outputs": [],
   "source": []
  }
 ],
 "metadata": {
  "kernelspec": {
   "display_name": "agentic_env",
   "language": "python",
   "name": "python3"
  },
  "language_info": {
   "codemirror_mode": {
    "name": "ipython",
    "version": 3
   },
   "file_extension": ".py",
   "mimetype": "text/x-python",
   "name": "python",
   "nbconvert_exporter": "python",
   "pygments_lexer": "ipython3",
   "version": "3.11.11"
  }
 },
 "nbformat": 4,
 "nbformat_minor": 5
}
