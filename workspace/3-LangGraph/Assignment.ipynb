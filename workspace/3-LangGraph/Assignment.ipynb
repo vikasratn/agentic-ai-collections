{
 "cells": [
  {
   "cell_type": "code",
   "execution_count": 32,
   "id": "a9092897",
   "metadata": {},
   "outputs": [],
   "source": [
    "# load env\n",
    "from dotenv import load_dotenv\n",
    "import os\n",
    "load_dotenv()\n",
    "\n",
    "os.environ[\"OPENAI_API_KEY\"]=os.getenv(\"OPENAI_API_KEY\")\n",
    "os.environ[\"GROQ_API_KEY\"]=os.getenv(\"GROQ_API_KEY\")\n",
    "os.environ[\"PINECODE_API_KEY\"]=os.getenv(\"PINECODE_API_KEY\")\n",
    "os.environ[\"GOOGLE_API_KEY\"]=os.getenv(\"GOOGLE_API_KEY\")\n",
    "os.environ[\"HUGGINGFACE_API_KEY\"]=os.getenv(\"HUGGINGFACE_API_KEY\")\n",
    "os.environ[\"LANGCHAIN_API_KEY\"]=os.getenv(\"LANGCHAIN_API_KEY\")\n",
    "os.environ[\"LANGCHAIN_PROJECT\"]=os.getenv(\"LANGCHAIN_PROJECT\")\n",
    "os.environ[\"LANGCHAIN_TRACING_V2\"]=os.getenv(\"LANGCHAIN_TRACING_V2\")\n",
    "os.environ[\"TAVILY_API_KEY\"]=os.getenv(\"TAVILY_API_KEY\")"
   ]
  },
  {
   "cell_type": "code",
   "execution_count": 33,
   "id": "25daaeb1",
   "metadata": {},
   "outputs": [],
   "source": [
    "# pydantic model\n",
    "from pydantic import BaseModel,Field\n",
    "\n",
    "class TopicSelector(BaseModel):\n",
    "    topic:str=Field(description=\"topic name\")\n",
    "    reason_for_selection:str=Field(description=\"topic selection reason\")        \n",
    "\n"
   ]
  },
  {
   "cell_type": "code",
   "execution_count": 34,
   "id": "40fddf98",
   "metadata": {},
   "outputs": [],
   "source": [
    "# model\n",
    "from langchain_google_genai import ChatGoogleGenerativeAI\n",
    "\n",
    "model = ChatGoogleGenerativeAI(\n",
    "    model=\"gemini-2.0-flash\",\n",
    "    temperature=0,\n",
    "    max_tokens=None,\n",
    "    timeout=None,\n",
    "    max_retries=2\n",
    ")"
   ]
  },
  {
   "cell_type": "code",
   "execution_count": 35,
   "id": "796d3e72",
   "metadata": {},
   "outputs": [
    {
     "data": {
      "text/plain": [
       "384"
      ]
     },
     "execution_count": 35,
     "metadata": {},
     "output_type": "execute_result"
    }
   ],
   "source": [
    "# embeddings\n",
    "from langchain_huggingface import HuggingFaceEmbeddings\n",
    "embeddings = HuggingFaceEmbeddings(model_name=\"BAAI/bge-small-en\")\n",
    "len(embeddings.embed_query(\"hi\"))"
   ]
  },
  {
   "cell_type": "code",
   "execution_count": 36,
   "id": "8faa21b2",
   "metadata": {},
   "outputs": [
    {
     "name": "stderr",
     "output_type": "stream",
     "text": [
      "100%|██████████| 1/1 [00:00<00:00, 1422.28it/s]\n"
     ]
    },
    {
     "data": {
      "text/plain": [
       "55"
      ]
     },
     "execution_count": 36,
     "metadata": {},
     "output_type": "execute_result"
    }
   ],
   "source": [
    "from langchain_community.document_loaders import DirectoryLoader, TextLoader\n",
    "# load document pages\n",
    "loader=DirectoryLoader(\"./data\",glob=\"./*.txt\",loader_cls=TextLoader,show_progress=True)\n",
    "pages = loader.load()\n",
    "len(pages)\n",
    "\n",
    "# split pages to chunks\n",
    "from langchain.text_splitter import RecursiveCharacterTextSplitter\n",
    "\n",
    "text_splitter=RecursiveCharacterTextSplitter(\n",
    "    chunk_size=200,\n",
    "    chunk_overlap=50\n",
    ")\n",
    "\n",
    "chunks=text_splitter.split_documents(pages);\n",
    "\n",
    "len(chunks)\n"
   ]
  },
  {
   "cell_type": "code",
   "execution_count": 37,
   "id": "db9eade4",
   "metadata": {},
   "outputs": [],
   "source": [
    "from langchain_chroma import Chroma\n",
    "from langchain_openai import OpenAIEmbeddings\n",
    "# initialized the vector db\n",
    "vector_store = Chroma(\n",
    "    collection_name=\"usa-gdp-data\",\n",
    "    embedding_function=embeddings,\n",
    "    # other params...\n",
    ")"
   ]
  },
  {
   "cell_type": "code",
   "execution_count": 38,
   "id": "772358d7",
   "metadata": {},
   "outputs": [
    {
     "data": {
      "text/plain": [
       "['b65adb5b-6cc4-4718-b682-1efa80da2188',\n",
       " '90fc25cb-9206-4e10-a1af-00aa65aa8d4e',\n",
       " '3a354b22-9b80-4812-914c-8b8d96c181c7',\n",
       " 'f9febf5b-4e1b-437e-984b-b8b2d92d7882',\n",
       " '699335b1-8ce8-43ae-81f8-e619d84c98fc',\n",
       " 'ad2cf712-f789-4dc5-bb49-cd9b60273f05',\n",
       " '00f74ca2-ed5a-42f6-bcb6-5e873e5af8b6',\n",
       " 'fab11931-13c4-4abc-b39a-83f9a89bed6f',\n",
       " '6569cd87-7ce9-48c3-a91a-a4f3bdbb6212',\n",
       " 'c4c44aca-4fe0-4108-8088-f02a4f39efe8',\n",
       " 'd8c9009b-d280-4e42-b16b-25463026a56d',\n",
       " 'a9b53db1-9935-4732-95c3-305c8ef85f77',\n",
       " 'f543b52c-b876-424b-9670-8d012649eb90',\n",
       " 'feeb951c-4771-4bc7-b3ab-3e0a488783b1',\n",
       " '545d75b1-f67f-41c5-a393-f206390a598a',\n",
       " '9c182ebb-77c8-4352-a7bc-b1266511ed81',\n",
       " '4f3161e8-5a62-4dee-bd6e-da5fa7f279e5',\n",
       " 'fc5cd23e-f07c-4c6f-bf58-663304918111',\n",
       " 'd38708fe-0598-491d-9c81-4bc5fe5ea4f9',\n",
       " '639ddafd-59cb-498e-adc9-a3e85e4c62b3',\n",
       " 'cd267f4c-a799-4017-841d-9d54684b8228',\n",
       " '24a86cf1-e4fd-43d0-9d6a-5db631309303',\n",
       " 'fedc88bd-001b-4b54-ad8b-f56e2a21d6fd',\n",
       " '8b9db5b9-ba1e-455d-8d09-dacc7dd047d6',\n",
       " '0063edc6-e2d4-47a4-b0d2-5ae36a5c3ad7',\n",
       " '33c1a9f4-ad1e-427a-b48f-6a54ec10e9f4',\n",
       " 'ff152a36-3276-4167-a6de-faf862326400',\n",
       " '1df6c0f5-5a3c-44c0-8108-c545156b8051',\n",
       " 'e49e6d45-3c75-49f2-95bb-cb5b7fb3048f',\n",
       " 'ff73d453-163a-4c84-b43d-5f641d7ede5e',\n",
       " '39c576ee-0437-4bcc-aa17-4812421f8849',\n",
       " '4725803f-e28d-440a-bf9c-34e05f342ce2',\n",
       " 'da66e3ad-7442-4f2b-bec2-4c7a5fef2125',\n",
       " 'f27f64b1-97ce-42b4-b379-021dc73427ae',\n",
       " '3702b37e-7b08-41ee-b194-72ee2ca0350c',\n",
       " 'ef10368a-45aa-41c9-a844-bfc0d31a9e79',\n",
       " '3b4ff44b-6f89-437d-8ed5-62e1cbef3267',\n",
       " '00d040a4-6348-4c07-b542-d65b01dc3da6',\n",
       " 'bce633e2-b921-4f62-847b-f49feff89b71',\n",
       " 'b4b4a330-3aba-457e-91c3-923851b5afb5',\n",
       " '8da56be4-63ee-403c-9683-bb1e20779b97',\n",
       " 'ce302c57-2450-4346-8bc2-9a09ffaa85fa',\n",
       " 'f8d4eae6-7438-4f88-a2c3-fbbb65ab456c',\n",
       " '724b76a7-97a2-4ccf-a8d7-430b6e24fc3e',\n",
       " 'b131f3bf-ce49-4c6c-9e6b-9be2da552d9e',\n",
       " '7dff04e6-244c-4604-8c08-6df14cefb336',\n",
       " '463f7ddf-7c8c-4ae0-b9cd-311796646ca3',\n",
       " 'af8272ad-32b3-44c8-9895-e86d1945944d',\n",
       " '38171932-c9bb-4696-8b4f-ac487a481476',\n",
       " '0a687d28-66a2-4e50-bedc-8d986e710109',\n",
       " '44e16325-8e89-4128-8697-43671ac758e2',\n",
       " '8a362730-6bca-4193-8d71-c4b672f076b8',\n",
       " 'f58e36d7-1018-4db6-825f-031f878240da',\n",
       " '12fb6348-7f3b-4b94-9c14-4cbdede3bc88',\n",
       " '968b48ea-c8d0-4a7f-92e4-db83d8c91ba9']"
      ]
     },
     "execution_count": 38,
     "metadata": {},
     "output_type": "execute_result"
    }
   ],
   "source": [
    "# save documents to vector db\n",
    "vector_store.add_documents(chunks)"
   ]
  },
  {
   "cell_type": "code",
   "execution_count": 39,
   "id": "ff391687",
   "metadata": {},
   "outputs": [
    {
     "data": {
      "text/plain": [
       "[Document(id='f0349411-7bbf-43da-b42c-7e3c668c1d12', metadata={'source': 'data/usa.txt'}, page_content='Looking forward, the U.S. economy is expected to grow at a moderate pace, powered by innovation in AI, green energy, robotics, biotech, and quantum computing. The Biden administration’s Inflation'),\n",
       " Document(id='7dff04e6-244c-4604-8c08-6df14cefb336', metadata={'source': 'data/usa.txt'}, page_content='Looking forward, the U.S. economy is expected to grow at a moderate pace, powered by innovation in AI, green energy, robotics, biotech, and quantum computing. The Biden administration’s Inflation'),\n",
       " Document(id='b65adb5b-6cc4-4718-b682-1efa80da2188', metadata={'source': 'data/usa.txt'}, page_content='🇺🇸 Overview of the U.S. Economy')]"
      ]
     },
     "execution_count": 39,
     "metadata": {},
     "output_type": "execute_result"
    }
   ],
   "source": [
    "# db as retriever\n",
    "data_retriever=vector_store.as_retriever(search_kwargs={\"k\":3})\n",
    "data_retriever.invoke(\"industrial growth of usa?\")"
   ]
  },
  {
   "cell_type": "code",
   "execution_count": 40,
   "id": "8d77e2dc",
   "metadata": {},
   "outputs": [],
   "source": [
    "# state\n",
    "import operator\n",
    "from typing import TypedDict, Annotated, Sequence\n",
    "from langchain_core.messages import BaseMessage\n",
    "class AgentState(TypedDict):\n",
    "    messages:Annotated[Sequence[BaseMessage],operator.add]"
   ]
  },
  {
   "cell_type": "code",
   "execution_count": 41,
   "id": "5c1738b3",
   "metadata": {},
   "outputs": [],
   "source": [
    "# supervisor \n",
    "from langchain_core.output_parsers import StrOutputParser\n",
    "from langchain.output_parsers import PydanticOutputParser\n",
    "from langchain.prompts import PromptTemplate\n",
    "supervisor_parser=PydanticOutputParser(pydantic_object=TopicSelector)\n",
    "def supervisor(state:AgentState):\n",
    "    print(\"## supervisor ##\")\n",
    "    question=state[\"messages\"][-1]\n",
    "    print(f\"## supervisor ## question : {question}\")\n",
    "    template=\"\"\"\n",
    "    Your task is to classify the given user query into one of the following categories: [USA,Not Related].\n",
    "    Only respond with the category name and nothing else.\n",
    "    \n",
    "    User query: {question}\n",
    "    {format_instructions}\n",
    "    \"\"\"\n",
    "    \n",
    "    prompt=PromptTemplate(\n",
    "        template=template,\n",
    "        input_variable=[\"question\"],\n",
    "        partial_variables={\"format_instructions\": supervisor_parser.get_format_instructions()}\n",
    "    )\n",
    "    \n",
    "    chain=prompt|model|supervisor_parser\n",
    "    \n",
    "    response=chain.invoke({\"question\":question})\n",
    "    \n",
    "    print(f\"## supervisor ## response : {response}\")\n",
    "    \n",
    "    return {\"messages\":[response.topic]}"
   ]
  },
  {
   "cell_type": "code",
   "execution_count": 42,
   "id": "9d1f2960",
   "metadata": {},
   "outputs": [],
   "source": [
    "# router \n",
    "def router(state:AgentState):\n",
    "    print(\"## router ##\")\n",
    "    last_message=state[\"messages\"][-1]\n",
    "    print(f\"## router ## last_message : {last_message}\")\n",
    "    if \"rag\" in last_message.lower():\n",
    "        return \"rag call\"\n",
    "    else :\n",
    "        return \"llm call\""
   ]
  },
  {
   "cell_type": "code",
   "execution_count": 43,
   "id": "141ba9ae",
   "metadata": {},
   "outputs": [],
   "source": [
    "# rag call\n",
    "def rag_call(state:AgentState):\n",
    "    print(\"## rag_call ##\")\n",
    "    question = state[\"messages\"][0]\n",
    "    print(f\"## rag_call ## question : {question}\")\n",
    "    prompt=PromptTemplate(\n",
    "        template=\"\"\"You are an assistant for question-answering tasks. Use the following pieces of retrieved context to answer the question. If you don't know the answer, just say that you don't know. Use three sentences maximum and keep the answer concise.\\nQuestion: {question} \\nContext: {context} \\nAnswer:\"\"\",\n",
    "        \n",
    "        input_variables=['context', 'question']\n",
    "    )\n",
    "    \n",
    "    rag_chain = (\n",
    "        {\"context\": retriever | format_docs, \"question\": RunnablePassthrough()}\n",
    "        | prompt\n",
    "        | model\n",
    "        | StrOutputParser()\n",
    "    )\n",
    "    result = rag_chain.invoke(question)\n",
    "    return  {\"messages\": [result]}"
   ]
  },
  {
   "cell_type": "code",
   "execution_count": 44,
   "id": "22731092",
   "metadata": {},
   "outputs": [],
   "source": [
    "# web search tavily\n",
    "from langchain_community.tools.tavily_search import TavilySearchResults\n",
    "\n",
    "tavily_api_key=os.getenv(\"TAVILY_API_KEY\")\n",
    "\n",
    "tavily_tool=TavilySearchResults(travily_api_key=tavily_api_key)\n"
   ]
  },
  {
   "cell_type": "code",
   "execution_count": 45,
   "id": "c46befd2",
   "metadata": {},
   "outputs": [],
   "source": [
    "from langchain_openai import ChatOpenAI\n",
    "from langchain.tools import Tool\n",
    "from langchain.agents import initialize_agent, AgentType\n",
    "# llm call\n",
    "def llm_call(state:AgentState):\n",
    "    print(\"## llm_call ##\")\n",
    "    question = state[\"messages\"][0]\n",
    "    print(f\"## llm_call ## question : {question}\")\n",
    "\n",
    "    agent = initialize_agent(\n",
    "        tools=[tavily_tool],\n",
    "        llm=model,\n",
    "        agent=AgentType.ZERO_SHOT_REACT_DESCRIPTION,\n",
    "        verbose=True\n",
    "    )\n",
    "    # llm agent with tavily tool\n",
    "    complete_query = f\"Answer the follow question with you knowledge of the real world. Following is the user question: {question}\"\n",
    "    response = agent.invoke(complete_query)\n",
    "    print(f\"## llm_call ##  response : {response}\")\n",
    "    #print(f\"## llm_call ##  output text : {response[\"output\"]}\")\n",
    "    return {\"messages\": [response[\"output\"]]}"
   ]
  },
  {
   "cell_type": "code",
   "execution_count": 59,
   "id": "d43a2d58",
   "metadata": {},
   "outputs": [],
   "source": [
    "# validation or guard_rail\n",
    "def guard_rail(state:AgentState):\n",
    "    print(\"## guard_rail ##\")\n",
    "    return {\"messages\":[\"pass\"]}\n",
    "     #return \"{\"messages\":[\"pass\"]}\n",
    "\n",
    "    \n",
    "    # guard_router\n",
    "def guard_router(state:AgentState):\n",
    "    print(\"## guard_router ##\")\n",
    "    last_message=state[\"messages\"][-1]\n",
    "    print(f\"## guard_router ## last_message : {last_message}\")\n",
    "    if \"pass\" in last_message.lower():\n",
    "        return END\n",
    "    else :\n",
    "        return \"supervisor\""
   ]
  },
  {
   "cell_type": "code",
   "execution_count": null,
   "id": "eaaaefbe",
   "metadata": {},
   "outputs": [
    {
     "data": {
      "text/plain": [
       "<langgraph.graph.state.StateGraph at 0x115f1f410>"
      ]
     },
     "execution_count": 65,
     "metadata": {},
     "output_type": "execute_result"
    }
   ],
   "source": [
    "# langgraph\n",
    "from langgraph.graph import StateGraph, START, END\n",
    "\n",
    "work_flow=StateGraph(AgentState)\n",
    "\n",
    "work_flow.set_entry_point(\"supervisor\")\n",
    "\n",
    "work_flow.add_node(\"supervisor\",supervisor)\n",
    "\n",
    "work_flow.add_node(\"llm\",llm_call)\n",
    "\n",
    "work_flow.add_node(\"rag\",rag_call)\n",
    "\n",
    "work_flow.add_node(\"guard_rail\",guard_rail)\n",
    "\n",
    "work_flow.add_conditional_edges(\n",
    "    \"supervisor\",\n",
    "    router,\n",
    "    {\n",
    "        \"llm call\" : \"llm\",\n",
    "        \"rag call\" : \"rag\"\n",
    "        \n",
    "    }\n",
    ")\n",
    "\n",
    "work_flow.add_edge(\"rag\",\"guard_rail\")\n",
    "\n",
    "work_flow.add_edge(\"llm\",\"guard_rail\")\n",
    "\n",
    "work_flow.add_conditional_edges(\n",
    "    \"guard_rail\",\n",
    "    guard_router,\n",
    "    {\n",
    "        \"pass\" : END,\n",
    "        \"fail\" : \"supervisor\"\n",
    "    }\n",
    ")\n"
   ]
  },
  {
   "cell_type": "code",
   "execution_count": 62,
   "id": "8282ed2a",
   "metadata": {},
   "outputs": [],
   "source": [
    "# compile graph\n",
    "app = work_flow.compile()"
   ]
  },
  {
   "cell_type": "code",
   "execution_count": 63,
   "id": "8dea7668",
   "metadata": {},
   "outputs": [
    {
     "data": {
      "image/png": "[encoded data removed]",
      "text/plain": [
       "<IPython.core.display.Image object>"
      ]
     },
     "metadata": {},
     "output_type": "display_data"
    }
   ],
   "source": [
    "from IPython.display import display,Image\n",
    "display(Image(app.get_graph().draw_mermaid_png()))"
   ]
  },
  {
   "cell_type": "code",
   "execution_count": 64,
   "id": "a6f3a09d",
   "metadata": {},
   "outputs": [
    {
     "name": "stdout",
     "output_type": "stream",
     "text": [
      "## supervisor ##\n",
      "## supervisor ## question : can you tell me the industrial growth of world's most poor economy?\n",
      "## supervisor ## response : topic='Not Related' reason_for_selection=\"The query is about the industrial growth of the world's poorest economy, which is not related to the USA.\"\n",
      "## router ##\n",
      "## router ## last_message : Not Related\n",
      "## llm_call ##\n",
      "## llm_call ## question : can you tell me the industrial growth of world's most poor economy?\n",
      "\n",
      "\n",
      "\u001b[1m> Entering new AgentExecutor chain...\u001b[0m\n",
      "\u001b[32;1m\u001b[1;3mI need to find information about the industrial growth of the world's poorest economy. First, I need to identify which country is considered the world's poorest economy. Then, I can search for information about its industrial growth.\n",
      "Action: tavily_search_results_json\n",
      "Action Input: \"world's poorest economy\"\u001b[0m\n",
      "Observation: \u001b[36;1m\u001b[1;3m[{'title': 'Poorest Countries in the World 2025 - World Population Review', 'url': 'https://worldpopulationreview.com/country-rankings/poorest-countries-in-the-world', 'content': '[Burundi](/countries/burundi) is the poorest country in the world, with a per capita GNI of $230 using the Atlas method and a PPP of $951. Conversely, [Bermuda](/countries/bermuda) is the [richest country in the world](/country-rankings/richest-countries-in-the-world) according to GNI (Atlas method), with a value of $134,640. Therefore, the difference in GNI (Atlas method) between the richest and poorest countries in the world is $116,380. In terms of PPP, [Luxembourg](/countries/luxembourg) is [...] Burundi is the worldâ\\x80\\x99s poorest country, with a GDP per capita, PPP of $950.90. It has almost 14.8 million people and is growing at a rate of 2.77%, making it one of the [fastest-growing countries](/country-rankings/fastest-growing-countries) in the world; however, Burundi faces the threat of overpopulation. The countryâ\\x80\\x99s largest industry is agriculture, making up 32.9% of its GDP and employing over 70% of the population. Despite this, about 40% of its people donâ\\x80\\x99t have access to enough [...] ### 2. Central African Republic\\n\\nThe Central African Republicâ\\x80\\x99s GDP per capita, PPP is $1,130, making it the second-poorest country. CAR is another country with a fast-growing population but a weak economy. Many citizens are subsistence farmers to take care of their families, and agriculture makes up over half of the countryâ\\x80\\x99s GDP. While timber and diamonds account for the majority of the countryâ\\x80\\x99s profits, its citizens do not see the money.\\n\\n### 3. Somalia', 'score': 0.75290436}, {'title': 'Poorest Countries in the World 2024 | Global Finance Magazine', 'url': 'https://gfmag.com/data/economic-data/poorest-country-in-the-world/', 'content': 'Global Finance Magazine Global news and insight for corporate financial professionals Global news and insight for corporate financial professionals Home Data Economic Data Poorest Countries in the World 2024 Economic Data Poorest Countries in the World 2024 May 6, 2024 Author: Luca Ventura The world’s poorest countries suffer from civil wars, ethnic and sectarian strife. COVID-19, soaring inflation and the war in Ukraine made their bad situations worse. Yet, people in countries like Burundi, South Sudan and the Central African Republic continue to live in desperate poverty. While GDP per capita is often considered the standard metric, compensating for differences in living costs and rates of inflation by using purchasing power parity (PPP) can better assess an individual’s buying power in any given country.', 'score': 0.7336813}, {'title': 'Top 10 Poorest Countries in the World in 2025 | GDP per Capita', 'url': 'https://sapa-usa.org/top-poorest-countries-in-the-world/', 'content': 'Top 10 Poorest Countries in the World in 2025 [GDP per Capita] While Africa is home to several countries facing economic challenges, it is not accurate to label the entire continent as the poorest. Nigeria, despite facing economic challenges, is not the poorest country globally. Top 10 Poorest Countries in the World in 2025 By GDP per Capita: Read More: Why Sudan is one the poorest countries in the world Political Instability: Many of the poorest countries grapple with political unrest and conflict, hindering economic development and stability. – South Sudan holds the title of the poorest country in the world in 2025, with a GDP-PPP per capita of $455.', 'score': 0.7147281}, {'title': 'Top 20 Poorest Countries in the World 2025 - Focus Economics', 'url': 'https://www.focus-economics.com/blog/the-poorest-countries-in-the-world/', 'content': 'the north, have further disrupted economic progress. Mozambique is expected to see above-average growth among SSA economies in the coming years thanks to the extractive sector, though a large share of these economic gains are unlikely to filter through to the ordinary populace. [...] **Sub-Saharan Africa continues to dominate the list of poorest countries:**When looking at our\\xa0[Consensus Forecasts](https://www.focus-economics.com)\\xa0for the economies with the lowest GDP per capita (in U.S. dollars, current market prices) in 2025, one thing jumps out: 19 of the 20 poorest are from\\xa0[Sub-Saharan Africa (SSA).](https://www.focus-economics.com/regions/sub-saharan-africa/)\\xa0The only non-African nation in the top 20 is the conflict-riven, internationally isolated country of [...] continue to lacerate the economy going forward, with Sudan likely to record one of Africa’s softest growth rates in coming years.', 'score': 0.683948}, {'title': 'Least developed countries - Wikipedia', 'url': 'https://en.wikipedia.org/wiki/Least_developed_countries', 'content': 'There is one country which presently meets the criteria and two countries which previously met the criteria for LDC status, but declined to be included in the index, questioning the validity or accuracy of the CDP\\'s data: [Ghana](https://en.wikipedia.org/wiki/Ghana \"Ghana\") (no longer meets criteria as of 1994), [Papua New Guinea](https://en.wikipedia.org/wiki/Papua_New_Guinea \"Papua New Guinea\") (no longer meets criteria as of 2009), and [Zimbabwe](https://en.wikipedia.org/wiki/Zimbabwe', 'score': 0.55912215}]\u001b[0m\n",
      "Thought:\u001b[32;1m\u001b[1;3mBased on the search results, Burundi and South Sudan are often cited as among the poorest countries in the world. I will search for industrial growth information for both.\n",
      "Action: tavily_search_results_json\n",
      "Action Input: \"Burundi industrial growth\"\u001b[0m\n",
      "Observation: \u001b[36;1m\u001b[1;3m[{'title': 'Burundi - ISS African Futures', 'url': 'https://futures.issafrica.org/geographic/countries/burundi/', 'content': 'Industrialisation is a foundation for inclusive growth, the creation of decent jobs and many other development goals. This is recognised by the NDP 2018–2027 as industrialisation is one of the pillars to structurally transform the Burundian economy for robust, sustainable, resilient and inclusive growth, thereby creating decent jobs for all and leading to improved social welfare. [...] The manufacturing sector accounted for about 15% (0.44 billion) in 2019, and on the Current Path it will increase to 22.7% of GDP (US$1.75 billion) by 2043. In the Manufacturing scenario, Burundi makes substantial progress in industrialisation such that, by 2043, the share of the manufacturing sector in GDP is about 28% of GDP (US$2.35 billion) — more than five percentage points of GDP or US$0.6 billion above the Current Path. [...] markets. The government of Burundi has undertaken several reforms in recent years to promote industrial development. These reforms have focused on: (i) improving the business climate; (ii) developing of the private sector; (iii) simplifying procedures for establishing and creating companies, (iv) protecting industrial property; (v) encouraging the use of ICT; and (vi) enacting the new investment code. However, the sector still faces several challenges, including: (i) the shortage of economic', 'score': 0.8548001}, {'title': \"Burundi | Economic Indicators | Moody's Analytics - Economy.com\", 'url': 'https://www.economy.com/burundi/indicators', 'content': 'coffee, cotton, tea, corn, beans, sorghum, sweet potatoes, bananas, cassava (manioc, tapioca); beef, milk, hides\\n\\n**Industries:**\\n\\nlight consumer goods (sugar, shoes, soap, beer); cement, assembly of imported components; public works construction; food processing (fruits)\\n\\n**Industrial production growth rate:**\\n\\n-5% (2017 est.)\\n\\ncountry comparison to the world: **199**\\n\\n**Labor force:**\\n\\n5.012 million (2017 est.)\\n\\ncountry comparison to the world: **84**\\n\\n**Labor force - by occupation:** [...] **GDP - composition, by end use:**\\n\\nhousehold consumption: 80.5%\\n\\ngovernment consumption: 21.3%\\n\\ninvestment in fixed capital: 15.6%\\n\\ninvestment in inventories: 0%\\n\\nexports of goods and services: 5.5%\\n\\nimports of goods and services: -22.9% (2017 est.)\\n\\n**GDP - composition, by sector of origin:**\\n\\nagriculture: 40%\\n\\nindustry: 16%\\n\\nservices: 44.1% (2017 est.)\\n\\n**Agriculture - products:** [...] Real GDP growth dropped precipitously following political events in 2015 and has yet to recover to pre-conflict levels. Continued isolation by donors and the international community will restrict Burundi’s economic growth as the country deals with a large current account deficit.\\n\\n**GDP (purchasing power parity):**\\n\\n$7.985 billion (2017 est.)\\n\\n$7.985 billion (2016 est.)\\n\\n$8.069 billion (2015 est.)\\n\\nnote: data are in 2017 dollars\\n\\ncountry comparison to the world: **164**', 'score': 0.82048416}, {'title': 'Burundi Overview: Development news, research, data | World Bank', 'url': 'https://www.worldbank.org/en/country/burundi/overview', 'content': 'Real GDP growth is estimated at 3.5% in 2024, up from 2.7% in 2023, supported by agriculture, domestic demand—especially public—and improved electricity supply. On the supply side, agriculture (+3.7%) rebounded despite flooding, driven by good rainfall. The tertiary sector (+4.2%) benefited from the dynamism of public services. In contrast, industry (+1.0%, down from 2.9% in 2023) was affected by persistent fuel and currency shortages, before starting to recover in the second half of the year, [...] Real GDP growth is expected to reach 3.6% in 2025, supported by the recovery of the secondary sector (bolstered by the commissioning of the Jiji & Mulembwe power plant), the revival of mining exports, and services. Inflation is expected to remain high, around 40%, due to the increased monetary financing of the deficit and a persistent exchange rate gap. In the medium term (2026–2027), growth is expected to average 4%, while inflation would gradually moderate to 27.9%.', 'score': 0.8055255}, {'title': 'Burundi Economic Outlook | African Development Bank Group', 'url': 'https://www.afdb.org/en/countries/east-africa/burundi/burundi-economic-outlook', 'content': 'Real GDP grew 2.8% in 2023, up from 1.8% in 2022, driven mainly by industry (up 4.7%) and services (up 2.7%) on the supply side and by public investment and', 'score': 0.76847315}, {'title': 'Economy of Burundi - Wikipedia', 'url': 'https://en.wikipedia.org/wiki/Economy_of_Burundi', 'content': '[IMF structural adjustment](https://en.wikipedia.org/wiki/Structural_adjustment \"Structural adjustment\") programs in Burundi were suspended following the outbreak of the crisis in 1993. The World Bank has identified key areas for potential growth, including the productivity of traditional crops and the introduction of new exports, light manufactures, industrial mining, and services. Other serious problems include the state\\'s role in the economy, the question of governmental transparency, and [...] *   ![Image 6: Increase](https://upload.wikimedia.org/wikipedia/commons/thumb/b/b0/Increase2.svg/20px-Increase2.svg.png) $13.97 billion ([PPP](https://en.wikipedia.org/wiki/Purchasing_power_parity \"Purchasing power parity\"), 2025 est.)[[3]](https://en.wikipedia.org/wiki/Economy_of_Burundi#cite_note-IMF-3)\\nGDP growth*   0.3% (2020) 3.1% (2021)\\n*   1.8% (2022) 3.3% (2023e)[[3]](https://en.wikipedia.org/wiki/Economy_of_Burundi#cite_note-IMF-3) [...] | **2019** | 9.55 | 828 | 3.01 | 1.8% | −0.7% | 60.0% |\\n| **2020** | 9.92 | 836 | 3.09 | 0.3% | 7.3% | 66.0% |\\n| **2021** | 10.85 | 887 | 3.35 | 3.1% | 8.3% | 66.6% |\\n| **2022** | 11.83 | 939 | 3.92 | 1.8% | 18.9% | 68.4% |\\n| **2023** | 12.59 | 970 | 4.24 | 2.7% | 27.0% | 62.4% |\\n| **2024** | 13.17 | 986 | 4.29 | 2.2% | 20.0% | 86.8% |', 'score': 0.75181264}]\u001b[0m\n",
      "Thought:\u001b[32;1m\u001b[1;3mBased on the search results, here's what I can tell you about the industrial growth of Burundi, which is often considered the world's poorest economy:\n",
      "\n",
      "*   **Recent Growth:** Real GDP grew by 2.8% in 2023, driven mainly by industry (up 4.7%) and services (up 2.7%). The World Bank estimates real GDP growth at 3.5% in 2024, with industry growing at 1.0%. They expect growth to reach 3.6% in 2025, supported by the recovery of the secondary sector.\n",
      "*   **Challenges:** The industrial sector has been affected by fuel and currency shortages.\n",
      "*   **Long-Term Potential:** The Burundi National Development Plan 2018-2027 recognizes industrialization as a key pillar for transforming the economy. The manufacturing sector accounted for about 15% of GDP in 2019 and is projected to increase to 22.7% by 2043. With substantial progress in industrialization, the share of the manufacturing sector in GDP could reach about 28% by 2043.\n",
      "*   **Historical Data:** In 2017, the industrial production growth rate was estimated at -5%. The industrial sector contributed 16% to the GDP in 2017.\n",
      "\n",
      "It's important to note that economic data for Burundi can be volatile and subject to revisions.\n",
      "Final Answer: In 2023, Burundi's industrial sector grew by 4.7%, contributing to an overall GDP growth of 2.8%. The World Bank estimates a more modest industrial growth of 1.0% for 2024, with expectations of a recovery in the secondary sector leading to higher growth in 2025.\u001b[0m\n",
      "\n",
      "\u001b[1m> Finished chain.\u001b[0m\n",
      "## llm_call ##  response : {'input': \"Answer the follow question with you knowledge of the real world. Following is the user question: can you tell me the industrial growth of world's most poor economy?\", 'output': \"In 2023, Burundi's industrial sector grew by 4.7%, contributing to an overall GDP growth of 2.8%. The World Bank estimates a more modest industrial growth of 1.0% for 2024, with expectations of a recovery in the secondary sector leading to higher growth in 2025.\"}\n",
      "## guard_rail ##\n",
      "## guard_router ##\n",
      "## guard_router ## last_message : pass\n"
     ]
    },
    {
     "ename": "KeyError",
     "evalue": "'__end__'",
     "output_type": "error",
     "traceback": [
      "\u001b[31m---------------------------------------------------------------------------\u001b[39m",
      "\u001b[31mKeyError\u001b[39m                                  Traceback (most recent call last)",
      "\u001b[36mCell\u001b[39m\u001b[36m \u001b[39m\u001b[32mIn[64]\u001b[39m\u001b[32m, line 3\u001b[39m\n\u001b[32m      1\u001b[39m \u001b[38;5;66;03m# run sample app\u001b[39;00m\n\u001b[32m      2\u001b[39m state={\u001b[33m\"\u001b[39m\u001b[33mmessages\u001b[39m\u001b[33m\"\u001b[39m:[\u001b[33m\"\u001b[39m\u001b[33mcan you tell me the industrial growth of world\u001b[39m\u001b[33m'\u001b[39m\u001b[33ms most poor economy?\u001b[39m\u001b[33m\"\u001b[39m]}\n\u001b[32m----> \u001b[39m\u001b[32m3\u001b[39m result=\u001b[43mapp\u001b[49m\u001b[43m.\u001b[49m\u001b[43minvoke\u001b[49m\u001b[43m(\u001b[49m\u001b[43mstate\u001b[49m\u001b[43m)\u001b[49m\n",
      "\u001b[36mFile \u001b[39m\u001b[32m/opt/miniconda3/envs/agentic_env/lib/python3.11/site-packages/langgraph/pregel/__init__.py:2719\u001b[39m, in \u001b[36mPregel.invoke\u001b[39m\u001b[34m(self, input, config, stream_mode, output_keys, interrupt_before, interrupt_after, checkpoint_during, debug, **kwargs)\u001b[39m\n\u001b[32m   2716\u001b[39m chunks: \u001b[38;5;28mlist\u001b[39m[Union[\u001b[38;5;28mdict\u001b[39m[\u001b[38;5;28mstr\u001b[39m, Any], Any]] = []\n\u001b[32m   2717\u001b[39m interrupts: \u001b[38;5;28mlist\u001b[39m[Interrupt] = []\n\u001b[32m-> \u001b[39m\u001b[32m2719\u001b[39m \u001b[43m\u001b[49m\u001b[38;5;28;43;01mfor\u001b[39;49;00m\u001b[43m \u001b[49m\u001b[43mchunk\u001b[49m\u001b[43m \u001b[49m\u001b[38;5;129;43;01min\u001b[39;49;00m\u001b[43m \u001b[49m\u001b[38;5;28;43mself\u001b[39;49m\u001b[43m.\u001b[49m\u001b[43mstream\u001b[49m\u001b[43m(\u001b[49m\n\u001b[32m   2720\u001b[39m \u001b[43m    \u001b[49m\u001b[38;5;28;43minput\u001b[39;49m\u001b[43m,\u001b[49m\n\u001b[32m   2721\u001b[39m \u001b[43m    \u001b[49m\u001b[43mconfig\u001b[49m\u001b[43m,\u001b[49m\n\u001b[32m   2722\u001b[39m \u001b[43m    \u001b[49m\u001b[43mstream_mode\u001b[49m\u001b[43m=\u001b[49m\u001b[43mstream_mode\u001b[49m\u001b[43m,\u001b[49m\n\u001b[32m   2723\u001b[39m \u001b[43m    \u001b[49m\u001b[43moutput_keys\u001b[49m\u001b[43m=\u001b[49m\u001b[43moutput_keys\u001b[49m\u001b[43m,\u001b[49m\n\u001b[32m   2724\u001b[39m \u001b[43m    \u001b[49m\u001b[43minterrupt_before\u001b[49m\u001b[43m=\u001b[49m\u001b[43minterrupt_before\u001b[49m\u001b[43m,\u001b[49m\n\u001b[32m   2725\u001b[39m \u001b[43m    \u001b[49m\u001b[43minterrupt_after\u001b[49m\u001b[43m=\u001b[49m\u001b[43minterrupt_after\u001b[49m\u001b[43m,\u001b[49m\n\u001b[32m   2726\u001b[39m \u001b[43m    \u001b[49m\u001b[43mcheckpoint_during\u001b[49m\u001b[43m=\u001b[49m\u001b[43mcheckpoint_during\u001b[49m\u001b[43m,\u001b[49m\n\u001b[32m   2727\u001b[39m \u001b[43m    \u001b[49m\u001b[43mdebug\u001b[49m\u001b[43m=\u001b[49m\u001b[43mdebug\u001b[49m\u001b[43m,\u001b[49m\n\u001b[32m   2728\u001b[39m \u001b[43m    \u001b[49m\u001b[43m*\u001b[49m\u001b[43m*\u001b[49m\u001b[43mkwargs\u001b[49m\u001b[43m,\u001b[49m\n\u001b[32m   2729\u001b[39m \u001b[43m\u001b[49m\u001b[43m)\u001b[49m\u001b[43m:\u001b[49m\n\u001b[32m   2730\u001b[39m \u001b[43m    \u001b[49m\u001b[38;5;28;43;01mif\u001b[39;49;00m\u001b[43m \u001b[49m\u001b[43mstream_mode\u001b[49m\u001b[43m \u001b[49m\u001b[43m==\u001b[49m\u001b[43m \u001b[49m\u001b[33;43m\"\u001b[39;49m\u001b[33;43mvalues\u001b[39;49m\u001b[33;43m\"\u001b[39;49m\u001b[43m:\u001b[49m\n\u001b[32m   2731\u001b[39m \u001b[43m        \u001b[49m\u001b[38;5;28;43;01mif\u001b[39;49;00m\u001b[43m \u001b[49m\u001b[43m(\u001b[49m\n\u001b[32m   2732\u001b[39m \u001b[43m            \u001b[49m\u001b[38;5;28;43misinstance\u001b[39;49m\u001b[43m(\u001b[49m\u001b[43mchunk\u001b[49m\u001b[43m,\u001b[49m\u001b[43m \u001b[49m\u001b[38;5;28;43mdict\u001b[39;49m\u001b[43m)\u001b[49m\n\u001b[32m   2733\u001b[39m \u001b[43m            \u001b[49m\u001b[38;5;129;43;01mand\u001b[39;49;00m\u001b[43m \u001b[49m\u001b[43m(\u001b[49m\u001b[43mints\u001b[49m\u001b[43m \u001b[49m\u001b[43m:=\u001b[49m\u001b[43m \u001b[49m\u001b[43mchunk\u001b[49m\u001b[43m.\u001b[49m\u001b[43mget\u001b[49m\u001b[43m(\u001b[49m\u001b[43mINTERRUPT\u001b[49m\u001b[43m)\u001b[49m\u001b[43m)\u001b[49m\u001b[43m \u001b[49m\u001b[38;5;129;43;01mis\u001b[39;49;00m\u001b[43m \u001b[49m\u001b[38;5;129;43;01mnot\u001b[39;49;00m\u001b[43m \u001b[49m\u001b[38;5;28;43;01mNone\u001b[39;49;00m\n\u001b[32m   2734\u001b[39m \u001b[43m        \u001b[49m\u001b[43m)\u001b[49m\u001b[43m:\u001b[49m\n",
      "\u001b[36mFile \u001b[39m\u001b[32m/opt/miniconda3/envs/agentic_env/lib/python3.11/site-packages/langgraph/pregel/__init__.py:2436\u001b[39m, in \u001b[36mPregel.stream\u001b[39m\u001b[34m(self, input, config, stream_mode, output_keys, interrupt_before, interrupt_after, checkpoint_during, debug, subgraphs)\u001b[39m\n\u001b[32m   2434\u001b[39m         \u001b[38;5;28;01mfor\u001b[39;00m task \u001b[38;5;129;01min\u001b[39;00m loop.match_cached_writes():\n\u001b[32m   2435\u001b[39m             loop.output_writes(task.id, task.writes, cached=\u001b[38;5;28;01mTrue\u001b[39;00m)\n\u001b[32m-> \u001b[39m\u001b[32m2436\u001b[39m \u001b[43m        \u001b[49m\u001b[38;5;28;43;01mfor\u001b[39;49;00m\u001b[43m \u001b[49m\u001b[43m_\u001b[49m\u001b[43m \u001b[49m\u001b[38;5;129;43;01min\u001b[39;49;00m\u001b[43m \u001b[49m\u001b[43mrunner\u001b[49m\u001b[43m.\u001b[49m\u001b[43mtick\u001b[49m\u001b[43m(\u001b[49m\n\u001b[32m   2437\u001b[39m \u001b[43m            \u001b[49m\u001b[43m[\u001b[49m\u001b[43mt\u001b[49m\u001b[43m \u001b[49m\u001b[38;5;28;43;01mfor\u001b[39;49;00m\u001b[43m \u001b[49m\u001b[43mt\u001b[49m\u001b[43m \u001b[49m\u001b[38;5;129;43;01min\u001b[39;49;00m\u001b[43m \u001b[49m\u001b[43mloop\u001b[49m\u001b[43m.\u001b[49m\u001b[43mtasks\u001b[49m\u001b[43m.\u001b[49m\u001b[43mvalues\u001b[49m\u001b[43m(\u001b[49m\u001b[43m)\u001b[49m\u001b[43m \u001b[49m\u001b[38;5;28;43;01mif\u001b[39;49;00m\u001b[43m \u001b[49m\u001b[38;5;129;43;01mnot\u001b[39;49;00m\u001b[43m \u001b[49m\u001b[43mt\u001b[49m\u001b[43m.\u001b[49m\u001b[43mwrites\u001b[49m\u001b[43m]\u001b[49m\u001b[43m,\u001b[49m\n\u001b[32m   2438\u001b[39m \u001b[43m            \u001b[49m\u001b[43mtimeout\u001b[49m\u001b[43m=\u001b[49m\u001b[38;5;28;43mself\u001b[39;49m\u001b[43m.\u001b[49m\u001b[43mstep_timeout\u001b[49m\u001b[43m,\u001b[49m\n\u001b[32m   2439\u001b[39m \u001b[43m            \u001b[49m\u001b[43mget_waiter\u001b[49m\u001b[43m=\u001b[49m\u001b[43mget_waiter\u001b[49m\u001b[43m,\u001b[49m\n\u001b[32m   2440\u001b[39m \u001b[43m            \u001b[49m\u001b[43mschedule_task\u001b[49m\u001b[43m=\u001b[49m\u001b[43mloop\u001b[49m\u001b[43m.\u001b[49m\u001b[43maccept_push\u001b[49m\u001b[43m,\u001b[49m\n\u001b[32m   2441\u001b[39m \u001b[43m        \u001b[49m\u001b[43m)\u001b[49m\u001b[43m:\u001b[49m\n\u001b[32m   2442\u001b[39m \u001b[43m            \u001b[49m\u001b[38;5;66;43;03m# emit output\u001b[39;49;00m\n\u001b[32m   2443\u001b[39m \u001b[43m            \u001b[49m\u001b[38;5;28;43;01myield from\u001b[39;49;00m\u001b[43m \u001b[49m\u001b[43moutput\u001b[49m\u001b[43m(\u001b[49m\u001b[43m)\u001b[49m\n\u001b[32m   2444\u001b[39m \u001b[38;5;66;03m# emit output\u001b[39;00m\n",
      "\u001b[36mFile \u001b[39m\u001b[32m/opt/miniconda3/envs/agentic_env/lib/python3.11/site-packages/langgraph/graph/branch.py:174\u001b[39m, in \u001b[36mBranch._route\u001b[39m\u001b[34m(self, input, config, reader, writer)\u001b[39m\n\u001b[32m    172\u001b[39m     value = \u001b[38;5;28minput\u001b[39m\n\u001b[32m    173\u001b[39m result = \u001b[38;5;28mself\u001b[39m.path.invoke(value, config)\n\u001b[32m--> \u001b[39m\u001b[32m174\u001b[39m \u001b[38;5;28;01mreturn\u001b[39;00m \u001b[38;5;28;43mself\u001b[39;49m\u001b[43m.\u001b[49m\u001b[43m_finish\u001b[49m\u001b[43m(\u001b[49m\u001b[43mwriter\u001b[49m\u001b[43m,\u001b[49m\u001b[43m \u001b[49m\u001b[38;5;28;43minput\u001b[39;49m\u001b[43m,\u001b[49m\u001b[43m \u001b[49m\u001b[43mresult\u001b[49m\u001b[43m,\u001b[49m\u001b[43m \u001b[49m\u001b[43mconfig\u001b[49m\u001b[43m)\u001b[49m\n",
      "\u001b[36mFile \u001b[39m\u001b[32m/opt/miniconda3/envs/agentic_env/lib/python3.11/site-packages/langgraph/graph/branch.py:209\u001b[39m, in \u001b[36mBranch._finish\u001b[39m\u001b[34m(self, writer, input, result, config)\u001b[39m\n\u001b[32m    207\u001b[39m     result = [result]\n\u001b[32m    208\u001b[39m \u001b[38;5;28;01mif\u001b[39;00m \u001b[38;5;28mself\u001b[39m.ends:\n\u001b[32m--> \u001b[39m\u001b[32m209\u001b[39m     destinations: Sequence[Union[Send, \u001b[38;5;28mstr\u001b[39m]] = \u001b[43m[\u001b[49m\n\u001b[32m    210\u001b[39m \u001b[43m        \u001b[49m\u001b[43mr\u001b[49m\u001b[43m \u001b[49m\u001b[38;5;28;43;01mif\u001b[39;49;00m\u001b[43m \u001b[49m\u001b[38;5;28;43misinstance\u001b[39;49m\u001b[43m(\u001b[49m\u001b[43mr\u001b[49m\u001b[43m,\u001b[49m\u001b[43m \u001b[49m\u001b[43mSend\u001b[49m\u001b[43m)\u001b[49m\u001b[43m \u001b[49m\u001b[38;5;28;43;01melse\u001b[39;49;00m\u001b[43m \u001b[49m\u001b[38;5;28;43mself\u001b[39;49m\u001b[43m.\u001b[49m\u001b[43mends\u001b[49m\u001b[43m[\u001b[49m\u001b[43mr\u001b[49m\u001b[43m]\u001b[49m\u001b[43m \u001b[49m\u001b[38;5;28;43;01mfor\u001b[39;49;00m\u001b[43m \u001b[49m\u001b[43mr\u001b[49m\u001b[43m \u001b[49m\u001b[38;5;129;43;01min\u001b[39;49;00m\u001b[43m \u001b[49m\u001b[43mresult\u001b[49m\n\u001b[32m    211\u001b[39m \u001b[43m    \u001b[49m\u001b[43m]\u001b[49m\n\u001b[32m    212\u001b[39m \u001b[38;5;28;01melse\u001b[39;00m:\n\u001b[32m    213\u001b[39m     destinations = cast(Sequence[Union[Send, \u001b[38;5;28mstr\u001b[39m]], result)\n",
      "\u001b[36mFile \u001b[39m\u001b[32m/opt/miniconda3/envs/agentic_env/lib/python3.11/site-packages/langgraph/graph/branch.py:210\u001b[39m, in \u001b[36m<listcomp>\u001b[39m\u001b[34m(.0)\u001b[39m\n\u001b[32m    207\u001b[39m     result = [result]\n\u001b[32m    208\u001b[39m \u001b[38;5;28;01mif\u001b[39;00m \u001b[38;5;28mself\u001b[39m.ends:\n\u001b[32m    209\u001b[39m     destinations: Sequence[Union[Send, \u001b[38;5;28mstr\u001b[39m]] = [\n\u001b[32m--> \u001b[39m\u001b[32m210\u001b[39m         r \u001b[38;5;28;01mif\u001b[39;00m \u001b[38;5;28misinstance\u001b[39m(r, Send) \u001b[38;5;28;01melse\u001b[39;00m \u001b[38;5;28;43mself\u001b[39;49m\u001b[43m.\u001b[49m\u001b[43mends\u001b[49m\u001b[43m[\u001b[49m\u001b[43mr\u001b[49m\u001b[43m]\u001b[49m \u001b[38;5;28;01mfor\u001b[39;00m r \u001b[38;5;129;01min\u001b[39;00m result\n\u001b[32m    211\u001b[39m     ]\n\u001b[32m    212\u001b[39m \u001b[38;5;28;01melse\u001b[39;00m:\n\u001b[32m    213\u001b[39m     destinations = cast(Sequence[Union[Send, \u001b[38;5;28mstr\u001b[39m]], result)\n",
      "\u001b[31mKeyError\u001b[39m: '__end__'",
      "During task with name 'guard_rail' and id '21bc3272-c787-306e-34c1-6d65c4f91f8e'"
     ]
    }
   ],
   "source": [
    "# run sample app\n",
    "state={\"messages\":[\"can you tell me the industrial growth of world's most poor economy?\"]}\n",
    "result=app.invoke(state)\n"
   ]
  },
  {
   "cell_type": "code",
   "execution_count": null,
   "id": "32e7a90f",
   "metadata": {},
   "outputs": [],
   "source": []
  }
 ],
 "metadata": {
  "kernelspec": {
   "display_name": "agentic_env",
   "language": "python",
   "name": "python3"
  },
  "language_info": {
   "codemirror_mode": {
    "name": "ipython",
    "version": 3
   },
   "file_extension": ".py",
   "mimetype": "text/x-python",
   "name": "python",
   "nbconvert_exporter": "python",
   "pygments_lexer": "ipython3",
   "version": "3.11.11"
  }
 },
 "nbformat": 4,
 "nbformat_minor": 5
}
