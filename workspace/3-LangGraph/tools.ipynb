{
 "cells": [
  {
   "cell_type": "code",
   "execution_count": 1,
   "id": "317131ad",
   "metadata": {},
   "outputs": [],
   "source": [
    "from langchain_community.tools import WikipediaQueryRun"
   ]
  },
  {
   "cell_type": "code",
   "execution_count": null,
   "id": "a03be73c",
   "metadata": {},
   "outputs": [],
   "source": [
    "from langchain_community.utilities import WikipediaAPIWrapper\n",
    "api_wrapper=WikipediaAPIWrapper(top_k_results=1,doc_content_chars_max=2000)\n",
    "wiki_tool=WikipediaQueryRun(api_wrapper=api_wrapper)"
   ]
  },
  {
   "cell_type": "code",
   "execution_count": 11,
   "id": "518218c0",
   "metadata": {},
   "outputs": [
    {
     "data": {
      "text/plain": [
       "'Page: Agentic AI\\nSummary: Agentic AI is a class of artificial intelligence that focuses on autonomous systems that can make decisions and perform tasks without human intervention. The independent systems automatically respond to conditions, to produce process results. The field is closely linked to agentic automation, also known as agent-based process management systems, when applied to process automation. Applications include software development, customer support, cybersecurity and business intelligence. \\n\\n'"
      ]
     },
     "execution_count": 11,
     "metadata": {},
     "output_type": "execute_result"
    }
   ],
   "source": [
    "wiki_tool.invoke(\"What is AI Agent?\")"
   ]
  },
  {
   "cell_type": "code",
   "execution_count": 12,
   "id": "04e8463f",
   "metadata": {},
   "outputs": [
    {
     "data": {
      "text/plain": [
       "'A wrapper around Wikipedia. Useful for when you need to answer general questions about people, places, companies, facts, historical events, or other subjects. Input should be a search query.'"
      ]
     },
     "execution_count": 12,
     "metadata": {},
     "output_type": "execute_result"
    }
   ],
   "source": [
    "wiki_tool.description"
   ]
  },
  {
   "cell_type": "code",
   "execution_count": 13,
   "id": "a258a9f7",
   "metadata": {},
   "outputs": [
    {
     "data": {
      "text/plain": [
       "{'query': {'description': 'query to look up on wikipedia',\n",
       "  'title': 'Query',\n",
       "  'type': 'string'}}"
      ]
     },
     "execution_count": 13,
     "metadata": {},
     "output_type": "execute_result"
    }
   ],
   "source": [
    "wiki_tool.args"
   ]
  },
  {
   "cell_type": "code",
   "execution_count": 14,
   "id": "2b44531e",
   "metadata": {},
   "outputs": [
    {
     "data": {
      "text/plain": [
       "'Page: Agentic AI\\nSummary: Agentic AI is a class of artificial intelligence that focuses on autonomous systems that can make decisions and perform tasks without human intervention. The independent systems automatically respond to conditions, to produce process results. The field is closely linked to agentic automation, also known as agent-based process management systems, when applied to process automation. Applications include software development, customer support, cybersecurity and business intelligence. \\n\\n'"
      ]
     },
     "execution_count": 14,
     "metadata": {},
     "output_type": "execute_result"
    }
   ],
   "source": [
    "wiki_tool.run(\"What is AI Agent?\")"
   ]
  },
  {
   "cell_type": "code",
   "execution_count": 15,
   "id": "a5edc62a",
   "metadata": {},
   "outputs": [
    {
     "data": {
      "text/plain": [
       "'Page: Agentic AI\\nSummary: Agentic AI is a class of artificial intelligence that focuses on autonomous systems that can make decisions and perform tasks without human intervention. The independent systems automatically respond to conditions, to produce process results. The field is closely linked to agentic automation, also known as agent-based process management systems, when applied to process automation. Applications include software development, customer support, cybersecurity and business intelligence. \\n\\n'"
      ]
     },
     "execution_count": 15,
     "metadata": {},
     "output_type": "execute_result"
    }
   ],
   "source": [
    "wiki_tool.run({\"query\":\"What is AI Agent?\"})"
   ]
  },
  {
   "cell_type": "code",
   "execution_count": 19,
   "id": "a361f689",
   "metadata": {},
   "outputs": [
    {
     "data": {
      "text/plain": [
       "\"['https://www.youtube.com/watch?v=ghGiv7YLC7Q&pp=ygUFc3Vubnk%3D', 'https://www.youtube.com/watch?v=-iyCpFGrGCQ&pp=ygUFc3Vubnk%3D']\""
      ]
     },
     "execution_count": 19,
     "metadata": {},
     "output_type": "execute_result"
    }
   ],
   "source": [
    "from langchain_community.tools import YouTubeSearchTool\n",
    "yt_tool=YouTubeSearchTool()\n",
    "yt_tool.run(\"sunny\")"
   ]
  },
  {
   "cell_type": "code",
   "execution_count": 21,
   "id": "ad127747",
   "metadata": {},
   "outputs": [
    {
     "data": {
      "text/plain": [
       "[{'title': 'RCB official, three others sent to 14-day judicial custody | India News',\n",
       "  'url': 'https://timesofindia.indiatimes.com/india/bengaluru-stampede-rcb-official-three-others-sent-to-14-day-judicial-custody/articleshow/121678186.cms',\n",
       "  'content': \"NEW DELHI: A city court on Friday remanded four individuals, including Royal Challengers Bengaluru (RCB) Head of Marketing and Revenue Nikhil Sosale, to 14-day judicial custody in connection with the tragic stampede outside M Chinnaswamy Stadium that claimed 11 lives.The additional chief metropolitan magistrate ordered Sosale, along with DNA Entertainment Private Limited executives Sunil Mathew, Sumanth, and Kiran Kumar, to be held in custody following their arrest earlier in the day in a joint [...] [](https://timesofindia.indiatimes.com/sports/cricket/ipl/top-stories/rcb-should-be-sued-india-world-cup-winner-lambasts-ipl-franchise-bengaluru-stampede-sparks-criticism/articleshow/121645859.cms)['RCB should be sued': India World Cup winner lambasts IPL franchise; Bengaluru stampede sparks criticism Cricket News: Following Royal Challengers Bengaluru's IPL victory, a felicitation ceremony at Chinnaswamy Stadium turned tragic. A stampede outside the stadium resu Times Of [...] [Today's ePaper](https://epaper.indiatimes.com/timesepaper/publication-the-times-of-india,city-delhi.cms?redirectionSource=TOIWeb)\\n\\n*   [News](https://timesofindia.indiatimes.com/)\\n*   Bengaluru Stampede: RCB official, three others sent to 14-day judicial custody\\n\\nBengaluru Stampede: RCB official, three others sent to 14-day judicial custody\\n==============================================================================\",\n",
       "  'score': 0.7286136},\n",
       " {'title': 'RCB official challenges arrest as court grants interim relief to KSCA ...',\n",
       "  'url': 'https://www.espncricinfo.com/story/rcb-official-challenges-arrest-as-court-grants-interim-relief-to-ksca-administrators-1489275',\n",
       "  'content': '\"Without any official permission, on June 4, RCB announced their celebration and victory parade on their social media and website, inviting fans to join. Once this news spread on TV channels and social media, we (Police) informed our senior officers and requested security and necessary arrangements.\" [...] In [their FIR](https://www.espncricinfo.com/story/police-file-fir-against-rcb-after-deaths-of-11-fans-1489250) on Thursday, the Bengaluru police claim that they denied RCB permission to conduct their victory parade at the M Chinnaswamy Stadium, around which the stampede occurred leading to casualties. RCB were listed as the first accused along with DNA Entertainment, the franchise\\'s event partners, and the Karnataka State Cricket Association (KSCA), which is in charge of the stadium premises.',\n",
       "  'score': 0.6455898},\n",
       " {'title': \"Complaint against Virat Kohli over stampede during RCB's ...\",\n",
       "  'url': 'https://www.hindustantimes.com/india-news/complaint-against-virat-kohli-over-bengaluru-stampede-during-rcbs-celebration-101749224524531.html',\n",
       "  'content': '*   [Top RCB official, 3 others held in Bengaluru stampede case sent to judicial custody](https://www.hindustantimes.com/india-news/bengaluru-chinnaswamy-stadium-stampede-top-rcb-official-3-others-arrested-accused-sent-to-14-day-judicial-custody-101749214985841.html)\\n*   [Canada\\'s Mark Carney dials Modi for G7 invite; PM confirms attendance](https://www.hindustantimes.com/india-news/canadas-mark-carney-dials-modi-for-g7-invite-pm-confirms-attendance-101749215120716.html) [...] [‘RCB publicised victory parade’: Fresh FIR against team over Bengaluru stampede](https://www.hindustantimes.com/india-news/another-fir-against-rcb-karnataka-cricket-board-over-bengaluru-stampede-virat-kohli-101749208640715.html)\\n\\nUpdated 2 hours ago\\n\\n[us news](https://www.hindustantimes.com/world-news/us-news) [...] [News](https://www.hindustantimes.com/)/[India News](https://www.hindustantimes.com/india-news)/ Complaint against Virat Kohli over stampede during RCB\\'s celebration in Bengaluru \\n\\nSee Less \\n\\nSHARE THIS ARTICLE ON\\n\\n[](javascript:void(0) \"what\\'s app\")[](javascript:void(0) \"Share on Facebook\")[](javascript:void(0) \"Share on Twitter\")[](javascript:void(0) \"Share on Linkdin\")[](javascript:void(0); \"bookmark\")\\n\\nSHARE\\n\\nCopy',\n",
       "  'score': 0.63397753},\n",
       " {'title': 'Royal Challengers Bengaluru | Latest News, Team Updates and more',\n",
       "  'url': 'https://www.iplt20.com/teams/royal-challengers-bengaluru/news',\n",
       "  'content': 'Announcements\\n=============\\n\\n[See more](https://www.iplt20.com/teams/royal-challengers-bengaluru/news/announcements)\\n\\nPrevious\\n\\n[![Image 69](https://documents.iplt20.com/bcci/articles/1744057771_GHAZIALI21746.jpg) * Match 21, MI vs RCB - Code of Conduct * 07 Apr, 2025](https://www.iplt20.com/news/4148/match-21-mi-vs-rcb-code-of-conduct)\\n\\n![Image 70](https://documents.iplt20.com//ipl/assets/images/new-icon-share-gray.svg) [...] ![Image 19](https://documents.iplt20.com/ipl/RCB/Logos/Logooutline/RCBoutline.png)\\n\\nRoyal Challengers Bengaluru\\n---------------------------\\n\\n[Official Team Site ![Image 20](https://www.iplt20.com/assets/images/off-link.svg)](https://www.royalchallengers.com/) \\n\\n[](https://twitter.com/RCBTweets)[](https://www.instagram.com/royalchallengers.bengaluru/)[](https://www.facebook.com/RoyalChallengersBangalore/)\\n\\nCaptain **\\\\-** Rajat Patidar\\n\\nCoach **\\\\-** Andy Flower [...] [](https://facebook.com/sharer.php?u=https://www.iplt20.com/news/238264/ipl-reschedules-kkr-rcb-match-slated-for-may-3-2021-after-2-kkr-players-test-positive)[](https://twitter.com/intent/tweet?url=https://www.iplt20.com/news/238264/ipl-reschedules-kkr-rcb-match-slated-for-may-3-2021-after-2-kkr-players-test-positive&text=IPL%20reschedules%20KKR-RCB%20match%20slated%20for%20May%203,%202021%20after%202%20KKR%20players%20test%20positive&text=&hashtags=&via=ipl)[Copy](javascript:void(0))',\n",
       "  'score': 0.6211049},\n",
       " {'title': 'RCB - Royal Challengers Bengaluru - Reddit',\n",
       "  'url': 'https://www.reddit.com/r/RCB/',\n",
       "  'content': '*   [Streaming Services](https://reddit.com/t/streaming_services/)\\n*   [Tech News & Discussion](https://reddit.com/t/tech_news_and_discussion/)\\n*   [Virtual & Augmented Reality](https://reddit.com/t/virtual_and_augmented_reality/) [...] *   [Sci-Fi Movies & Series](https://reddit.com/t/scifi_movies_and_series/)\\n*   [Superhero Movies & Series](https://reddit.com/t/superhero_movies_and_series/)\\n*   [TV News & Discussion](https://reddit.com/t/tv_news_and_discussion/)',\n",
       "  'score': 0.6063825}]"
      ]
     },
     "execution_count": 21,
     "metadata": {},
     "output_type": "execute_result"
    }
   ],
   "source": [
    "from langchain_community.tools.tavily_search import TavilySearchResults\n",
    "from dotenv import load_dotenv\n",
    "import os\n",
    "load_dotenv()\n",
    "\n",
    "travily_api_key=os.getenv(\"TAVILY_API_KEY\")\n",
    "os.environ[\"TAVILY_API_KEY\"]=os.getenv(\"TAVILY_API_KEY\")\n",
    "\n",
    "travily_tool=TavilySearchResults(travily_api_key=\"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\")\n",
    "\n",
    "travily_tool.run(\"RCB in news\")"
   ]
  },
  {
   "cell_type": "code",
   "execution_count": 22,
   "id": "4862bce3",
   "metadata": {},
   "outputs": [
    {
     "data": {
      "text/plain": [
       "{'query': {'description': 'search query to look up',\n",
       "  'title': 'Query',\n",
       "  'type': 'string'}}"
      ]
     },
     "execution_count": 22,
     "metadata": {},
     "output_type": "execute_result"
    }
   ],
   "source": [
    "travily_tool.args"
   ]
  },
  {
   "cell_type": "markdown",
   "id": "baef88f6",
   "metadata": {},
   "source": [
    "## Custom Tool Creation"
   ]
  },
  {
   "cell_type": "code",
   "execution_count": 23,
   "id": "81a6d644",
   "metadata": {},
   "outputs": [],
   "source": [
    "def multiply(a:int,b:int) -> int:\n",
    "    return a*b"
   ]
  },
  {
   "cell_type": "code",
   "execution_count": 30,
   "id": "f7f0bcec",
   "metadata": {},
   "outputs": [
    {
     "data": {
      "text/plain": [
       "4"
      ]
     },
     "execution_count": 30,
     "metadata": {},
     "output_type": "execute_result"
    }
   ],
   "source": [
    "multiply(2,2)"
   ]
  },
  {
   "cell_type": "code",
   "execution_count": 34,
   "id": "7b99bd89",
   "metadata": {},
   "outputs": [],
   "source": [
    "from langchain.agents import tool\n",
    "@tool\n",
    "def multiply_tool(a:int,b:int) -> int:\n",
    "    ''' tool for multiplication'''\n",
    "    return a*b"
   ]
  },
  {
   "cell_type": "code",
   "execution_count": 29,
   "id": "a0f10828",
   "metadata": {},
   "outputs": [
    {
     "data": {
      "text/plain": [
       "200"
      ]
     },
     "execution_count": 29,
     "metadata": {},
     "output_type": "execute_result"
    }
   ],
   "source": [
    "multiply_tool.invoke({\"a\":10,\"b\":20})"
   ]
  },
  {
   "cell_type": "code",
   "execution_count": 31,
   "id": "303abd3d",
   "metadata": {},
   "outputs": [
    {
     "data": {
      "text/plain": [
       "{'a': {'title': 'A', 'type': 'integer'},\n",
       " 'b': {'title': 'B', 'type': 'integer'}}"
      ]
     },
     "execution_count": 31,
     "metadata": {},
     "output_type": "execute_result"
    }
   ],
   "source": [
    "multiply_tool.args"
   ]
  },
  {
   "cell_type": "code",
   "execution_count": 35,
   "id": "5faddd5a",
   "metadata": {},
   "outputs": [
    {
     "data": {
      "text/plain": [
       "'tool for multiplication'"
      ]
     },
     "execution_count": 35,
     "metadata": {},
     "output_type": "execute_result"
    }
   ],
   "source": [
    "multiply_tool.description"
   ]
  },
  {
   "cell_type": "code",
   "execution_count": 41,
   "id": "f60b7f64",
   "metadata": {},
   "outputs": [],
   "source": [
    "from langchain.agents import tool\n",
    "\n",
    "@tool\n",
    "def get_word_length(word:str)->int:\n",
    "    ''' this is the function for finding the word length '''\n",
    "    return len(word)"
   ]
  },
  {
   "cell_type": "code",
   "execution_count": 40,
   "id": "08ebe895",
   "metadata": {},
   "outputs": [
    {
     "data": {
      "text/plain": [
       "5"
      ]
     },
     "execution_count": 40,
     "metadata": {},
     "output_type": "execute_result"
    }
   ],
   "source": [
    "get_word_length.invoke({\"word\":\"Vikas\"})\n",
    "get_word_length.invoke(\"Vikas\")"
   ]
  },
  {
   "cell_type": "code",
   "execution_count": null,
   "id": "85be59d0",
   "metadata": {},
   "outputs": [],
   "source": []
  }
 ],
 "metadata": {
  "kernelspec": {
   "display_name": "agentic_env",
   "language": "python",
   "name": "python3"
  },
  "language_info": {
   "codemirror_mode": {
    "name": "ipython",
    "version": 3
   },
   "file_extension": ".py",
   "mimetype": "text/x-python",
   "name": "python",
   "nbconvert_exporter": "python",
   "pygments_lexer": "ipython3",
   "version": "3.11.11"
  }
 },
 "nbformat": 4,
 "nbformat_minor": 5
}
