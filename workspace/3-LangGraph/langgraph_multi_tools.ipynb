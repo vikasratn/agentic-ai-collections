{
 "cells": [
  {
   "cell_type": "markdown",
   "id": "d39269ea",
   "metadata": {},
   "source": [
    "### LLM with multiple tool and loop "
   ]
  },
  {
   "cell_type": "code",
   "execution_count": 41,
   "id": "1d2fb679",
   "metadata": {},
   "outputs": [],
   "source": [
    "from dotenv import load_dotenv\n",
    "import os\n",
    "load_dotenv()\n",
    "os.environ[\"OPENAI_API_KEY\"]=os.getenv(\"OPENAI_API_KEY\")\n",
    "os.environ[\"GROQ_API_KEY\"]=os.getenv(\"GROQ_API_KEY\")\n",
    "os.environ[\"PINECODE_API_KEY\"]=os.getenv(\"PINECODE_API_KEY\")\n",
    "os.environ[\"GOOGLE_API_KEY\"]=os.getenv(\"GOOGLE_API_KEY\")\n",
    "os.environ[\"HUGGINGFACE_API_KEY\"]=os.getenv(\"HUGGINGFACE_API_KEY\")\n",
    "os.environ[\"LANGCHAIN_API_KEY\"]=os.getenv(\"LANGCHAIN_API_KEY\")\n",
    "os.environ[\"LANGCHAIN_PROJECT\"]=os.getenv(\"LANGCHAIN_PROJECT\")\n",
    "os.environ[\"LANGCHAIN_TRACING_V2\"]=os.getenv(\"LANGCHAIN_TRACING_V2\")"
   ]
  },
  {
   "cell_type": "code",
   "execution_count": 42,
   "id": "7cc885c0",
   "metadata": {},
   "outputs": [],
   "source": [
    "# load llm model\n",
    "from langchain_openai import ChatOpenAI\n",
    "llm=ChatOpenAI(model=\"gpt-4o\", temperature=0)\n"
   ]
  },
  {
   "cell_type": "code",
   "execution_count": 43,
   "id": "9b60246d",
   "metadata": {},
   "outputs": [],
   "source": [
    "# define calculator tools\n",
    "from langchain_core.tools import tool\n",
    "\n",
    "@tool\n",
    "def add(a : int, b : int) -> int:\n",
    "    \"\"\"\n",
    "    Add two integers.\n",
    "\n",
    "    Args:\n",
    "        a (int): The first integer.\n",
    "        b (int): The second integer.\n",
    "\n",
    "    Returns:\n",
    "        int: The addition of a and b.\n",
    "    \"\"\"\n",
    "    return a+b\n",
    "\n",
    "@tool\n",
    "def subtract(a : int, b : int) -> int:\n",
    "    \"\"\"\n",
    "    Subtract two integers.\n",
    "\n",
    "    Args:\n",
    "        a (int): The first integer.\n",
    "        b (int): The second integer.\n",
    "\n",
    "    Returns:\n",
    "        int: The subtraction of a and b.\n",
    "    \"\"\"\n",
    "    return a-b\n",
    "\n",
    "@tool\n",
    "def multiply(a : int, b : int) -> int:\n",
    "    \"\"\"\n",
    "    Multiply two integers.\n",
    "\n",
    "    Args:\n",
    "        a (int): The first integer.\n",
    "        b (int): The second integer.\n",
    "\n",
    "    Returns:\n",
    "        int: The product of a and b.\n",
    "    \"\"\"\n",
    "    return a*b\n",
    "\n",
    "@tool\n",
    "def divide(a : int, b : int) -> float:\n",
    "    \"\"\"\n",
    "    Divide two integers.\n",
    "\n",
    "    Args:\n",
    "        a (int): The first integer.\n",
    "        b (int): The second integer.\n",
    "\n",
    "    Returns:\n",
    "        int: The division of a and b.\n",
    "    \"\"\"\n",
    "    if b == 0:\n",
    "        raise ValueError(\"Denominator cannot be zero.\")\n",
    "    return a/b"
   ]
  },
  {
   "cell_type": "code",
   "execution_count": 44,
   "id": "3e16ce75",
   "metadata": {},
   "outputs": [],
   "source": [
    "# define duck-duck-go-search tool\n",
    "from langchain_community.tools import DuckDuckGoSearchRun\n",
    "\n",
    "@tool\n",
    "def duckDuckSearch(query : str) -> str:\n",
    "    \"\"\"\n",
    "    function to search the query.\n",
    "    \n",
    "    return the search results based on query given.\n",
    "    \"\"\"\n",
    "    runner = DuckDuckGoSearchRun()\n",
    "    return runner.invoke(query)\n"
   ]
  },
  {
   "cell_type": "code",
   "execution_count": 45,
   "id": "f26ee294",
   "metadata": {},
   "outputs": [],
   "source": [
    "tools = [add,subtract,multiply,divide,duckDuckSearch]"
   ]
  },
  {
   "cell_type": "code",
   "execution_count": 46,
   "id": "29fb2ec1",
   "metadata": {},
   "outputs": [
    {
     "data": {
      "text/plain": [
       "[StructuredTool(name='add', description='Add two integers.\\n\\nArgs:\\n    a (int): The first integer.\\n    b (int): The second integer.\\n\\nReturns:\\n    int: The addition of a and b.', args_schema=<class 'langchain_core.utils.pydantic.add'>, func=<function add at 0x136f81c60>),\n",
       " StructuredTool(name='subtract', description='Subtract two integers.\\n\\nArgs:\\n    a (int): The first integer.\\n    b (int): The second integer.\\n\\nReturns:\\n    int: The subtraction of a and b.', args_schema=<class 'langchain_core.utils.pydantic.subtract'>, func=<function subtract at 0x136f83c40>),\n",
       " StructuredTool(name='multiply', description='Multiply two integers.\\n\\nArgs:\\n    a (int): The first integer.\\n    b (int): The second integer.\\n\\nReturns:\\n    int: The product of a and b.', args_schema=<class 'langchain_core.utils.pydantic.multiply'>, func=<function multiply at 0x136f83f60>),\n",
       " StructuredTool(name='divide', description='Divide two integers.\\n\\nArgs:\\n    a (int): The first integer.\\n    b (int): The second integer.\\n\\nReturns:\\n    int: The division of a and b.', args_schema=<class 'langchain_core.utils.pydantic.divide'>, func=<function divide at 0x136f83ce0>),\n",
       " StructuredTool(name='duckDuckSearch', description='function to search the query.\\n\\nreturn the search results based on query given.', args_schema=<class 'langchain_core.utils.pydantic.duckDuckSearch'>, func=<function duckDuckSearch at 0x136f83060>)]"
      ]
     },
     "execution_count": 46,
     "metadata": {},
     "output_type": "execute_result"
    }
   ],
   "source": [
    "tools"
   ]
  },
  {
   "cell_type": "code",
   "execution_count": 47,
   "id": "0e3e9a64",
   "metadata": {},
   "outputs": [
    {
     "data": {
      "text/plain": [
       "'The president of the United States is the head of state and head of government of the United States, [1] indirectly elected to a four-year term via the Electoral College. [2] Under the U.S. Constitution, the officeholder leads the executive branch of the federal government and is the commander-in-chief of the United States Armed Forces. [3] The ... The president of the United States is the: U.S. head of state; Chief executive of the federal government; Commander-in-Chief of the armed forces; Current president. The 47th and current president of the United States is Donald John Trump. He was sworn into office on January 20, 2025. Former U.S. presidents. The United States has had 46 former U ... Donald Trump, who overcame impeachments, criminal indictments and a pair of assassination attempts to win another term in the White House, was sworn in Monday as the 47th U.S. president taking ... As of 2025, the President of the United States is Donald J. Trump, a real estate mogul, television personality, and political outsider who reshaped modern American politics. After a commanding victory in the 2024 election, Trump returned to the White House for a historic second non-consecutive term—becoming the only US president since Grover ... Bill Clinton, the 42nd president of the United States, was born on Aug. 19, 1946. Elected at 46 years old, Clinton was the third-youngest president in U.S. history.'"
      ]
     },
     "execution_count": 47,
     "metadata": {},
     "output_type": "execute_result"
    }
   ],
   "source": [
    "duckDuckSearch(\"Who is US president?\")"
   ]
  },
  {
   "cell_type": "code",
   "execution_count": 48,
   "id": "3b914d37",
   "metadata": {},
   "outputs": [
    {
     "data": {
      "text/plain": [
       "RunnableBinding(bound=ChatOpenAI(client=<openai.resources.chat.completions.completions.Completions object at 0x136f97e10>, async_client=<openai.resources.chat.completions.completions.AsyncCompletions object at 0x136f9ffd0>, root_client=<openai.OpenAI object at 0x136c8f810>, root_async_client=<openai.AsyncOpenAI object at 0x13619b050>, model_name='gpt-4o', temperature=0.0, model_kwargs={}, openai_api_key=SecretStr('**********')), kwargs={'tools': [{'type': 'function', 'function': {'name': 'add', 'description': 'Add two integers.\\n\\nArgs:\\n    a (int): The first integer.\\n    b (int): The second integer.\\n\\nReturns:\\n    int: The addition of a and b.', 'parameters': {'properties': {'a': {'type': 'integer'}, 'b': {'type': 'integer'}}, 'required': ['a', 'b'], 'type': 'object'}}}, {'type': 'function', 'function': {'name': 'subtract', 'description': 'Subtract two integers.\\n\\nArgs:\\n    a (int): The first integer.\\n    b (int): The second integer.\\n\\nReturns:\\n    int: The subtraction of a and b.', 'parameters': {'properties': {'a': {'type': 'integer'}, 'b': {'type': 'integer'}}, 'required': ['a', 'b'], 'type': 'object'}}}, {'type': 'function', 'function': {'name': 'multiply', 'description': 'Multiply two integers.\\n\\nArgs:\\n    a (int): The first integer.\\n    b (int): The second integer.\\n\\nReturns:\\n    int: The product of a and b.', 'parameters': {'properties': {'a': {'type': 'integer'}, 'b': {'type': 'integer'}}, 'required': ['a', 'b'], 'type': 'object'}}}, {'type': 'function', 'function': {'name': 'divide', 'description': 'Divide two integers.\\n\\nArgs:\\n    a (int): The first integer.\\n    b (int): The second integer.\\n\\nReturns:\\n    int: The division of a and b.', 'parameters': {'properties': {'a': {'type': 'integer'}, 'b': {'type': 'integer'}}, 'required': ['a', 'b'], 'type': 'object'}}}, {'type': 'function', 'function': {'name': 'duckDuckSearch', 'description': 'function to search the query.\\n\\nreturn the search results based on query given.', 'parameters': {'properties': {'query': {'type': 'string'}}, 'required': ['query'], 'type': 'object'}}}]}, config={}, config_factories=[])"
      ]
     },
     "execution_count": 48,
     "metadata": {},
     "output_type": "execute_result"
    }
   ],
   "source": [
    "# bind tool with llm\n",
    "llm_with_tools=llm.bind_tools(tools)\n",
    "llm_with_tools"
   ]
  },
  {
   "cell_type": "code",
   "execution_count": 49,
   "id": "a920221e",
   "metadata": {},
   "outputs": [
    {
     "data": {
      "text/plain": [
       "AIMessage(content='', additional_kwargs={'tool_calls': [{'id': 'call_DrZQBHO6pFxAHWg5rcHe32UG', 'function': {'arguments': '{\"a\":2,\"b\":8}', 'name': 'add'}, 'type': 'function'}], 'refusal': None}, response_metadata={'token_usage': {'completion_tokens': 17, 'prompt_tokens': 262, 'total_tokens': 279, 'completion_tokens_details': {'accepted_prediction_tokens': 0, 'audio_tokens': 0, 'reasoning_tokens': 0, 'rejected_prediction_tokens': 0}, 'prompt_tokens_details': {'audio_tokens': 0, 'cached_tokens': 0}}, 'model_name': 'gpt-4o-2024-08-06', 'system_fingerprint': 'fp_a288987b44', 'id': 'chatcmpl-BjHKp7A328QisffUqVyLRCDwud3yG', 'service_tier': 'default', 'finish_reason': 'tool_calls', 'logprobs': None}, id='run--13a42240-a97b-4a2d-9646-6e90e1355b2d-0', tool_calls=[{'name': 'add', 'args': {'a': 2, 'b': 8}, 'id': 'call_DrZQBHO6pFxAHWg5rcHe32UG', 'type': 'tool_call'}], usage_metadata={'input_tokens': 262, 'output_tokens': 17, 'total_tokens': 279, 'input_token_details': {'audio': 0, 'cache_read': 0}, 'output_token_details': {'audio': 0, 'reasoning': 0}})"
      ]
     },
     "execution_count": 49,
     "metadata": {},
     "output_type": "execute_result"
    }
   ],
   "source": [
    "#llm_with_tools.invoke(\"add two number 2 and 8\")\n",
    "\n",
    "response=llm_with_tools.invoke(\"add two number 2 and 8\")\n",
    "response"
   ]
  },
  {
   "cell_type": "code",
   "execution_count": 50,
   "id": "310a085c",
   "metadata": {},
   "outputs": [
    {
     "data": {
      "text/plain": [
       "[{'name': 'add',\n",
       "  'args': {'a': 2, 'b': 8},\n",
       "  'id': 'call_DrZQBHO6pFxAHWg5rcHe32UG',\n",
       "  'type': 'tool_call'}]"
      ]
     },
     "execution_count": 50,
     "metadata": {},
     "output_type": "execute_result"
    }
   ],
   "source": [
    "response.tool_calls"
   ]
  },
  {
   "cell_type": "code",
   "execution_count": 51,
   "id": "fcbf7766",
   "metadata": {},
   "outputs": [],
   "source": [
    "response=llm_with_tools.invoke(\"what is a current age of the TATA Group?\")"
   ]
  },
  {
   "cell_type": "code",
   "execution_count": 52,
   "id": "f9508d86",
   "metadata": {},
   "outputs": [
    {
     "data": {
      "text/plain": [
       "[]"
      ]
     },
     "execution_count": 52,
     "metadata": {},
     "output_type": "execute_result"
    }
   ],
   "source": [
    "response.tool_calls"
   ]
  },
  {
   "cell_type": "code",
   "execution_count": 53,
   "id": "38dafd6a",
   "metadata": {},
   "outputs": [],
   "source": [
    "from langchain_core.messages import HumanMessage, SystemMessage\n",
    "from langgraph.graph import MessagesState,StateGraph, START, END\n",
    "from langgraph.prebuilt import ToolNode, tools_condition\n",
    "\n",
    "tool_node=ToolNode(tools)\n"
   ]
  },
  {
   "cell_type": "code",
   "execution_count": 54,
   "id": "9eb722dc",
   "metadata": {},
   "outputs": [],
   "source": [
    "def supervisor(state:MessagesState):\n",
    "    last_message=state[\"messages\"]\n",
    "    print(f\"##supervisor## {last_message}\")\n",
    "    system_prompt=\"You are a helpful assistant tasked with using search and performing arithmetic on a set of inputs.\"\n",
    "    user_query=[system_prompt]+last_message\n",
    "    response=llm_with_tools.invoke(user_query)\n",
    "    return {\"messages\":[response]}"
   ]
  },
  {
   "cell_type": "code",
   "execution_count": 55,
   "id": "e563b471",
   "metadata": {},
   "outputs": [],
   "source": [
    "graph=StateGraph(MessagesState)\n",
    "\n",
    "graph.add_node(\"supervisor\",supervisor)\n",
    "\n",
    "graph.add_node(\"tools\",tool_node)\n",
    "\n",
    "graph.set_entry_point(\"supervisor\")\n",
    "\n",
    "graph.add_conditional_edges(\"supervisor\",tools_condition)\n",
    "\n",
    "graph.add_edge(\"tools\",\"supervisor\")\n",
    "\n",
    "work_flow=graph.compile()\n",
    "\n"
   ]
  },
  {
   "cell_type": "code",
   "execution_count": 56,
   "id": "520b5ce0",
   "metadata": {},
   "outputs": [
    {
     "data": {
      "image/png": "[encoded data removed]",
      "text/plain": [
       "<IPython.core.display.Image object>"
      ]
     },
     "metadata": {},
     "output_type": "display_data"
    }
   ],
   "source": [
    "from IPython.display import Image, display\n",
    "display(Image(work_flow.get_graph().draw_mermaid_png()))"
   ]
  },
  {
   "cell_type": "code",
   "execution_count": 57,
   "id": "9ae03861",
   "metadata": {},
   "outputs": [
    {
     "name": "stdout",
     "output_type": "stream",
     "text": [
      "##supervisor## [HumanMessage(content=\"What is 2 times of Narendra Modi's age?\", additional_kwargs={}, response_metadata={}, id='c2048beb-508f-4b30-82c0-2020a9075f50')]\n",
      "##supervisor## [HumanMessage(content=\"What is 2 times of Narendra Modi's age?\", additional_kwargs={}, response_metadata={}, id='c2048beb-508f-4b30-82c0-2020a9075f50'), AIMessage(content='', additional_kwargs={'tool_calls': [{'id': 'call_d8ecFw8LNwNTIvtvPAEUuUVa', 'function': {'arguments': '{\"query\":\"Narendra Modi age\"}', 'name': 'duckDuckSearch'}, 'type': 'function'}], 'refusal': None}, response_metadata={'token_usage': {'completion_tokens': 19, 'prompt_tokens': 287, 'total_tokens': 306, 'completion_tokens_details': {'accepted_prediction_tokens': 0, 'audio_tokens': 0, 'reasoning_tokens': 0, 'rejected_prediction_tokens': 0}, 'prompt_tokens_details': {'audio_tokens': 0, 'cached_tokens': 0}}, 'model_name': 'gpt-4o-2024-08-06', 'system_fingerprint': 'fp_a288987b44', 'id': 'chatcmpl-BjHKsLxcg98aYrNjgFms1tdq36Vh9', 'service_tier': 'default', 'finish_reason': 'tool_calls', 'logprobs': None}, id='run--1398dde9-853e-46cb-bff3-a62481b60043-0', tool_calls=[{'name': 'duckDuckSearch', 'args': {'query': 'Narendra Modi age'}, 'id': 'call_d8ecFw8LNwNTIvtvPAEUuUVa', 'type': 'tool_call'}], usage_metadata={'input_tokens': 287, 'output_tokens': 19, 'total_tokens': 306, 'input_token_details': {'audio': 0, 'cache_read': 0}, 'output_token_details': {'audio': 0, 'reasoning': 0}}), ToolMessage(content='Narendra Modi (born September 17, 1950, Vadnagar, India) is an Indian politician and government official who rose to become a senior leader of the Bharatiya Janata Party (BJP). In 2014 he led his party to victory in elections to the Lok Sabha (lower chamber of the Indian parliament), after which he was sworn in as prime minister of India.Prior to that he had served (2001-14) as chief ... List of all Prime Ministers of India till 2025: Narendra Modi is the current and 14th Prime Minister of India who assumed office on 10 June 2024. Jawaharlal Nehru is the first and the longest ... Narendra Modi biography. Here are 20 key details about Narendra Modi: Full Name: Narendra Damodardas Modi.; Date of Birth: September 17, 1950.; Birthplace: Vadnagar, Gujarat, India. Current Position: Prime Minister of India, serving since May 26, 2014. Political Party: Bharatiya Janata Party (BJP). Previous Role: Chief Minister of Gujarat from October 2001 to May 2014. Learn about the life and achievements of Narendra Modi, the current Prime Minister of India, who was born on September 17, 1950, in Gujarat. Find out his full name, constituency, education, and political journey from a humble background to a prominent leader. Learn about the life and achievements of Narendra Modi, the 14th Prime Minister of India, who was born on September 17, 1950, in Gujarat. Find out his full name, mother, father, wife, education, party, and net worth here.', name='duckDuckSearch', id='6b1bf2f0-943f-4e84-98a4-f5e0f5249c9a', tool_call_id='call_d8ecFw8LNwNTIvtvPAEUuUVa')]\n",
      "##supervisor## [HumanMessage(content=\"What is 2 times of Narendra Modi's age?\", additional_kwargs={}, response_metadata={}, id='c2048beb-508f-4b30-82c0-2020a9075f50'), AIMessage(content='', additional_kwargs={'tool_calls': [{'id': 'call_d8ecFw8LNwNTIvtvPAEUuUVa', 'function': {'arguments': '{\"query\":\"Narendra Modi age\"}', 'name': 'duckDuckSearch'}, 'type': 'function'}], 'refusal': None}, response_metadata={'token_usage': {'completion_tokens': 19, 'prompt_tokens': 287, 'total_tokens': 306, 'completion_tokens_details': {'accepted_prediction_tokens': 0, 'audio_tokens': 0, 'reasoning_tokens': 0, 'rejected_prediction_tokens': 0}, 'prompt_tokens_details': {'audio_tokens': 0, 'cached_tokens': 0}}, 'model_name': 'gpt-4o-2024-08-06', 'system_fingerprint': 'fp_a288987b44', 'id': 'chatcmpl-BjHKsLxcg98aYrNjgFms1tdq36Vh9', 'service_tier': 'default', 'finish_reason': 'tool_calls', 'logprobs': None}, id='run--1398dde9-853e-46cb-bff3-a62481b60043-0', tool_calls=[{'name': 'duckDuckSearch', 'args': {'query': 'Narendra Modi age'}, 'id': 'call_d8ecFw8LNwNTIvtvPAEUuUVa', 'type': 'tool_call'}], usage_metadata={'input_tokens': 287, 'output_tokens': 19, 'total_tokens': 306, 'input_token_details': {'audio': 0, 'cache_read': 0}, 'output_token_details': {'audio': 0, 'reasoning': 0}}), ToolMessage(content='Narendra Modi (born September 17, 1950, Vadnagar, India) is an Indian politician and government official who rose to become a senior leader of the Bharatiya Janata Party (BJP). In 2014 he led his party to victory in elections to the Lok Sabha (lower chamber of the Indian parliament), after which he was sworn in as prime minister of India.Prior to that he had served (2001-14) as chief ... List of all Prime Ministers of India till 2025: Narendra Modi is the current and 14th Prime Minister of India who assumed office on 10 June 2024. Jawaharlal Nehru is the first and the longest ... Narendra Modi biography. Here are 20 key details about Narendra Modi: Full Name: Narendra Damodardas Modi.; Date of Birth: September 17, 1950.; Birthplace: Vadnagar, Gujarat, India. Current Position: Prime Minister of India, serving since May 26, 2014. Political Party: Bharatiya Janata Party (BJP). Previous Role: Chief Minister of Gujarat from October 2001 to May 2014. Learn about the life and achievements of Narendra Modi, the current Prime Minister of India, who was born on September 17, 1950, in Gujarat. Find out his full name, constituency, education, and political journey from a humble background to a prominent leader. Learn about the life and achievements of Narendra Modi, the 14th Prime Minister of India, who was born on September 17, 1950, in Gujarat. Find out his full name, mother, father, wife, education, party, and net worth here.', name='duckDuckSearch', id='6b1bf2f0-943f-4e84-98a4-f5e0f5249c9a', tool_call_id='call_d8ecFw8LNwNTIvtvPAEUuUVa'), AIMessage(content='', additional_kwargs={'tool_calls': [{'id': 'call_mCtMyOTc9ygtzo5734n3M7ye', 'function': {'arguments': '{\"a\":73,\"b\":2}', 'name': 'multiply'}, 'type': 'function'}], 'refusal': None}, response_metadata={'token_usage': {'completion_tokens': 17, 'prompt_tokens': 666, 'total_tokens': 683, 'completion_tokens_details': {'accepted_prediction_tokens': 0, 'audio_tokens': 0, 'reasoning_tokens': 0, 'rejected_prediction_tokens': 0}, 'prompt_tokens_details': {'audio_tokens': 0, 'cached_tokens': 0}}, 'model_name': 'gpt-4o-2024-08-06', 'system_fingerprint': 'fp_a288987b44', 'id': 'chatcmpl-BjHKvdObmOVcjgUneNlxZSxwZtybL', 'service_tier': 'default', 'finish_reason': 'tool_calls', 'logprobs': None}, id='run--0b50c7d4-3e3e-4214-b43a-44293e8becc4-0', tool_calls=[{'name': 'multiply', 'args': {'a': 73, 'b': 2}, 'id': 'call_mCtMyOTc9ygtzo5734n3M7ye', 'type': 'tool_call'}], usage_metadata={'input_tokens': 666, 'output_tokens': 17, 'total_tokens': 683, 'input_token_details': {'audio': 0, 'cache_read': 0}, 'output_token_details': {'audio': 0, 'reasoning': 0}}), ToolMessage(content='146', name='multiply', id='9ddf5bdc-5df0-40c6-a474-b25a042c236b', tool_call_id='call_mCtMyOTc9ygtzo5734n3M7ye')]\n"
     ]
    },
    {
     "data": {
      "text/plain": [
       "'Narendra Modi is 73 years old. Therefore, 2 times his age is 146.'"
      ]
     },
     "execution_count": 57,
     "metadata": {},
     "output_type": "execute_result"
    }
   ],
   "source": [
    "message=[HumanMessage(content=\"What is 2 times of Narendra Modi's age?\")]\n",
    "response=work_flow.invoke({\"messages\":message})\n",
    "response[\"messages\"][-1].content"
   ]
  },
  {
   "cell_type": "code",
   "execution_count": 58,
   "id": "fee0ae1d",
   "metadata": {},
   "outputs": [
    {
     "name": "stdout",
     "output_type": "stream",
     "text": [
      "##supervisor## [HumanMessage(content='What is the speed of light in m/s and multiply it by 10?', additional_kwargs={}, response_metadata={}, id='e7ef93b0-1304-4e50-ac68-a3ded1bea7e6')]\n",
      "##supervisor## [HumanMessage(content='What is the speed of light in m/s and multiply it by 10?', additional_kwargs={}, response_metadata={}, id='e7ef93b0-1304-4e50-ac68-a3ded1bea7e6'), AIMessage(content='', additional_kwargs={'tool_calls': [{'id': 'call_vVTfdQa50p07O12HbAJqFmKC', 'function': {'arguments': '{\"query\": \"speed of light in m/s\"}', 'name': 'duckDuckSearch'}, 'type': 'function'}, {'id': 'call_Dlhxs8XSAxY1w9yYLReXi0pN', 'function': {'arguments': '{\"a\": 299792458, \"b\": 10}', 'name': 'multiply'}, 'type': 'function'}], 'refusal': None}, response_metadata={'token_usage': {'completion_tokens': 56, 'prompt_tokens': 292, 'total_tokens': 348, 'completion_tokens_details': {'accepted_prediction_tokens': 0, 'audio_tokens': 0, 'reasoning_tokens': 0, 'rejected_prediction_tokens': 0}, 'prompt_tokens_details': {'audio_tokens': 0, 'cached_tokens': 0}}, 'model_name': 'gpt-4o-2024-08-06', 'system_fingerprint': 'fp_a288987b44', 'id': 'chatcmpl-BjHKxkUcKDLNmTOzifRgUssQlYRKH', 'service_tier': 'default', 'finish_reason': 'tool_calls', 'logprobs': None}, id='run--f56c2abd-14e6-4114-beaf-27668385a679-0', tool_calls=[{'name': 'duckDuckSearch', 'args': {'query': 'speed of light in m/s'}, 'id': 'call_vVTfdQa50p07O12HbAJqFmKC', 'type': 'tool_call'}, {'name': 'multiply', 'args': {'a': 299792458, 'b': 10}, 'id': 'call_Dlhxs8XSAxY1w9yYLReXi0pN', 'type': 'tool_call'}], usage_metadata={'input_tokens': 292, 'output_tokens': 56, 'total_tokens': 348, 'input_token_details': {'audio': 0, 'cache_read': 0}, 'output_token_details': {'audio': 0, 'reasoning': 0}}), ToolMessage(content='The speed of light in vacuum, commonly denoted c, is a universal physical constant exactly equal to 299,792,458 metres per second (approximately 300,000 kilometres per second; ... [97] fixing the value of the speed of light at 299 792 458 m/s by definition, as described below. Learn what is the speed of light in a vacuum and how it affects physics and space travel. Find out how to measure distances in light-years and what is faster than light. The speed of light is so important that it is used to define the metre. Since 1983, the constant c has been defined in the International System of Units (SI) as exactly 299792458 m/s; this relationship is used to define the metre as exactly the distance that light travels in a vacuum in 1⁄299792458 of a second. The speed of light is equal to the distance light travels, d, divided by the time it takes, ∆t : c = d/∆t . ... Defining the meter in terms of the speed of light basically fixes the speed of light at 299,792,458 m/s. If an experiment yields a different result, it just means the apparatus is faulty. Rather than conducting more experiments to ... The speed of light is 3.0 × 10 8 m/s. Calculate the time taken for light from the Sun to reach Mercury. Answer: Step 1: List the known quantities. Distance travelled = 5.8 × 10 10 m. Speed of light = 3.0 × 10 8 m/s. Step 2: State the equation for the time taken for light to travel a distance. Step 3: Substitute the values into the equation', name='duckDuckSearch', id='ad47b62e-b5e3-4b30-9b31-9846c60ac47c', tool_call_id='call_vVTfdQa50p07O12HbAJqFmKC'), ToolMessage(content='2997924580', name='multiply', id='4b9d8de6-2e94-4544-8d81-d424410d00df', tool_call_id='call_Dlhxs8XSAxY1w9yYLReXi0pN')]\n"
     ]
    },
    {
     "data": {
      "text/plain": [
       "'The speed of light in a vacuum is exactly 299,792,458 meters per second (m/s). When you multiply this by 10, the result is 2,997,924,580 m/s.'"
      ]
     },
     "execution_count": 58,
     "metadata": {},
     "output_type": "execute_result"
    }
   ],
   "source": [
    "message=[\"What is the speed of light in m/s and multiply it by 10?\"]\n",
    "response=work_flow.invoke({\"messages\":message})\n",
    "response[\"messages\"][-1].content"
   ]
  },
  {
   "cell_type": "code",
   "execution_count": 59,
   "id": "491746bb",
   "metadata": {},
   "outputs": [
    {
     "name": "stdout",
     "output_type": "stream",
     "text": [
      "================================\u001b[1m Human Message \u001b[0m=================================\n",
      "\n",
      "What is the speed of light in m/s and multiply it by 10?\n",
      "==================================\u001b[1m Ai Message \u001b[0m==================================\n",
      "Tool Calls:\n",
      "  duckDuckSearch (call_vVTfdQa50p07O12HbAJqFmKC)\n",
      " Call ID: call_vVTfdQa50p07O12HbAJqFmKC\n",
      "  Args:\n",
      "    query: speed of light in m/s\n",
      "  multiply (call_Dlhxs8XSAxY1w9yYLReXi0pN)\n",
      " Call ID: call_Dlhxs8XSAxY1w9yYLReXi0pN\n",
      "  Args:\n",
      "    a: 299792458\n",
      "    b: 10\n",
      "=================================\u001b[1m Tool Message \u001b[0m=================================\n",
      "Name: duckDuckSearch\n",
      "\n",
      "The speed of light in vacuum, commonly denoted c, is a universal physical constant exactly equal to 299,792,458 metres per second (approximately 300,000 kilometres per second; ... [97] fixing the value of the speed of light at 299 792 458 m/s by definition, as described below. Learn what is the speed of light in a vacuum and how it affects physics and space travel. Find out how to measure distances in light-years and what is faster than light. The speed of light is so important that it is used to define the metre. Since 1983, the constant c has been defined in the International System of Units (SI) as exactly 299792458 m/s; this relationship is used to define the metre as exactly the distance that light travels in a vacuum in 1⁄299792458 of a second. The speed of light is equal to the distance light travels, d, divided by the time it takes, ∆t : c = d/∆t . ... Defining the meter in terms of the speed of light basically fixes the speed of light at 299,792,458 m/s. If an experiment yields a different result, it just means the apparatus is faulty. Rather than conducting more experiments to ... The speed of light is 3.0 × 10 8 m/s. Calculate the time taken for light from the Sun to reach Mercury. Answer: Step 1: List the known quantities. Distance travelled = 5.8 × 10 10 m. Speed of light = 3.0 × 10 8 m/s. Step 2: State the equation for the time taken for light to travel a distance. Step 3: Substitute the values into the equation\n",
      "=================================\u001b[1m Tool Message \u001b[0m=================================\n",
      "Name: multiply\n",
      "\n",
      "2997924580\n",
      "==================================\u001b[1m Ai Message \u001b[0m==================================\n",
      "\n",
      "The speed of light in a vacuum is exactly 299,792,458 meters per second (m/s). When you multiply this by 10, the result is 2,997,924,580 m/s.\n"
     ]
    }
   ],
   "source": [
    "for m in response[\"messages\"]:\n",
    "    m.pretty_print()"
   ]
  },
  {
   "cell_type": "markdown",
   "id": "2429d005",
   "metadata": {},
   "source": [
    "### multi tool example with yt finance tool"
   ]
  },
  {
   "cell_type": "code",
   "execution_count": 60,
   "id": "c551468e",
   "metadata": {},
   "outputs": [],
   "source": [
    "import yfinance as yf\n",
    "\n",
    "@tool\n",
    "def get_stock_price(ticker:str)->str:\n",
    "    \"\"\"\n",
    "    Fetches the previous closing price of a given stock ticker from Yahoo Finance.\n",
    "\n",
    "    Args:\n",
    "        ticker (str): The stock ticker symbol (e.g., 'AAPL', 'TSLA', 'NIFTY.BO').\n",
    "\n",
    "    Returns:\n",
    "        str: A message with the stock's previous closing price.\n",
    "    \"\"\"\n",
    "    try:\n",
    "        stock = yf.Ticker(ticker)\n",
    "        price = stock.info.get('previousClose')\n",
    "        if price is None:\n",
    "            return f\"Could not fetch price for ticker '{ticker}'.\"\n",
    "        return f\"The last closing price of {ticker.upper()} was ${price:.2f}.\"\n",
    "    except Exception as e:\n",
    "        return f\"An error occurred while fetching stock data: {str(e)}\""
   ]
  },
  {
   "cell_type": "code",
   "execution_count": 61,
   "id": "c52f3759",
   "metadata": {},
   "outputs": [
    {
     "data": {
      "text/plain": [
       "tools(tags=None, recurse=True, explode_args=False, func_accepts_config=True, func_accepts={'store': ('__pregel_store', None)}, tools_by_name={'add': StructuredTool(name='add', description='Add two integers.\\n\\nArgs:\\n    a (int): The first integer.\\n    b (int): The second integer.\\n\\nReturns:\\n    int: The addition of a and b.', args_schema=<class 'langchain_core.utils.pydantic.add'>, func=<function add at 0x136f81c60>), 'subtract': StructuredTool(name='subtract', description='Subtract two integers.\\n\\nArgs:\\n    a (int): The first integer.\\n    b (int): The second integer.\\n\\nReturns:\\n    int: The subtraction of a and b.', args_schema=<class 'langchain_core.utils.pydantic.subtract'>, func=<function subtract at 0x136f83c40>), 'multiply': StructuredTool(name='multiply', description='Multiply two integers.\\n\\nArgs:\\n    a (int): The first integer.\\n    b (int): The second integer.\\n\\nReturns:\\n    int: The product of a and b.', args_schema=<class 'langchain_core.utils.pydantic.multiply'>, func=<function multiply at 0x136f83f60>), 'divide': StructuredTool(name='divide', description='Divide two integers.\\n\\nArgs:\\n    a (int): The first integer.\\n    b (int): The second integer.\\n\\nReturns:\\n    int: The division of a and b.', args_schema=<class 'langchain_core.utils.pydantic.divide'>, func=<function divide at 0x136f83ce0>), 'duckDuckSearch': StructuredTool(name='duckDuckSearch', description='function to search the query.\\n\\nreturn the search results based on query given.', args_schema=<class 'langchain_core.utils.pydantic.duckDuckSearch'>, func=<function duckDuckSearch at 0x136f83060>), 'get_stock_price': StructuredTool(name='get_stock_price', description=\"Fetches the previous closing price of a given stock ticker from Yahoo Finance.\\n\\nArgs:\\n    ticker (str): The stock ticker symbol (e.g., 'AAPL', 'TSLA', 'NIFTY.BO').\\n\\nReturns:\\n    str: A message with the stock's previous closing price.\", args_schema=<class 'langchain_core.utils.pydantic.get_stock_price'>, func=<function get_stock_price at 0x120f48b80>)}, tool_to_state_args={'add': {}, 'subtract': {}, 'multiply': {}, 'divide': {}, 'duckDuckSearch': {}, 'get_stock_price': {}}, tool_to_store_arg={'add': None, 'subtract': None, 'multiply': None, 'divide': None, 'duckDuckSearch': None, 'get_stock_price': None}, handle_tool_errors=True, messages_key='messages')"
      ]
     },
     "execution_count": 61,
     "metadata": {},
     "output_type": "execute_result"
    }
   ],
   "source": [
    "#tools = [add,subtract ,multiply, divide, duckDuckSearch,get_stock_price]\n",
    "tools = [add,subtract,multiply,divide,duckDuckSearch,get_stock_price]\n",
    "llm_with_tools=llm.bind_tools(tools)\n",
    "toolNode=ToolNode(tools)\n",
    "toolNode"
   ]
  },
  {
   "cell_type": "code",
   "execution_count": 62,
   "id": "0da8faab",
   "metadata": {},
   "outputs": [],
   "source": [
    "workflow = StateGraph(MessagesState)\n",
    "workflow.add_node(\"llm_decision_step\", supervisor)\n",
    "workflow.add_node(\"tools\", toolNode)\n",
    "workflow.add_edge(START, \"llm_decision_step\")\n",
    "workflow.add_conditional_edges(\n",
    "    \"llm_decision_step\",\n",
    "    tools_condition,\n",
    ")\n",
    "workflow.add_edge(\"tools\", \"llm_decision_step\")\n",
    "react_graph = workflow.compile()"
   ]
  },
  {
   "cell_type": "code",
   "execution_count": 63,
   "id": "73b13de4",
   "metadata": {},
   "outputs": [
    {
     "data": {
      "image/png": "[encoded data removed]",
      "text/plain": [
       "<IPython.core.display.Image object>"
      ]
     },
     "metadata": {},
     "output_type": "display_data"
    }
   ],
   "source": [
    "display(Image(react_graph.get_graph(xray=True).draw_mermaid_png()))"
   ]
  },
  {
   "cell_type": "code",
   "execution_count": 64,
   "id": "95053ca7",
   "metadata": {},
   "outputs": [
    {
     "name": "stdout",
     "output_type": "stream",
     "text": [
      "##supervisor## [HumanMessage(content='add 1000 in the current stock price of Apple.', additional_kwargs={}, response_metadata={}, id='5b78fcdb-cf75-43e3-b990-da2917588505')]\n",
      "##supervisor## [HumanMessage(content='add 1000 in the current stock price of Apple.', additional_kwargs={}, response_metadata={}, id='5b78fcdb-cf75-43e3-b990-da2917588505'), AIMessage(content='', additional_kwargs={'tool_calls': [{'id': 'call_GXpNED6P9PBnypFSEqYVmnbw', 'function': {'arguments': '{\"ticker\":\"AAPL\"}', 'name': 'get_stock_price'}, 'type': 'function'}], 'refusal': None}, response_metadata={'token_usage': {'completion_tokens': 16, 'prompt_tokens': 362, 'total_tokens': 378, 'completion_tokens_details': {'accepted_prediction_tokens': 0, 'audio_tokens': 0, 'reasoning_tokens': 0, 'rejected_prediction_tokens': 0}, 'prompt_tokens_details': {'audio_tokens': 0, 'cached_tokens': 0}}, 'model_name': 'gpt-4o-2024-08-06', 'system_fingerprint': 'fp_a288987b44', 'id': 'chatcmpl-BjHL1Ta7zZYfwMJvYSM0512xUFg0z', 'service_tier': 'default', 'finish_reason': 'tool_calls', 'logprobs': None}, id='run--0727e04f-87a0-4bad-8067-5283587ea0eb-0', tool_calls=[{'name': 'get_stock_price', 'args': {'ticker': 'AAPL'}, 'id': 'call_GXpNED6P9PBnypFSEqYVmnbw', 'type': 'tool_call'}], usage_metadata={'input_tokens': 362, 'output_tokens': 16, 'total_tokens': 378, 'input_token_details': {'audio': 0, 'cache_read': 0}, 'output_token_details': {'audio': 0, 'reasoning': 0}}), ToolMessage(content='The last closing price of AAPL was $196.45.', name='get_stock_price', id='45f2c153-f55b-40c3-b584-03ba1c00004b', tool_call_id='call_GXpNED6P9PBnypFSEqYVmnbw')]\n",
      "##supervisor## [HumanMessage(content='add 1000 in the current stock price of Apple.', additional_kwargs={}, response_metadata={}, id='5b78fcdb-cf75-43e3-b990-da2917588505'), AIMessage(content='', additional_kwargs={'tool_calls': [{'id': 'call_GXpNED6P9PBnypFSEqYVmnbw', 'function': {'arguments': '{\"ticker\":\"AAPL\"}', 'name': 'get_stock_price'}, 'type': 'function'}], 'refusal': None}, response_metadata={'token_usage': {'completion_tokens': 16, 'prompt_tokens': 362, 'total_tokens': 378, 'completion_tokens_details': {'accepted_prediction_tokens': 0, 'audio_tokens': 0, 'reasoning_tokens': 0, 'rejected_prediction_tokens': 0}, 'prompt_tokens_details': {'audio_tokens': 0, 'cached_tokens': 0}}, 'model_name': 'gpt-4o-2024-08-06', 'system_fingerprint': 'fp_a288987b44', 'id': 'chatcmpl-BjHL1Ta7zZYfwMJvYSM0512xUFg0z', 'service_tier': 'default', 'finish_reason': 'tool_calls', 'logprobs': None}, id='run--0727e04f-87a0-4bad-8067-5283587ea0eb-0', tool_calls=[{'name': 'get_stock_price', 'args': {'ticker': 'AAPL'}, 'id': 'call_GXpNED6P9PBnypFSEqYVmnbw', 'type': 'tool_call'}], usage_metadata={'input_tokens': 362, 'output_tokens': 16, 'total_tokens': 378, 'input_token_details': {'audio': 0, 'cache_read': 0}, 'output_token_details': {'audio': 0, 'reasoning': 0}}), ToolMessage(content='The last closing price of AAPL was $196.45.', name='get_stock_price', id='45f2c153-f55b-40c3-b584-03ba1c00004b', tool_call_id='call_GXpNED6P9PBnypFSEqYVmnbw'), AIMessage(content='', additional_kwargs={'tool_calls': [{'id': 'call_1AM8xkUon75zRFLYjkYxWX25', 'function': {'arguments': '{\"a\":1000,\"b\":196}', 'name': 'add'}, 'type': 'function'}], 'refusal': None}, response_metadata={'token_usage': {'completion_tokens': 18, 'prompt_tokens': 400, 'total_tokens': 418, 'completion_tokens_details': {'accepted_prediction_tokens': 0, 'audio_tokens': 0, 'reasoning_tokens': 0, 'rejected_prediction_tokens': 0}, 'prompt_tokens_details': {'audio_tokens': 0, 'cached_tokens': 0}}, 'model_name': 'gpt-4o-2024-08-06', 'system_fingerprint': 'fp_a288987b44', 'id': 'chatcmpl-BjHL4g3UxT9PWE1GDuaEOOcvVRKJg', 'service_tier': 'default', 'finish_reason': 'tool_calls', 'logprobs': None}, id='run--a6d1cb97-444e-4531-b967-dd0432ed824a-0', tool_calls=[{'name': 'add', 'args': {'a': 1000, 'b': 196}, 'id': 'call_1AM8xkUon75zRFLYjkYxWX25', 'type': 'tool_call'}], usage_metadata={'input_tokens': 400, 'output_tokens': 18, 'total_tokens': 418, 'input_token_details': {'audio': 0, 'cache_read': 0}, 'output_token_details': {'audio': 0, 'reasoning': 0}}), ToolMessage(content='1196', name='add', id='a3868b31-8187-4621-8bc9-9e0928e1b056', tool_call_id='call_1AM8xkUon75zRFLYjkYxWX25')]\n"
     ]
    },
    {
     "data": {
      "text/plain": [
       "'The result of adding 1000 to the current stock price of Apple (rounded to the nearest dollar) is 1196.'"
      ]
     },
     "execution_count": 64,
     "metadata": {},
     "output_type": "execute_result"
    }
   ],
   "source": [
    "messages = [HumanMessage(content=\"add 1000 in the current stock price of Apple.\")]\n",
    "response = react_graph.invoke({\"messages\": messages})\n",
    "response[\"messages\"][-1].content\n"
   ]
  },
  {
   "cell_type": "code",
   "execution_count": 65,
   "id": "6e903771",
   "metadata": {},
   "outputs": [
    {
     "name": "stdout",
     "output_type": "stream",
     "text": [
      "================================\u001b[1m Human Message \u001b[0m=================================\n",
      "\n",
      "add 1000 in the current stock price of Apple.\n",
      "==================================\u001b[1m Ai Message \u001b[0m==================================\n",
      "Tool Calls:\n",
      "  get_stock_price (call_GXpNED6P9PBnypFSEqYVmnbw)\n",
      " Call ID: call_GXpNED6P9PBnypFSEqYVmnbw\n",
      "  Args:\n",
      "    ticker: AAPL\n",
      "=================================\u001b[1m Tool Message \u001b[0m=================================\n",
      "Name: get_stock_price\n",
      "\n",
      "The last closing price of AAPL was $196.45.\n",
      "==================================\u001b[1m Ai Message \u001b[0m==================================\n",
      "Tool Calls:\n",
      "  add (call_1AM8xkUon75zRFLYjkYxWX25)\n",
      " Call ID: call_1AM8xkUon75zRFLYjkYxWX25\n",
      "  Args:\n",
      "    a: 1000\n",
      "    b: 196\n",
      "=================================\u001b[1m Tool Message \u001b[0m=================================\n",
      "Name: add\n",
      "\n",
      "1196\n",
      "==================================\u001b[1m Ai Message \u001b[0m==================================\n",
      "\n",
      "The result of adding 1000 to the current stock price of Apple (rounded to the nearest dollar) is 1196.\n"
     ]
    }
   ],
   "source": [
    "for m in response['messages']:\n",
    "    m.pretty_print()"
   ]
  },
  {
   "cell_type": "code",
   "execution_count": 66,
   "id": "b137d591",
   "metadata": {},
   "outputs": [
    {
     "name": "stdout",
     "output_type": "stream",
     "text": [
      "##supervisor## [HumanMessage(content='can you give me a latest stock price of adani greens?', additional_kwargs={}, response_metadata={}, id='7149d04f-d77f-4ab3-8522-30ed0523349b')]\n",
      "##supervisor## [HumanMessage(content='can you give me a latest stock price of adani greens?', additional_kwargs={}, response_metadata={}, id='7149d04f-d77f-4ab3-8522-30ed0523349b'), AIMessage(content='', additional_kwargs={'tool_calls': [{'id': 'call_FiatLZ1kkqZzKCfrxjhYnaFc', 'function': {'arguments': '{\"ticker\":\"ADANIGREEN.NS\"}', 'name': 'get_stock_price'}, 'type': 'function'}], 'refusal': None}, response_metadata={'token_usage': {'completion_tokens': 20, 'prompt_tokens': 363, 'total_tokens': 383, 'completion_tokens_details': {'accepted_prediction_tokens': 0, 'audio_tokens': 0, 'reasoning_tokens': 0, 'rejected_prediction_tokens': 0}, 'prompt_tokens_details': {'audio_tokens': 0, 'cached_tokens': 0}}, 'model_name': 'gpt-4o-2024-08-06', 'system_fingerprint': 'fp_a288987b44', 'id': 'chatcmpl-BjHL617auUWjLemJsgqhHvUt2chyT', 'service_tier': 'default', 'finish_reason': 'tool_calls', 'logprobs': None}, id='run--2a752f6f-1dfd-4817-bbac-b315cc598d24-0', tool_calls=[{'name': 'get_stock_price', 'args': {'ticker': 'ADANIGREEN.NS'}, 'id': 'call_FiatLZ1kkqZzKCfrxjhYnaFc', 'type': 'tool_call'}], usage_metadata={'input_tokens': 363, 'output_tokens': 20, 'total_tokens': 383, 'input_token_details': {'audio': 0, 'cache_read': 0}, 'output_token_details': {'audio': 0, 'reasoning': 0}}), ToolMessage(content='The last closing price of ADANIGREEN.NS was $989.50.', name='get_stock_price', id='b69663fd-a2c4-48aa-9bd0-d541cc569eb2', tool_call_id='call_FiatLZ1kkqZzKCfrxjhYnaFc')]\n"
     ]
    },
    {
     "data": {
      "text/plain": [
       "'The latest closing price of Adani Green Energy Limited (ADANIGREEN.NS) was $989.50.'"
      ]
     },
     "execution_count": 66,
     "metadata": {},
     "output_type": "execute_result"
    }
   ],
   "source": [
    "messages = [HumanMessage(content=\"can you give me a latest stock price of adani greens?\")]\n",
    "response = react_graph.invoke({\"messages\": messages})\n",
    "response[\"messages\"][-1].content"
   ]
  },
  {
   "cell_type": "code",
   "execution_count": 67,
   "id": "6561ff26",
   "metadata": {},
   "outputs": [
    {
     "name": "stdout",
     "output_type": "stream",
     "text": [
      "================================\u001b[1m Human Message \u001b[0m=================================\n",
      "\n",
      "can you give me a latest stock price of adani greens?\n",
      "==================================\u001b[1m Ai Message \u001b[0m==================================\n",
      "Tool Calls:\n",
      "  get_stock_price (call_FiatLZ1kkqZzKCfrxjhYnaFc)\n",
      " Call ID: call_FiatLZ1kkqZzKCfrxjhYnaFc\n",
      "  Args:\n",
      "    ticker: ADANIGREEN.NS\n",
      "=================================\u001b[1m Tool Message \u001b[0m=================================\n",
      "Name: get_stock_price\n",
      "\n",
      "The last closing price of ADANIGREEN.NS was $989.50.\n",
      "==================================\u001b[1m Ai Message \u001b[0m==================================\n",
      "\n",
      "The latest closing price of Adani Green Energy Limited (ADANIGREEN.NS) was $989.50.\n"
     ]
    }
   ],
   "source": [
    "for m in response['messages']:\n",
    "    m.pretty_print()"
   ]
  }
 ],
 "metadata": {
  "kernelspec": {
   "display_name": "agentic_env",
   "language": "python",
   "name": "python3"
  },
  "language_info": {
   "codemirror_mode": {
    "name": "ipython",
    "version": 3
   },
   "file_extension": ".py",
   "mimetype": "text/x-python",
   "name": "python",
   "nbconvert_exporter": "python",
   "pygments_lexer": "ipython3",
   "version": "3.11.11"
  }
 },
 "nbformat": 4,
 "nbformat_minor": 5
}
