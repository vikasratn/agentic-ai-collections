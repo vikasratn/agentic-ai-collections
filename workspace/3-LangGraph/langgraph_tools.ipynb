{
 "cells": [
  {
   "cell_type": "code",
   "execution_count": 87,
   "id": "6dd6a424",
   "metadata": {},
   "outputs": [],
   "source": [
    "from dotenv import load_dotenv\n",
    "import os\n",
    "load_dotenv()\n",
    "os.environ[\"OPENAI_API_KEY\"]=os.getenv(\"OPENAI_API_KEY\")\n",
    "os.environ[\"GROQ_API_KEY\"]=os.getenv(\"GROQ_API_KEY\")\n",
    "os.environ[\"PINECODE_API_KEY\"]=os.getenv(\"PINECODE_API_KEY\")\n",
    "os.environ[\"GOOGLE_API_KEY\"]=os.getenv(\"GOOGLE_API_KEY\")\n",
    "os.environ[\"HUGGINGFACE_API_KEY\"]=os.getenv(\"HUGGINGFACE_API_KEY\")\n",
    "os.environ[\"LANGCHAIN_API_KEY\"]=os.getenv(\"LANGCHAIN_API_KEY\")\n",
    "os.environ[\"LANGCHAIN_PROJECT\"]=os.getenv(\"LANGCHAIN_PROJECT\")\n",
    "os.environ[\"LANGCHAIN_TRACING_V2\"]=os.getenv(\"LANGCHAIN_TRACING_V2\")"
   ]
  },
  {
   "cell_type": "code",
   "execution_count": 88,
   "id": "7f662fe4",
   "metadata": {},
   "outputs": [],
   "source": [
    "model=\"deepseek-r1-distill-llama-70b\"\n",
    "from langchain_groq import ChatGroq\n",
    "from langchain_core.prompts import ChatPromptTemplate"
   ]
  },
  {
   "cell_type": "code",
   "execution_count": 89,
   "id": "f4cb7038",
   "metadata": {},
   "outputs": [],
   "source": [
    "llm=ChatGroq(model_name=model)"
   ]
  },
  {
   "cell_type": "code",
   "execution_count": 90,
   "id": "0280fbff",
   "metadata": {},
   "outputs": [
    {
     "name": "stdout",
     "output_type": "stream",
     "text": [
      "<think>\n",
      "\n",
      "</think>\n",
      "\n",
      "Hello! How can I assist you today? 😊\n"
     ]
    }
   ],
   "source": [
    "print(llm.invoke(\"Hi\").content)"
   ]
  },
  {
   "cell_type": "code",
   "execution_count": 91,
   "id": "f1097e90",
   "metadata": {},
   "outputs": [],
   "source": [
    "import operator\n",
    "from typing import List\n",
    "from pydantic import BaseModel , Field\n",
    "from langchain.prompts import PromptTemplate\n",
    "from typing import TypedDict, Annotated, Sequence\n",
    "from langchain_core.messages import BaseMessage\n",
    "from langchain_core.output_parsers import StrOutputParser\n",
    "from langchain_core.prompts import ChatPromptTemplate, PromptTemplate\n",
    "from langchain_core.runnables import RunnablePassthrough\n",
    "from langchain_core.messages import HumanMessage, AIMessage\n",
    "from langgraph.graph.message import add_messages\n",
    "from langgraph.graph import MessagesState, StateGraph, END, START\n",
    "from langchain_core.tools import tool"
   ]
  },
  {
   "cell_type": "code",
   "execution_count": 92,
   "id": "bf002a18",
   "metadata": {},
   "outputs": [],
   "source": [
    "def call_model(state:MessagesState):\n",
    "    message=state[\"messages\"]\n",
    "    response=llm.invoke(message)\n",
    "    return {\"messages\":[response]}\n",
    "    "
   ]
  },
  {
   "cell_type": "code",
   "execution_count": 93,
   "id": "6a796b58",
   "metadata": {},
   "outputs": [
    {
     "data": {
      "text/plain": [
       "{'messages': [AIMessage(content=\"<think>\\n\\n</think>\\n\\nHello! I'm just a virtual assistant, so I don't have feelings, but I'm here and ready to help you with whatever you need. How can I assist you today? 😊\", additional_kwargs={}, response_metadata={'token_usage': {'completion_tokens': 44, 'prompt_tokens': 8, 'total_tokens': 52, 'completion_time': 0.163019606, 'prompt_time': 0.000135838, 'queue_time': 0.054398936, 'total_time': 0.163155444}, 'model_name': 'deepseek-r1-distill-llama-70b', 'system_fingerprint': 'fp_1bbe7845ec', 'finish_reason': 'stop', 'logprobs': None}, id='run--b26f64d4-8993-4e46-8cae-1afb56cd5237-0', usage_metadata={'input_tokens': 8, 'output_tokens': 44, 'total_tokens': 52})]}"
      ]
     },
     "execution_count": 93,
     "metadata": {},
     "output_type": "execute_result"
    }
   ],
   "source": [
    "state={\"messages\":[\"hi\",\"How are you\"]}\n",
    "call_model(state)"
   ]
  },
  {
   "cell_type": "code",
   "execution_count": 94,
   "id": "909d4dfb",
   "metadata": {},
   "outputs": [],
   "source": [
    "workflow = StateGraph(MessagesState)"
   ]
  },
  {
   "cell_type": "code",
   "execution_count": 95,
   "id": "22c57a1e",
   "metadata": {},
   "outputs": [],
   "source": [
    "workflow.add_edge(START,\"chat_bot\")\n",
    "workflow.add_node(\"chat_bot\",call_model)\n",
    "workflow.add_edge(\"chat_bot\",END)\n",
    "\n",
    "app=workflow.compile()"
   ]
  },
  {
   "cell_type": "code",
   "execution_count": 96,
   "id": "0659e4f7",
   "metadata": {},
   "outputs": [
    {
     "data": {
      "image/png": "[encoded data removed]",
      "text/plain": [
       "<IPython.core.display.Image object>"
      ]
     },
     "metadata": {},
     "output_type": "display_data"
    }
   ],
   "source": [
    "from IPython.display import Image, display\n",
    "display(Image(app.get_graph().draw_mermaid_png()))"
   ]
  },
  {
   "cell_type": "code",
   "execution_count": 97,
   "id": "2881ee78",
   "metadata": {},
   "outputs": [
    {
     "data": {
      "text/plain": [
       "{'messages': [HumanMessage(content='hi', additional_kwargs={}, response_metadata={}, id='de18f66d-8b2b-492f-b127-44b6f21e7eba'),\n",
       "  HumanMessage(content='How are you ?', additional_kwargs={}, response_metadata={}, id='9361069f-4aac-4333-869b-47ab07807281'),\n",
       "  AIMessage(content=\"<think>\\n\\n</think>\\n\\nHello! I'm just a virtual assistant, so I don't have feelings, but I'm here and ready to help you with whatever you need. How can I assist you today? 😊\", additional_kwargs={}, response_metadata={'token_usage': {'completion_tokens': 44, 'prompt_tokens': 9, 'total_tokens': 53, 'completion_time': 0.188554405, 'prompt_time': 0.000765997, 'queue_time': 0.061438794000000005, 'total_time': 0.189320402}, 'model_name': 'deepseek-r1-distill-llama-70b', 'system_fingerprint': 'fp_1bbe7845ec', 'finish_reason': 'stop', 'logprobs': None}, id='run--7f9142e1-434f-4df9-acb6-2abd1c7dcf95-0', usage_metadata={'input_tokens': 9, 'output_tokens': 44, 'total_tokens': 53})]}"
      ]
     },
     "execution_count": 97,
     "metadata": {},
     "output_type": "execute_result"
    }
   ],
   "source": [
    "app.invoke({\"messages\":[\"hi\",\"How are you ?\"]})"
   ]
  },
  {
   "cell_type": "code",
   "execution_count": 98,
   "id": "94824764",
   "metadata": {},
   "outputs": [
    {
     "name": "stdout",
     "output_type": "stream",
     "text": [
      "Output from chat_bot node\n",
      "--------\n",
      "{'messages': [AIMessage(content=\"<think>\\n\\n</think>\\n\\nHello! I'm just a virtual assistant, so I don't have feelings, but I'm here and ready to help you with whatever you need. How can I assist you today? 😊\", additional_kwargs={}, response_metadata={'token_usage': {'completion_tokens': 44, 'prompt_tokens': 9, 'total_tokens': 53, 'completion_time': 0.190339405, 'prompt_time': 0.000185087, 'queue_time': 0.052185093, 'total_time': 0.190524492}, 'model_name': 'deepseek-r1-distill-llama-70b', 'system_fingerprint': 'fp_1bbe7845ec', 'finish_reason': 'stop', 'logprobs': None}, id='run--3dd48979-58d1-4c83-8c66-fd1a48e60960-0', usage_metadata={'input_tokens': 9, 'output_tokens': 44, 'total_tokens': 53})]}\n",
      "--------\n"
     ]
    }
   ],
   "source": [
    "for output in app.stream({\"messages\":[\"hi\",\"How are you ?\"]}):\n",
    "    for key,value in output.items():\n",
    "        print(f\"Output from {key} node\")\n",
    "        print(\"--------\")\n",
    "        print(value)\n",
    "        print(\"--------\")"
   ]
  },
  {
   "cell_type": "code",
   "execution_count": 99,
   "id": "cfec50dc",
   "metadata": {},
   "outputs": [],
   "source": [
    "from langchain_core.tools import tool\n",
    "@tool\n",
    "def search(query:str):\n",
    "    \"\"\"This is custom tools for weather information\"\"\"\n",
    "    if 'delhi'in query:\n",
    "        return \"temp is 46 degree, very hot\"\n",
    "    else:\n",
    "        return \"temp is 26 degree, very pleasant\""
   ]
  },
  {
   "cell_type": "code",
   "execution_count": 119,
   "id": "057e2b28",
   "metadata": {},
   "outputs": [
    {
     "data": {
      "text/plain": [
       "'temp is 46 degree, very hot'"
      ]
     },
     "execution_count": 119,
     "metadata": {},
     "output_type": "execute_result"
    }
   ],
   "source": [
    "search.invoke(\"delhi\")"
   ]
  },
  {
   "cell_type": "code",
   "execution_count": 121,
   "id": "dde39af7",
   "metadata": {},
   "outputs": [
    {
     "ename": "ValueError",
     "evalue": "Invalid input type <class 'dict'>. Must be a PromptValue, str, or list of BaseMessages.",
     "output_type": "error",
     "traceback": [
      "\u001b[31m---------------------------------------------------------------------------\u001b[39m",
      "\u001b[31mValueError\u001b[39m                                Traceback (most recent call last)",
      "\u001b[36mCell\u001b[39m\u001b[36m \u001b[39m\u001b[32mIn[121]\u001b[39m\u001b[32m, line 3\u001b[39m\n\u001b[32m      1\u001b[39m tools=[search]\n\u001b[32m      2\u001b[39m llm_with_tool=llm.bind_tools(tools)\n\u001b[32m----> \u001b[39m\u001b[32m3\u001b[39m \u001b[43mllm_with_tool\u001b[49m\u001b[43m.\u001b[49m\u001b[43minvoke\u001b[49m\u001b[43m(\u001b[49m\u001b[43m{\u001b[49m\u001b[33;43m\"\u001b[39;49m\u001b[33;43mmessage\u001b[39;49m\u001b[33;43m\"\u001b[39;49m\u001b[43m:\u001b[49m\u001b[43m[\u001b[49m\u001b[33;43m\"\u001b[39;49m\u001b[33;43mdelhi\u001b[39;49m\u001b[33;43m\"\u001b[39;49m\u001b[43m]\u001b[49m\u001b[43m}\u001b[49m\u001b[43m)\u001b[49m\n",
      "\u001b[36mFile \u001b[39m\u001b[32m/opt/miniconda3/envs/agentic_env/lib/python3.11/site-packages/langchain_core/runnables/base.py:5430\u001b[39m, in \u001b[36mRunnableBindingBase.invoke\u001b[39m\u001b[34m(self, input, config, **kwargs)\u001b[39m\n\u001b[32m   5423\u001b[39m \u001b[38;5;129m@override\u001b[39m\n\u001b[32m   5424\u001b[39m \u001b[38;5;28;01mdef\u001b[39;00m\u001b[38;5;250m \u001b[39m\u001b[34minvoke\u001b[39m(\n\u001b[32m   5425\u001b[39m     \u001b[38;5;28mself\u001b[39m,\n\u001b[32m   (...)\u001b[39m\u001b[32m   5428\u001b[39m     **kwargs: Optional[Any],\n\u001b[32m   5429\u001b[39m ) -> Output:\n\u001b[32m-> \u001b[39m\u001b[32m5430\u001b[39m     \u001b[38;5;28;01mreturn\u001b[39;00m \u001b[38;5;28;43mself\u001b[39;49m\u001b[43m.\u001b[49m\u001b[43mbound\u001b[49m\u001b[43m.\u001b[49m\u001b[43minvoke\u001b[49m\u001b[43m(\u001b[49m\n\u001b[32m   5431\u001b[39m \u001b[43m        \u001b[49m\u001b[38;5;28;43minput\u001b[39;49m\u001b[43m,\u001b[49m\n\u001b[32m   5432\u001b[39m \u001b[43m        \u001b[49m\u001b[38;5;28;43mself\u001b[39;49m\u001b[43m.\u001b[49m\u001b[43m_merge_configs\u001b[49m\u001b[43m(\u001b[49m\u001b[43mconfig\u001b[49m\u001b[43m)\u001b[49m\u001b[43m,\u001b[49m\n\u001b[32m   5433\u001b[39m \u001b[43m        \u001b[49m\u001b[43m*\u001b[49m\u001b[43m*\u001b[49m\u001b[43m{\u001b[49m\u001b[43m*\u001b[49m\u001b[43m*\u001b[49m\u001b[38;5;28;43mself\u001b[39;49m\u001b[43m.\u001b[49m\u001b[43mkwargs\u001b[49m\u001b[43m,\u001b[49m\u001b[43m \u001b[49m\u001b[43m*\u001b[49m\u001b[43m*\u001b[49m\u001b[43mkwargs\u001b[49m\u001b[43m}\u001b[49m\u001b[43m,\u001b[49m\n\u001b[32m   5434\u001b[39m \u001b[43m    \u001b[49m\u001b[43m)\u001b[49m\n",
      "\u001b[36mFile \u001b[39m\u001b[32m/opt/miniconda3/envs/agentic_env/lib/python3.11/site-packages/langchain_core/language_models/chat_models.py:373\u001b[39m, in \u001b[36mBaseChatModel.invoke\u001b[39m\u001b[34m(self, input, config, stop, **kwargs)\u001b[39m\n\u001b[32m    360\u001b[39m \u001b[38;5;129m@override\u001b[39m\n\u001b[32m    361\u001b[39m \u001b[38;5;28;01mdef\u001b[39;00m\u001b[38;5;250m \u001b[39m\u001b[34minvoke\u001b[39m(\n\u001b[32m    362\u001b[39m     \u001b[38;5;28mself\u001b[39m,\n\u001b[32m   (...)\u001b[39m\u001b[32m    367\u001b[39m     **kwargs: Any,\n\u001b[32m    368\u001b[39m ) -> BaseMessage:\n\u001b[32m    369\u001b[39m     config = ensure_config(config)\n\u001b[32m    370\u001b[39m     \u001b[38;5;28;01mreturn\u001b[39;00m cast(\n\u001b[32m    371\u001b[39m         \u001b[33m\"\u001b[39m\u001b[33mChatGeneration\u001b[39m\u001b[33m\"\u001b[39m,\n\u001b[32m    372\u001b[39m         \u001b[38;5;28mself\u001b[39m.generate_prompt(\n\u001b[32m--> \u001b[39m\u001b[32m373\u001b[39m             [\u001b[38;5;28;43mself\u001b[39;49m\u001b[43m.\u001b[49m\u001b[43m_convert_input\u001b[49m\u001b[43m(\u001b[49m\u001b[38;5;28;43minput\u001b[39;49m\u001b[43m)\u001b[49m],\n\u001b[32m    374\u001b[39m             stop=stop,\n\u001b[32m    375\u001b[39m             callbacks=config.get(\u001b[33m\"\u001b[39m\u001b[33mcallbacks\u001b[39m\u001b[33m\"\u001b[39m),\n\u001b[32m    376\u001b[39m             tags=config.get(\u001b[33m\"\u001b[39m\u001b[33mtags\u001b[39m\u001b[33m\"\u001b[39m),\n\u001b[32m    377\u001b[39m             metadata=config.get(\u001b[33m\"\u001b[39m\u001b[33mmetadata\u001b[39m\u001b[33m\"\u001b[39m),\n\u001b[32m    378\u001b[39m             run_name=config.get(\u001b[33m\"\u001b[39m\u001b[33mrun_name\u001b[39m\u001b[33m\"\u001b[39m),\n\u001b[32m    379\u001b[39m             run_id=config.pop(\u001b[33m\"\u001b[39m\u001b[33mrun_id\u001b[39m\u001b[33m\"\u001b[39m, \u001b[38;5;28;01mNone\u001b[39;00m),\n\u001b[32m    380\u001b[39m             **kwargs,\n\u001b[32m    381\u001b[39m         ).generations[\u001b[32m0\u001b[39m][\u001b[32m0\u001b[39m],\n\u001b[32m    382\u001b[39m     ).message\n",
      "\u001b[36mFile \u001b[39m\u001b[32m/opt/miniconda3/envs/agentic_env/lib/python3.11/site-packages/langchain_core/language_models/chat_models.py:358\u001b[39m, in \u001b[36mBaseChatModel._convert_input\u001b[39m\u001b[34m(self, model_input)\u001b[39m\n\u001b[32m    353\u001b[39m     \u001b[38;5;28;01mreturn\u001b[39;00m ChatPromptValue(messages=convert_to_messages(model_input))\n\u001b[32m    354\u001b[39m msg = (\n\u001b[32m    355\u001b[39m     \u001b[33mf\u001b[39m\u001b[33m\"\u001b[39m\u001b[33mInvalid input type \u001b[39m\u001b[38;5;132;01m{\u001b[39;00m\u001b[38;5;28mtype\u001b[39m(model_input)\u001b[38;5;132;01m}\u001b[39;00m\u001b[33m. \u001b[39m\u001b[33m\"\u001b[39m\n\u001b[32m    356\u001b[39m     \u001b[33m\"\u001b[39m\u001b[33mMust be a PromptValue, str, or list of BaseMessages.\u001b[39m\u001b[33m\"\u001b[39m\n\u001b[32m    357\u001b[39m )\n\u001b[32m--> \u001b[39m\u001b[32m358\u001b[39m \u001b[38;5;28;01mraise\u001b[39;00m \u001b[38;5;167;01mValueError\u001b[39;00m(msg)\n",
      "\u001b[31mValueError\u001b[39m: Invalid input type <class 'dict'>. Must be a PromptValue, str, or list of BaseMessages."
     ]
    }
   ],
   "source": [
    "tools=[search]\n",
    "llm_with_tool=llm.bind_tools(tools)"
   ]
  },
  {
   "cell_type": "code",
   "execution_count": 110,
   "id": "63f08bff",
   "metadata": {},
   "outputs": [],
   "source": [
    "def call_llm_with_tool(state:MessagesState):\n",
    "    question=state[\"messages\"]\n",
    "    response=llm_with_tool.invoke(question)\n",
    "    return {\"messages\":[response]}"
   ]
  },
  {
   "cell_type": "code",
   "execution_count": 127,
   "id": "0dff4f45",
   "metadata": {},
   "outputs": [
    {
     "data": {
      "text/plain": [
       "{'messages': [AIMessage(content=\"Hello! How can I assist you today? If you're looking for weather information, feel free to ask!\", additional_kwargs={}, response_metadata={'token_usage': {'completion_tokens': 98, 'prompt_tokens': 124, 'total_tokens': 222, 'completion_time': 0.495078089, 'prompt_time': 0.008021781, 'queue_time': 0.053930093, 'total_time': 0.50309987}, 'model_name': 'deepseek-r1-distill-llama-70b', 'system_fingerprint': 'fp_1bbe7845ec', 'finish_reason': 'stop', 'logprobs': None}, id='run--84ea6716-5400-4fe6-8963-a5bc39ec7f6e-0', usage_metadata={'input_tokens': 124, 'output_tokens': 98, 'total_tokens': 222})]}"
      ]
     },
     "execution_count": 127,
     "metadata": {},
     "output_type": "execute_result"
    }
   ],
   "source": [
    "response=call_llm_with_tool({\"messages\":[\"hi\"]})\n",
    "response"
   ]
  },
  {
   "cell_type": "code",
   "execution_count": 112,
   "id": "4143786f",
   "metadata": {},
   "outputs": [],
   "source": [
    "from langgraph.prebuilt import ToolNode\n",
    "tool_node=ToolNode(tools)"
   ]
  },
  {
   "cell_type": "code",
   "execution_count": 128,
   "id": "f42c44eb",
   "metadata": {},
   "outputs": [],
   "source": [
    "def tool_router(state:MessagesState):\n",
    "    last_message=state[\"messages\"][-1]\n",
    "    if last_message.tool_calls:\n",
    "        return \"tools\"\n",
    "    else:\n",
    "        return END"
   ]
  },
  {
   "cell_type": "code",
   "execution_count": 138,
   "id": "f912d01e",
   "metadata": {},
   "outputs": [
    {
     "data": {
      "text/plain": [
       "<langgraph.graph.state.StateGraph at 0x12675a5d0>"
      ]
     },
     "execution_count": 138,
     "metadata": {},
     "output_type": "execute_result"
    }
   ],
   "source": [
    "workflow_with_tools=StateGraph(MessagesState)\n",
    "\n",
    "workflow_with_tools.add_node(\"llm_with_tool\",call_llm_with_tool)\n",
    "\n",
    "workflow_with_tools.add_node(\"custom_tools\",tool_node)\n",
    "\n",
    "workflow_with_tools.set_entry_point(\"llm_with_tool\")\n",
    "\n",
    "workflow_with_tools.add_conditional_edges(\"llm_with_tool\",\n",
    "                                         tool_router,\n",
    "                                         {\n",
    "                                             \"tools\" : \"custom_tools\",\n",
    "                                             END: END\n",
    "                                         })"
   ]
  },
  {
   "cell_type": "code",
   "execution_count": 144,
   "id": "dea6ead2",
   "metadata": {},
   "outputs": [
    {
     "data": {
      "image/png": "[encoded data removed]",
      "text/plain": [
       "<IPython.core.display.Image object>"
      ]
     },
     "metadata": {},
     "output_type": "display_data"
    }
   ],
   "source": [
    "app_with_tools=workflow_with_tools.compile()\n",
    "from IPython.display import Image, display\n",
    "display(Image(app_with_tools.get_graph().draw_mermaid_png()))"
   ]
  },
  {
   "cell_type": "code",
   "execution_count": 141,
   "id": "99644932",
   "metadata": {},
   "outputs": [
    {
     "data": {
      "text/plain": [
       "{'messages': [HumanMessage(content='hello', additional_kwargs={}, response_metadata={}, id='baa049c2-5004-4301-8ab5-59243b1d390e'),\n",
       "  AIMessage(content=\"Hello! How can I assist you today? If you're looking for weather information, please let me know the city you're interested in.\", additional_kwargs={}, response_metadata={'token_usage': {'completion_tokens': 108, 'prompt_tokens': 124, 'total_tokens': 232, 'completion_time': 0.49808899, 'prompt_time': 0.007985403, 'queue_time': 0.06040587, 'total_time': 0.506074393}, 'model_name': 'deepseek-r1-distill-llama-70b', 'system_fingerprint': 'fp_1bbe7845ec', 'finish_reason': 'stop', 'logprobs': None}, id='run--577faf15-2431-47af-b850-577fbc3c61df-0', usage_metadata={'input_tokens': 124, 'output_tokens': 108, 'total_tokens': 232})]}"
      ]
     },
     "execution_count": 141,
     "metadata": {},
     "output_type": "execute_result"
    }
   ],
   "source": [
    "app_with_tools.invoke({\"messages\":[\"hello\"]})"
   ]
  },
  {
   "cell_type": "code",
   "execution_count": 142,
   "id": "04053ba6",
   "metadata": {},
   "outputs": [
    {
     "name": "stdout",
     "output_type": "stream",
     "text": [
      "Here is output from 'llm_with_tool'\n",
      "_______\n",
      "{'messages': [AIMessage(content=\"To find the current weather in New Delhi, you can use reliable weather websites, apps, or check the weather section on news channels. Some popular options include:\\n- **Weather Websites**: AccuWeather, Weather.com, or the Indian Meteorological Department's official website.\\n- **Mobile Apps**: The Weather Channel, Weather Underground, or local apps like Mausam for India-specific weather updates.\\n- **News Channels**: Many news websites and channels have a weather section that provides up-to-date information.\\n\\nThese sources will give you the most accurate and recent weather information for New Delhi.\", additional_kwargs={}, response_metadata={'token_usage': {'completion_tokens': 203, 'prompt_tokens': 131, 'total_tokens': 334, 'completion_time': 0.835053389, 'prompt_time': 0.008443644, 'queue_time': 0.05293552, 'total_time': 0.843497033}, 'model_name': 'deepseek-r1-distill-llama-70b', 'system_fingerprint': 'fp_1bbe7845ec', 'finish_reason': 'stop', 'logprobs': None}, id='run--a8641354-e388-4ade-9dc6-16ed81a86606-0', usage_metadata={'input_tokens': 131, 'output_tokens': 203, 'total_tokens': 334})]}\n",
      "\n",
      "\n"
     ]
    }
   ],
   "source": [
    "for output in app_with_tools.stream({\"messages\": [\"what is the weather in New Delhi?\"]}):\n",
    "    if isinstance(output, dict):\n",
    "        for key, value in output.items():\n",
    "            print(f\"Here is output from '{key}'\")\n",
    "            print(\"_______\")\n",
    "            print(value)\n",
    "            print(\"\\n\")\n",
    "    else:\n",
    "        print(\"Unexpected output format:\")\n",
    "        print(output)"
   ]
  },
  {
   "cell_type": "code",
   "execution_count": 143,
   "id": "739de6e9",
   "metadata": {},
   "outputs": [
    {
     "data": {
      "text/plain": [
       "<langgraph.graph.state.StateGraph at 0x126802390>"
      ]
     },
     "execution_count": 143,
     "metadata": {},
     "output_type": "execute_result"
    }
   ],
   "source": [
    "workflow_with_loop=StateGraph(MessagesState)\n",
    "\n",
    "workflow_with_loop.add_node(\"llm_with_tool\",call_llm_with_tool)\n",
    "\n",
    "workflow_with_loop.add_node(\"custom_tools\",tool_node)\n",
    "\n",
    "workflow_with_loop.set_entry_point(\"llm_with_tool\")\n",
    "\n",
    "workflow_with_loop.add_conditional_edges(\"llm_with_tool\",\n",
    "                                         tool_router,\n",
    "                                         {\n",
    "                                             \"tools\" : \"custom_tools\",\n",
    "                                             END: END\n",
    "                                         })\n",
    "\n",
    "workflow_with_loop.add_edge(\"custom_tools\",\"llm_with_tool\")"
   ]
  },
  {
   "cell_type": "code",
   "execution_count": 145,
   "id": "a38c0095",
   "metadata": {},
   "outputs": [
    {
     "data": {
      "image/png": "[encoded data removed]",
      "text/plain": [
       "<IPython.core.display.Image object>"
      ]
     },
     "metadata": {},
     "output_type": "display_data"
    }
   ],
   "source": [
    "app_with_loop=workflow_with_loop.compile()\n",
    "from IPython.display import Image, display\n",
    "display(Image(app_with_loop.get_graph().draw_mermaid_png()))"
   ]
  },
  {
   "cell_type": "code",
   "execution_count": 146,
   "id": "f547dae2",
   "metadata": {},
   "outputs": [
    {
     "name": "stdout",
     "output_type": "stream",
     "text": [
      "here is output from llm_with_tool\n",
      "_______\n",
      "{'messages': [AIMessage(content='', additional_kwargs={'tool_calls': [{'id': '4wrqag8qp', 'function': {'arguments': '{\"query\":\"New Delhi\"}', 'name': 'search'}, 'type': 'function'}]}, response_metadata={'token_usage': {'completion_tokens': 149, 'prompt_tokens': 132, 'total_tokens': 281, 'completion_time': 0.730634145, 'prompt_time': 0.0084593, 'queue_time': 0.070902702, 'total_time': 0.739093445}, 'model_name': 'deepseek-r1-distill-llama-70b', 'system_fingerprint': 'fp_1bbe7845ec', 'finish_reason': 'tool_calls', 'logprobs': None}, id='run--236d871b-b243-4db6-aa8d-6831dcfa6193-0', tool_calls=[{'name': 'search', 'args': {'query': 'New Delhi'}, 'id': '4wrqag8qp', 'type': 'tool_call'}], usage_metadata={'input_tokens': 132, 'output_tokens': 149, 'total_tokens': 281})]}\n",
      "\n",
      "\n",
      "here is output from custom_tools\n",
      "_______\n",
      "{'messages': [ToolMessage(content='temp is 26 degree, very pleasant', name='search', id='81fc1207-587d-4e89-97c3-3381394ddf7a', tool_call_id='4wrqag8qp')]}\n",
      "\n",
      "\n",
      "here is output from llm_with_tool\n",
      "_______\n",
      "{'messages': [AIMessage(content=\"The weather in New Delhi is 26 degrees, which is very pleasant. It's a great day to be outdoors!\", additional_kwargs={}, response_metadata={'token_usage': {'completion_tokens': 163, 'prompt_tokens': 189, 'total_tokens': 352, 'completion_time': 0.717284375, 'prompt_time': 0.011752535, 'queue_time': 0.053283985, 'total_time': 0.72903691}, 'model_name': 'deepseek-r1-distill-llama-70b', 'system_fingerprint': 'fp_1bbe7845ec', 'finish_reason': 'stop', 'logprobs': None}, id='run--0dbec4ca-27d8-47da-b1cb-4b3f5035377f-0', usage_metadata={'input_tokens': 189, 'output_tokens': 163, 'total_tokens': 352})]}\n",
      "\n",
      "\n"
     ]
    }
   ],
   "source": [
    "for output in app_with_loop.stream({\"messages\":[\"what is a weather in new delhi?\"]}):\n",
    "    for key,value in output.items():\n",
    "        print(f\"here is output from {key}\")\n",
    "        print(\"_______\")\n",
    "        print(value)\n",
    "        print(\"\\n\")"
   ]
  },
  {
   "cell_type": "code",
   "execution_count": 150,
   "id": "7d46d444",
   "metadata": {},
   "outputs": [
    {
     "data": {
      "text/plain": [
       "<langgraph.graph.state.StateGraph at 0x12629d210>"
      ]
     },
     "execution_count": 150,
     "metadata": {},
     "output_type": "execute_result"
    }
   ],
   "source": [
    "workflow_with_memory=StateGraph(MessagesState)\n",
    "\n",
    "workflow_with_memory.add_node(\"llm_with_tool\",call_llm_with_tool)\n",
    "\n",
    "workflow_with_memory.add_node(\"custom_tools\",tool_node)\n",
    "\n",
    "workflow_with_memory.set_entry_point(\"llm_with_tool\")\n",
    "\n",
    "workflow_with_memory.add_conditional_edges(\"llm_with_tool\",\n",
    "                                         tool_router,\n",
    "                                         {\n",
    "                                             \"tools\" : \"custom_tools\",\n",
    "                                             END: END\n",
    "                                         })\n",
    "\n",
    "workflow_with_memory.add_edge(\"custom_tools\",\"llm_with_tool\")"
   ]
  },
  {
   "cell_type": "code",
   "execution_count": 151,
   "id": "94c9e23b",
   "metadata": {},
   "outputs": [
    {
     "data": {
      "image/png": "[encoded data removed]",
      "text/plain": [
       "<IPython.core.display.Image object>"
      ]
     },
     "metadata": {},
     "output_type": "display_data"
    }
   ],
   "source": [
    "from langgraph.checkpoint.memory import MemorySaver\n",
    "memory=MemorySaver()\n",
    "app_with_memory=workflow_with_memory.compile(checkpointer=memory)\n",
    "from IPython.display import Image, display\n",
    "display(Image(app_with_memory.get_graph().draw_mermaid_png()))"
   ]
  },
  {
   "cell_type": "code",
   "execution_count": 152,
   "id": "c7f3f20f",
   "metadata": {},
   "outputs": [],
   "source": [
    "config={\"configurable\": {\"thread_id\": \"1\"}}"
   ]
  },
  {
   "cell_type": "code",
   "execution_count": 154,
   "id": "f4d32eea",
   "metadata": {},
   "outputs": [],
   "source": [
    "events=app_with_memory.stream(\n",
    "    {\"messages\":[\"what is a weather in new delhi?\"]},config=config,stream_mode=\"values\"\n",
    "    )"
   ]
  },
  {
   "cell_type": "code",
   "execution_count": 155,
   "id": "987f003f",
   "metadata": {},
   "outputs": [
    {
     "name": "stdout",
     "output_type": "stream",
     "text": [
      "================================\u001b[1m Human Message \u001b[0m=================================\n",
      "\n",
      "what is a weather in new delhi?\n",
      "==================================\u001b[1m Ai Message \u001b[0m==================================\n",
      "Tool Calls:\n",
      "  search (43wm61sj3)\n",
      " Call ID: 43wm61sj3\n",
      "  Args:\n",
      "    query: weather in New Delhi\n",
      "=================================\u001b[1m Tool Message \u001b[0m=================================\n",
      "Name: search\n",
      "\n",
      "temp is 26 degree, very pleasant\n",
      "==================================\u001b[1m Ai Message \u001b[0m==================================\n",
      "\n",
      "The weather in New Delhi is currently 26 degrees, which is very pleasant.\n"
     ]
    }
   ],
   "source": [
    "for event in events:\n",
    "    event[\"messages\"][-1].pretty_print()"
   ]
  },
  {
   "cell_type": "code",
   "execution_count": 156,
   "id": "d4d19c51",
   "metadata": {},
   "outputs": [
    {
     "name": "stdout",
     "output_type": "stream",
     "text": [
      "================================\u001b[1m Human Message \u001b[0m=================================\n",
      "\n",
      "what is a weather in indore?\n",
      "==================================\u001b[1m Ai Message \u001b[0m==================================\n",
      "Tool Calls:\n",
      "  search (awm4xjdt1)\n",
      " Call ID: awm4xjdt1\n",
      "  Args:\n",
      "    query: weather in Indore\n",
      "=================================\u001b[1m Tool Message \u001b[0m=================================\n",
      "Name: search\n",
      "\n",
      "temp is 26 degree, very pleasant\n",
      "==================================\u001b[1m Ai Message \u001b[0m==================================\n",
      "\n",
      "The weather in Indore is currently 26 degrees, which is very pleasant.\n"
     ]
    }
   ],
   "source": [
    "events=app_with_memory.stream(\n",
    "    {\"messages\":[\"what is a weather in indore?\"]},config=config,stream_mode=\"values\"\n",
    "    )\n",
    "\n",
    "for event in events:\n",
    "    event[\"messages\"][-1].pretty_print()"
   ]
  },
  {
   "cell_type": "code",
   "execution_count": 157,
   "id": "b444f420",
   "metadata": {},
   "outputs": [
    {
     "data": {
      "text/plain": [
       "{'configurable': {'thread_id': '1'}}"
      ]
     },
     "execution_count": 157,
     "metadata": {},
     "output_type": "execute_result"
    }
   ],
   "source": [
    "config"
   ]
  },
  {
   "cell_type": "code",
   "execution_count": 158,
   "id": "fd013b06",
   "metadata": {},
   "outputs": [
    {
     "data": {
      "text/plain": [
       "{'v': 3,\n",
       " 'ts': '2025-06-14T06:48:21.094243+00:00',\n",
       " 'id': '1f048eb8-f864-6a56-8008-0d4f37e6ad81',\n",
       " 'channel_versions': {'__start__': '00000000000000000000000000000007.0.9206518422258172',\n",
       "  'messages': '00000000000000000000000000000010.0.3989013584129404',\n",
       "  'branch:to:llm_with_tool': '00000000000000000000000000000010.0.850630281271469',\n",
       "  'branch:to:custom_tools': '00000000000000000000000000000009.0.5169630961665679'},\n",
       " 'versions_seen': {'__input__': {},\n",
       "  '__start__': {'__start__': '00000000000000000000000000000006.0.5037280556537125'},\n",
       "  'llm_with_tool': {'branch:to:llm_with_tool': '00000000000000000000000000000009.0.9547514381092265'},\n",
       "  'custom_tools': {'branch:to:custom_tools': '00000000000000000000000000000008.0.20966831842602984'}},\n",
       " 'channel_values': {'messages': [HumanMessage(content='what is a weather in new delhi?', additional_kwargs={}, response_metadata={}, id='cecc4778-d6d5-45b1-9258-882076721fbe'),\n",
       "   AIMessage(content='', additional_kwargs={'tool_calls': [{'id': '43wm61sj3', 'function': {'arguments': '{\"query\":\"weather in New Delhi\"}', 'name': 'search'}, 'type': 'function'}]}, response_metadata={'token_usage': {'completion_tokens': 106, 'prompt_tokens': 132, 'total_tokens': 238, 'completion_time': 0.462308572, 'prompt_time': 0.008440867, 'queue_time': 0.052935983, 'total_time': 0.470749439}, 'model_name': 'deepseek-r1-distill-llama-70b', 'system_fingerprint': 'fp_1bbe7845ec', 'finish_reason': 'tool_calls', 'logprobs': None}, id='run--27976ec7-2ff8-4dfc-9665-1a1ad6a64c2e-0', tool_calls=[{'name': 'search', 'args': {'query': 'weather in New Delhi'}, 'id': '43wm61sj3', 'type': 'tool_call'}], usage_metadata={'input_tokens': 132, 'output_tokens': 106, 'total_tokens': 238}),\n",
       "   ToolMessage(content='temp is 26 degree, very pleasant', name='search', id='476a1390-e4cf-45a1-93f6-77ed93c10363', tool_call_id='43wm61sj3'),\n",
       "   AIMessage(content='The weather in New Delhi is currently 26 degrees, which is very pleasant.', additional_kwargs={}, response_metadata={'token_usage': {'completion_tokens': 76, 'prompt_tokens': 190, 'total_tokens': 266, 'completion_time': 0.331715753, 'prompt_time': 0.011739144, 'queue_time': 0.057905968999999995, 'total_time': 0.343454897}, 'model_name': 'deepseek-r1-distill-llama-70b', 'system_fingerprint': 'fp_1bbe7845ec', 'finish_reason': 'stop', 'logprobs': None}, id='run--f4e94b4d-8e98-4442-9981-bdaf9cb09c82-0', usage_metadata={'input_tokens': 190, 'output_tokens': 76, 'total_tokens': 266}),\n",
       "   HumanMessage(content='what is a weather in indore?', additional_kwargs={}, response_metadata={}, id='f3cfde77-ab79-4ff8-bca9-57beb4c1c631'),\n",
       "   AIMessage(content='', additional_kwargs={'tool_calls': [{'id': 'awm4xjdt1', 'function': {'arguments': '{\"query\":\"weather in Indore\"}', 'name': 'search'}, 'type': 'function'}]}, response_metadata={'token_usage': {'completion_tokens': 261, 'prompt_tokens': 201, 'total_tokens': 462, 'completion_time': 1.244241019, 'prompt_time': 0.012435952, 'queue_time': 0.053551197999999994, 'total_time': 1.256676971}, 'model_name': 'deepseek-r1-distill-llama-70b', 'system_fingerprint': 'fp_1bbe7845ec', 'finish_reason': 'tool_calls', 'logprobs': None}, id='run--131ef889-edd0-4787-948f-1f0b1fe24907-0', tool_calls=[{'name': 'search', 'args': {'query': 'weather in Indore'}, 'id': 'awm4xjdt1', 'type': 'tool_call'}], usage_metadata={'input_tokens': 201, 'output_tokens': 261, 'total_tokens': 462}),\n",
       "   ToolMessage(content='temp is 26 degree, very pleasant', name='search', id='a77a1c41-7034-47f5-92a5-ca2b672b28c5', tool_call_id='awm4xjdt1'),\n",
       "   AIMessage(content='The weather in Indore is currently 26 degrees, which is very pleasant.', additional_kwargs={}, response_metadata={'token_usage': {'completion_tokens': 110, 'prompt_tokens': 261, 'total_tokens': 371, 'completion_time': 0.507057923, 'prompt_time': 0.023578708, 'queue_time': 0.056725582, 'total_time': 0.530636631}, 'model_name': 'deepseek-r1-distill-llama-70b', 'system_fingerprint': 'fp_1bbe7845ec', 'finish_reason': 'stop', 'logprobs': None}, id='run--d584818b-d0aa-4830-b89d-ed96ac9dd057-0', usage_metadata={'input_tokens': 261, 'output_tokens': 110, 'total_tokens': 371})]},\n",
       " 'pending_sends': []}"
      ]
     },
     "execution_count": 158,
     "metadata": {},
     "output_type": "execute_result"
    }
   ],
   "source": [
    "memory.get(config)"
   ]
  },
  {
   "cell_type": "code",
   "execution_count": 159,
   "id": "b0eeb4e2",
   "metadata": {},
   "outputs": [
    {
     "name": "stdout",
     "output_type": "stream",
     "text": [
      "================================\u001b[1m Human Message \u001b[0m=================================\n",
      "\n",
      "in which city the temp was 26 degree?\n",
      "==================================\u001b[1m Ai Message \u001b[0m==================================\n",
      "\n",
      "The temperature was 26 degrees in both New Delhi and Indore.\n"
     ]
    }
   ],
   "source": [
    "events=app_with_memory.stream(\n",
    "    {\"messages\":[\"in which city the temp was 26 degree?\"]},config=config,stream_mode=\"values\"\n",
    "    )\n",
    "\n",
    "for event in events:\n",
    "    event[\"messages\"][-1].pretty_print()"
   ]
  },
  {
   "cell_type": "code",
   "execution_count": 160,
   "id": "954fca78",
   "metadata": {},
   "outputs": [
    {
     "data": {
      "text/plain": [
       "{'v': 3,\n",
       " 'ts': '2025-06-14T06:49:28.803956+00:00',\n",
       " 'id': '1f048ebb-7e1f-69e6-800b-53de34146811',\n",
       " 'channel_versions': {'__start__': '00000000000000000000000000000012.0.22615425826124025',\n",
       "  'messages': '00000000000000000000000000000013.0.03669855230275243',\n",
       "  'branch:to:llm_with_tool': '00000000000000000000000000000013.0.5294320626416896',\n",
       "  'branch:to:custom_tools': '00000000000000000000000000000009.0.5169630961665679'},\n",
       " 'versions_seen': {'__input__': {},\n",
       "  '__start__': {'__start__': '00000000000000000000000000000011.0.5893321384433927'},\n",
       "  'llm_with_tool': {'branch:to:llm_with_tool': '00000000000000000000000000000012.0.4392752977560277'},\n",
       "  'custom_tools': {'branch:to:custom_tools': '00000000000000000000000000000008.0.20966831842602984'}},\n",
       " 'channel_values': {'messages': [HumanMessage(content='what is a weather in new delhi?', additional_kwargs={}, response_metadata={}, id='cecc4778-d6d5-45b1-9258-882076721fbe'),\n",
       "   AIMessage(content='', additional_kwargs={'tool_calls': [{'id': '43wm61sj3', 'function': {'arguments': '{\"query\":\"weather in New Delhi\"}', 'name': 'search'}, 'type': 'function'}]}, response_metadata={'token_usage': {'completion_tokens': 106, 'prompt_tokens': 132, 'total_tokens': 238, 'completion_time': 0.462308572, 'prompt_time': 0.008440867, 'queue_time': 0.052935983, 'total_time': 0.470749439}, 'model_name': 'deepseek-r1-distill-llama-70b', 'system_fingerprint': 'fp_1bbe7845ec', 'finish_reason': 'tool_calls', 'logprobs': None}, id='run--27976ec7-2ff8-4dfc-9665-1a1ad6a64c2e-0', tool_calls=[{'name': 'search', 'args': {'query': 'weather in New Delhi'}, 'id': '43wm61sj3', 'type': 'tool_call'}], usage_metadata={'input_tokens': 132, 'output_tokens': 106, 'total_tokens': 238}),\n",
       "   ToolMessage(content='temp is 26 degree, very pleasant', name='search', id='476a1390-e4cf-45a1-93f6-77ed93c10363', tool_call_id='43wm61sj3'),\n",
       "   AIMessage(content='The weather in New Delhi is currently 26 degrees, which is very pleasant.', additional_kwargs={}, response_metadata={'token_usage': {'completion_tokens': 76, 'prompt_tokens': 190, 'total_tokens': 266, 'completion_time': 0.331715753, 'prompt_time': 0.011739144, 'queue_time': 0.057905968999999995, 'total_time': 0.343454897}, 'model_name': 'deepseek-r1-distill-llama-70b', 'system_fingerprint': 'fp_1bbe7845ec', 'finish_reason': 'stop', 'logprobs': None}, id='run--f4e94b4d-8e98-4442-9981-bdaf9cb09c82-0', usage_metadata={'input_tokens': 190, 'output_tokens': 76, 'total_tokens': 266}),\n",
       "   HumanMessage(content='what is a weather in indore?', additional_kwargs={}, response_metadata={}, id='f3cfde77-ab79-4ff8-bca9-57beb4c1c631'),\n",
       "   AIMessage(content='', additional_kwargs={'tool_calls': [{'id': 'awm4xjdt1', 'function': {'arguments': '{\"query\":\"weather in Indore\"}', 'name': 'search'}, 'type': 'function'}]}, response_metadata={'token_usage': {'completion_tokens': 261, 'prompt_tokens': 201, 'total_tokens': 462, 'completion_time': 1.244241019, 'prompt_time': 0.012435952, 'queue_time': 0.053551197999999994, 'total_time': 1.256676971}, 'model_name': 'deepseek-r1-distill-llama-70b', 'system_fingerprint': 'fp_1bbe7845ec', 'finish_reason': 'tool_calls', 'logprobs': None}, id='run--131ef889-edd0-4787-948f-1f0b1fe24907-0', tool_calls=[{'name': 'search', 'args': {'query': 'weather in Indore'}, 'id': 'awm4xjdt1', 'type': 'tool_call'}], usage_metadata={'input_tokens': 201, 'output_tokens': 261, 'total_tokens': 462}),\n",
       "   ToolMessage(content='temp is 26 degree, very pleasant', name='search', id='a77a1c41-7034-47f5-92a5-ca2b672b28c5', tool_call_id='awm4xjdt1'),\n",
       "   AIMessage(content='The weather in Indore is currently 26 degrees, which is very pleasant.', additional_kwargs={}, response_metadata={'token_usage': {'completion_tokens': 110, 'prompt_tokens': 261, 'total_tokens': 371, 'completion_time': 0.507057923, 'prompt_time': 0.023578708, 'queue_time': 0.056725582, 'total_time': 0.530636631}, 'model_name': 'deepseek-r1-distill-llama-70b', 'system_fingerprint': 'fp_1bbe7845ec', 'finish_reason': 'stop', 'logprobs': None}, id='run--d584818b-d0aa-4830-b89d-ed96ac9dd057-0', usage_metadata={'input_tokens': 261, 'output_tokens': 110, 'total_tokens': 371}),\n",
       "   HumanMessage(content='in which city the temp was 26 degree?', additional_kwargs={}, response_metadata={}, id='b5864e43-21f4-4321-9c29-cec0ecb1932e'),\n",
       "   AIMessage(content='The temperature was 26 degrees in both New Delhi and Indore.', additional_kwargs={}, response_metadata={'token_usage': {'completion_tokens': 237, 'prompt_tokens': 274, 'total_tokens': 511, 'completion_time': 1.198482305, 'prompt_time': 0.018093106, 'queue_time': 0.052519614000000006, 'total_time': 1.216575411}, 'model_name': 'deepseek-r1-distill-llama-70b', 'system_fingerprint': 'fp_1bbe7845ec', 'finish_reason': 'stop', 'logprobs': None}, id='run--d07bad7b-a5c9-4a10-af4f-7eaa638903c2-0', usage_metadata={'input_tokens': 274, 'output_tokens': 237, 'total_tokens': 511})]},\n",
       " 'pending_sends': []}"
      ]
     },
     "execution_count": 160,
     "metadata": {},
     "output_type": "execute_result"
    }
   ],
   "source": [
    "memory.get(config)"
   ]
  }
 ],
 "metadata": {
  "kernelspec": {
   "display_name": "agentic_env",
   "language": "python",
   "name": "python3"
  },
  "language_info": {
   "codemirror_mode": {
    "name": "ipython",
    "version": 3
   },
   "file_extension": ".py",
   "mimetype": "text/x-python",
   "name": "python",
   "nbconvert_exporter": "python",
   "pygments_lexer": "ipython3",
   "version": "3.11.11"
  }
 },
 "nbformat": 4,
 "nbformat_minor": 5
}
