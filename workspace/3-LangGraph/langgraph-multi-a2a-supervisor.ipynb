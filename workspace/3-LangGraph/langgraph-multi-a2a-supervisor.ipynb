{
 "cells": [
  {
   "cell_type": "code",
   "execution_count": 1,
   "metadata": {},
   "outputs": [],
   "source": [
    "from dotenv import load_dotenv\n",
    "import os\n",
    "load_dotenv()\n",
    "os.environ[\"OPENAI_API_KEY\"]=os.getenv(\"OPENAI_API_KEY\")\n",
    "os.environ[\"GROQ_API_KEY\"]=os.getenv(\"GROQ_API_KEY\")\n",
    "os.environ[\"PINECODE_API_KEY\"]=os.getenv(\"PINECODE_API_KEY\")\n",
    "os.environ[\"GOOGLE_API_KEY\"]=os.getenv(\"GOOGLE_API_KEY\")\n",
    "os.environ[\"HUGGINGFACE_API_KEY\"]=os.getenv(\"HUGGINGFACE_API_KEY\")\n",
    "os.environ[\"LANGCHAIN_API_KEY\"]=os.getenv(\"LANGCHAIN_API_KEY\")\n",
    "os.environ[\"LANGCHAIN_PROJECT\"]=os.getenv(\"LANGCHAIN_PROJECT\")\n",
    "os.environ[\"LANGCHAIN_TRACING_V2\"]=os.getenv(\"LANGCHAIN_TRACING_V2\")"
   ]
  },
  {
   "cell_type": "code",
   "execution_count": 2,
   "metadata": {},
   "outputs": [],
   "source": [
    "from langchain_groq import ChatGroq\n",
    "\n",
    "llm = ChatGroq(model=\"deepseek-r1-distill-llama-70b\")"
   ]
  },
  {
   "cell_type": "code",
   "execution_count": 3,
   "metadata": {},
   "outputs": [
    {
     "data": {
      "text/plain": [
       "AIMessage(content=\"<think>\\nAlright, the user introduced themselves as Ratn and asked how I am. I need to respond politely.\\n\\nI should thank them for asking and express that I'm just a program without feelings, but here to help.\\n\\nMaybe add something friendly to keep the conversation going.\\n\\nI'll keep it simple and welcoming.\\n</think>\\n\\nHello Ratn! I'm just a computer program, so I don't have feelings, but I'm here and ready to help you with whatever you need. How can I assist you today?\", additional_kwargs={}, response_metadata={'token_usage': {'completion_tokens': 105, 'prompt_tokens': 15, 'total_tokens': 120, 'completion_time': 0.473673483, 'prompt_time': 0.000529122, 'queue_time': 0.057536457, 'total_time': 0.474202605}, 'model_name': 'deepseek-r1-distill-llama-70b', 'system_fingerprint': 'fp_1bbe7845ec', 'finish_reason': 'stop', 'logprobs': None}, id='run--410c0e68-87d6-4f02-9ed3-db052ba6f367-0', usage_metadata={'input_tokens': 15, 'output_tokens': 105, 'total_tokens': 120})"
      ]
     },
     "execution_count": 3,
     "metadata": {},
     "output_type": "execute_result"
    }
   ],
   "source": [
    "llm.invoke(\"Hello, My name is ratn, how are you?\")"
   ]
  },
  {
   "cell_type": "code",
   "execution_count": 16,
   "metadata": {},
   "outputs": [],
   "source": [
    "from langchain_community.tools.tavily_search import TavilySearchResults\n",
    "search_tool = TavilySearchResults(k=3)"
   ]
  },
  {
   "cell_type": "code",
   "execution_count": 17,
   "metadata": {},
   "outputs": [
    {
     "data": {
      "text/plain": [
       "[{'title': 'Top 5 News Headlines in India | 25 June 2025 - Dailymotion',\n",
       "  'url': 'https://www.dailymotion.com/video/x9lvops',\n",
       "  'content': \"Stay updated with today's biggest headlines from across India! In this video, we bring you the top 5 trending and most important news stories for June 25, 2025.\",\n",
       "  'score': 0.69746524},\n",
       " {'title': 'India News, Latest Breaking News Headlines from India ... - India Today',\n",
       "  'url': 'https://www.indiatoday.in/india',\n",
       "  'content': 'The Supreme Court ordered the release of a Madhya Pradesh law student detained under the NSA, calling the preventive detention \"wholly untenable\" due to multiple procedural lapses.\\n\\nsupreme court\\n\\n#### India News\\n\\n## PM Modi to embark on 5-nation tour in July, attend BRICS summit in Brazil\\n\\nPrime Minister Narendra Modi will undertake a multi-nation tour in July 2025, visiting Ghana, Trinidad & Tobago, Argentina, Brazil, and Namibia to strengthen bilateral ties and attend the BRICS Summit. [...] ## Deep regret: Air India condemns viral celebration video days after crash\\n\\nAISATS has expressed regret over a viral office celebration video allegedly shot after the AI 171 crash and has dismissed four senior executives involved. The tragic Air India crash in Ahmedabad claimed 270 lives.\\n\\nAISATS has expressed regret over a viral office celebration.\\n\\n#### Law News\\n\\n## Detention untenable: Supreme Court frees Madhya Pradesh student charged under NSA [...] The Transport Ministry has proposed new dual-colour number plates for hydrogen vehicles to enable easy identification and promote green mobility.\\n\\nhydrogen car\\n\\n#### India News\\n\\n## Monsoon trough shifts north, brings rain boost and flood fears\\n\\nThe monsoon trough has shifted northwards, bringing intensified rainfall to northern and central India, benefiting agriculture but raising flood concerns.\\n\\nDelhi Monsoon\\n\\n#### India News',\n",
       "  'score': 0.62879556},\n",
       " {'title': \"India News | Today's latest updates and breaking news from India, Live ...\",\n",
       "  'url': 'https://www.ndtv.com/india',\n",
       "  'content': 'Get the latest updates and breaking news from India, including politics, elections, government, business, technology, and Bollywood.',\n",
       "  'score': 0.59655124},\n",
       " {'title': \"Today's School Assembly Headlines (28 June 2025) - Jagran Josh\",\n",
       "  'url': 'https://www.jagranjosh.com/articles/school-assembly-news-headlines-today-28-june-2025-india-exports-advanced-diesel-locomotives-with-modern-cab-facilities-it-manufacturing-sectors-see-higher-sales-growth-in-fy25-despite-input-cost-pressures-and-other-news-1800000461-1',\n",
       "  'content': \"## Comments\\n\\n#### All Comments (0)\\n\\ncomment\\n\\n## Join the conversation\\n\\nuser\\ncomment send\\nemoji\\n\\n# Today's School Assembly Headlines (28 June 2025): India Exports Advanced Diesel Locomotives with Modern Cab Facilities, IT Manufacturing Sectors See Higher Sales Growth in FY25 Despite Input Cost Pressures with Other News [...] ## News Headlines 28 June 2025: Today's school assembly headlines include India exports advanced diesel locomotives with modern cab facilities, IT, manufacturing sectors see higher sales growth in FY25 despite input cost pressures and more. Read the complete article to get all the Headlines and more updates too.\\n\\nAnisha Mishra\\nAnisha Mishra\\nGet here today’s and tomorrow news headlines in English for School Assembly [...] India exports advanced diesel locomotives with modern cab facilities to Mozambique\\n\\nDelhi CM Rekha Gupta flags off 100 devi electric buses to boost green public transport\\n\\nIndia calls for permanent resolution to border demarcation with China by reviving established mechanisms and restoring trust deficit\\n\\nIndia, Russia hold talks on S-400 supply, Su-30 MKI upgrades, defence procurement\\n\\nIndia refuses to sign SCO defence document over omission of terrorism reference: EAM Jaishankar\",\n",
       "  'score': 0.5806618},\n",
       " {'title': 'Latest News, Breaking News, Top News Headlines and ... - Times of India',\n",
       "  'url': 'https://timesofindia.indiatimes.com/news',\n",
       "  'content': 'Latest News Today: Breaking news on Politics, Business, Sports, Bollywood, Education, Science. Latest News on Politics, India, Current affairs.',\n",
       "  'score': 0.5631623}]"
      ]
     },
     "execution_count": 17,
     "metadata": {},
     "output_type": "execute_result"
    }
   ],
   "source": [
    "search_tool.invoke(\"What is top 5 news in india today ?\")"
   ]
  },
  {
   "cell_type": "code",
   "execution_count": 10,
   "metadata": {},
   "outputs": [],
   "source": [
    "code = \"\"\"\n",
    "x=10\n",
    "y=x+10\n",
    "print(y)\n",
    "\"\"\""
   ]
  },
  {
   "cell_type": "code",
   "execution_count": 8,
   "metadata": {},
   "outputs": [],
   "source": [
    "from langchain_experimental.utilities import PythonREPL\n",
    "repl=PythonREPL()"
   ]
  },
  {
   "cell_type": "code",
   "execution_count": 11,
   "metadata": {},
   "outputs": [
    {
     "name": "stderr",
     "output_type": "stream",
     "text": [
      "Python REPL can execute arbitrary code. Use with caution.\n"
     ]
    },
    {
     "data": {
      "text/plain": [
       "'20\\n'"
      ]
     },
     "execution_count": 11,
     "metadata": {},
     "output_type": "execute_result"
    }
   ],
   "source": [
    "repl.run(code)"
   ]
  },
  {
   "cell_type": "code",
   "execution_count": 12,
   "metadata": {},
   "outputs": [
    {
     "ename": "AttributeError",
     "evalue": "'PythonREPL' object has no attribute 'invoke'",
     "output_type": "error",
     "traceback": [
      "\u001b[31m---------------------------------------------------------------------------\u001b[39m",
      "\u001b[31mAttributeError\u001b[39m                            Traceback (most recent call last)",
      "\u001b[36mCell\u001b[39m\u001b[36m \u001b[39m\u001b[32mIn[12]\u001b[39m\u001b[32m, line 1\u001b[39m\n\u001b[32m----> \u001b[39m\u001b[32m1\u001b[39m \u001b[43mrepl\u001b[49m\u001b[43m.\u001b[49m\u001b[43minvoke\u001b[49m(code)\n",
      "\u001b[36mFile \u001b[39m\u001b[32m/opt/miniconda3/envs/agentic_env/lib/python3.11/site-packages/pydantic/main.py:991\u001b[39m, in \u001b[36mBaseModel.__getattr__\u001b[39m\u001b[34m(self, item)\u001b[39m\n\u001b[32m    988\u001b[39m     \u001b[38;5;28;01mreturn\u001b[39;00m \u001b[38;5;28msuper\u001b[39m().\u001b[34m__getattribute__\u001b[39m(item)  \u001b[38;5;66;03m# Raises AttributeError if appropriate\u001b[39;00m\n\u001b[32m    989\u001b[39m \u001b[38;5;28;01melse\u001b[39;00m:\n\u001b[32m    990\u001b[39m     \u001b[38;5;66;03m# this is the current error\u001b[39;00m\n\u001b[32m--> \u001b[39m\u001b[32m991\u001b[39m     \u001b[38;5;28;01mraise\u001b[39;00m \u001b[38;5;167;01mAttributeError\u001b[39;00m(\u001b[33mf\u001b[39m\u001b[33m'\u001b[39m\u001b[38;5;132;01m{\u001b[39;00m\u001b[38;5;28mtype\u001b[39m(\u001b[38;5;28mself\u001b[39m).\u001b[34m__name__\u001b[39m\u001b[38;5;132;01m!r}\u001b[39;00m\u001b[33m object has no attribute \u001b[39m\u001b[38;5;132;01m{\u001b[39;00mitem\u001b[38;5;132;01m!r}\u001b[39;00m\u001b[33m'\u001b[39m)\n",
      "\u001b[31mAttributeError\u001b[39m: 'PythonREPL' object has no attribute 'invoke'"
     ]
    }
   ],
   "source": [
    "repl.invoke(code)"
   ]
  },
  {
   "cell_type": "code",
   "execution_count": 19,
   "metadata": {},
   "outputs": [],
   "source": [
    "from typing import Annotated\n",
    "from langchain.tools import tool\n",
    "@tool\n",
    "def python_repl_tool(code: Annotated[str, \"The python code to execute to generate your chart.\"]):\n",
    "    \"\"\"Use this to execute python code. If you want to see the output of a value,\n",
    "    you should print it out with `print(...)`. This is visible to the user.\"\"\"\n",
    "    \n",
    "    try:\n",
    "        result = repl.run(code)\n",
    "    except BaseException as e:\n",
    "        return f\"Failed to execute. Error: {repr(e)}\"\n",
    "    \n",
    "    result_str = f\"Successfully executed:\\n\\`\\`\\`python\\n{code}\\n\\`\\`\\`\\nStdout: {result}\"\n",
    "    return (\n",
    "        result_str + \"\\n\\nIf you have completed all tasks, respond with FINAL ANSWER.\"\n",
    "    )"
   ]
  },
  {
   "cell_type": "code",
   "execution_count": 20,
   "metadata": {},
   "outputs": [
    {
     "data": {
      "text/plain": [
       "'Successfully executed:\\n\\\\`\\\\`\\\\`python\\n\\nx=10\\ny=x+10\\nprint(y)\\n\\n\\\\`\\\\`\\\\`\\nStdout: 20\\n\\n\\nIf you have completed all tasks, respond with FINAL ANSWER.'"
      ]
     },
     "execution_count": 20,
     "metadata": {},
     "output_type": "execute_result"
    }
   ],
   "source": [
    "python_repl_tool.invoke(code)"
   ]
  },
  {
   "cell_type": "code",
   "execution_count": 29,
   "metadata": {},
   "outputs": [
    {
     "data": {
      "text/plain": [
       "['researcher', 'coder', 'FINSIH']"
      ]
     },
     "execution_count": 29,
     "metadata": {},
     "output_type": "execute_result"
    }
   ],
   "source": [
    "members=[\"researcher\",\"coder\"]\n",
    "options = members+[\"FINSIH\"]\n",
    "options"
   ]
  },
  {
   "cell_type": "code",
   "execution_count": 25,
   "metadata": {},
   "outputs": [],
   "source": [
    "from typing import Literal, TypedDict\n",
    "class Router(TypedDict):\n",
    "    next: Literal['researcher', 'coder', 'FINSIH']"
   ]
  },
  {
   "cell_type": "code",
   "execution_count": 24,
   "metadata": {},
   "outputs": [],
   "source": [
    "from langgraph.graph import MessagesState,StateGraph,END,START\n",
    "class State(MessagesState):\n",
    "    next:str"
   ]
  },
  {
   "cell_type": "code",
   "execution_count": 30,
   "metadata": {},
   "outputs": [],
   "source": [
    "system_prompt = f\"\"\"\"\n",
    "You are a supervisor, tasked with managing a conversation between the following workers: {members}. \n",
    "Given the following user request, respond with the worker to act next. \n",
    "Each worker will perform a task and respond with their results and status. \n",
    "When finished, respond with FINISH.\n",
    "\"\"\""
   ]
  },
  {
   "cell_type": "code",
   "execution_count": 32,
   "metadata": {},
   "outputs": [
    {
     "name": "stdout",
     "output_type": "stream",
     "text": [
      "\"\n",
      "You are a supervisor, tasked with managing a conversation between the following workers: ['researcher', 'coder']. \n",
      "Given the following user request, respond with the worker to act next. \n",
      "Each worker will perform a task and respond with their results and status. \n",
      "When finished, respond with FINISH.\n",
      "\n"
     ]
    }
   ],
   "source": [
    "print(system_prompt)"
   ]
  }
 ],
 "metadata": {
  "kernelspec": {
   "display_name": "agentic_env",
   "language": "python",
   "name": "python3"
  },
  "language_info": {
   "codemirror_mode": {
    "name": "ipython",
    "version": 3
   },
   "file_extension": ".py",
   "mimetype": "text/x-python",
   "name": "python",
   "nbconvert_exporter": "python",
   "pygments_lexer": "ipython3",
   "version": "3.11.11"
  },
  "orig_nbformat": 4
 },
 "nbformat": 4,
 "nbformat_minor": 2
}
