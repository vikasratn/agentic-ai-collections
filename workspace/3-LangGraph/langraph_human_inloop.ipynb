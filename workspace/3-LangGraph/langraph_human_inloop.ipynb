{
 "cells": [
  {
   "cell_type": "code",
   "execution_count": 6,
   "metadata": {},
   "outputs": [],
   "source": [
    "from dotenv import load_dotenv\n",
    "import os\n",
    "load_dotenv()\n",
    "os.environ[\"OPENAI_API_KEY\"]=os.getenv(\"OPENAI_API_KEY\")\n",
    "os.environ[\"GROQ_API_KEY\"]=os.getenv(\"GROQ_API_KEY\")\n",
    "os.environ[\"PINECODE_API_KEY\"]=os.getenv(\"PINECODE_API_KEY\")\n",
    "os.environ[\"GOOGLE_API_KEY\"]=os.getenv(\"GOOGLE_API_KEY\")\n",
    "os.environ[\"HUGGINGFACE_API_KEY\"]=os.getenv(\"HUGGINGFACE_API_KEY\")\n",
    "os.environ[\"LANGCHAIN_API_KEY\"]=os.getenv(\"LANGCHAIN_API_KEY\")\n",
    "os.environ[\"LANGCHAIN_PROJECT\"]=os.getenv(\"LANGCHAIN_PROJECT\")\n",
    "os.environ[\"LANGCHAIN_TRACING_V2\"]=os.getenv(\"LANGCHAIN_TRACING_V2\")"
   ]
  },
  {
   "cell_type": "code",
   "execution_count": 7,
   "metadata": {},
   "outputs": [],
   "source": [
    "from langchain_groq import ChatGroq\n",
    "llm=ChatGroq(model_name=\"deepseek-r1-distill-llama-70b\")"
   ]
  },
  {
   "cell_type": "code",
   "execution_count": 8,
   "metadata": {},
   "outputs": [],
   "source": [
    "from langchain_core.tools import tool\n",
    "from langchain_community.tools.tavily_search import TavilySearchResults"
   ]
  },
  {
   "cell_type": "code",
   "execution_count": 9,
   "metadata": {},
   "outputs": [],
   "source": [
    "@tool\n",
    "def multiply(x:int,y:int) -> int:\n",
    "    \"\"\"Multiply two numbers.\"\"\"\n",
    "    return x*y"
   ]
  },
  {
   "cell_type": "code",
   "execution_count": 10,
   "metadata": {},
   "outputs": [],
   "source": [
    "@tool\n",
    "def search(query:str):\n",
    "    \"\"\"Search to web for query and return result\"\"\"\n",
    "    tavily = TavilySearchResults(query=query,k=5)\n",
    "    result=tavily.invoke(query)\n",
    "    return f\"Result for {query} is: \\n {result}\"\n"
   ]
  },
  {
   "cell_type": "code",
   "execution_count": 11,
   "metadata": {},
   "outputs": [
    {
     "name": "stderr",
     "output_type": "stream",
     "text": [
      "/var/folders/r6/94rtxyj11sgb8st7ytmz40ph0000gn/T/ipykernel_27230/1574773611.py:1: LangChainDeprecationWarning: The method `BaseTool.__call__` was deprecated in langchain-core 0.1.47 and will be removed in 1.0. Use :meth:`~invoke` instead.\n",
      "  print(search({\"query\":\"what is france's capital?\"}))\n"
     ]
    },
    {
     "name": "stdout",
     "output_type": "stream",
     "text": [
      "Result for what is france's capital? is: \n",
      " [{'title': 'Paris - Wikipedia', 'url': 'https://en.wikipedia.org/wiki/Paris', 'content': 'As the capital of France, Paris is the seat of France\\'s national government. For the executive, the two chief officers each have their own official residences, which also serve as their offices. The President of the French Republic resides at the Élysée Palace.( The Prime Minister\\'s seat is at the Hôtel Matignon.( Government ministries are located in various parts of the city, many near the Hôtel Matignon.( [...] Appearance\\n\\nmove to sidebar hide\\n\\nCoordinates: 48°51′24″N 2°21′8″E / 48.85667°N 2.35222°E / 48.85667; 2.35222_region:FR-75C)\\n\\nImage 4: This is a good article. Click here for more information.\\n\\nImage 5: Page semi-protected\\n\\nFrom Wikipedia, the free encyclopedia\\n\\nCapital and largest city of France\\n\\nThis article is about the capital city of France. For other uses, see Paris (disambiguation) \"Paris (disambiguation)\"). [...] Paris (French pronunciation:( \"Help:IPA/French\")ⓘ) is the capital and largest city of France. With an estimated population of 2,048,472 residents in January 2025( in an area of more than 105 km 2 (41 sq mi),( Paris is the fourth-most populous city in the European Union and the 30th most densely populated city in the world in 2022.( Since the 17th century, Paris has been one of the world\\'s major centres of finance, diplomacy, commerce, culture, fashion, and gastronomy. Because of its leading', 'score': 0.8437023}, {'title': 'France - Wikipedia', 'url': 'https://en.wikipedia.org/wiki/France', 'content': 'and its capital, largest city and main cultural and economic centre is Paris. [...] | France on the globe centred on Europe  Metropolitan France (European part of France) in Europe  France and its neighbors  Show France, its overseas territories and its exclusive economic zones  Location of France (blue or dark green) – in Europe (green & dark grey) – in the European Union (green) | |\\n| Capital and largest city | Paris 48°51′N 2°21′E\\ufeff / \\ufeff48.850°N 2.350°E\\ufeff / 48.850; 2.350_region:FR-75C) |\\n| Official language and national language | French | [...] France is a highly urbanised country, with its largest cities \"List of cities in France over 20,000 population (1999 census)\") (in terms of metropolitan area \"Functional area (France)\") population in 2021) being Paris (13,171,056 inh.), Lyon (2,308,818), Marseille (1,888,788), Lille (1,521,660), Toulouse (1,490,640), Bordeaux (1,393,764), Nantes (1,031,953), Strasbourg (864,993), Montpellier (823,120), and Rennes (771,320). (Note: since its 2020 revision of metropolitan area borders, INSEE', 'score': 0.78214747}, {'title': 'Paris | Definition, Map, Population, Facts, & History | Britannica', 'url': 'https://www.britannica.com/place/Paris', 'content': '### What is the landscape of Paris?\\n\\nParis occupies a depression hollowed out by the Seine. The surrounding heights have elevations that vary from 430 feet (130 meters), at the butte of Montmartre in the north, to 85 feet (26 meters), in the Grenelle area in the southwest. The city is surrounded by great forests of beech and oak, called the “lungs of Paris,” as they help purify the air in the region.\\n\\n### Paris is the capital of what country?\\n\\nParis is the national capital of France. [...] Paris, city and capital of France, situated in the north-central part of the country. People were living on the site of the present-day city, located along the Seine River some 233 miles (375 km) upstream from the river’s mouth on the English Channel (La Manche), by about 7600 bce. The modern city has spread from the island (the Île de la Cité) and far beyond both banks of the Seine.\\n\\nImage 29: Paris\\n\\nParis(more) [...] Paris\\n=====\\n\\nnational capital, France\\n\\n Ask the Chatbot a Question \\n\\n More Actions \\n\\n Print \\n\\n Cite \\n\\n Share \\n\\n Feedback \\n\\n External Websites \\n\\nAlso known as: Lutetia\\n\\n Written by \\n\\nJohn Anthony Charles Ardagh Writer and journalist. Author of _France Today_ and others.\\n\\n John Anthony Charles Ardagh, \\n\\nKimberly Daul Kimberly Daul holds a Master of Architecture from UCLA and a Bachelor of Science in Architecture from the University of Illinois at Urbana-Champaign.\\n\\n Kimberly Daul•All', 'score': 0.71185225}]\n",
      "Result for what is USA's capital? is: \n",
      " [{'title': 'Washington, D.C. - Wikipedia', 'url': 'https://en.wikipedia.org/wiki/Washington,_D.C.', 'content': 'Appearance\\n\\nmove to sidebar hide\\n\\nCoordinates: 38°54′17″N 77°00′59″W / 38.90472°N 77.01639°W / 38.90472; -77.01639 (District of Columbia)\\n\\nImage 4: Page semi-protected\\n\\nFrom Wikipedia, the free encyclopedia\\n\\nCapital city of the United States [...] |\\n\\n| \\n   v\\n   t\\n   e\\n\\nLocation of the capital of the United States\\n\\n |\\n| --- |\\n| Temporary capitals | \\n\\n   Philadelphia (1776; 1777; 1778–1783; 1791–1800)\\n   Baltimore (1776–77)\\n   Lancaster (1777)\\n   York (1777–78)\\n   Princeton (1783)\\n   Annapolis (1783–84)\\n   Trenton (1784–85)\\n   New York City (1785–1791)\\n\\n |\\n| Permanent capital | \\n\\n   Washington, D.C. (since 1800)\\n\\n |\\n\\n |\\n\\n| \\nAuthority control databases Image 110: Edit this at Wikidata\\n\\n |\\n| --- |\\n| International | [...] Several terms redirect here. For other uses, see Washington city (disambiguation) \"Washington (disambiguation)\"), District of Columbia (disambiguation) \"District of Columbia (disambiguation)\"), United States capital (disambiguation) \"United States capital (disambiguation)\"), and D.C. (disambiguation) \"DC (disambiguation)\").\\n\\nPlace in the United States\\n\\n| \\nWashington, D.C.\\n\\n |\\n| --- |\\n| \\n\\nFederal capital city  \\nand district\\n\\n |\\n| District of Columbia |\\n|', 'score': 0.77137923}, {'title': 'United States Capitol - Wikipedia', 'url': 'https://en.wikipedia.org/wiki/United_States_Capitol', 'content': 'United States Capitol is located in Central Washington, D.C.\\nUnited States Capitol\\nUnited States Capitol is located in the District of Columbia\\nUnited States Capitol\\nUnited States Capitol is located in the United States\\nUnited States Capitol [...] | United States Capitol is located in Central Washington, D.C. United States Capitol  Location of the U.S. Capitol in Washington, D.C. Show map of Central Washington, D.C.  United States Capitol is located in the District of Columbia United States Capitol  United States Capitol (the District of Columbia) Show map of the District of Columbia  United States Capitol is located in the United States United States Capitol  United States Capitol (the United States) Show map of the United States | | [...] The United States Capitol, often called the Capitol or the Capitol Building, is the seat of the United States Congress, the legislative branch of the federal government. It is located on Capitol Hill at the eastern end of the National Mall in Washington, D.C. Although no longer at the geographic center of the national capital, the U.S. Capitol forms the origin point for the street-numbering system of the district as well as its four quadrants. Like the principal buildings of the executive and', 'score': 0.7711725}, {'title': 'List of capitals in the United States - Wikipedia', 'url': 'https://en.wikipedia.org/wiki/List_of_capitals_in_the_United_States', 'content': 'Washington, D.C. has been the federal capital of the United States since 1800. Each U.S. state has its own capital city, as do many of its insular areas. Most states have not changed their capital city since becoming a state, but the capital cities of their respective preceding colonies, territories, kingdoms, and republics typically changed multiple times. There have also been other governments within the current borders of the United States with their own capitals, such as the Republic of [...] The U.S. Constitution was ratified in 1787, and gave the Congress the power to exercise \"exclusive legislation\" over a district that \"may, by Cession of particular States, and the acceptance of Congress, become the Seat of the Government of the United States.\" The 1st Congress met at Federal Hall in New York. In 1790, it passed the Residence Act, which established the national capital at a site along the Potomac River that would become Washington, D.C. For the next ten years, Philadelphia [...] | New York, New York | Federal Hall | January 11, 1785 | October 6, 1788 | 3 years, 11 months and 5 days |  |\\n| Fraunces Tavern, Walter Livingston House\") | October 6, 1788 | March 3, 1789 | 4 months and 25 days |  |\\n| United States Congress | | | | | |\\n| New York, New York | Federal Hall | March 4, 1789 | December 5, 1790 | 1 year, 9 months and 1 day |  |\\n| Philadelphia, Pennsylvania | Congress Hall | December 6, 1790 | May 14, 1800 | 9 years, 5 months and 8 days |  |', 'score': 0.76972175}, {'title': 'List of U.S. state capitals - Simple English Wikipedia, the free ...', 'url': 'https://simple.wikipedia.org/wiki/List_of_U.S._state_capitals', 'content': 'Wikipedia\\nThe Free Encyclopedia\\n\\n## Contents\\n\\n# List of U.S. state capitals\\n\\nThis is a list of United States state capital \"Capital (city)\") cities. Each has a capital building that acts as the center of government for its state. The capital city with the fewest people is Montpelier, Vermont, while the capital city with the most people is Phoenix, Arizona.', 'score': 0.68748367}]\n"
     ]
    }
   ],
   "source": [
    "print(search({\"query\":\"what is france's capital?\"}))\n",
    "print(search.invoke({\"query\":\"what is USA's capital?\"}))"
   ]
  },
  {
   "cell_type": "code",
   "execution_count": 12,
   "metadata": {},
   "outputs": [
    {
     "data": {
      "text/plain": [
       "[StructuredTool(name='multiply', description='Multiply two numbers.', args_schema=<class 'langchain_core.utils.pydantic.multiply'>, func=<function multiply at 0x10fc4aa20>),\n",
       " StructuredTool(name='search', description='Search to web for query and return result', args_schema=<class 'langchain_core.utils.pydantic.search'>, func=<function search at 0x10fc4bce0>)]"
      ]
     },
     "execution_count": 12,
     "metadata": {},
     "output_type": "execute_result"
    }
   ],
   "source": [
    "tools=[multiply,search]\n",
    "tools"
   ]
  },
  {
   "cell_type": "code",
   "execution_count": 13,
   "metadata": {},
   "outputs": [],
   "source": [
    "llm_with_tools=llm.bind_tools(tools=tools)"
   ]
  },
  {
   "cell_type": "code",
   "execution_count": 14,
   "metadata": {},
   "outputs": [],
   "source": [
    "result=llm_with_tools.invoke(\"what is current GDP of india?\")\n"
   ]
  },
  {
   "cell_type": "code",
   "execution_count": 15,
   "metadata": {},
   "outputs": [
    {
     "data": {
      "text/plain": [
       "''"
      ]
     },
     "execution_count": 15,
     "metadata": {},
     "output_type": "execute_result"
    }
   ],
   "source": [
    "# no content because it just tool call info\n",
    "result.content"
   ]
  },
  {
   "cell_type": "code",
   "execution_count": 16,
   "metadata": {},
   "outputs": [
    {
     "data": {
      "text/plain": [
       "[{'name': 'search',\n",
       "  'args': {'query': 'current GDP of India 2023'},\n",
       "  'id': '88sk69vyz',\n",
       "  'type': 'tool_call'}]"
      ]
     },
     "execution_count": 16,
     "metadata": {},
     "output_type": "execute_result"
    }
   ],
   "source": [
    "result.tool_calls"
   ]
  },
  {
   "cell_type": "code",
   "execution_count": 17,
   "metadata": {},
   "outputs": [
    {
     "data": {
      "text/plain": [
       "'search'"
      ]
     },
     "execution_count": 17,
     "metadata": {},
     "output_type": "execute_result"
    }
   ],
   "source": [
    "result.tool_calls[0]['name']"
   ]
  },
  {
   "cell_type": "code",
   "execution_count": 18,
   "metadata": {},
   "outputs": [
    {
     "data": {
      "text/plain": [
       "{'query': 'current GDP of India 2023'}"
      ]
     },
     "execution_count": 18,
     "metadata": {},
     "output_type": "execute_result"
    }
   ],
   "source": [
    "result.tool_calls[0]['args']"
   ]
  },
  {
   "cell_type": "code",
   "execution_count": 19,
   "metadata": {},
   "outputs": [
    {
     "data": {
      "text/plain": [
       "{'multiply': StructuredTool(name='multiply', description='Multiply two numbers.', args_schema=<class 'langchain_core.utils.pydantic.multiply'>, func=<function multiply at 0x10fc4aa20>),\n",
       " 'search': StructuredTool(name='search', description='Search to web for query and return result', args_schema=<class 'langchain_core.utils.pydantic.search'>, func=<function search at 0x10fc4bce0>)}"
      ]
     },
     "execution_count": 19,
     "metadata": {},
     "output_type": "execute_result"
    }
   ],
   "source": [
    "tool_mapping={ tool.name:tool for tool in tools}\n",
    "tool_mapping"
   ]
  },
  {
   "cell_type": "code",
   "execution_count": 20,
   "metadata": {},
   "outputs": [],
   "source": [
    "result=tool_mapping['search'].invoke({\"query\": \"important event in history today\"})"
   ]
  },
  {
   "cell_type": "code",
   "execution_count": 21,
   "metadata": {},
   "outputs": [
    {
     "ename": "AttributeError",
     "evalue": "'str' object has no attribute 'tool_calls'",
     "output_type": "error",
     "traceback": [
      "\u001b[31m---------------------------------------------------------------------------\u001b[39m",
      "\u001b[31mAttributeError\u001b[39m                            Traceback (most recent call last)",
      "\u001b[36mCell\u001b[39m\u001b[36m \u001b[39m\u001b[32mIn[21]\u001b[39m\u001b[32m, line 1\u001b[39m\n\u001b[32m----> \u001b[39m\u001b[32m1\u001b[39m tool_mapping[\u001b[43mresult\u001b[49m\u001b[43m.\u001b[49m\u001b[43mtool_calls\u001b[49m[\u001b[32m0\u001b[39m][\u001b[33m\"\u001b[39m\u001b[33mname\u001b[39m\u001b[33m\"\u001b[39m]].invoke(result.tool_calls[\u001b[32m0\u001b[39m][\u001b[33m\"\u001b[39m\u001b[33margs\u001b[39m\u001b[33m\"\u001b[39m])\n",
      "\u001b[31mAttributeError\u001b[39m: 'str' object has no attribute 'tool_calls'"
     ]
    }
   ],
   "source": [
    "tool_mapping[result.tool_calls[0][\"name\"]].invoke(result.tool_calls[0][\"args\"])"
   ]
  },
  {
   "cell_type": "code",
   "execution_count": 22,
   "metadata": {},
   "outputs": [],
   "source": [
    "from typing import TypedDict,Sequence,Annotated\n",
    "import operator\n",
    "from langchain_core.messages import BaseMessage\n",
    "\n",
    "class AgentState(TypedDict):\n",
    "    \"\"\"State of the agent.\"\"\"\n",
    "    messages:Annotated[Sequence[BaseMessage],operator.add]"
   ]
  },
  {
   "cell_type": "code",
   "execution_count": 23,
   "metadata": {},
   "outputs": [],
   "source": [
    "state={\"messages\":['hi','hello']}"
   ]
  },
  {
   "cell_type": "code",
   "execution_count": 24,
   "metadata": {},
   "outputs": [],
   "source": [
    "def invoke_model(state:AgentState):\n",
    "    messages=state[\"messages\"]\n",
    "    question=messages[-1]\n",
    "    response=llm_with_tools.invoke(question)\n",
    "    return {\"messages\":[response]}"
   ]
  },
  {
   "cell_type": "code",
   "execution_count": 25,
   "metadata": {},
   "outputs": [],
   "source": [
    "def router(state:AgentState):\n",
    "    tool_calls=state[\"messages\"][-1].tool_calls\n",
    "    if len(tool_calls) > 0:\n",
    "        return \"tool\"\n",
    "    else:\n",
    "        return \"end\""
   ]
  },
  {
   "cell_type": "markdown",
   "metadata": {},
   "source": [
    "# eariler we were using the tool node from list of tool\n",
    "# but now we have crate tool invoke(custom funtion)\n",
    "# why we are doing it: as a user if we want to take a authority to which i need to give permission for execution"
   ]
  },
  {
   "cell_type": "code",
   "execution_count": 27,
   "metadata": {},
   "outputs": [],
   "source": [
    "def invoke_tool(state:AgentState):\n",
    "    tool_details=state[\"messages\"][-1].tool_calls\n",
    "    print(f\"tool_details : {tool_details}\")\n",
    "    if tool_details is None:\n",
    "        return Exception(\"No tool calls found in the last message.\")\n",
    "    \n",
    "    print(f\"Selected tool: {tool_details[0]['name']}\")\n",
    "\n",
    "    if tool_details[0]['name'] == \"search\":\n",
    "        response=input(prompt=f\"[yes/no] do you want to continue with expensive web search\")\n",
    "        if response.lower() == 'no':\n",
    "            print(\"web search discard by user, exiting gracefully.\")\n",
    "            raise Exception(\"web search discard by user\")\n",
    "        \n",
    "    response=tool_mapping[tool_details[0][\"name\"]].invoke(tool_details[0][\"args\"])    \n",
    "    return {\"messages\": [response]} \n"
   ]
  },
  {
   "cell_type": "code",
   "execution_count": 28,
   "metadata": {},
   "outputs": [
    {
     "data": {
      "text/plain": [
       "<langgraph.graph.state.StateGraph at 0x10f9454d0>"
      ]
     },
     "execution_count": 28,
     "metadata": {},
     "output_type": "execute_result"
    }
   ],
   "source": [
    "from langgraph.graph import StateGraph,START,END\n",
    "graph = StateGraph(AgentState)\n",
    "\n",
    "graph.add_node(\"ai_assistent\",invoke_model)\n",
    "graph.add_node(\"tool\",invoke_tool)\n",
    "\n",
    "graph.set_entry_point(\"ai_assistent\")\n",
    "#graph.add_edge(\"ai_assistent\",\"tool\")\n",
    "\n",
    "graph.add_conditional_edges(\"ai_assistent\",router,\n",
    "                            {\n",
    "                                \"tool\":\"tool\",\n",
    "                                \"end\":END\n",
    "                            })\n",
    "\n"
   ]
  },
  {
   "cell_type": "code",
   "execution_count": 29,
   "metadata": {},
   "outputs": [],
   "source": [
    "app=graph.compile()"
   ]
  },
  {
   "cell_type": "code",
   "execution_count": null,
   "metadata": {},
   "outputs": [
    {
     "data": {
      "image/png": "[encoded data removed]",
      "text/plain": [
       "<IPython.core.display.Image object>"
      ]
     },
     "metadata": {},
     "output_type": "display_data"
    }
   ],
   "source": [
    "from IPython.display import Image, display\n",
    "display(Image(app.get_graph(xray=True).draw_mermaid_png()))"
   ]
  },
  {
   "cell_type": "code",
   "execution_count": null,
   "metadata": {},
   "outputs": [
    {
     "name": "stdout",
     "output_type": "stream",
     "text": [
      "tool_details : [{'name': 'search', 'args': {'query': 'latest news of Delhi'}, 'id': '89hpzzn0m', 'type': 'tool_call'}]\n",
      "Selected tool: search\n"
     ]
    },
    {
     "data": {
      "text/plain": [
       "{'messages': ['what is the lastest news of delhi',\n",
       "  AIMessage(content='', additional_kwargs={'tool_calls': [{'id': '89hpzzn0m', 'function': {'arguments': '{\"query\":\"latest news of Delhi\"}', 'name': 'search'}, 'type': 'function'}]}, response_metadata={'token_usage': {'completion_tokens': 129, 'prompt_tokens': 172, 'total_tokens': 301, 'completion_time': 0.56788538, 'prompt_time': 0.010770685, 'queue_time': 0.05666982499999999, 'total_time': 0.578656065}, 'model_name': 'deepseek-r1-distill-llama-70b', 'system_fingerprint': 'fp_1bbe7845ec', 'finish_reason': 'tool_calls', 'logprobs': None}, id='run--85ea169e-5af9-4d61-915c-4dba390d1d3c-0', tool_calls=[{'name': 'search', 'args': {'query': 'latest news of Delhi'}, 'id': '89hpzzn0m', 'type': 'tool_call'}], usage_metadata={'input_tokens': 172, 'output_tokens': 129, 'total_tokens': 301}),\n",
       "  'Result for latest news of Delhi is: \\n [{\\'title\\': \\'Live Delhi News Today 29 June 2025: - haribhoomi.com\\', \\'url\\': \\'https://www.haribhoomi.com/state-local/delhi-ncr/dilli-national-capital-regions-todays-live-news-updates-on-crime-politics-weather-govt-schemes-634720\\', \\'content\\': \\'Live Delhi News Today 29 June 2025: दिल्ली-एनसीआर से जुड़ी हर तरह की खबर आप इस पेज पर पढ़ सकते हैं, फिर चाहें वो क्राइम, राजनीति, हेल्थ, अस्पताल, पर्यटन, सरकारी योजनाएं, सरकारी घोषणाएं, जॉब्स, मेट्रो, ट्रेन, दिल्ली का प्रदूषण, मौसम आदि हो। आपके पास इन खबरों को विस्तार से पढ़ने का भी ऑप्शन होगा। इसके लिए आपको नीचे की तरफ स्क्रॉल करना होगा।\\\\n\\\\n### Live Updates\\\\n\\\\n## किसी को परेशान करना प्रेम नहीं- रोहिणी कोर्ट;) [...] Hari bhoomi hindi news chhattisgarh\\\\n\\\\nहरिभूमि\\\\nहरिभूमि\\\\nहरिभूमि\\\\nहरिभूमि\\\\nहरिभूमि\\\\nहरिभूमि\\\\nहरिभूमि\\\\nहरिभूमि\\\\nहरिभूमि\\\\nहरिभूमि\\\\nहरिभूमि\\\\nहरिभूमि\\\\nहरिभूमि\\\\nहरिभूमि\\\\nहरिभूमि\\\\nहरिभूमि\\\\nहरिभूमि\\\\nहरिभूमि\\\\nहरिभूमि\\\\n\\\\n### Follow Us on\\\\n\\\\n# Live Delhi News Today 29 June 2025: दिल्ली-एनसीआर की लेटेस्ट ब्रेकिंग ख़बरें, एक नजर में पढ़ें\\\\n\\\\nDelhi Live News Update 29 June 2025\\\\n\\\\nX\\\\n\\\\n29 जून 2025 को दिल्ली की लाइव खबरें। [...] ## Get the Latest News Update From हरिभूमि.\\', \\'score\\': 0.7192461}, {\\'title\\': \\'Latest and Breaking Delhi News – NDTV.com\\', \\'url\\': \\'https://www.ndtv.com/delhi-news\\', \\'content\\': \\'Delhi News · Gujarat Education Model In Delhi Soon? · Delhi Man Murdered By Son In Local Park, Head Hit With Large Rock · 19-Year-Old Stabbed To Death In Delhi\\', \\'score\\': 0.6609831}, {\\'title\\': \\'Delhi News - The Indian Express\\', \\'url\\': \\'https://indianexpress.com/section/cities/delhi/\\', \\'content\\': \\'### Man stabbed to death after his scooter ‘grazes’ 3 pedestrians in Delhi’s Shahdara\\\\n\\\\ndelhi rain today\\\\n\\\\n### Delhi Rains Live Updates: Rain lashes Delhi, NCR today, IMD issues ‘orange’ alert\\\\n\\\\nweight loss drugs\\\\n\\\\n### Delhi drugs control department cracks down on sale of fake cholesterol medicines\\\\n\\\\nAgra-Kanpur Highway\\\\n\\\\n### Helmetless couple performs dangerous motorcycle stunt on Firozabad’s Agra-Kanpur Highway, video goes viral\\\\n\\\\nDelhi-govt-school [...] follow us on Facebook\\\\nfollow us on Twitter\\\\nfollow us on youtube\\\\nfollow us on Instagram\\\\nThe Indian Express logo\\\\n\\\\n# DELHI NEWS\\\\n\\\\n## Delhi Police crackdown against Chinese ‘manjha’ ahead of Independence Day, Raksha Bandhan\\\\n\\\\nDelhi\\\\n\\\\n## Flyover, underpasses: PWD sets sight on easing congestion on MB Road in Delhi\\\\n\\\\nold age home\\\\n\\\\n## Noida: All old age homes in Gautam Buddha Nagar told to register on government portal\\\\n\\\\nShahdara\\\\n\\\\n## Youth killed as scooter brushes past three in Delhi’s Shahdara [...] ### Delhi CM flags off 105 DEVI e-buses; AAP protests vehicle’s new ‘saffron’ colour over ‘Hindu’ sentiments\\\\n\\\\nChinese manjha\\\\n\\\\n### Delhi: Man on scooter dies after throat slit by Chinese manjha\\\\n\\\\nDelhi\\\\n\\\\n### Delhi bans fuel for old vehicles from July 1: How will defaulters be tracked?\\\\n\\\\nInstitute of Liver and Biliary Sciences\\\\n\\\\n### Delhi BJP chief accuses ILBS of labour & PF law violations\\\\n\\\\nFacebook\\\\nTwitter\\\\nLinkedin\\\\nInstagram\\\\nAndroid\\\\niPhone\\\\nNewsguard\\\\nNewsguard\\\\nPowered by WordPress.com VIP\\', \\'score\\': 0.6485337}, {\\'title\\': \\'Delhi की प्रमुख खबरें 24th June 2025: इस मानसून दिल्ली के मिंटो ब्रिज ...\\', \\'url\\': \\'https://www.jagran.com/live-news/delhi-delhi-news-live-catch-todays-top-news-on-delhi-ncr-politics-crime-and-weather-update-in-hindi-24-06-2025-alb-980.html\\', \\'content\\': \\'### Trending\\\\n\\\\n### पॉलिटिक्स+\\\\n\\\\n### दुनिया+\\\\n\\\\n### टेक+\\\\n\\\\n### बिजनेस+\\\\n\\\\n### स्पोर्ट्स+\\\\n\\\\n### मनोरंजन+\\\\n\\\\n### लाइफस्टाइल+\\\\n\\\\n### ऑटो+\\\\n\\\\n### अध्यात्म+\\\\n\\\\n### संपादकीय+\\\\n\\\\n### अन्य+\\\\n\\\\npixelcheck\\\\npixelcheck\\\\n\\\\n# Delhi की प्रमुख खबरें 24th June 2025: इस मानसून दिल्ली के मिंटो ब्रिज अंडरपास में नहीं होगा जलभराव? PWD कर रही ये खास तैयारी [...] Delhi News Highlights 24th June 2025: दिल्ली-एनसीआर की हर ब्रेकिंग और ताजा अपडेट के लिए जुड़ें दैनिक जागरण के साथ। सिर्फ दिल्ली ही नहीं नोएडा, गाजियाबाद, हापुड़, गुरुग्राम, फरीदाबाद, सोनीपत, पलवल, महेंद्रगढ़, रेवाड़ी और नूंह की हर खबर पढ़ें सबसे पहले जागरण पर\\\\n\\\\n<p>फाइल फोटो</p>\\\\n<p>फाइल फोटो</p>\\\\n\\\\n## इस मानसून दिल्ली के मिंटो ब्रिज अंडरपास में नहीं होगा जलभराव? PWD कर रही ये खास तैयारी\\\\n\\\\nइस मानसून दिल्ली के मिंटो ब्रिज अंडरपास में नहीं होगा जलभराव? PWD कर रही ये खास तैयारी [...] दिल्ली हाई कोर्ट में लंबित मामलों का बोझ 1.20 लाख के पार, जजों की कमी से न्याय में होती है देरी\\\\n\\\\n## Delhi Crime: सर्विस स्टेशन पर बस की धुलाई करवाने गए चालक पर चढ़ी बस, मौत\\\\n\\\\nDelhi Crime: सर्विस स्टेशन पर बस की धुलाई करवाने गए चालक पर चढ़ी बस, मौत\\', \\'score\\': 0.6366926}, {\\'title\\': \"Today\\'s Latest Delhi Top News Headlines, Photos and Videos.\", \\'url\\': \\'https://www.indiatoday.in/cities/delhi-news\\', \\'content\\': \\'Delhi man kills father with stones by hitting head and chest, arrested. A man named Bhanu Pratap was arrested for allegedly killing his father, Vinod, after a\\', \\'score\\': 0.62495816}]']}"
      ]
     },
     "execution_count": 93,
     "metadata": {},
     "output_type": "execute_result"
    }
   ],
   "source": [
    "app.invoke({\"messages\": [\"what is the lastest news of delhi\"]})"
   ]
  },
  {
   "cell_type": "code",
   "execution_count": null,
   "metadata": {},
   "outputs": [
    {
     "name": "stdout",
     "output_type": "stream",
     "text": [
      "tool_details : [{'name': 'search', 'args': {'query': 'latest news USA'}, 'id': 'k7pqak0pz', 'type': 'tool_call'}]\n",
      "Selected tool: search\n",
      "web search discard by user, exiting gracefully.\n"
     ]
    },
    {
     "ename": "Exception",
     "evalue": "web search discard by user",
     "output_type": "error",
     "traceback": [
      "\u001b[31m---------------------------------------------------------------------------\u001b[39m",
      "\u001b[31mException\u001b[39m                                 Traceback (most recent call last)",
      "\u001b[36mCell\u001b[39m\u001b[36m \u001b[39m\u001b[32mIn[94]\u001b[39m\u001b[32m, line 1\u001b[39m\n\u001b[32m----> \u001b[39m\u001b[32m1\u001b[39m \u001b[43mapp\u001b[49m\u001b[43m.\u001b[49m\u001b[43minvoke\u001b[49m\u001b[43m(\u001b[49m\u001b[43m{\u001b[49m\u001b[33;43m\"\u001b[39;49m\u001b[33;43mmessages\u001b[39;49m\u001b[33;43m\"\u001b[39;49m\u001b[43m:\u001b[49m\u001b[43m \u001b[49m\u001b[43m[\u001b[49m\u001b[33;43m\"\u001b[39;49m\u001b[33;43mwhat is the lastest news of USA\u001b[39;49m\u001b[33;43m\"\u001b[39;49m\u001b[43m]\u001b[49m\u001b[43m}\u001b[49m\u001b[43m)\u001b[49m\n",
      "\u001b[36mFile \u001b[39m\u001b[32m/opt/miniconda3/envs/agentic_env/lib/python3.11/site-packages/langgraph/pregel/__init__.py:2719\u001b[39m, in \u001b[36mPregel.invoke\u001b[39m\u001b[34m(self, input, config, stream_mode, output_keys, interrupt_before, interrupt_after, checkpoint_during, debug, **kwargs)\u001b[39m\n\u001b[32m   2716\u001b[39m chunks: \u001b[38;5;28mlist\u001b[39m[Union[\u001b[38;5;28mdict\u001b[39m[\u001b[38;5;28mstr\u001b[39m, Any], Any]] = []\n\u001b[32m   2717\u001b[39m interrupts: \u001b[38;5;28mlist\u001b[39m[Interrupt] = []\n\u001b[32m-> \u001b[39m\u001b[32m2719\u001b[39m \u001b[43m\u001b[49m\u001b[38;5;28;43;01mfor\u001b[39;49;00m\u001b[43m \u001b[49m\u001b[43mchunk\u001b[49m\u001b[43m \u001b[49m\u001b[38;5;129;43;01min\u001b[39;49;00m\u001b[43m \u001b[49m\u001b[38;5;28;43mself\u001b[39;49m\u001b[43m.\u001b[49m\u001b[43mstream\u001b[49m\u001b[43m(\u001b[49m\n\u001b[32m   2720\u001b[39m \u001b[43m    \u001b[49m\u001b[38;5;28;43minput\u001b[39;49m\u001b[43m,\u001b[49m\n\u001b[32m   2721\u001b[39m \u001b[43m    \u001b[49m\u001b[43mconfig\u001b[49m\u001b[43m,\u001b[49m\n\u001b[32m   2722\u001b[39m \u001b[43m    \u001b[49m\u001b[43mstream_mode\u001b[49m\u001b[43m=\u001b[49m\u001b[43mstream_mode\u001b[49m\u001b[43m,\u001b[49m\n\u001b[32m   2723\u001b[39m \u001b[43m    \u001b[49m\u001b[43moutput_keys\u001b[49m\u001b[43m=\u001b[49m\u001b[43moutput_keys\u001b[49m\u001b[43m,\u001b[49m\n\u001b[32m   2724\u001b[39m \u001b[43m    \u001b[49m\u001b[43minterrupt_before\u001b[49m\u001b[43m=\u001b[49m\u001b[43minterrupt_before\u001b[49m\u001b[43m,\u001b[49m\n\u001b[32m   2725\u001b[39m \u001b[43m    \u001b[49m\u001b[43minterrupt_after\u001b[49m\u001b[43m=\u001b[49m\u001b[43minterrupt_after\u001b[49m\u001b[43m,\u001b[49m\n\u001b[32m   2726\u001b[39m \u001b[43m    \u001b[49m\u001b[43mcheckpoint_during\u001b[49m\u001b[43m=\u001b[49m\u001b[43mcheckpoint_during\u001b[49m\u001b[43m,\u001b[49m\n\u001b[32m   2727\u001b[39m \u001b[43m    \u001b[49m\u001b[43mdebug\u001b[49m\u001b[43m=\u001b[49m\u001b[43mdebug\u001b[49m\u001b[43m,\u001b[49m\n\u001b[32m   2728\u001b[39m \u001b[43m    \u001b[49m\u001b[43m*\u001b[49m\u001b[43m*\u001b[49m\u001b[43mkwargs\u001b[49m\u001b[43m,\u001b[49m\n\u001b[32m   2729\u001b[39m \u001b[43m\u001b[49m\u001b[43m)\u001b[49m\u001b[43m:\u001b[49m\n\u001b[32m   2730\u001b[39m \u001b[43m    \u001b[49m\u001b[38;5;28;43;01mif\u001b[39;49;00m\u001b[43m \u001b[49m\u001b[43mstream_mode\u001b[49m\u001b[43m \u001b[49m\u001b[43m==\u001b[49m\u001b[43m \u001b[49m\u001b[33;43m\"\u001b[39;49m\u001b[33;43mvalues\u001b[39;49m\u001b[33;43m\"\u001b[39;49m\u001b[43m:\u001b[49m\n\u001b[32m   2731\u001b[39m \u001b[43m        \u001b[49m\u001b[38;5;28;43;01mif\u001b[39;49;00m\u001b[43m \u001b[49m\u001b[43m(\u001b[49m\n\u001b[32m   2732\u001b[39m \u001b[43m            \u001b[49m\u001b[38;5;28;43misinstance\u001b[39;49m\u001b[43m(\u001b[49m\u001b[43mchunk\u001b[49m\u001b[43m,\u001b[49m\u001b[43m \u001b[49m\u001b[38;5;28;43mdict\u001b[39;49m\u001b[43m)\u001b[49m\n\u001b[32m   2733\u001b[39m \u001b[43m            \u001b[49m\u001b[38;5;129;43;01mand\u001b[39;49;00m\u001b[43m \u001b[49m\u001b[43m(\u001b[49m\u001b[43mints\u001b[49m\u001b[43m \u001b[49m\u001b[43m:=\u001b[49m\u001b[43m \u001b[49m\u001b[43mchunk\u001b[49m\u001b[43m.\u001b[49m\u001b[43mget\u001b[49m\u001b[43m(\u001b[49m\u001b[43mINTERRUPT\u001b[49m\u001b[43m)\u001b[49m\u001b[43m)\u001b[49m\u001b[43m \u001b[49m\u001b[38;5;129;43;01mis\u001b[39;49;00m\u001b[43m \u001b[49m\u001b[38;5;129;43;01mnot\u001b[39;49;00m\u001b[43m \u001b[49m\u001b[38;5;28;43;01mNone\u001b[39;49;00m\n\u001b[32m   2734\u001b[39m \u001b[43m        \u001b[49m\u001b[43m)\u001b[49m\u001b[43m:\u001b[49m\n",
      "\u001b[36mFile \u001b[39m\u001b[32m/opt/miniconda3/envs/agentic_env/lib/python3.11/site-packages/langgraph/pregel/__init__.py:2436\u001b[39m, in \u001b[36mPregel.stream\u001b[39m\u001b[34m(self, input, config, stream_mode, output_keys, interrupt_before, interrupt_after, checkpoint_during, debug, subgraphs)\u001b[39m\n\u001b[32m   2434\u001b[39m         \u001b[38;5;28;01mfor\u001b[39;00m task \u001b[38;5;129;01min\u001b[39;00m loop.match_cached_writes():\n\u001b[32m   2435\u001b[39m             loop.output_writes(task.id, task.writes, cached=\u001b[38;5;28;01mTrue\u001b[39;00m)\n\u001b[32m-> \u001b[39m\u001b[32m2436\u001b[39m \u001b[43m        \u001b[49m\u001b[38;5;28;43;01mfor\u001b[39;49;00m\u001b[43m \u001b[49m\u001b[43m_\u001b[49m\u001b[43m \u001b[49m\u001b[38;5;129;43;01min\u001b[39;49;00m\u001b[43m \u001b[49m\u001b[43mrunner\u001b[49m\u001b[43m.\u001b[49m\u001b[43mtick\u001b[49m\u001b[43m(\u001b[49m\n\u001b[32m   2437\u001b[39m \u001b[43m            \u001b[49m\u001b[43m[\u001b[49m\u001b[43mt\u001b[49m\u001b[43m \u001b[49m\u001b[38;5;28;43;01mfor\u001b[39;49;00m\u001b[43m \u001b[49m\u001b[43mt\u001b[49m\u001b[43m \u001b[49m\u001b[38;5;129;43;01min\u001b[39;49;00m\u001b[43m \u001b[49m\u001b[43mloop\u001b[49m\u001b[43m.\u001b[49m\u001b[43mtasks\u001b[49m\u001b[43m.\u001b[49m\u001b[43mvalues\u001b[49m\u001b[43m(\u001b[49m\u001b[43m)\u001b[49m\u001b[43m \u001b[49m\u001b[38;5;28;43;01mif\u001b[39;49;00m\u001b[43m \u001b[49m\u001b[38;5;129;43;01mnot\u001b[39;49;00m\u001b[43m \u001b[49m\u001b[43mt\u001b[49m\u001b[43m.\u001b[49m\u001b[43mwrites\u001b[49m\u001b[43m]\u001b[49m\u001b[43m,\u001b[49m\n\u001b[32m   2438\u001b[39m \u001b[43m            \u001b[49m\u001b[43mtimeout\u001b[49m\u001b[43m=\u001b[49m\u001b[38;5;28;43mself\u001b[39;49m\u001b[43m.\u001b[49m\u001b[43mstep_timeout\u001b[49m\u001b[43m,\u001b[49m\n\u001b[32m   2439\u001b[39m \u001b[43m            \u001b[49m\u001b[43mget_waiter\u001b[49m\u001b[43m=\u001b[49m\u001b[43mget_waiter\u001b[49m\u001b[43m,\u001b[49m\n\u001b[32m   2440\u001b[39m \u001b[43m            \u001b[49m\u001b[43mschedule_task\u001b[49m\u001b[43m=\u001b[49m\u001b[43mloop\u001b[49m\u001b[43m.\u001b[49m\u001b[43maccept_push\u001b[49m\u001b[43m,\u001b[49m\n\u001b[32m   2441\u001b[39m \u001b[43m        \u001b[49m\u001b[43m)\u001b[49m\u001b[43m:\u001b[49m\n\u001b[32m   2442\u001b[39m \u001b[43m            \u001b[49m\u001b[38;5;66;43;03m# emit output\u001b[39;49;00m\n\u001b[32m   2443\u001b[39m \u001b[43m            \u001b[49m\u001b[38;5;28;43;01myield from\u001b[39;49;00m\u001b[43m \u001b[49m\u001b[43moutput\u001b[49m\u001b[43m(\u001b[49m\u001b[43m)\u001b[49m\n\u001b[32m   2444\u001b[39m \u001b[38;5;66;03m# emit output\u001b[39;00m\n",
      "\u001b[36mCell\u001b[39m\u001b[36m \u001b[39m\u001b[32mIn[89]\u001b[39m\u001b[32m, line 13\u001b[39m, in \u001b[36minvoke_tool\u001b[39m\u001b[34m(state)\u001b[39m\n\u001b[32m     11\u001b[39m     \u001b[38;5;28;01mif\u001b[39;00m response.lower() == \u001b[33m'\u001b[39m\u001b[33mno\u001b[39m\u001b[33m'\u001b[39m:\n\u001b[32m     12\u001b[39m         \u001b[38;5;28mprint\u001b[39m(\u001b[33m\"\u001b[39m\u001b[33mweb search discard by user, exiting gracefully.\u001b[39m\u001b[33m\"\u001b[39m)\n\u001b[32m---> \u001b[39m\u001b[32m13\u001b[39m         \u001b[38;5;28;01mraise\u001b[39;00m \u001b[38;5;167;01mException\u001b[39;00m(\u001b[33m\"\u001b[39m\u001b[33mweb search discard by user\u001b[39m\u001b[33m\"\u001b[39m)\n\u001b[32m     15\u001b[39m response=tool_mapping[tool_details[\u001b[32m0\u001b[39m][\u001b[33m\"\u001b[39m\u001b[33mname\u001b[39m\u001b[33m\"\u001b[39m]].invoke(tool_details[\u001b[32m0\u001b[39m][\u001b[33m\"\u001b[39m\u001b[33margs\u001b[39m\u001b[33m\"\u001b[39m])    \n\u001b[32m     16\u001b[39m \u001b[38;5;28;01mreturn\u001b[39;00m {\u001b[33m\"\u001b[39m\u001b[33mmessages\u001b[39m\u001b[33m\"\u001b[39m: [response]}\n",
      "\u001b[31mException\u001b[39m: web search discard by user",
      "During task with name 'tool' and id '72e506b9-3f64-c2fa-310b-4c3f2b7ea1e0'"
     ]
    }
   ],
   "source": [
    "app.invoke({\"messages\": [\"what is the lastest news of USA\"]})"
   ]
  },
  {
   "cell_type": "code",
   "execution_count": 30,
   "metadata": {},
   "outputs": [],
   "source": [
    "from langgraph.checkpoint.memory import MemorySaver\n",
    "memory=MemorySaver()"
   ]
  },
  {
   "cell_type": "code",
   "execution_count": 31,
   "metadata": {},
   "outputs": [
    {
     "data": {
      "text/plain": [
       "tools(tags=None, recurse=True, explode_args=False, func_accepts_config=True, func_accepts={'store': ('__pregel_store', None)}, tools_by_name={'multiply': StructuredTool(name='multiply', description='Multiply two numbers.', args_schema=<class 'langchain_core.utils.pydantic.multiply'>, func=<function multiply at 0x10fc4aa20>), 'search': StructuredTool(name='search', description='Search to web for query and return result', args_schema=<class 'langchain_core.utils.pydantic.search'>, func=<function search at 0x10fc4bce0>)}, tool_to_state_args={'multiply': {}, 'search': {}}, tool_to_store_arg={'multiply': None, 'search': None}, handle_tool_errors=True, messages_key='messages')"
      ]
     },
     "execution_count": 31,
     "metadata": {},
     "output_type": "execute_result"
    }
   ],
   "source": [
    "from langgraph.prebuilt import ToolNode, tools_condition\n",
    "tool_node=ToolNode(tools)\n",
    "tool_node"
   ]
  },
  {
   "cell_type": "code",
   "execution_count": 32,
   "metadata": {},
   "outputs": [],
   "source": [
    "def ai_assitent(state:AgentState):\n",
    "    response=llm_with_tools.invoke(state[\"messages\"])\n",
    "    return {\"messages\":[response]}"
   ]
  },
  {
   "cell_type": "code",
   "execution_count": 37,
   "metadata": {},
   "outputs": [
    {
     "data": {
      "text/plain": [
       "<langgraph.graph.state.StateGraph at 0x1101a91d0>"
      ]
     },
     "execution_count": 37,
     "metadata": {},
     "output_type": "execute_result"
    }
   ],
   "source": [
    "graph_react=StateGraph(AgentState)\n",
    "\n",
    "graph_react.add_node(\"ai_assitent\",ai_assitent)\n",
    "\n",
    "graph_react.add_node(\"tools\",tool_node)\n",
    "\n",
    "graph_react.set_entry_point(\"ai_assitent\")\n",
    "\n",
    "graph_react.add_conditional_edges(\"ai_assitent\",tools_condition)\n",
    "\n",
    "graph_react.add_edge(\"tools\",\"ai_assitent\")\n",
    "\n",
    "\n",
    "\n"
   ]
  },
  {
   "cell_type": "code",
   "execution_count": 38,
   "metadata": {},
   "outputs": [],
   "source": [
    "app_react=graph_react.compile(checkpointer=memory,interrupt_before=[\"tools\"])"
   ]
  },
  {
   "cell_type": "code",
   "execution_count": 39,
   "metadata": {},
   "outputs": [
    {
     "data": {
      "image/png": "[encoded data removed]",
      "text/plain": [
       "<IPython.core.display.Image object>"
      ]
     },
     "metadata": {},
     "output_type": "display_data"
    }
   ],
   "source": [
    "from IPython.display import Image, display\n",
    "display(Image(app_react.get_graph(xray=True).draw_mermaid_png()))"
   ]
  },
  {
   "cell_type": "code",
   "execution_count": 40,
   "metadata": {},
   "outputs": [],
   "source": [
    "config={\"configurable\":{\"thread_id\":\"1\"}}"
   ]
  },
  {
   "cell_type": "code",
   "execution_count": 41,
   "metadata": {},
   "outputs": [],
   "source": [
    "from langchain_core.messages import HumanMessage,AIMessage\n",
    "response=app_react.invoke({\"messages\":[HumanMessage(\"what is the cap of india?\")]},config=config)\n",
    "#app_react.invoke({\"messages\":[\"what is the cap of india?\"]},config=config)"
   ]
  },
  {
   "cell_type": "code",
   "execution_count": 42,
   "metadata": {},
   "outputs": [
    {
     "data": {
      "text/plain": [
       "{'messages': [HumanMessage(content='what is the cap of india?', additional_kwargs={}, response_metadata={}),\n",
       "  AIMessage(content='', additional_kwargs={'tool_calls': [{'id': 'q02rnvetd', 'function': {'arguments': '{\"query\":\"cap of India\"}', 'name': 'search'}, 'type': 'function'}]}, response_metadata={'token_usage': {'completion_tokens': 375, 'prompt_tokens': 170, 'total_tokens': 545, 'completion_time': 1.521251479, 'prompt_time': 0.010649224, 'queue_time': 0.054385896, 'total_time': 1.531900703}, 'model_name': 'deepseek-r1-distill-llama-70b', 'system_fingerprint': 'fp_1bbe7845ec', 'finish_reason': 'tool_calls', 'logprobs': None}, id='run--d07b2d69-aea4-4193-8f29-e56db4c23622-0', tool_calls=[{'name': 'search', 'args': {'query': 'cap of India'}, 'id': 'q02rnvetd', 'type': 'tool_call'}], usage_metadata={'input_tokens': 170, 'output_tokens': 375, 'total_tokens': 545})]}"
      ]
     },
     "execution_count": 42,
     "metadata": {},
     "output_type": "execute_result"
    }
   ],
   "source": [
    "response"
   ]
  },
  {
   "cell_type": "markdown",
   "metadata": {},
   "source": [
    "{'messages': [HumanMessage(content='what is the cap of india?', additional_kwargs={}, response_metadata={}),\n",
    "  AIMessage(content='', additional_kwargs={'tool_calls': [{'id': 'q02rnvetd', 'function': {'arguments': '{\"query\":\"cap of India\"}', 'name': 'search'}, 'type': 'function'}]}, response_metadata={'token_usage': {'completion_tokens': 375, 'prompt_tokens': 170, 'total_tokens': 545, 'completion_time': 1.521251479, 'prompt_time': 0.010649224, 'queue_time': 0.054385896, 'total_time': 1.531900703}, 'model_name': 'deepseek-r1-distill-llama-70b', 'system_fingerprint': 'fp_1bbe7845ec', 'finish_reason': 'tool_calls', 'logprobs': None}, id='run--d07b2d69-aea4-4193-8f29-e56db4c23622-0', tool_calls=[{'name': 'search', 'args': {'query': 'cap of India'}, 'id': 'q02rnvetd', 'type': 'tool_call'}], usage_metadata={'input_tokens': 170, 'output_tokens': 375, 'total_tokens': 545})]}"
   ]
  },
  {
   "cell_type": "code",
   "execution_count": 43,
   "metadata": {},
   "outputs": [],
   "source": [
    "snapshot=app_react.get_state(config=config)"
   ]
  },
  {
   "cell_type": "code",
   "execution_count": 44,
   "metadata": {},
   "outputs": [
    {
     "data": {
      "text/plain": [
       "StateSnapshot(values={'messages': [HumanMessage(content='what is the cap of india?', additional_kwargs={}, response_metadata={}), AIMessage(content='', additional_kwargs={'tool_calls': [{'id': 'q02rnvetd', 'function': {'arguments': '{\"query\":\"cap of India\"}', 'name': 'search'}, 'type': 'function'}]}, response_metadata={'token_usage': {'completion_tokens': 375, 'prompt_tokens': 170, 'total_tokens': 545, 'completion_time': 1.521251479, 'prompt_time': 0.010649224, 'queue_time': 0.054385896, 'total_time': 1.531900703}, 'model_name': 'deepseek-r1-distill-llama-70b', 'system_fingerprint': 'fp_1bbe7845ec', 'finish_reason': 'tool_calls', 'logprobs': None}, id='run--d07b2d69-aea4-4193-8f29-e56db4c23622-0', tool_calls=[{'name': 'search', 'args': {'query': 'cap of India'}, 'id': 'q02rnvetd', 'type': 'tool_call'}], usage_metadata={'input_tokens': 170, 'output_tokens': 375, 'total_tokens': 545})]}, next=('tools',), config={'configurable': {'thread_id': '1', 'checkpoint_ns': '', 'checkpoint_id': '1f054a85-f57a-6dd4-8001-b7cff9cd37b8'}}, metadata={'source': 'loop', 'writes': {'ai_assitent': {'messages': [AIMessage(content='', additional_kwargs={'tool_calls': [{'id': 'q02rnvetd', 'function': {'arguments': '{\"query\":\"cap of India\"}', 'name': 'search'}, 'type': 'function'}]}, response_metadata={'token_usage': {'completion_tokens': 375, 'prompt_tokens': 170, 'total_tokens': 545, 'completion_time': 1.521251479, 'prompt_time': 0.010649224, 'queue_time': 0.054385896, 'total_time': 1.531900703}, 'model_name': 'deepseek-r1-distill-llama-70b', 'system_fingerprint': 'fp_1bbe7845ec', 'finish_reason': 'tool_calls', 'logprobs': None}, id='run--d07b2d69-aea4-4193-8f29-e56db4c23622-0', tool_calls=[{'name': 'search', 'args': {'query': 'cap of India'}, 'id': 'q02rnvetd', 'type': 'tool_call'}], usage_metadata={'input_tokens': 170, 'output_tokens': 375, 'total_tokens': 545})]}}, 'step': 1, 'parents': {}, 'thread_id': '1'}, created_at='2025-06-29T05:17:37.930582+00:00', parent_config={'configurable': {'thread_id': '1', 'checkpoint_ns': '', 'checkpoint_id': '1f054a85-e51f-605c-8000-42abd2bfcb24'}}, tasks=(PregelTask(id='88220a44-ada3-9718-f4f6-2f046e7496ef', name='tools', path=('__pregel_pull', 'tools'), error=None, interrupts=(), state=None, result=None),), interrupts=())"
      ]
     },
     "execution_count": 44,
     "metadata": {},
     "output_type": "execute_result"
    }
   ],
   "source": [
    "snapshot"
   ]
  },
  {
   "cell_type": "markdown",
   "metadata": {},
   "source": [
    "StateSnapshot(values={'messages': [HumanMessage(content='what is the cap of india?', additional_kwargs={}, response_metadata={}), AIMessage(content='', additional_kwargs={'tool_calls': [{'id': 'q02rnvetd', 'function': {'arguments': '{\"query\":\"cap of India\"}', 'name': 'search'}, 'type': 'function'}]}, response_metadata={'token_usage': {'completion_tokens': 375, 'prompt_tokens': 170, 'total_tokens': 545, 'completion_time': 1.521251479, 'prompt_time': 0.010649224, 'queue_time': 0.054385896, 'total_time': 1.531900703}, 'model_name': 'deepseek-r1-distill-llama-70b', 'system_fingerprint': 'fp_1bbe7845ec', 'finish_reason': 'tool_calls', 'logprobs': None}, id='run--d07b2d69-aea4-4193-8f29-e56db4c23622-0', tool_calls=[{'name': 'search', 'args': {'query': 'cap of India'}, 'id': 'q02rnvetd', 'type': 'tool_call'}], usage_metadata={'input_tokens': 170, 'output_tokens': 375, 'total_tokens': 545})]}, next=('tools',), config={'configurable': {'thread_id': '1', 'checkpoint_ns': '', 'checkpoint_id': '1f054a85-f57a-6dd4-8001-b7cff9cd37b8'}}, metadata={'source': 'loop', 'writes': {'ai_assitent': {'messages': [AIMessage(content='', additional_kwargs={'tool_calls': [{'id': 'q02rnvetd', 'function': {'arguments': '{\"query\":\"cap of India\"}', 'name': 'search'}, 'type': 'function'}]}, response_metadata={'token_usage': {'completion_tokens': 375, 'prompt_tokens': 170, 'total_tokens': 545, 'completion_time': 1.521251479, 'prompt_time': 0.010649224, 'queue_time': 0.054385896, 'total_time': 1.531900703}, 'model_name': 'deepseek-r1-distill-llama-70b', 'system_fingerprint': 'fp_1bbe7845ec', 'finish_reason': 'tool_calls', 'logprobs': None}, id='run--d07b2d69-aea4-4193-8f29-e56db4c23622-0', tool_calls=[{'name': 'search', 'args': {'query': 'cap of India'}, 'id': 'q02rnvetd', 'type': 'tool_call'}], usage_metadata={'input_tokens': 170, 'output_tokens': 375, 'total_tokens': 545})]}}, 'step': 1, 'parents': {}, 'thread_id': '1'}, created_at='2025-06-29T05:17:37.930582+00:00', parent_config={'configurable': {'thread_id': '1', 'checkpoint_ns': '', 'checkpoint_id': '1f054a85-e51f-605c-8000-42abd2bfcb24'}}, tasks=(PregelTask(id='88220a44-ada3-9718-f4f6-2f046e7496ef', name='tools', path=('__pregel_pull', 'tools'), error=None, interrupts=(), state=None, result=None),), interrupts=())"
   ]
  },
  {
   "cell_type": "code",
   "execution_count": 45,
   "metadata": {},
   "outputs": [
    {
     "data": {
      "text/plain": [
       "('tools',)"
      ]
     },
     "execution_count": 45,
     "metadata": {},
     "output_type": "execute_result"
    }
   ],
   "source": [
    "snapshot.next"
   ]
  },
  {
   "cell_type": "code",
   "execution_count": 46,
   "metadata": {},
   "outputs": [],
   "source": [
    "last_message=snapshot.values[\"messages\"][-1]"
   ]
  },
  {
   "cell_type": "code",
   "execution_count": 47,
   "metadata": {},
   "outputs": [
    {
     "data": {
      "text/plain": [
       "AIMessage(content='', additional_kwargs={'tool_calls': [{'id': 'q02rnvetd', 'function': {'arguments': '{\"query\":\"cap of India\"}', 'name': 'search'}, 'type': 'function'}]}, response_metadata={'token_usage': {'completion_tokens': 375, 'prompt_tokens': 170, 'total_tokens': 545, 'completion_time': 1.521251479, 'prompt_time': 0.010649224, 'queue_time': 0.054385896, 'total_time': 1.531900703}, 'model_name': 'deepseek-r1-distill-llama-70b', 'system_fingerprint': 'fp_1bbe7845ec', 'finish_reason': 'tool_calls', 'logprobs': None}, id='run--d07b2d69-aea4-4193-8f29-e56db4c23622-0', tool_calls=[{'name': 'search', 'args': {'query': 'cap of India'}, 'id': 'q02rnvetd', 'type': 'tool_call'}], usage_metadata={'input_tokens': 170, 'output_tokens': 375, 'total_tokens': 545})"
      ]
     },
     "execution_count": 47,
     "metadata": {},
     "output_type": "execute_result"
    }
   ],
   "source": [
    "last_message"
   ]
  },
  {
   "cell_type": "markdown",
   "metadata": {},
   "source": [
    "AIMessage(content='', additional_kwargs={'tool_calls': [{'id': 'q02rnvetd', 'function': {'arguments': '{\"query\":\"cap of India\"}', 'name': 'search'}, 'type': 'function'}]}, response_metadata={'token_usage': {'completion_tokens': 375, 'prompt_tokens': 170, 'total_tokens': 545, 'completion_time': 1.521251479, 'prompt_time': 0.010649224, 'queue_time': 0.054385896, 'total_time': 1.531900703}, 'model_name': 'deepseek-r1-distill-llama-70b', 'system_fingerprint': 'fp_1bbe7845ec', 'finish_reason': 'tool_calls', 'logprobs': None}, id='run--d07b2d69-aea4-4193-8f29-e56db4c23622-0', tool_calls=[{'name': 'search', 'args': {'query': 'cap of India'}, 'id': 'q02rnvetd', 'type': 'tool_call'}], usage_metadata={'input_tokens': 170, 'output_tokens': 375, 'total_tokens': 545})"
   ]
  },
  {
   "cell_type": "code",
   "execution_count": 48,
   "metadata": {},
   "outputs": [
    {
     "data": {
      "text/plain": [
       "{'messages': [HumanMessage(content='what is the cap of india?', additional_kwargs={}, response_metadata={}),\n",
       "  AIMessage(content='', additional_kwargs={'tool_calls': [{'id': 'q02rnvetd', 'function': {'arguments': '{\"query\":\"cap of India\"}', 'name': 'search'}, 'type': 'function'}]}, response_metadata={'token_usage': {'completion_tokens': 375, 'prompt_tokens': 170, 'total_tokens': 545, 'completion_time': 1.521251479, 'prompt_time': 0.010649224, 'queue_time': 0.054385896, 'total_time': 1.531900703}, 'model_name': 'deepseek-r1-distill-llama-70b', 'system_fingerprint': 'fp_1bbe7845ec', 'finish_reason': 'tool_calls', 'logprobs': None}, id='run--d07b2d69-aea4-4193-8f29-e56db4c23622-0', tool_calls=[{'name': 'search', 'args': {'query': 'cap of India'}, 'id': 'q02rnvetd', 'type': 'tool_call'}], usage_metadata={'input_tokens': 170, 'output_tokens': 375, 'total_tokens': 545}),\n",
       "  ToolMessage(content='Result for cap of India is: \\n [{\\'title\\': \\'Buy Indian Flag Cap Online- Royal Blue Unisex Cap [Round Tiranga]\\', \\'url\\': \\'https://www.indicinspirations.com/products/india-cap-tiranga-round-royal-blue\\', \\'content\\': \\'Cap with embroidered Indian national flag for a passionate and proud citizen. Be a proud citizen and wear the cap with our national flag! Wearing this cap with national flag is a great way to show support or show off your heritage. This cap with Indian flag is a perfect clothing accessory to greet foreign delegates from different countries.\\', \\'score\\': 0.77792513}, {\\'title\\': \\'What is the capital of India? States and union territories explained.\\', \\'url\\': \\'https://www.usatoday.com/story/news/world/2023/05/24/what-is-the-capital-of-india/70195720007/\\', \\'content\\': \\'The capital of India is New Delhi, located in the north-central part of the country to the west of the Yamuna River.\\', \\'score\\': 0.76951396}, {\\'title\\': \\'ICC Champions Trophy 2025 India Royal Blue Cap - ICC Cricket\\', \\'url\\': \\'https://global-shop.icc-cricket.com/products/icc-champions-trophy-2025-india-nations-royal-blue-cap\\', \\'content\\': \\'The ICC Champions Trophy 2025 India Royal Blue Cap is a must-have for passionate supporters of India\\\\\\'s cricket team. The \"IND\" logo in orange graces the front, while the India flag is proudly displayed on one side, symbolizing national pride. On the opposite side, the ICC Champions 2025 Trophy Pakistan logo is featured, adding a tournament-specific touch.\\', \\'score\\': 0.75268626}, {\\'title\\': \"Men\\'s and Women\\'s India Cricket Cap Original Quality Head Caps for Men ...\", \\'url\\': \\'https://www.amazon.in/Cricket-Original-Quality-Branded-Adjustable/dp/B0BNXZTQX8\\', \\'content\\': \\'Product description If You Really Looking For Top Quality Indian Cap Cricket Caps so This is a Perfect Compatible Goods For Boys And Girls. It is A Perfect Lightweight and Original Comfortable Caps.\\', \\'score\\': 0.6601948}, {\\'title\\': \\'Which City became the capital of India for a day, Check here\\', \\'url\\': \\'https://www.jagranjosh.com/general-knowledge/which-city-became-the-capital-of-india-for-a-day-1731421925-1\\', \\'content\\': \\'If you are asked what the capital of India is, your answer will be New Delhi, which was settled by the British. Do you know that once in Indian history, a district was made the capital of the country? However, this incident lasted only for a day, after which it was recorded in the pages of history forever. This article will introduce you to one such district in India. [...] Image 1Image 2: Kishan Kumar\\\\n\\\\nByKishan Kumar\\\\n\\\\nNov 12, 2024, 20:03 IST\\\\n\\\\n   \\\\n   \\\\n   \\\\n   \\\\n   \\\\n\\\\nImage 4: one day capital of India.webp)\\\\n\\\\none day capital of India\\\\n\\\\nIf someone asks you what is the capital of India, you will answer that it is New Delhi, which the British established. In Indian history, the capital of the country changed many times and different cities got the honour of becoming the capital of the country. [...] In Indian history, a district became the capital of the country for a day. This district is currently Prayagraj of Uttar Pradesh state, which was formerly known as Allahabad.\\', \\'score\\': 0.6453216}]', name='search', tool_call_id='q02rnvetd'),\n",
       "  AIMessage(content='The \"cap of India\" could refer to a few different things, but based on your question, it seems you might be asking about the **capital** of India. The capital of India is **New Delhi**. \\n\\nIf you\\'re referring to a physical \"cap\" (like a headwear item), there are various types of caps associated with India, such as cricket caps (often worn by fans of the Indian cricket team) or caps featuring the Indian flag. \\n\\nIf you meant something else by \"cap,\" feel free to clarify!', additional_kwargs={}, response_metadata={'token_usage': {'completion_tokens': 332, 'prompt_tokens': 999, 'total_tokens': 1331, 'completion_time': 1.5928206230000002, 'prompt_time': 0.089169656, 'queue_time': 0.05494362400000001, 'total_time': 1.6819902789999999}, 'model_name': 'deepseek-r1-distill-llama-70b', 'system_fingerprint': 'fp_1bbe7845ec', 'finish_reason': 'stop', 'logprobs': None}, id='run--b5761218-e9af-487b-becb-128f5e4d3cb9-0', usage_metadata={'input_tokens': 999, 'output_tokens': 332, 'total_tokens': 1331})]}"
      ]
     },
     "execution_count": 48,
     "metadata": {},
     "output_type": "execute_result"
    }
   ],
   "source": [
    "app_react.invoke(None,config=config)"
   ]
  },
  {
   "cell_type": "code",
   "execution_count": 60,
   "metadata": {},
   "outputs": [],
   "source": [
    "tool_details=last_message.tool_calls"
   ]
  },
  {
   "cell_type": "code",
   "execution_count": 61,
   "metadata": {},
   "outputs": [
    {
     "data": {
      "text/plain": [
       "[{'name': 'search',\n",
       "  'args': {'query': 'cap of India'},\n",
       "  'id': 'q02rnvetd',\n",
       "  'type': 'tool_call'}]"
      ]
     },
     "execution_count": 61,
     "metadata": {},
     "output_type": "execute_result"
    }
   ],
   "source": [
    "tool_details"
   ]
  },
  {
   "cell_type": "code",
   "execution_count": 62,
   "metadata": {},
   "outputs": [
    {
     "data": {
      "text/plain": [
       "'search'"
      ]
     },
     "execution_count": 62,
     "metadata": {},
     "output_type": "execute_result"
    }
   ],
   "source": [
    "tool_details[0]['name']"
   ]
  },
  {
   "cell_type": "code",
   "execution_count": 63,
   "metadata": {},
   "outputs": [
    {
     "name": "stdout",
     "output_type": "stream",
     "text": [
      "{'messages': [HumanMessage(content='what is the cap of india?', additional_kwargs={}, response_metadata={}), AIMessage(content='', additional_kwargs={'tool_calls': [{'id': 'q02rnvetd', 'function': {'arguments': '{\"query\":\"cap of India\"}', 'name': 'search'}, 'type': 'function'}]}, response_metadata={'token_usage': {'completion_tokens': 375, 'prompt_tokens': 170, 'total_tokens': 545, 'completion_time': 1.521251479, 'prompt_time': 0.010649224, 'queue_time': 0.054385896, 'total_time': 1.531900703}, 'model_name': 'deepseek-r1-distill-llama-70b', 'system_fingerprint': 'fp_1bbe7845ec', 'finish_reason': 'tool_calls', 'logprobs': None}, id='run--d07b2d69-aea4-4193-8f29-e56db4c23622-0', tool_calls=[{'name': 'search', 'args': {'query': 'cap of India'}, 'id': 'q02rnvetd', 'type': 'tool_call'}], usage_metadata={'input_tokens': 170, 'output_tokens': 375, 'total_tokens': 545}), ToolMessage(content='Result for cap of India is: \\n [{\\'title\\': \\'Buy Indian Flag Cap Online- Royal Blue Unisex Cap [Round Tiranga]\\', \\'url\\': \\'https://www.indicinspirations.com/products/india-cap-tiranga-round-royal-blue\\', \\'content\\': \\'Cap with embroidered Indian national flag for a passionate and proud citizen. Be a proud citizen and wear the cap with our national flag! Wearing this cap with national flag is a great way to show support or show off your heritage. This cap with Indian flag is a perfect clothing accessory to greet foreign delegates from different countries.\\', \\'score\\': 0.77792513}, {\\'title\\': \\'What is the capital of India? States and union territories explained.\\', \\'url\\': \\'https://www.usatoday.com/story/news/world/2023/05/24/what-is-the-capital-of-india/70195720007/\\', \\'content\\': \\'The capital of India is New Delhi, located in the north-central part of the country to the west of the Yamuna River.\\', \\'score\\': 0.76951396}, {\\'title\\': \\'ICC Champions Trophy 2025 India Royal Blue Cap - ICC Cricket\\', \\'url\\': \\'https://global-shop.icc-cricket.com/products/icc-champions-trophy-2025-india-nations-royal-blue-cap\\', \\'content\\': \\'The ICC Champions Trophy 2025 India Royal Blue Cap is a must-have for passionate supporters of India\\\\\\'s cricket team. The \"IND\" logo in orange graces the front, while the India flag is proudly displayed on one side, symbolizing national pride. On the opposite side, the ICC Champions 2025 Trophy Pakistan logo is featured, adding a tournament-specific touch.\\', \\'score\\': 0.75268626}, {\\'title\\': \"Men\\'s and Women\\'s India Cricket Cap Original Quality Head Caps for Men ...\", \\'url\\': \\'https://www.amazon.in/Cricket-Original-Quality-Branded-Adjustable/dp/B0BNXZTQX8\\', \\'content\\': \\'Product description If You Really Looking For Top Quality Indian Cap Cricket Caps so This is a Perfect Compatible Goods For Boys And Girls. It is A Perfect Lightweight and Original Comfortable Caps.\\', \\'score\\': 0.6601948}, {\\'title\\': \\'Which City became the capital of India for a day, Check here\\', \\'url\\': \\'https://www.jagranjosh.com/general-knowledge/which-city-became-the-capital-of-india-for-a-day-1731421925-1\\', \\'content\\': \\'If you are asked what the capital of India is, your answer will be New Delhi, which was settled by the British. Do you know that once in Indian history, a district was made the capital of the country? However, this incident lasted only for a day, after which it was recorded in the pages of history forever. This article will introduce you to one such district in India. [...] Image 1Image 2: Kishan Kumar\\\\n\\\\nByKishan Kumar\\\\n\\\\nNov 12, 2024, 20:03 IST\\\\n\\\\n   \\\\n   \\\\n   \\\\n   \\\\n   \\\\n\\\\nImage 4: one day capital of India.webp)\\\\n\\\\none day capital of India\\\\n\\\\nIf someone asks you what is the capital of India, you will answer that it is New Delhi, which the British established. In Indian history, the capital of the country changed many times and different cities got the honour of becoming the capital of the country. [...] In Indian history, a district became the capital of the country for a day. This district is currently Prayagraj of Uttar Pradesh state, which was formerly known as Allahabad.\\', \\'score\\': 0.6453216}]', name='search', tool_call_id='q02rnvetd'), AIMessage(content='The \"cap of India\" could refer to a few different things, but based on your question, it seems you might be asking about the **capital** of India. The capital of India is **New Delhi**. \\n\\nIf you\\'re referring to a physical \"cap\" (like a headwear item), there are various types of caps associated with India, such as cricket caps (often worn by fans of the Indian cricket team) or caps featuring the Indian flag. \\n\\nIf you meant something else by \"cap,\" feel free to clarify!', additional_kwargs={}, response_metadata={'token_usage': {'completion_tokens': 332, 'prompt_tokens': 999, 'total_tokens': 1331, 'completion_time': 1.5928206230000002, 'prompt_time': 0.089169656, 'queue_time': 0.05494362400000001, 'total_time': 1.6819902789999999}, 'model_name': 'deepseek-r1-distill-llama-70b', 'system_fingerprint': 'fp_1bbe7845ec', 'finish_reason': 'stop', 'logprobs': None}, id='run--b5761218-e9af-487b-becb-128f5e4d3cb9-0', usage_metadata={'input_tokens': 999, 'output_tokens': 332, 'total_tokens': 1331})]}\n"
     ]
    }
   ],
   "source": [
    "if tool_details[0][\"name\"]== \"search\":\n",
    "    user_input=input(prompt=f\"[yes/no] do you want to continue with {tool_details[0]['name']}?\").lower()\n",
    "    if user_input==\"no\":\n",
    "        print(\"web tool discarded\")\n",
    "        raise Exception(\"Web tool discarded by the user.\")\n",
    "    else:\n",
    "        response=app_react.invoke(None,config)\n",
    "        print(response)\n",
    "else:\n",
    "    response=app_react.invoke(None,config)\n",
    "    print(response)"
   ]
  },
  {
   "cell_type": "code",
   "execution_count": 64,
   "metadata": {},
   "outputs": [],
   "source": [
    "response=app_react.invoke({\"messages\":[HumanMessage(\"What is the current gdp of the japan?\")]},config=config)"
   ]
  },
  {
   "cell_type": "code",
   "execution_count": 65,
   "metadata": {},
   "outputs": [
    {
     "data": {
      "text/plain": [
       "{'messages': [HumanMessage(content='what is the cap of india?', additional_kwargs={}, response_metadata={}),\n",
       "  AIMessage(content='', additional_kwargs={'tool_calls': [{'id': 'q02rnvetd', 'function': {'arguments': '{\"query\":\"cap of India\"}', 'name': 'search'}, 'type': 'function'}]}, response_metadata={'token_usage': {'completion_tokens': 375, 'prompt_tokens': 170, 'total_tokens': 545, 'completion_time': 1.521251479, 'prompt_time': 0.010649224, 'queue_time': 0.054385896, 'total_time': 1.531900703}, 'model_name': 'deepseek-r1-distill-llama-70b', 'system_fingerprint': 'fp_1bbe7845ec', 'finish_reason': 'tool_calls', 'logprobs': None}, id='run--d07b2d69-aea4-4193-8f29-e56db4c23622-0', tool_calls=[{'name': 'search', 'args': {'query': 'cap of India'}, 'id': 'q02rnvetd', 'type': 'tool_call'}], usage_metadata={'input_tokens': 170, 'output_tokens': 375, 'total_tokens': 545}),\n",
       "  ToolMessage(content='Result for cap of India is: \\n [{\\'title\\': \\'Buy Indian Flag Cap Online- Royal Blue Unisex Cap [Round Tiranga]\\', \\'url\\': \\'https://www.indicinspirations.com/products/india-cap-tiranga-round-royal-blue\\', \\'content\\': \\'Cap with embroidered Indian national flag for a passionate and proud citizen. Be a proud citizen and wear the cap with our national flag! Wearing this cap with national flag is a great way to show support or show off your heritage. This cap with Indian flag is a perfect clothing accessory to greet foreign delegates from different countries.\\', \\'score\\': 0.77792513}, {\\'title\\': \\'What is the capital of India? States and union territories explained.\\', \\'url\\': \\'https://www.usatoday.com/story/news/world/2023/05/24/what-is-the-capital-of-india/70195720007/\\', \\'content\\': \\'The capital of India is New Delhi, located in the north-central part of the country to the west of the Yamuna River.\\', \\'score\\': 0.76951396}, {\\'title\\': \\'ICC Champions Trophy 2025 India Royal Blue Cap - ICC Cricket\\', \\'url\\': \\'https://global-shop.icc-cricket.com/products/icc-champions-trophy-2025-india-nations-royal-blue-cap\\', \\'content\\': \\'The ICC Champions Trophy 2025 India Royal Blue Cap is a must-have for passionate supporters of India\\\\\\'s cricket team. The \"IND\" logo in orange graces the front, while the India flag is proudly displayed on one side, symbolizing national pride. On the opposite side, the ICC Champions 2025 Trophy Pakistan logo is featured, adding a tournament-specific touch.\\', \\'score\\': 0.75268626}, {\\'title\\': \"Men\\'s and Women\\'s India Cricket Cap Original Quality Head Caps for Men ...\", \\'url\\': \\'https://www.amazon.in/Cricket-Original-Quality-Branded-Adjustable/dp/B0BNXZTQX8\\', \\'content\\': \\'Product description If You Really Looking For Top Quality Indian Cap Cricket Caps so This is a Perfect Compatible Goods For Boys And Girls. It is A Perfect Lightweight and Original Comfortable Caps.\\', \\'score\\': 0.6601948}, {\\'title\\': \\'Which City became the capital of India for a day, Check here\\', \\'url\\': \\'https://www.jagranjosh.com/general-knowledge/which-city-became-the-capital-of-india-for-a-day-1731421925-1\\', \\'content\\': \\'If you are asked what the capital of India is, your answer will be New Delhi, which was settled by the British. Do you know that once in Indian history, a district was made the capital of the country? However, this incident lasted only for a day, after which it was recorded in the pages of history forever. This article will introduce you to one such district in India. [...] Image 1Image 2: Kishan Kumar\\\\n\\\\nByKishan Kumar\\\\n\\\\nNov 12, 2024, 20:03 IST\\\\n\\\\n   \\\\n   \\\\n   \\\\n   \\\\n   \\\\n\\\\nImage 4: one day capital of India.webp)\\\\n\\\\none day capital of India\\\\n\\\\nIf someone asks you what is the capital of India, you will answer that it is New Delhi, which the British established. In Indian history, the capital of the country changed many times and different cities got the honour of becoming the capital of the country. [...] In Indian history, a district became the capital of the country for a day. This district is currently Prayagraj of Uttar Pradesh state, which was formerly known as Allahabad.\\', \\'score\\': 0.6453216}]', name='search', tool_call_id='q02rnvetd'),\n",
       "  AIMessage(content='The \"cap of India\" could refer to a few different things, but based on your question, it seems you might be asking about the **capital** of India. The capital of India is **New Delhi**. \\n\\nIf you\\'re referring to a physical \"cap\" (like a headwear item), there are various types of caps associated with India, such as cricket caps (often worn by fans of the Indian cricket team) or caps featuring the Indian flag. \\n\\nIf you meant something else by \"cap,\" feel free to clarify!', additional_kwargs={}, response_metadata={'token_usage': {'completion_tokens': 332, 'prompt_tokens': 999, 'total_tokens': 1331, 'completion_time': 1.5928206230000002, 'prompt_time': 0.089169656, 'queue_time': 0.05494362400000001, 'total_time': 1.6819902789999999}, 'model_name': 'deepseek-r1-distill-llama-70b', 'system_fingerprint': 'fp_1bbe7845ec', 'finish_reason': 'stop', 'logprobs': None}, id='run--b5761218-e9af-487b-becb-128f5e4d3cb9-0', usage_metadata={'input_tokens': 999, 'output_tokens': 332, 'total_tokens': 1331}),\n",
       "  HumanMessage(content='What is the current gdp of the japan?', additional_kwargs={}, response_metadata={}),\n",
       "  AIMessage(content=\"As of my last update in July 2024, I don't have access to real-time data. For the most accurate and current GDP of Japan, I recommend checking reliable sources like the **Japanese Cabinet Office**, **World Bank**, or **IMF** websites. \\n\\nIf you need assistance finding this information, let me know!\", additional_kwargs={}, response_metadata={'token_usage': {'completion_tokens': 266, 'prompt_tokens': 1121, 'total_tokens': 1387, 'completion_time': 1.182133197, 'prompt_time': 0.080659868, 'queue_time': 0.05491315299999999, 'total_time': 1.2627930649999999}, 'model_name': 'deepseek-r1-distill-llama-70b', 'system_fingerprint': 'fp_1bbe7845ec', 'finish_reason': 'stop', 'logprobs': None}, id='run--134836fe-b676-43e6-bd67-41a595c43156-0', usage_metadata={'input_tokens': 1121, 'output_tokens': 266, 'total_tokens': 1387})]}"
      ]
     },
     "execution_count": 65,
     "metadata": {},
     "output_type": "execute_result"
    }
   ],
   "source": [
    "response"
   ]
  },
  {
   "cell_type": "code",
   "execution_count": 66,
   "metadata": {},
   "outputs": [],
   "source": [
    "tool_call_id=last_message.tool_calls[0][\"id\"]"
   ]
  },
  {
   "cell_type": "code",
   "execution_count": 67,
   "metadata": {},
   "outputs": [
    {
     "data": {
      "text/plain": [
       "'q02rnvetd'"
      ]
     },
     "execution_count": 67,
     "metadata": {},
     "output_type": "execute_result"
    }
   ],
   "source": [
    "tool_call_id"
   ]
  },
  {
   "cell_type": "code",
   "execution_count": 68,
   "metadata": {},
   "outputs": [],
   "source": [
    "from langchain_core.messages import AIMessage,ToolMessage"
   ]
  },
  {
   "cell_type": "code",
   "execution_count": 69,
   "metadata": {},
   "outputs": [],
   "source": [
    "new_message=[\n",
    "    ToolMessage(content=\"according to the latest data 4.1 trillion USD\",tool_call_id=tool_call_id),\n",
    "    AIMessage(content=\"GDP is 4.1 Trillion USD.\")\n",
    "    \n",
    "]"
   ]
  },
  {
   "cell_type": "code",
   "execution_count": 70,
   "metadata": {},
   "outputs": [
    {
     "data": {
      "text/plain": [
       "{'configurable': {'thread_id': '1',\n",
       "  'checkpoint_ns': '',\n",
       "  'checkpoint_id': '1f054af6-46ee-6808-8007-2dadf1082d3f'}}"
      ]
     },
     "execution_count": 70,
     "metadata": {},
     "output_type": "execute_result"
    }
   ],
   "source": [
    "app_react.update_state(config, \n",
    "                  {\n",
    "                      \"messages\":new_message\n",
    "                   }\n",
    "                  )"
   ]
  },
  {
   "cell_type": "code",
   "execution_count": 71,
   "metadata": {},
   "outputs": [
    {
     "data": {
      "text/plain": [
       "AIMessage(content='GDP is 4.1 Trillion USD.', additional_kwargs={}, response_metadata={})"
      ]
     },
     "execution_count": 71,
     "metadata": {},
     "output_type": "execute_result"
    }
   ],
   "source": [
    "app_react.get_state(config).values[\"messages\"][-1]"
   ]
  },
  {
   "cell_type": "code",
   "execution_count": 73,
   "metadata": {},
   "outputs": [
    {
     "data": {
      "text/plain": [
       "{'messages': [HumanMessage(content='what is the cap of india?', additional_kwargs={}, response_metadata={}),\n",
       "  AIMessage(content='', additional_kwargs={'tool_calls': [{'id': 'q02rnvetd', 'function': {'arguments': '{\"query\":\"cap of India\"}', 'name': 'search'}, 'type': 'function'}]}, response_metadata={'token_usage': {'completion_tokens': 375, 'prompt_tokens': 170, 'total_tokens': 545, 'completion_time': 1.521251479, 'prompt_time': 0.010649224, 'queue_time': 0.054385896, 'total_time': 1.531900703}, 'model_name': 'deepseek-r1-distill-llama-70b', 'system_fingerprint': 'fp_1bbe7845ec', 'finish_reason': 'tool_calls', 'logprobs': None}, id='run--d07b2d69-aea4-4193-8f29-e56db4c23622-0', tool_calls=[{'name': 'search', 'args': {'query': 'cap of India'}, 'id': 'q02rnvetd', 'type': 'tool_call'}], usage_metadata={'input_tokens': 170, 'output_tokens': 375, 'total_tokens': 545}),\n",
       "  ToolMessage(content='Result for cap of India is: \\n [{\\'title\\': \\'Buy Indian Flag Cap Online- Royal Blue Unisex Cap [Round Tiranga]\\', \\'url\\': \\'https://www.indicinspirations.com/products/india-cap-tiranga-round-royal-blue\\', \\'content\\': \\'Cap with embroidered Indian national flag for a passionate and proud citizen. Be a proud citizen and wear the cap with our national flag! Wearing this cap with national flag is a great way to show support or show off your heritage. This cap with Indian flag is a perfect clothing accessory to greet foreign delegates from different countries.\\', \\'score\\': 0.77792513}, {\\'title\\': \\'What is the capital of India? States and union territories explained.\\', \\'url\\': \\'https://www.usatoday.com/story/news/world/2023/05/24/what-is-the-capital-of-india/70195720007/\\', \\'content\\': \\'The capital of India is New Delhi, located in the north-central part of the country to the west of the Yamuna River.\\', \\'score\\': 0.76951396}, {\\'title\\': \\'ICC Champions Trophy 2025 India Royal Blue Cap - ICC Cricket\\', \\'url\\': \\'https://global-shop.icc-cricket.com/products/icc-champions-trophy-2025-india-nations-royal-blue-cap\\', \\'content\\': \\'The ICC Champions Trophy 2025 India Royal Blue Cap is a must-have for passionate supporters of India\\\\\\'s cricket team. The \"IND\" logo in orange graces the front, while the India flag is proudly displayed on one side, symbolizing national pride. On the opposite side, the ICC Champions 2025 Trophy Pakistan logo is featured, adding a tournament-specific touch.\\', \\'score\\': 0.75268626}, {\\'title\\': \"Men\\'s and Women\\'s India Cricket Cap Original Quality Head Caps for Men ...\", \\'url\\': \\'https://www.amazon.in/Cricket-Original-Quality-Branded-Adjustable/dp/B0BNXZTQX8\\', \\'content\\': \\'Product description If You Really Looking For Top Quality Indian Cap Cricket Caps so This is a Perfect Compatible Goods For Boys And Girls. It is A Perfect Lightweight and Original Comfortable Caps.\\', \\'score\\': 0.6601948}, {\\'title\\': \\'Which City became the capital of India for a day, Check here\\', \\'url\\': \\'https://www.jagranjosh.com/general-knowledge/which-city-became-the-capital-of-india-for-a-day-1731421925-1\\', \\'content\\': \\'If you are asked what the capital of India is, your answer will be New Delhi, which was settled by the British. Do you know that once in Indian history, a district was made the capital of the country? However, this incident lasted only for a day, after which it was recorded in the pages of history forever. This article will introduce you to one such district in India. [...] Image 1Image 2: Kishan Kumar\\\\n\\\\nByKishan Kumar\\\\n\\\\nNov 12, 2024, 20:03 IST\\\\n\\\\n   \\\\n   \\\\n   \\\\n   \\\\n   \\\\n\\\\nImage 4: one day capital of India.webp)\\\\n\\\\none day capital of India\\\\n\\\\nIf someone asks you what is the capital of India, you will answer that it is New Delhi, which the British established. In Indian history, the capital of the country changed many times and different cities got the honour of becoming the capital of the country. [...] In Indian history, a district became the capital of the country for a day. This district is currently Prayagraj of Uttar Pradesh state, which was formerly known as Allahabad.\\', \\'score\\': 0.6453216}]', name='search', tool_call_id='q02rnvetd'),\n",
       "  AIMessage(content='The \"cap of India\" could refer to a few different things, but based on your question, it seems you might be asking about the **capital** of India. The capital of India is **New Delhi**. \\n\\nIf you\\'re referring to a physical \"cap\" (like a headwear item), there are various types of caps associated with India, such as cricket caps (often worn by fans of the Indian cricket team) or caps featuring the Indian flag. \\n\\nIf you meant something else by \"cap,\" feel free to clarify!', additional_kwargs={}, response_metadata={'token_usage': {'completion_tokens': 332, 'prompt_tokens': 999, 'total_tokens': 1331, 'completion_time': 1.5928206230000002, 'prompt_time': 0.089169656, 'queue_time': 0.05494362400000001, 'total_time': 1.6819902789999999}, 'model_name': 'deepseek-r1-distill-llama-70b', 'system_fingerprint': 'fp_1bbe7845ec', 'finish_reason': 'stop', 'logprobs': None}, id='run--b5761218-e9af-487b-becb-128f5e4d3cb9-0', usage_metadata={'input_tokens': 999, 'output_tokens': 332, 'total_tokens': 1331}),\n",
       "  HumanMessage(content='What is the current gdp of the japan?', additional_kwargs={}, response_metadata={}),\n",
       "  AIMessage(content=\"As of my last update in July 2024, I don't have access to real-time data. For the most accurate and current GDP of Japan, I recommend checking reliable sources like the **Japanese Cabinet Office**, **World Bank**, or **IMF** websites. \\n\\nIf you need assistance finding this information, let me know!\", additional_kwargs={}, response_metadata={'token_usage': {'completion_tokens': 266, 'prompt_tokens': 1121, 'total_tokens': 1387, 'completion_time': 1.182133197, 'prompt_time': 0.080659868, 'queue_time': 0.05491315299999999, 'total_time': 1.2627930649999999}, 'model_name': 'deepseek-r1-distill-llama-70b', 'system_fingerprint': 'fp_1bbe7845ec', 'finish_reason': 'stop', 'logprobs': None}, id='run--134836fe-b676-43e6-bd67-41a595c43156-0', usage_metadata={'input_tokens': 1121, 'output_tokens': 266, 'total_tokens': 1387}),\n",
       "  ToolMessage(content='according to the latest data 4.1 trillion USD', tool_call_id='q02rnvetd'),\n",
       "  AIMessage(content='GDP is 4.1 Trillion USD.', additional_kwargs={}, response_metadata={})]}"
      ]
     },
     "execution_count": 73,
     "metadata": {},
     "output_type": "execute_result"
    }
   ],
   "source": [
    "app_react.invoke(None,config=config)"
   ]
  },
  {
   "cell_type": "code",
   "execution_count": 75,
   "metadata": {},
   "outputs": [],
   "source": [
    "response=app_react.invoke({\"messages\":[HumanMessage(\"What is the current gdp of the japan?\")]},config=config)"
   ]
  },
  {
   "cell_type": "code",
   "execution_count": 76,
   "metadata": {},
   "outputs": [
    {
     "data": {
      "text/plain": [
       "{'messages': [HumanMessage(content='what is the cap of india?', additional_kwargs={}, response_metadata={}),\n",
       "  AIMessage(content='', additional_kwargs={'tool_calls': [{'id': 'q02rnvetd', 'function': {'arguments': '{\"query\":\"cap of India\"}', 'name': 'search'}, 'type': 'function'}]}, response_metadata={'token_usage': {'completion_tokens': 375, 'prompt_tokens': 170, 'total_tokens': 545, 'completion_time': 1.521251479, 'prompt_time': 0.010649224, 'queue_time': 0.054385896, 'total_time': 1.531900703}, 'model_name': 'deepseek-r1-distill-llama-70b', 'system_fingerprint': 'fp_1bbe7845ec', 'finish_reason': 'tool_calls', 'logprobs': None}, id='run--d07b2d69-aea4-4193-8f29-e56db4c23622-0', tool_calls=[{'name': 'search', 'args': {'query': 'cap of India'}, 'id': 'q02rnvetd', 'type': 'tool_call'}], usage_metadata={'input_tokens': 170, 'output_tokens': 375, 'total_tokens': 545}),\n",
       "  ToolMessage(content='Result for cap of India is: \\n [{\\'title\\': \\'Buy Indian Flag Cap Online- Royal Blue Unisex Cap [Round Tiranga]\\', \\'url\\': \\'https://www.indicinspirations.com/products/india-cap-tiranga-round-royal-blue\\', \\'content\\': \\'Cap with embroidered Indian national flag for a passionate and proud citizen. Be a proud citizen and wear the cap with our national flag! Wearing this cap with national flag is a great way to show support or show off your heritage. This cap with Indian flag is a perfect clothing accessory to greet foreign delegates from different countries.\\', \\'score\\': 0.77792513}, {\\'title\\': \\'What is the capital of India? States and union territories explained.\\', \\'url\\': \\'https://www.usatoday.com/story/news/world/2023/05/24/what-is-the-capital-of-india/70195720007/\\', \\'content\\': \\'The capital of India is New Delhi, located in the north-central part of the country to the west of the Yamuna River.\\', \\'score\\': 0.76951396}, {\\'title\\': \\'ICC Champions Trophy 2025 India Royal Blue Cap - ICC Cricket\\', \\'url\\': \\'https://global-shop.icc-cricket.com/products/icc-champions-trophy-2025-india-nations-royal-blue-cap\\', \\'content\\': \\'The ICC Champions Trophy 2025 India Royal Blue Cap is a must-have for passionate supporters of India\\\\\\'s cricket team. The \"IND\" logo in orange graces the front, while the India flag is proudly displayed on one side, symbolizing national pride. On the opposite side, the ICC Champions 2025 Trophy Pakistan logo is featured, adding a tournament-specific touch.\\', \\'score\\': 0.75268626}, {\\'title\\': \"Men\\'s and Women\\'s India Cricket Cap Original Quality Head Caps for Men ...\", \\'url\\': \\'https://www.amazon.in/Cricket-Original-Quality-Branded-Adjustable/dp/B0BNXZTQX8\\', \\'content\\': \\'Product description If You Really Looking For Top Quality Indian Cap Cricket Caps so This is a Perfect Compatible Goods For Boys And Girls. It is A Perfect Lightweight and Original Comfortable Caps.\\', \\'score\\': 0.6601948}, {\\'title\\': \\'Which City became the capital of India for a day, Check here\\', \\'url\\': \\'https://www.jagranjosh.com/general-knowledge/which-city-became-the-capital-of-india-for-a-day-1731421925-1\\', \\'content\\': \\'If you are asked what the capital of India is, your answer will be New Delhi, which was settled by the British. Do you know that once in Indian history, a district was made the capital of the country? However, this incident lasted only for a day, after which it was recorded in the pages of history forever. This article will introduce you to one such district in India. [...] Image 1Image 2: Kishan Kumar\\\\n\\\\nByKishan Kumar\\\\n\\\\nNov 12, 2024, 20:03 IST\\\\n\\\\n   \\\\n   \\\\n   \\\\n   \\\\n   \\\\n\\\\nImage 4: one day capital of India.webp)\\\\n\\\\none day capital of India\\\\n\\\\nIf someone asks you what is the capital of India, you will answer that it is New Delhi, which the British established. In Indian history, the capital of the country changed many times and different cities got the honour of becoming the capital of the country. [...] In Indian history, a district became the capital of the country for a day. This district is currently Prayagraj of Uttar Pradesh state, which was formerly known as Allahabad.\\', \\'score\\': 0.6453216}]', name='search', tool_call_id='q02rnvetd'),\n",
       "  AIMessage(content='The \"cap of India\" could refer to a few different things, but based on your question, it seems you might be asking about the **capital** of India. The capital of India is **New Delhi**. \\n\\nIf you\\'re referring to a physical \"cap\" (like a headwear item), there are various types of caps associated with India, such as cricket caps (often worn by fans of the Indian cricket team) or caps featuring the Indian flag. \\n\\nIf you meant something else by \"cap,\" feel free to clarify!', additional_kwargs={}, response_metadata={'token_usage': {'completion_tokens': 332, 'prompt_tokens': 999, 'total_tokens': 1331, 'completion_time': 1.5928206230000002, 'prompt_time': 0.089169656, 'queue_time': 0.05494362400000001, 'total_time': 1.6819902789999999}, 'model_name': 'deepseek-r1-distill-llama-70b', 'system_fingerprint': 'fp_1bbe7845ec', 'finish_reason': 'stop', 'logprobs': None}, id='run--b5761218-e9af-487b-becb-128f5e4d3cb9-0', usage_metadata={'input_tokens': 999, 'output_tokens': 332, 'total_tokens': 1331}),\n",
       "  HumanMessage(content='What is the current gdp of the japan?', additional_kwargs={}, response_metadata={}),\n",
       "  AIMessage(content=\"As of my last update in July 2024, I don't have access to real-time data. For the most accurate and current GDP of Japan, I recommend checking reliable sources like the **Japanese Cabinet Office**, **World Bank**, or **IMF** websites. \\n\\nIf you need assistance finding this information, let me know!\", additional_kwargs={}, response_metadata={'token_usage': {'completion_tokens': 266, 'prompt_tokens': 1121, 'total_tokens': 1387, 'completion_time': 1.182133197, 'prompt_time': 0.080659868, 'queue_time': 0.05491315299999999, 'total_time': 1.2627930649999999}, 'model_name': 'deepseek-r1-distill-llama-70b', 'system_fingerprint': 'fp_1bbe7845ec', 'finish_reason': 'stop', 'logprobs': None}, id='run--134836fe-b676-43e6-bd67-41a595c43156-0', usage_metadata={'input_tokens': 1121, 'output_tokens': 266, 'total_tokens': 1387}),\n",
       "  ToolMessage(content='according to the latest data 4.1 trillion USD', tool_call_id='q02rnvetd'),\n",
       "  AIMessage(content='GDP is 4.1 Trillion USD.', additional_kwargs={}, response_metadata={}),\n",
       "  HumanMessage(content='What is the current gdp of the japan?', additional_kwargs={}, response_metadata={}),\n",
       "  AIMessage(content=\"As of my last update in July 2024, I don't have access to real-time data. For the most accurate and current GDP of Japan, I recommend checking reliable sources like the **Japanese Cabinet Office**, **World Bank**, or **IMF** websites. \\n\\nIf you need assistance finding this information, let me know!\", additional_kwargs={}, response_metadata={'token_usage': {'completion_tokens': 201, 'prompt_tokens': 1247, 'total_tokens': 1448, 'completion_time': 0.730909091, 'prompt_time': 0.096641742, 'queue_time': 0.056161548000000006, 'total_time': 0.827550833}, 'model_name': 'deepseek-r1-distill-llama-70b', 'system_fingerprint': 'fp_1bbe7845ec', 'finish_reason': 'stop', 'logprobs': None}, id='run--e9c827f6-4eba-4a48-9a72-b888872a368f-0', usage_metadata={'input_tokens': 1247, 'output_tokens': 201, 'total_tokens': 1448}),\n",
       "  HumanMessage(content='What is the current gdp of the japan?', additional_kwargs={}, response_metadata={}),\n",
       "  AIMessage(content=\"As of my last update in July 2024, I don't have access to real-time data. For the most accurate and current GDP of Japan, I recommend checking reliable sources like the **Japanese Cabinet Office**, **World Bank**, or **IMF** websites.\\n\\nIf you need assistance finding this information, let me know!\", additional_kwargs={}, response_metadata={'token_usage': {'completion_tokens': 226, 'prompt_tokens': 1327, 'total_tokens': 1553, 'completion_time': 0.896480885, 'prompt_time': 0.094276759, 'queue_time': 0.055404197, 'total_time': 0.990757644}, 'model_name': 'deepseek-r1-distill-llama-70b', 'system_fingerprint': 'fp_1bbe7845ec', 'finish_reason': 'stop', 'logprobs': None}, id='run--d14c6e8a-61fd-47ce-9015-4b77b4919e0c-0', usage_metadata={'input_tokens': 1327, 'output_tokens': 226, 'total_tokens': 1553})]}"
      ]
     },
     "execution_count": 76,
     "metadata": {},
     "output_type": "execute_result"
    }
   ],
   "source": [
    "response"
   ]
  }
 ],
 "metadata": {
  "kernelspec": {
   "display_name": "agentic_env",
   "language": "python",
   "name": "python3"
  },
  "language_info": {
   "codemirror_mode": {
    "name": "ipython",
    "version": 3
   },
   "file_extension": ".py",
   "mimetype": "text/x-python",
   "name": "python",
   "nbconvert_exporter": "python",
   "pygments_lexer": "ipython3",
   "version": "3.11.11"
  },
  "orig_nbformat": 4
 },
 "nbformat": 4,
 "nbformat_minor": 2
}
